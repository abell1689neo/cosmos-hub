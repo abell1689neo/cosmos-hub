{
  "cells": [
    {
      "cell_type": "markdown",
      "metadata": {
        "id": "RBNKFLJIobYt"
      },
      "source": [
        "[<img src='https://github.com/jeshraghian/snntorch/blob/master/docs/_static/img/snntorch_alpha_w.png?raw=true' width=\"400\">](https://github.com/jeshraghian/snntorch/)\n",
        "\n",
        "# Tutorial 1 - Spike Encoding\n",
        "## By Jason K. Eshraghian (www.ncg.ucsc.edu)\n",
        "\n",
        "\n",
        "<a href=\"https://colab.research.google.com/github/jeshraghian/snntorch/blob/master/examples/tutorial_1_spikegen.ipynb\">\n",
        "  <img src=\"https://colab.research.google.com/assets/colab-badge.svg\" alt=\"Open In Colab\"/>\n",
        "</a>\n",
        "\n",
        "[<img src='https://github.com/jeshraghian/snntorch/blob/master/docs/_static/img/GitHub-Mark-Light-120px-plus.png?raw=true' width=\"28\">](https://github.com/jeshraghian/snntorch/) [<img src='https://github.com/jeshraghian/snntorch/blob/master/docs/_static/img/GitHub_Logo_White.png?raw=true' width=\"80\">](https://github.com/jeshraghian/snntorch/)\n"
      ]
    },
    {
      "cell_type": "markdown",
      "metadata": {
        "id": "4blpfg4y44uO"
      },
      "source": [
        "The snnTorch tutorial series is based on the following paper. If you find these resources or code useful in your work, please consider citing the following source:\n",
        "\n",
        "> <cite> [Jason K. Eshraghian, Max Ward, Emre Neftci, Xinxin Wang, Gregor Lenz, Girish Dwivedi, Mohammed Bennamoun, Doo Seok Jeong, and Wei D. Lu. \"Training Spiking Neural Networks Using Lessons From Deep Learning\". Proceedings of the IEEE, 111(9) September 2023.](https://ieeexplore.ieee.org/abstract/document/10242251) </cite>"
      ]
    },
    {
      "cell_type": "markdown",
      "metadata": {
        "id": "lnF_PEo5obYv",
        "pycharm": {
          "name": "#%% md\n"
        }
      },
      "source": [
        "In this tutorial, you will learn how to use snnTorch to:\n",
        "* convert datasets into spiking datasets,\n",
        "* how to visualise them,\n",
        "* and how to generate random spike trains."
      ]
    },
    {
      "cell_type": "markdown",
      "metadata": {
        "id": "d7qhH_lt8_mn"
      },
      "source": [
        "# Introduction\n",
        "Light is what we see when the retina converts photons into spikes. Odors are what we smell when volatilised molecules are converted into spikes. Touch is what we feel when nerve endings turn tactile pressure into spikes. The brain trades in the global currency of the *spike*.\n",
        "\n",
        "If our end goal is to build a spiking neural network (SNN), it makes sense to use spikes at the input too. Although it is quite common to use non-spiking inputs (as will be seen in Tutorial 3), part of the appeal of encoding data come from the *three S's*: spikes, sparsity, and static suppression.\n",
        "\n",
        "\n",
        "\n",
        "1.   **Spikes**: (a-b) Biological neurons process and communicate via spikes, which are electrical impulses of approximately 100 mV in amplitude. (c) Many computational models of neurons simplify this voltage burst to a discrete, single-bit event: a '1' or a '0'. This is far simpler to represent in hardware than a high precision value.\n",
        "\n",
        "2.   **Sparsity**: (c) Neurons spend most of their time at rest, silencing most activations to *zero* at any given time. Not only are sparse vectors/tensors (with loads of zeros) cheap to store, but say we need to multiply sparse activations with synaptic weights. If most values are multiplied by '0', then we don't need to read many of the network parameters from memory. This means neuromorphic hardware can be extremely efficient.\n",
        "\n",
        "3.   **Static-Suppression (a.k.a, event-driven processing**: (d-e) The sensory periphery only processes information when there is new information to process. Each pixel in (e) responds to *changes* in illuminance, so most of the image is blocked out. Conventional signal processing requires all channels/pixels to adhere to a global sampling/shutter rate, which slows down how frequently sensing can take place. Event-driven processing now only contributes to sparsity and power-efficiency by blocking unchanging input, but it often allows for much faster processing speeds.\n",
        "\n",
        "\n",
        "<center>\n",
        "<img src='https://github.com/jeshraghian/snntorch/blob/master/docs/_static/img/examples/tutorial1/3s.png?raw=true' width=\"600\">\n",
        "</center>"
      ]
    },
    {
      "cell_type": "markdown",
      "metadata": {
        "id": "lGNOnFM4DzHY"
      },
      "source": [
        "In this tutorial, we will assume we have some non-spiking input data (i.e., the MNIST dataset) and that we want to encode it into spikes using a few different techniques. So let's get started!"
      ]
    },
    {
      "cell_type": "markdown",
      "metadata": {
        "id": "GAbXmmVN50Pl"
      },
      "source": [
        "Install the latest PyPi distribution of snnTorch:"
      ]
    },
    {
      "cell_type": "code",
      "execution_count": 3,
      "metadata": {
        "id": "jxLoYgkhobYw",
        "pycharm": {
          "name": "#%%\n"
        },
        "colab": {
          "base_uri": "https://localhost:8080/"
        },
        "outputId": "d69b32e6-e5ef-4f5a-a179-dcd88e57e58c"
      },
      "outputs": [
        {
          "output_type": "stream",
          "name": "stdout",
          "text": [
            "Collecting snntorch\n",
            "  Downloading snntorch-0.9.4-py2.py3-none-any.whl.metadata (15 kB)\n",
            "Downloading snntorch-0.9.4-py2.py3-none-any.whl (125 kB)\n",
            "\u001b[?25l   \u001b[90m━━━━━━━━━━━━━━━━━━━━━━━━━━━━━━━━━━━━━━━━\u001b[0m \u001b[32m0.0/125.6 kB\u001b[0m \u001b[31m?\u001b[0m eta \u001b[36m-:--:--\u001b[0m\r\u001b[2K   \u001b[90m━━━━━━━━━━━━━━━━━━━━━━━━━━━━━━━━━━━━━━━━\u001b[0m \u001b[32m125.6/125.6 kB\u001b[0m \u001b[31m6.2 MB/s\u001b[0m eta \u001b[36m0:00:00\u001b[0m\n",
            "\u001b[?25hInstalling collected packages: snntorch\n",
            "Successfully installed snntorch-0.9.4\n"
          ]
        }
      ],
      "source": [
        "!pip install snntorch"
      ]
    },
    {
      "cell_type": "markdown",
      "metadata": {
        "id": "k6E7VH5kbTmA"
      },
      "source": [
        "## 1. Setting up the MNIST Dataset"
      ]
    },
    {
      "cell_type": "markdown",
      "metadata": {
        "id": "Suffg8_ZobYw",
        "pycharm": {
          "name": "#%% md\n"
        }
      },
      "source": [
        "### 1.1. Import packages and setup environment"
      ]
    },
    {
      "cell_type": "code",
      "execution_count": 4,
      "metadata": {
        "id": "cR9okh0jobYx",
        "pycharm": {
          "name": "#%%\n"
        }
      },
      "outputs": [],
      "source": [
        "import snntorch as snn\n",
        "import torch"
      ]
    },
    {
      "cell_type": "code",
      "execution_count": 5,
      "metadata": {
        "id": "e4LPD0WCobYx",
        "pycharm": {
          "name": "#%%\n"
        }
      },
      "outputs": [],
      "source": [
        "# Training Parameters\n",
        "batch_size=128\n",
        "data_path='/tmp/data/mnist'\n",
        "num_classes = 10  # MNIST has 10 output classes\n",
        "\n",
        "# Torch Variables\n",
        "dtype = torch.float"
      ]
    },
    {
      "cell_type": "markdown",
      "metadata": {
        "id": "x5X2a5a9obYy"
      },
      "source": [
        "### 1.2 Download Dataset"
      ]
    },
    {
      "cell_type": "code",
      "execution_count": 6,
      "metadata": {
        "id": "OlbY8Rm9obYy",
        "pycharm": {
          "name": "#%%\n"
        },
        "colab": {
          "base_uri": "https://localhost:8080/"
        },
        "outputId": "2ca2528f-97b1-4df0-f9e3-0fff276a714d"
      },
      "outputs": [
        {
          "output_type": "stream",
          "name": "stdout",
          "text": [
            "Downloading http://yann.lecun.com/exdb/mnist/train-images-idx3-ubyte.gz\n",
            "Failed to download (trying next):\n",
            "HTTP Error 404: Not Found\n",
            "\n",
            "Downloading https://ossci-datasets.s3.amazonaws.com/mnist/train-images-idx3-ubyte.gz\n",
            "Downloading https://ossci-datasets.s3.amazonaws.com/mnist/train-images-idx3-ubyte.gz to /tmp/data/mnist/MNIST/raw/train-images-idx3-ubyte.gz\n"
          ]
        },
        {
          "output_type": "stream",
          "name": "stderr",
          "text": [
            "100%|██████████| 9.91M/9.91M [00:11<00:00, 882kB/s] \n"
          ]
        },
        {
          "output_type": "stream",
          "name": "stdout",
          "text": [
            "Extracting /tmp/data/mnist/MNIST/raw/train-images-idx3-ubyte.gz to /tmp/data/mnist/MNIST/raw\n",
            "\n",
            "Downloading http://yann.lecun.com/exdb/mnist/train-labels-idx1-ubyte.gz\n",
            "Failed to download (trying next):\n",
            "HTTP Error 404: Not Found\n",
            "\n",
            "Downloading https://ossci-datasets.s3.amazonaws.com/mnist/train-labels-idx1-ubyte.gz\n",
            "Downloading https://ossci-datasets.s3.amazonaws.com/mnist/train-labels-idx1-ubyte.gz to /tmp/data/mnist/MNIST/raw/train-labels-idx1-ubyte.gz\n"
          ]
        },
        {
          "output_type": "stream",
          "name": "stderr",
          "text": [
            "100%|██████████| 28.9k/28.9k [00:00<00:00, 61.8kB/s]\n"
          ]
        },
        {
          "output_type": "stream",
          "name": "stdout",
          "text": [
            "Extracting /tmp/data/mnist/MNIST/raw/train-labels-idx1-ubyte.gz to /tmp/data/mnist/MNIST/raw\n",
            "\n",
            "Downloading http://yann.lecun.com/exdb/mnist/t10k-images-idx3-ubyte.gz\n",
            "Failed to download (trying next):\n",
            "HTTP Error 404: Not Found\n",
            "\n",
            "Downloading https://ossci-datasets.s3.amazonaws.com/mnist/t10k-images-idx3-ubyte.gz\n",
            "Downloading https://ossci-datasets.s3.amazonaws.com/mnist/t10k-images-idx3-ubyte.gz to /tmp/data/mnist/MNIST/raw/t10k-images-idx3-ubyte.gz\n"
          ]
        },
        {
          "output_type": "stream",
          "name": "stderr",
          "text": [
            "100%|██████████| 1.65M/1.65M [00:06<00:00, 242kB/s]\n"
          ]
        },
        {
          "output_type": "stream",
          "name": "stdout",
          "text": [
            "Extracting /tmp/data/mnist/MNIST/raw/t10k-images-idx3-ubyte.gz to /tmp/data/mnist/MNIST/raw\n",
            "\n",
            "Downloading http://yann.lecun.com/exdb/mnist/t10k-labels-idx1-ubyte.gz\n",
            "Failed to download (trying next):\n",
            "HTTP Error 404: Not Found\n",
            "\n",
            "Downloading https://ossci-datasets.s3.amazonaws.com/mnist/t10k-labels-idx1-ubyte.gz\n",
            "Downloading https://ossci-datasets.s3.amazonaws.com/mnist/t10k-labels-idx1-ubyte.gz to /tmp/data/mnist/MNIST/raw/t10k-labels-idx1-ubyte.gz\n"
          ]
        },
        {
          "output_type": "stream",
          "name": "stderr",
          "text": [
            "100%|██████████| 4.54k/4.54k [00:00<00:00, 6.79MB/s]"
          ]
        },
        {
          "output_type": "stream",
          "name": "stdout",
          "text": [
            "Extracting /tmp/data/mnist/MNIST/raw/t10k-labels-idx1-ubyte.gz to /tmp/data/mnist/MNIST/raw\n",
            "\n"
          ]
        },
        {
          "output_type": "stream",
          "name": "stderr",
          "text": [
            "\n"
          ]
        }
      ],
      "source": [
        "from torchvision import datasets, transforms\n",
        "\n",
        "# Define a transform\n",
        "transform = transforms.Compose([\n",
        "            transforms.Resize((28,28)),\n",
        "            transforms.Grayscale(),\n",
        "            transforms.ToTensor(),\n",
        "            transforms.Normalize((0,), (1,))])\n",
        "\n",
        "mnist_train = datasets.MNIST(data_path, train=True, download=True, transform=transform)"
      ]
    },
    {
      "cell_type": "markdown",
      "metadata": {
        "id": "6ZyzEp9YHgPb"
      },
      "source": [
        "If the above code block throws an error, e.g. the MNIST servers are down, then uncomment the following code instead."
      ]
    },
    {
      "cell_type": "code",
      "execution_count": 7,
      "metadata": {
        "id": "ZpGLLVqeHgwy",
        "colab": {
          "base_uri": "https://localhost:8080/"
        },
        "outputId": "46921ea1-76ac-4944-dad7-7975d2f65614"
      },
      "outputs": [
        {
          "output_type": "stream",
          "name": "stdout",
          "text": [
            "--2025-03-05 04:24:54--  http://www.di.ens.fr/~lelarge/MNIST.tar.gz\n",
            "Resolving www.di.ens.fr (www.di.ens.fr)... 129.199.99.14\n",
            "Connecting to www.di.ens.fr (www.di.ens.fr)|129.199.99.14|:80... connected.\n",
            "HTTP request sent, awaiting response... 302 Found\n",
            "Location: https://www.di.ens.fr/~lelarge/MNIST.tar.gz [following]\n",
            "--2025-03-05 04:24:55--  https://www.di.ens.fr/~lelarge/MNIST.tar.gz\n",
            "Connecting to www.di.ens.fr (www.di.ens.fr)|129.199.99.14|:443... connected.\n",
            "HTTP request sent, awaiting response... 200 OK\n",
            "Length: unspecified [application/x-gzip]\n",
            "Saving to: ‘MNIST.tar.gz’\n",
            "\n",
            "MNIST.tar.gz            [                 <=>]  33.20M  8.96MB/s    in 4.6s    \n",
            "\n",
            "2025-03-05 04:25:00 (7.27 MB/s) - ‘MNIST.tar.gz’ saved [34813078]\n",
            "\n",
            "MNIST/\n",
            "MNIST/raw/\n",
            "MNIST/raw/train-labels-idx1-ubyte\n",
            "MNIST/raw/t10k-labels-idx1-ubyte.gz\n",
            "MNIST/raw/t10k-labels-idx1-ubyte\n",
            "MNIST/raw/t10k-images-idx3-ubyte.gz\n",
            "MNIST/raw/train-images-idx3-ubyte\n",
            "MNIST/raw/train-labels-idx1-ubyte.gz\n",
            "MNIST/raw/t10k-images-idx3-ubyte\n",
            "MNIST/raw/train-images-idx3-ubyte.gz\n",
            "MNIST/processed/\n",
            "MNIST/processed/training.pt\n",
            "MNIST/processed/test.pt\n"
          ]
        }
      ],
      "source": [
        "# # temporary dataloader if MNIST service is unavailable\n",
        "!wget www.di.ens.fr/~lelarge/MNIST.tar.gz\n",
        "!tar -zxvf MNIST.tar.gz\n",
        "\n",
        "mnist_train = datasets.MNIST(root = './', train=True, download=True, transform=transform)"
      ]
    },
    {
      "cell_type": "markdown",
      "metadata": {
        "id": "T5wXl2bVobYz",
        "pycharm": {
          "name": "#%% md\n"
        }
      },
      "source": [
        "Until we actually start training a network, we won't need large datasets.\n",
        "`snntorch.utils` contains a few useful functions for modifying datasets. Apply `data_subset` to reduce the dataset by the factor defined in `subset`. *E.g., for `subset=10`, a training set of 60,000 will be reduced to 6,000.*\n"
      ]
    },
    {
      "cell_type": "code",
      "execution_count": 8,
      "metadata": {
        "id": "5FPsPU46obYz",
        "pycharm": {
          "name": "#%%\n"
        },
        "colab": {
          "base_uri": "https://localhost:8080/"
        },
        "outputId": "b1c87e69-005c-43e6-bcad-934bf9548d1c"
      },
      "outputs": [
        {
          "output_type": "stream",
          "name": "stdout",
          "text": [
            "The size of mnist_train is 6000\n"
          ]
        }
      ],
      "source": [
        "from snntorch import utils\n",
        "\n",
        "subset = 10\n",
        "mnist_train = utils.data_subset(mnist_train, subset)\n",
        "print(f\"The size of mnist_train is {len(mnist_train)}\")"
      ]
    },
    {
      "cell_type": "markdown",
      "metadata": {
        "id": "9CedMagsobY0",
        "pycharm": {
          "name": "#%% md\n"
        }
      },
      "source": [
        "### 1.3 Create DataLoaders\n",
        "The Dataset objects created above load data into memory, and the DataLoader will serve it up in batches. DataLoaders in PyTorch are a handy interface for passing data into a network. They return an iterator divided up into mini-batches of size ``batch_size``."
      ]
    },
    {
      "cell_type": "code",
      "execution_count": 9,
      "metadata": {
        "id": "TrJLlWj2obY0",
        "pycharm": {
          "name": "#%%\n"
        }
      },
      "outputs": [],
      "source": [
        "from torch.utils.data import DataLoader\n",
        "\n",
        "train_loader = DataLoader(mnist_train, batch_size=batch_size, shuffle=True)"
      ]
    },
    {
      "cell_type": "markdown",
      "metadata": {
        "id": "mwSdczxKobY0",
        "pycharm": {
          "name": "#%% md\n"
        }
      },
      "source": [
        "## 2. Spike Encoding\n",
        "\n",
        "Spiking Neural Networks (SNNs) are made to exploit time-varying data. And yet, MNIST is not a time-varying dataset.\n",
        "There are two options for using MNIST with an SNN:\n",
        "\n",
        "1. Repeatedly pass the same training sample $\\mathbf{X}\\in\\mathbb{R}^{m\\times n}$ to the network at each time step. This is like converting MNIST into a static, unchanging video. Each element of $\\mathbf{X}$ can take a high precision value normalized between 0 and 1: $X_{ij}\\in [0, 1]$.\n",
        "\n",
        "<center>\n",
        "<img src='https://github.com/jeshraghian/snntorch/blob/master/docs/_static/img/examples/tutorial1/1_2_1_static.png?raw=true' width=\"700\">\n",
        "</center>\n",
        "\n",
        "2. Convert the input into a spike train of sequence length `num_steps`, where each feature/pixel takes on a discrete value $X_{i,j} \\in \\{0, 1\\}$.\n",
        "In this case, MNIST is converted into a time-varying sequence of spikes that features a relation to the original image.\n",
        "\n",
        "<center>\n",
        "<img src='https://github.com/jeshraghian/snntorch/blob/master/docs/_static/img/examples/tutorial1/1_2_2_spikeinput.png?raw=true' width=\"700\">\n",
        "</center>\n",
        "\n",
        "The first method is quite straightforward, and does not fully exploit the temporal dynamics of SNNs. So let’s consider data-to-spike conversion (encoding) from (2) in more detail.\n",
        "\n",
        "The module `snntorch.spikegen` (i.e., spike generation) contains a series of functions that simplify the conversion of data into spikes. There are currently three options available for spike encoding in `snntorch`:\n",
        "\n",
        "1. Rate coding: [`spikegen.rate`](https://snntorch.readthedocs.io/en/latest/snntorch.spikegen.html#snntorch.spikegen.rate)\n",
        "2. Latency coding: [`spikegen.latency`](https://snntorch.readthedocs.io/en/latest/snntorch.spikegen.html#snntorch.spikegen.latency)\n",
        "3. Delta modulation: [`spikegen.delta`](https://snntorch.readthedocs.io/en/latest/snntorch.spikegen.html#snntorch.spikegen.delta)\n",
        "\n",
        "How do these differ?\n",
        "\n",
        "\n",
        "1.   *Rate coding* uses input features to determine spiking **frequency**\n",
        "2.   *Latency coding* uses input features to determine spike **timing**\n",
        "3.   *Delta modulation* uses the temporal **change** of input features to generate spikes\n"
      ]
    },
    {
      "cell_type": "markdown",
      "metadata": {
        "id": "3D5HSoY4bQDm"
      },
      "source": [
        "### 2.1 Rate coding of MNIST\n",
        "\n",
        "One example of converting input data into a rate code is as follows.\n",
        "Each normalised input feature $X_{ij}$ is used as the probability an event (spike) occurs at any given time step, returning a rate-coded value $R_{ij}$. This can be treated as a Bernoulli trial: $R_{ij}\\sim B(n,p)$, where the number of trials is $n=1$, and the probability of success (spiking) is $p=X_{ij}$. Explicitly, the probability a spike occurs is:\n",
        "\n",
        "$${\\rm P}(R_{ij}=1) = X_{ij} = 1 - {\\rm P}(R_{ij} = 0)$$\n",
        "\n",
        "Create a vector filled with the value '0.5' and encode it using the above technique:"
      ]
    },
    {
      "cell_type": "code",
      "execution_count": 23,
      "metadata": {
        "id": "DxorUvomL1ei",
        "colab": {
          "base_uri": "https://localhost:8080/"
        },
        "outputId": "662313b3-05fd-4693-9b64-e102859cc74e"
      },
      "outputs": [
        {
          "output_type": "stream",
          "name": "stdout",
          "text": [
            "tensor([0.5000, 0.5000, 0.5000, 0.5000, 0.5000, 0.5000, 0.5000, 0.5000, 0.5000,\n",
            "        0.5000])\n",
            "Converted vector: tensor([0., 1., 1., 1., 0., 1., 0., 1., 0., 0.])\n",
            "The output is spiking 50.00% of the time.\n"
          ]
        }
      ],
      "source": [
        "# Temporal Dynamics\n",
        "num_steps = 10\n",
        "\n",
        "# create vector filled with 0.5\n",
        "raw_vector = torch.ones(num_steps)*0.5\n",
        "print(raw_vector)\n",
        "\n",
        "# pass each sample through a Bernoulli trial\n",
        "rate_coded_vector = torch.bernoulli(raw_vector)\n",
        "print(f\"Converted vector: {rate_coded_vector}\")\n",
        "\n",
        "print(f\"The output is spiking {rate_coded_vector.sum()*100/len(rate_coded_vector):.2f}% of the time.\")"
      ]
    },
    {
      "cell_type": "markdown",
      "metadata": {
        "id": "l0E8Z8mSNflV"
      },
      "source": [
        "Now try again, but increasing the length of `raw_vector`:"
      ]
    },
    {
      "cell_type": "code",
      "execution_count": 24,
      "metadata": {
        "id": "Y6uUgpktNjBg",
        "colab": {
          "base_uri": "https://localhost:8080/"
        },
        "outputId": "04ddbb10-1331-4585-9e8d-69e2e356ec18"
      },
      "outputs": [
        {
          "output_type": "stream",
          "name": "stdout",
          "text": [
            "The output is spiking 52.00% of the time.\n"
          ]
        }
      ],
      "source": [
        "num_steps = 100\n",
        "\n",
        "# create vector filled with 0.5\n",
        "raw_vector = torch.ones(num_steps)*0.5\n",
        "\n",
        "# pass each sample through a Bernoulli trial\n",
        "rate_coded_vector = torch.bernoulli(raw_vector)\n",
        "print(f\"The output is spiking {rate_coded_vector.sum()*100/len(rate_coded_vector):.2f}% of the time.\")"
      ]
    },
    {
      "cell_type": "markdown",
      "metadata": {
        "id": "zoLxfVoINzdH"
      },
      "source": [
        "As `num_steps`$\\rightarrow\\infty$, the proportion of spikes approaches the original raw value."
      ]
    },
    {
      "cell_type": "markdown",
      "source": [
        "실제 확률 값에 수렴한다고 할 수 있다."
      ],
      "metadata": {
        "id": "AoYbxI8d_B1g"
      }
    },
    {
      "cell_type": "markdown",
      "metadata": {
        "id": "eYKsWmoGLz6S"
      },
      "source": [
        "For an MNIST image, this probability of spiking corresponds to the pixel value. A white pixel corresponds to a 100% probability of spiking, and a black pixel will never generate a spike. Take a look at the 'Rate Coding' column below for further intuition.\n",
        "\n",
        "\n",
        "<center>\n",
        "<img src='https://github.com/jeshraghian/snntorch/blob/master/docs/_static/img/examples/tutorial1/1_2_3_spikeconv.png?raw=true' width=\"1000\">\n",
        "</center>"
      ]
    },
    {
      "cell_type": "markdown",
      "metadata": {
        "id": "k8_Lzm6FOcm0"
      },
      "source": [
        "In a similar way, `spikegen.rate` can be used to generate a rate-coded sample of data. As each sample of MNIST is just an image, we can use `num_steps` to repeat it across time."
      ]
    },
    {
      "cell_type": "code",
      "execution_count": 25,
      "metadata": {
        "id": "nz70JGXqobY1",
        "pycharm": {
          "name": "#%%\n"
        }
      },
      "outputs": [],
      "source": [
        "from snntorch import spikegen\n",
        "\n",
        "# Iterate through minibatches\n",
        "data = iter(train_loader) #data to iterator\n",
        "data_it, targets_it = next(data) #data/ target\n",
        "\n",
        "# Spiking Data\n",
        "spike_data = spikegen.rate(data_it, num_steps=num_steps) #encode data using spikegen"
      ]
    },
    {
      "cell_type": "markdown",
      "metadata": {
        "id": "q0hATEwKobY1",
        "pycharm": {
          "name": "#%% md\n"
        }
      },
      "source": [
        "If the input falls outside of $[0,1]$, this no longer represents a probability. Such cases are automatically clipped to ensure the feature represents a probability.\n",
        "\n",
        "The structure of the input data is ``[num_steps x batch_size x input dimensions]``:"
      ]
    },
    {
      "cell_type": "code",
      "execution_count": 26,
      "metadata": {
        "id": "ebdP5kFKobY2",
        "pycharm": {
          "name": "#%%\n"
        },
        "colab": {
          "base_uri": "https://localhost:8080/"
        },
        "outputId": "e8a5bb4e-dc4f-43f1-918f-81cc9f5efb30"
      },
      "outputs": [
        {
          "output_type": "stream",
          "name": "stdout",
          "text": [
            "torch.Size([100, 128, 1, 28, 28])\n"
          ]
        }
      ],
      "source": [
        "print(spike_data.size()) # 100 step, batch 128, input 1*28*28(C, W, H)"
      ]
    },
    {
      "cell_type": "markdown",
      "metadata": {
        "id": "Cnas5Q89l_10"
      },
      "source": [
        "### 2.2 Visualization"
      ]
    },
    {
      "cell_type": "markdown",
      "metadata": {
        "id": "oVFuIXxMobY2",
        "pycharm": {
          "name": "#%% md\n"
        }
      },
      "source": [
        "#### 2.2.1 Animation\n",
        "snnTorch contains a module [`snntorch.spikeplot`](https://snntorch.readthedocs.io/en/latest/snntorch.spikeplot.html) that simplifies the process of visualizing, plotting, and animating spiking neurons.\n"
      ]
    },
    {
      "cell_type": "code",
      "execution_count": 27,
      "metadata": {
        "id": "4TYFlc4_ZK-u"
      },
      "outputs": [],
      "source": [
        "import matplotlib.pyplot as plt\n",
        "import snntorch.spikeplot as splt\n",
        "from IPython.display import HTML"
      ]
    },
    {
      "cell_type": "markdown",
      "metadata": {
        "id": "fwWROIkdobY3",
        "pycharm": {
          "name": "#%% md\n"
        }
      },
      "source": [
        "To plot one sample of data, index into a single sample from the batch (B) dimension of `spike_data`, ``[T x B x 1 x 28 x 28]``:"
      ]
    },
    {
      "cell_type": "code",
      "execution_count": 28,
      "metadata": {
        "id": "ZZxTqqOlobY3",
        "pycharm": {
          "name": "#%%\n"
        },
        "colab": {
          "base_uri": "https://localhost:8080/"
        },
        "outputId": "35ced310-9418-4ed4-d623-b70b5b9f391b"
      },
      "outputs": [
        {
          "output_type": "stream",
          "name": "stdout",
          "text": [
            "torch.Size([100, 28, 28])\n"
          ]
        }
      ],
      "source": [
        "spike_data_sample = spike_data[:, 0, 0]\n",
        "print(spike_data_sample.size())"
      ]
    },
    {
      "cell_type": "markdown",
      "metadata": {
        "id": "lJJyPUiuQ61x"
      },
      "source": [
        "`spikeplot.animator` makes it super simple to animate 2-D data.<br>\n",
        "Note: if you are running the notebook locally you may need to install ffmpeg: e.g., `pip install ffmpeg` or if in a Conda environment, `conda install -c conda-forge ffmpeg`.<br>\n",
        "If ffmpeg is not found, please uncomment the line below and modify the path to your ffmpeg.exe."
      ]
    },
    {
      "cell_type": "code",
      "execution_count": 29,
      "metadata": {
        "id": "4QVyvj9PobY3",
        "pycharm": {
          "name": "#%%\n"
        },
        "colab": {
          "base_uri": "https://localhost:8080/",
          "height": 910
        },
        "outputId": "ec0c7ed6-1446-4ec9-a93e-e595fc9cc72d"
      },
      "outputs": [
        {
          "output_type": "execute_result",
          "data": {
            "text/plain": [
              "<IPython.core.display.HTML object>"
            ],
            "text/html": [
              "<video width=\"640\" height=\"480\" controls autoplay loop>\n",
              "  <source type=\"video/mp4\" src=\"data:video/mp4;base64,AAAAIGZ0eXBNNFYgAAACAE00ViBpc29taXNvMmF2YzEAAAAIZnJlZQAAdtltZGF0AAACrgYF//+q\n",
              "3EXpvebZSLeWLNgg2SPu73gyNjQgLSBjb3JlIDE2MyByMzA2MCA1ZGI2YWE2IC0gSC4yNjQvTVBF\n",
              "Ry00IEFWQyBjb2RlYyAtIENvcHlsZWZ0IDIwMDMtMjAyMSAtIGh0dHA6Ly93d3cudmlkZW9sYW4u\n",
              "b3JnL3gyNjQuaHRtbCAtIG9wdGlvbnM6IGNhYmFjPTEgcmVmPTMgZGVibG9jaz0xOjA6MCBhbmFs\n",
              "eXNlPTB4MzoweDExMyBtZT1oZXggc3VibWU9NyBwc3k9MSBwc3lfcmQ9MS4wMDowLjAwIG1peGVk\n",
              "X3JlZj0xIG1lX3JhbmdlPTE2IGNocm9tYV9tZT0xIHRyZWxsaXM9MSA4eDhkY3Q9MSBjcW09MCBk\n",
              "ZWFkem9uZT0yMSwxMSBmYXN0X3Bza2lwPTEgY2hyb21hX3FwX29mZnNldD0tMiB0aHJlYWRzPTMg\n",
              "bG9va2FoZWFkX3RocmVhZHM9MSBzbGljZWRfdGhyZWFkcz0wIG5yPTAgZGVjaW1hdGU9MSBpbnRl\n",
              "cmxhY2VkPTAgYmx1cmF5X2NvbXBhdD0wIGNvbnN0cmFpbmVkX2ludHJhPTAgYmZyYW1lcz0zIGJf\n",
              "cHlyYW1pZD0yIGJfYWRhcHQ9MSBiX2JpYXM9MCBkaXJlY3Q9MSB3ZWlnaHRiPTEgb3Blbl9nb3A9\n",
              "MCB3ZWlnaHRwPTIga2V5aW50PTI1MCBrZXlpbnRfbWluPTI1IHNjZW5lY3V0PTQwIGludHJhX3Jl\n",
              "ZnJlc2g9MCByY19sb29rYWhlYWQ9NDAgcmM9Y3JmIG1idHJlZT0xIGNyZj0yMy4wIHFjb21wPTAu\n",
              "NjAgcXBtaW49MCBxcG1heD02OSBxcHN0ZXA9NCBpcF9yYXRpbz0xLjQwIGFxPTE6MS4wMACAAAAK\n",
              "Q2WIhAA7//73Tr8Cm0WXagOSVwr2yqQmWblSawHypgAAAwAAAwAAAwCQhHHua5XJPWaAAAAvYAkd\n",
              "R/ghH3kBNDCYZZFWrjpvUjoWFadFXimJb1UuS8/N/B3+j+Gt1R+BLVPDXd5gh7gTTcAN00v1OG4c\n",
              "6OfI63q6/hsFNXQrxWxBfqbVtRodtrIOAJ8Z9cc70ABG+46bFy2bS+MgLRLJ8dY3wYRMbhBcqRws\n",
              "OIM81TP3GEnf2yevFITaIMi5GnI5+BRwLAuLenzfrTwAAA4xhECXkBX/MWy4cMzc+z0TiBY2m7nu\n",
              "PfAvOtRWWNMYr59ki9hokEustmx7DzIId9PofRcq1NQ0JL7WmAl5/fS+6dPjXcE2KpasPIOJgupo\n",
              "GsQgVVg4HZYQ7RtQVwdlHItZ0Qwyc9CflffD8EGMR502TQer4+RAcErvE2xa1seKUBpEr6+EUPMo\n",
              "S25mr2vYQIDlPkeZ7/aQzUqPvsLfQDHPPDcV94PlFTzz9qjFtOZX+Gmtw8Xj0ZOk1EUd2TWpN2XL\n",
              "CH+VPu8PO8QqHmZvCekfge0m4JHnNAiHFPAh5SYmTF/UL/LS5WAi//huVgEO+FgXhFA0YoCwKqkj\n",
              "j8QkgGkz7LNDsUE55lY8dJqP2N7iHOJhet5Y15q5R1GvmK6e/ffPLVF00LauTWHVfTorNThANWG8\n",
              "KIXwUC8Uz5p63QeNMZfWElbEuUm/pSxkit+ETsfihanyGvnE//Ti3ET6oSQVEnvhwb8FNn41oKq6\n",
              "3FhAFyW/gIGe6GZjJYUmF7SjmMb+dFE5Av/wOEKZ4gUpxx32BqWklDe/IyS0n1XISOSa+ZO1Lxrt\n",
              "hQ9CLr1pbBiZ+v9KFQ1AojZ97hLe3s2NLOT+xe2X66Wcc95dKZ9cl3Ot5NcgY8gqQUgm7v8YV2Jx\n",
              "jVvM66n+3GYnvMQjq05XzF23JJNxYaVIqe/3332riZO8ijsWTSuFlk3VTEMm6KIu5gt+XN32gNX9\n",
              "2wadRdhO6+0Tm229uueg9Lpn+23llKL89k6vaUOmmjpQeySeUrGoFWUQKnkDYjhZvGOwmiiJlAYA\n",
              "clJKw2K1ML689TKrgerwXeJoBkIz7nwrX8DygXWcqsy4XyfxyXIu+OEnsJFLrWBtBK7MuRmSxkAk\n",
              "m4sb4aQqwwg7+R52M7YapbUir9mdRqNGPpghJnigh6UAOPR0+tn0u0LPZqC1vK0WCgPhOAaoLDcV\n",
              "NJmU1JeDTwGD0XD0w114q8dR6TpweAJeoLwnlcQkpgIqc5f6gRoqUzX354/IjwuxQ8S4sXgc7+Dn\n",
              "aHiu76q3/E3N/3QnYQpeStLOy7is4fwnEzPUG5uzacDCqpsyqTHHnums0a0BlJ8WmzPbCb3TO7GH\n",
              "uJjNnxPPWZRY5KKAxU3IjkwwMRKInADdAWXU46wPgTTy6CG1OSNN5NxteJsFpnW8+WoVVCYeuXM4\n",
              "J8995vTds9ytdanVHu5b8JDbuI7yovgmr90Oc7UPk5au8DwfhWo9IqLkqsJ8E/E7dmYVEW3IirrN\n",
              "q/CeAz/Ej2yI54fR7RsbG9XqLUYicmGCE/pgLNRqJNqbYgikCRM4PAbDf7B9keUirUPKjDb7edbj\n",
              "qnp9wo0UFIXUBXwTaZPG5uwapBg7v+hiZt9v30hI7jMTt2Us8NRIj6cfQiiLkYjEHYP8wJ49+mlG\n",
              "rrEA8X+wuq7YPRybOsktn++AKoGkfjxNtPBlP9cM+lK6GD1Q7+0jeFBochiYSt1V9zDOTX2r+b44\n",
              "UiADhQG1Erux8lnB3YshgCONzL4jksVXFJbwTWJcUABd0Jst6bc28Ad0HHyZGhOEKxIIgoND53bB\n",
              "wp/cv9onXIcLyeDahMKl4e06hcd7eKZVSSXlaHQ0c2hSAcsaL952jI9xqTIwIPTwaxkyZ0jaUJtR\n",
              "56gj2FMl/ECXK+fSSvS6ISIxVCpZlTt3guOESzhxmglAVYfZhOefVh8P/y6fdWakZh9WstHf2x30\n",
              "VDASqEFRTLN+dczdFSjCxciV40ZKQzpx0jh7krXkUHsPr0wXjARGYPa4jc36Qwl92NArZMRqTVz3\n",
              "rM3UbjezviraHtXrxTLV+eNI6cxCn5njHSdAB/beH1oWIjeL9YYPqX2s8zJZOvTLSOdR1i81mVep\n",
              "xoD6rgqOP/7lCITyGJLhf3GkCIGB9IcsECfPX9QeWpUF4zcimR+W4guprNUkGeCd0vTcG4mGuX+G\n",
              "Xm31Cdc1vAvdwqfW11GJcyERxzg1OjT2ssX6z0wCgcOA7yOYChDum4TD8PtVfOkXVwoITxSSwWvX\n",
              "GlcfWOor7h367SaMFjqKdL2C3O7Rwsa8a9oGLIAb/p9OicRBlba/mQSEvY3TzTALDZiLLMDwPiJT\n",
              "SUaHzHhvW6/zvlFx5i4aaovOE4eOS5+KbS/N0Oe/pvn+QiK5CRi5BFe5B5c2BPkJXDX7dHCDznOF\n",
              "cIV7fX51jJh3ZJwr0AOK2MbrmgGH5jAKrJ4001UvMvLzNfe2hgrPnYwVwpOruP5zCGrVZbkNiJ1P\n",
              "flF2RfbYgvwUGKnaU9RiuHPHAVnGGH9p1NqWRg0ON+ppyLWzsITYhfNF6f/3wDZ6nWMFQUSLN+6v\n",
              "+LLl6cwKYy9c2n0ZxKVn7WXDVW31tUpYAMcpzdr/qoAebkuJUe2Nrws9vBbkPpXY0s3mkTI7o9+z\n",
              "NVdrd6bx+3QkVa4EOxtoleb+UDVQX9yAndwcsEis8EtpzY451xovC+9JuVgn8+J2A5Vr8d5ywFG6\n",
              "UCaCo7cngrNw9lh+IUlTpnlMX88sOpHtmQ+sPpSiPUAPIHJ8DR4IleU9XfA+NDDABeUf5dYIRKl6\n",
              "Rm8kxy2jILwVLUPnDMsGs5Rtp0n2J1hk1aNldfAbRst6XfnebmIvVYURXIdBLYqVpCxYq4Nj1+e3\n",
              "akobkQl3yCJDy14k8KSSxWOTty006w812BpfXr+JKKiNd4766Y0X/VFPXjwvgo37/2+3P6JUMN54\n",
              "s25MaugAN1wdPEXydEjzDzmh9Q0pFNcN7mDDYMTn3tDPQL0tH9OnJOn6sgqdquVpokbT0HYggtOj\n",
              "VFKoLqrP8KTePzBEPslxuRVVNxBGRZU2RLpIB06X3r8du7tdAEanR9S+6iDgqXX0VHao7HCXT2jE\n",
              "N9H9E+RqwmpEUfD2ZGtUzouyNWkqDGelw5nahwITDYKWt3jYAMcLTAEfAGBpZa5ejzeD2Pgo3FT/\n",
              "gDEFaGHTidgIM/S72SK3tHGLky9aZIEpzlaZb+epa0D8uIPvzfveY/L9WmcDAFGZhsYgj0Qk3t6n\n",
              "RnuW3Kjyw0MwC8Ap9XaUSn/8DoboB1kgsZz/f67Du17v+Zhu53JwXjAtPOgfFLEAjtyVvId/CCOb\n",
              "+B9ixgJFCY4kCrxPx4pU2OPrZC02KBU8Lz7pGG9+nrk1m4KBeDae/llADVyjYqkaeIBOIOOqxW0D\n",
              "tzSAMHT7mUjFAa9/JoTNgnuYV3+gQDSAX77BOGGsPpZY7AUlKpuNL7Yhe/4wFINEue5SgAAADbBC\n",
              "+OhgAAtpAAADUUGaJGxDv/6plgADUW3RD9NwCVEMp+o1IdwdYp9kVvcE68AJmS0riYHQyhNl1hv3\n",
              "VYHP/zW0mt+MCgegaMjvPiL1pMHjhBkKLeSTOTzlu6N2gpk3Fiu66a2XzJ/mbuEf+dpXD/wcRY7q\n",
              "q6/9PFKk3b6/wG3PGuNXWOjmjbAZslGLvL6ilkDnN0imJlyfNSn4N6JzdQBZ383JHlg8OU7jNFZt\n",
              "KeRSTR4EwvY/EBI3ZVNsRt/DxmoRENmK/+0dp2rKUBXxwRwTXwwzDNYNNbwB7+oNuMnNHXVhNEaa\n",
              "VR/wLW9oLEQeywwJXOO86vhO8WElmdLnYx6ygyz3nRJg8tfs5c9bc5W0rMI77yFOk0yAtp6lLh0/\n",
              "f79092drWmtxyHFzlWNEpEs8QIofYTfeiGVL0EoBMJyI23vFxcGOriviP/JSLLN5+qp0PvtNAG6S\n",
              "twVYOYmgklQANhH9+HYRlIbe4MGVOjtxvMeERdeDhXGxAtzqqVo4btfubM6TZICVlggAIAmBQgd5\n",
              "JL8YRuNlN/1eu3W0wD0QesliG0TR/4xNbu9Akk2MYa0DXCS95l0zlUhfNDKOqmGOOLPHJnPOUN1L\n",
              "qI7KP1y+IMAdaqeoArM3ssVHD8v25//Bu8axFkh0ZAMlLmlnMG5d8E2P6WLiH/iJqFp6ynwKHNmd\n",
              "/S9BbKfMi7bM1l9JpTR7SDL7RKEJqUimtkblJ3zlJjUVB5T93ueCpzRpR4MzT/xMH1l/GDtjnf7X\n",
              "1aKAt7HQnMbhodMbMvy4/jLS1quDzUegoHb0eBastTukN/xFuzwffeppRD6UhSugF3L81rEdhJ0T\n",
              "21GLr3kZgm5ZVon9GgqcBjC10SwzAEP2Esz72WQ6jBS1sxoCgzeKMOnDxys5/KWUkWk9JJBrDwlq\n",
              "B41jIFm06fommvKqFo279O05qkB1VamugihdsUoL0ujHpsCHyZkgrdPw++yLyGuIUcshhaQUJhzH\n",
              "cZHkyBarCIREr5wL7aCedyOyH0Mr6cQ3x1VaLmZHjHgNg8yalnpyaJ7Zr9ylkHfYITWC9kxwra+6\n",
              "vaxbk04PQSQFvQ0D82UJZi6smluniHjOqrxsu1LQVTb9qEcsKHVdwRjKgWELHqubt7Mb2hm+efpW\n",
              "aAAGVAAAAWVBnkJ4hf8AA+QHCavMEz/0JHzCdia4V1x9GUIoywg2bWJOPwzXNQzuNNPNIZHUC+sB\n",
              "1zxN72jbkKW5c7w6zsdn4QhFHqvlyYgEA0/LOVJ7aR5T2yNBYnVKuQQz2PrclsfBZjawWuEfi/q6\n",
              "BY5LWwzCsuE5aTCG0Lj8ZFCe/VjYbkJBXKZDFvEjFMmxoYvTMex13ano9KrwdpE3zr8jag1ormns\n",
              "NKBaDvg8JUVbz3tPDxe7QRaHz+Melje5iEj0kC7gOnuJQtrUE3Tc9hfNCeAyvjtdcBwUlImtLcgS\n",
              "+09fgHjUv34uV6jjfvNWBy/qm6P8PiS+Va73i1VWf9Q3jt+SZWRWuniPxyVnwZQ4A5yjg2SETh2U\n",
              "9wDppm4JUv0i7Kg8dMBp+eJddwiv0EwuWdmULQyfwZOC2UUWrUMDX+AnCHICzNmeyjg4BSFM/PjZ\n",
              "oPT7BWGi1KRcwxETZmg6CCXtbVQABW0AAAD4AZ5hdEK/AAHl31aCqphimKdyj5i0v7eZ1nmR+m1g\n",
              "iVStXK2rwEclG85bM1n1XtukXo211XhxCTYLPXLW4JZTpLltewqmX2SC6pWkoBPbhTXeoYlXQQAc\n",
              "0XR2KkK+EGmc2F2akU6SLDWHXKiJgYhTspxrs5fUfexiFcof0b6QblMkVE+QLkthm8SmP0PD3gtd\n",
              "Nt6mzEgeexMyn4ebQyQWM2ZBuLXWQ/Ui9ywVJr6uxmvt+oJE6Eo70+ZMfilamtpaXznuhHJDGMj+\n",
              "MPAWNf3HNa1cWKvn8qH+osyMfMo8tTkPR9gU3bSCMC4Ax3pyCCxosPOiaFcAMuAAAADzAZ5jakK/\n",
              "AAT84tJMovTzrOXrrkPxKM0UJrXWXxOLrxLv9ZrDj+ckimantBr7/3SRxSnNzwGdfRNV/f41BtlG\n",
              "yO0/H5KABw7S7V6YWRRJGkKtZzGXuiz8K+9sFM/7JzMfyVnyFfCDTObC7NSKdJFhrDrlRFK0CmYu\n",
              "DuMYy6iAe3b487tAlNzebTpOsf9yjrF8iXjPv+7YpPJ0cco66ZinpzQgy0KeQWynh/gS8OLRd64N\n",
              "+5dzWpWozTHjJNVCS0ShbLqvNNASM1y0oG4awBYm3zivsTyrNDNq2dofg5mi+PCy7Ww5a/rcd6GK\n",
              "DgEg0isuSD0hAAABBEGaaEmoQWiZTAh3//6plgABKH6SrEz/zkP/bHbuuVA8cygXvaMGbt+VrjFy\n",
              "o77mkl3x2SVEQY+GzXc+Cky8+hIh8//aEAQp7Wxrsm7DLY6ZsPboc54egEjjXM1RZE+XN5tH5oz0\n",
              "AvtCJW/blXVpl5o/GJELx95gdjWx2R8iML3CTjaIWQ3FwMJ3ChVU6cRFZKZNTN26T8IuWqs3AMey\n",
              "ytdgSYaFh6cG7jvQNi1igMpYS9ca9Y6/+54H0NkbD13qbtmOvQCzMu+nCq7+E3gybEyA8t9qztqQ\n",
              "gMneqkpw/xr0LvsiOdDul2WZ/l7Oq5hTEw1YgEP4PxrmCvBNQDd4KL2LEAwpAAAAzkGehkURLC//\n",
              "AAPj69uDNeOyC0T2VniiMcJc9C06ed1/1LhV0Zlisaaj4taBnI9dU6GdzmKBu0CIfnna4EKGwCad\n",
              "7kTxZq9+NnfTVDK38/fUtbGM5woTLNYI8H0ZA9nzRKUdDENJk9hHrAtc0cmYt8KjBekufdqPK+gE\n",
              "4N4cQ0OZNjbhh9oghQYfQSMJc/p34Otsb+mNzvrm0QuGFHUihp4k0UelcjVsn5ep5+ggYBbVoLjA\n",
              "+48AAhpSnQqhyCsKh+zcAc8ygY3O3tcx4B8xAAAAtQGepXRCvwAFaOLUqdeFimkl1vNWJNN64XRk\n",
              "94UEhIKKuTrpmS5zsG1PXvbtLD6tv0TzmAjOjQhQ9HF1kYQzyHbpQBvTNKjhH2qIfDdZ4+/GN/kh\n",
              "io/lyZABxdxZoBVCSUayREcYxwagbafybHtgSFriiVOckcEwR9B4JnkrrIqNuF9OVA2AaY3EIbiR\n",
              "Z48XZovuoXC24Zh0ECTAQ13nwGqOPTstryWLO99immslqqhdcU3UB6UAAADxAZ6nakK/AAVo4tSp\n",
              "14WKaFzosDhi0wSMRqJR4Xpeubz9udfpE3Mis5vxZp/8le4h5SLFWhZqs2dlYfcwcLK3/hEQa+t2\n",
              "WvQ57RqjucKmxFl4GtjaRZ55J+Vq/BrWjbNt9eBssuogBONK+quBmJfXJJgJjNueKPhEMZGX2snB\n",
              "5iIWvWjCs5eJyJBVEBJFXiTvORI4Q4kKWe7BrgCLHYpWLgr8CNS856puAczitjyS9cNaTsxFKWu3\n",
              "ssVrCOal+P2HYxVYVblm93Xzu28tLZBNDAzPPhvdJx8XtpooIyPbAsKxt4BoaSmynVauaX3z0ADp\n",
              "gAAAATlBmqpJqEFsmUwUTDv//qmWAANV7Zc/sBJlFBZhaJYfEpgQqsWmnkl8Uy2ByIv5osDmpK9r\n",
              "hVlv8v5eiwBql5RNZGj3I1TjSRNNgPT8/CVjDA2eVQ/ChcSj1HDkeT3OAoBcKn8xce+VOb/bXWI+\n",
              "Yu3IHqsWCf/bHFzBvMwUZWTvyhsJ32VydKj7Jm50mhxFi6GrtkC1RToW45fxrNIStsCuDGdvb+4D\n",
              "J/j4XFiiYKD2Ux/UYSsg9RMII+XnwZQa6kyVfBm7JBiuXKJnvoeI25dZYqWQu6s4z5pIwYyHdfLQ\n",
              "6awSVHmHAs9Zf2pK2iKmeHfYPARk7Nwln6adi5H6Y/F0MrgucaB2WqNwODMVfFS75YBsQTEbEQbt\n",
              "xqt397Vrl6J9owBpFkTf6jNZLI6Ofw7NMnsOA0uzwBaQAAAAvQGeyWpCvwAB8WR9+SkwAWzZ57CV\n",
              "1rywcN58ME2i0AEmn4/IJcJ9eI1EBCa+CDHFNSDuJO8PrZwgxmOQO/A2WUBsXrRspNJbXGW6wP46\n",
              "rxyAcp3z2SpuY6xMeRFliFv0rBXXeMortLBSEC90JCxyl1EDQ9bruW0YF/HLqYVbCnRjBZ1sLfMG\n",
              "iCR1qyuetxKL3Qxfr5BW+6o/KUQnC6paTCQk2lmyiEkJYKeqLBsM5I933I9bFk1DWlOyH3wETQAA\n",
              "AUBBms5J4QpSZTAh3/6plgADUXOqyQJTVL8ERLVNp0Gj//BHv6pj2g9s/6ZF6iJxg1rSr3ObqVw4\n",
              "rdikyvlv/Xnf1VH8q9qa2ZeXES8jzJxgcSUuH/yjxEb3GM3VCg2dzz0MxKGz/dtnwGnnMsIubA7R\n",
              "dpShp09RZtQyk5xsUWArePN1oOemixTep3k9XiUlOAmXS5M1+59r+/MTnFx5cG6ZE++jG0yyrdLo\n",
              "8sknhi5z126f18b5DlsQGyPbcLG+0G5D97zJrWOy8ixktunbctDLin9WHbvuF+xUMWzH0SKypY+K\n",
              "O+me6K2jORD2rwzfDno3F5loc7Qznizg3efFvpZmA4iTrxxogHp3PP5+LVaIaZadAhAcbo0cWmvz\n",
              "imEtcgk8Utom0RYq7spDLag3LqY71bkqZjAZdGpS94p8s4AFpAAAAQtBnuxFNEwv/wAD4+fUpqe9\n",
              "YI+mHKK63wMbUfkIxogjt9UoLRekNAeG30nFlTuBxb8Fb4+j9TObcoGOW5Mlav4vVBwechd3RdBO\n",
              "dzAs0Hhj7KhupV/a5OJtcJ/axO3P77HOw5v4dzlK8PctP1+ZUM8NIW19Yunk6zZ5r4JzZdaQ0oTJ\n",
              "ev/kIlEJFNqTcJa3ppP3gxvdDTHzSOeL/sRk/KAFSphPYsTpu4iF+MvqfaXAn+gwC6Sw+2c73qnc\n",
              "AWqE/zKwaXiFKTT80bpkk3r3BJDqZUGUQGDJjks5SDpJToonGf6mA785j4fIfRzBHU3HxoTbdscu\n",
              "Z6ovNhy+O9aN8yHyXJid49mOhsAA3oAAAAC4AZ8LdEK/AAVFCQRrSL0LVmM+02pHRTERw7ObuDOX\n",
              "NuxoIbwJ60IKXV2J8m0igxR7CHhqI/UT5irU2XDNADBzKtIXbaas/d3x2gA38knBzoqlblUIRp93\n",
              "d3V4D203ANo7S+5bn0PPjWCf5Lf/iKGQJsuUgYga6OFbeZYQ1xlDBzCJ4cQ7SBGo0fmmVvA0iekv\n",
              "z9bEb4A1owL9Q98xgWUJkdAEH30cG6sl5VcMFVsgfiHC9GCCVVkBZwAAARgBnw1qQr8ABULCxdCJ\n",
              "MotnnLQQ+7rS1ELKSOCRElOXEsdUQ+fyLXlXajoJr3nyoY935i0l+n8ee8R2LEuDxIPa+/Tm/Wo2\n",
              "xT6HBAA7IsVP3KoQjT7u7urwHtpuAbR3ha/K+Q/I+WMVJJ4++oMPp4UQjXDKiCHEo74IUyemjE4M\n",
              "tsTTD5IcJ/ADLupBmX55WKoeSRq2DZ359YfegORRmd9QYO8cMIj3laQM/naYpBEQJxRopNgvlcHo\n",
              "MW+U04EVm/1flr8C0XB4/weww7rVQnlnA9ktT4q8tLma/YJnJVMsl+spxqIxwaaIP7ZoawmRD5if\n",
              "5O8EeY+HQ/bKS0fVHoho/qB3UDCfvOANtoySWE/yC4VS+bPbgJWBAAABjUGbEkmoQWiZTAh3//6p\n",
              "lgADVe2XY6va77cmguJUO/qCOt9xZ12zFc1PK7/2DxLa4InHqJF2ej10IveGoutPDrR71Czyqppr\n",
              "dxf32tJ/VtON3taPJFkGSWpTs5Y7767wHuB90tBM3RPBvStmgeYvlP2Y1gyQyQQjE4w0Jk4MNf/K\n",
              "ABAWUg1xrycBJMU21JWk9NGS3ny7nBW/YQICHCGyfKUo2rzr6KEPGROHA6/yRQ2kM5cd3ukjuJ+t\n",
              "RM8V2Y27lzLtZCvStV5w6knI/0nvws35L4FEP3/RgL7C6TLO2/irMYPdITiS/9D6Rav4GVXPg3+3\n",
              "wj3ju1K7mgEDpGqchUlFg0RoOmIjoZpBEL8Ut+x1nLIXZPb/+W2KU0KHU7hyb50P6WQ0a2d5+jLU\n",
              "KyO3V5UNKcnDiDEdw8I85TqVEPmP+YGD/AMU7NeMNRpWCvDWAFex7BwXwDZkn38kBAiOiwRi0q7s\n",
              "jJ3yXvNq2hD7iSyaaUC7RLbqAE6nk/iJUahK8zEQsnl86p7WLTVAW0EAAAEiQZ8wRREsL/8AA+Pr\n",
              "rSKdeeC1Xl3WumB+7+dHhr3n6OkHRIqpN6heph3tuQl3r0bSqo5wSpxkq1b3Z2gLRcPoXUnR18oq\n",
              "BaXkd7H/W+W/dtds2m+TFXqN3xXKG13lOFxlSqFqDtjP+4WNQPloU3GDJ6kf4E98evVMXvmS4eBD\n",
              "kvq/0ImRxoBMCjn92g7VLSefvgFdGxAuOMpjjKpSXqk0rKqTkpxjbID0ahBIHFBX4SnTZLC8bsYO\n",
              "X9X+pmdKb4y2mZ6bI4JUgBPJVqenSIICqiJwVocXxBwbFqP4zVVyQYdl6CaGHBtyAoLsJ+lf/2QQ\n",
              "IB2VmQnghq9mnmd8DC9q4oGjZhkdCGmHN2l87pItlepxeYJ2hcfdjTLpTp1oypbAGVAAAADYAZ9P\n",
              "dEK/AAVBM7XQiTKLZ5y0EM+aoCVLNSWam7lv8q23Dfx9/FkCZDWWy/s9Y3u4STVxqgA58VDZBOpj\n",
              "JGq25ASCcqR+bmUqi9VXi3GPtoa/E+LGx8Q5Xj5Ty73Sn/Q5xfCeKi4lFufpWoTB5hW/AGrB+fSD\n",
              "ioLPBz7lPNPAVqLUUh0zuazAEeIaYr6aFmaaFknZfbh4Mz0XnYiMNV/asxVB9Au//5SgN3rMcBKu\n",
              "TEpkgdo17my8GVuBgpBt5V8lsSDcLmcsY/x5QMWNRLmayVrlVz4roArYAAABCQGfUWpCvwAFaOLU\n",
              "luxUtC54+kUy/wAIEs+otcDodjn8GSmUvlgAprEz55gRd8gE0Q81E42srYo95ZGQbr7gHwdDGeNg\n",
              "9vRJeQcE7t6W99XMOdMnPPCFfROJsLEZZIISvxkD6RGf1BrezMqgquHyIiQXGgzkD/EhwcW0BW1q\n",
              "UzUw1G61Ztf1NQYLzhywvaUqdrUHCpZcY0zMcOl6E9Jk/kqQbS+tbeG33vnxLH5K0WBOg5dWOPbd\n",
              "ldbhNuqjA9mEO+RHoWzmrvFHAeCEDG0ONa6ZjVEJJZLjOrsqyrO8r5eQYVfSRQBSNr8pp7QGqtB8\n",
              "TFpBtcc0XnKuNUVw3uylKQviBsWOfD6QAg8AAAFAQZtVSahBbJlMCHf//qmWAANRjhS1lsAl/rsh\n",
              "3E9sAExT1mh2JSzcb7FhB0RMELg+c/bJ3+bJA3V3xio5qfTZOQIpxuOuP295Bu3r4nSifZ7XfTzc\n",
              "nNikc6oVmiZvF3GVr5t594lVIJNPz+JY2M1WXReupLERgc01kH2SI0U87gREIxoUCSIaj2CoIadp\n",
              "ZLMRuyan3avPVttonFjtOlmDcdaQXfRf4/89ct/52XXP5PDeebvHOd1MKsN/XeLvQfaBFMd0HJOV\n",
              "3KAFWF4ge8CO9cvzsXlTyARm1N9GQ4btoUHvLr/vFXK7kjBKf21S6gjR/YDC18V+WYJ36FLzGAru\n",
              "spv5E7w/ENMILSvephN43uf+QCD4TRUIDwZB2Wq0YJZOaSiqbBSLVznu0zbiufbUC9xgeyRw/WAg\n",
              "Gb3iwi0AAgYAAAEBQZ9zRRUsK/8ABP0Kx+QePQyfB/AkfeTAHrSy5DLbwZLOpGCrOcgWtLQpbH2o\n",
              "BfmqkpuFyUSKV/hj3m8J4YfyaOWOybjq1uy9M+IjHqRPUViwfdAyJU6852ZpE6C3q0PFRbyx0ycO\n",
              "KYv7yuOZ8zhashK/GQPpEZ/UAX7K2nA1gMhiebkl5bym3tReyCSHxfs7J0oDkmWc3H7Z2gUTPdtq\n",
              "Tf0/eB/9uKBcO8RbThwojaZDFa22DDp1tiKdPI4kAUvadarXsEhIQw6dwcOHrVNc2UELSsTFGnlY\n",
              "0WgnE91ajA+MVlEq8X1nmV80JNJUCNLbUbKHg5/n7CTFJZdRmsgApoAAAADBAZ+UakK/AAT854B6\n",
              "YaF9k9cDxtkVDjcZtgPL3cFnU590zTXEMb3Vrj3pkF6PeGWhBrF1yac89tBOADPmMNyz6G0D3usg\n",
              "BT0j/6VvHSgn20TVsjkc0uSkFLKH49+z5tw6Xe0AZNiMInH2fAgWf8ZIrv7Q/UYpPnfhbnPTPT+I\n",
              "HXUhA5XAxPbAlPGOBKPHw85wJYLqtcho3kXlJRIZEVrNAIdons0de/CztWAdVQ/fam10yWA/JhWj\n",
              "f9hwBpypnOgF3QAAAahBm5dJqEFsmUwUTDv//qmWAANV7Zxx0lx1dpyqVPZxs8ARWUZuDo1lSWoc\n",
              "e/06GcQe1cJzkmqpNCf70mAkuUC/+PpRQCY/VXs1vkD3mDvLF4nOXZii7JLVNlH29GA71mfy6Is6\n",
              "VJj11BR3CXdnrn8sfoyqF4tKew2ZS3pneBxxf7dUEqtBV6q2aMKlv0bNt6ILz0elx+cEENN5+zjg\n",
              "Jv4TfrlqJh9wmV0lVyL+KINyf7JCNIMESMK+CDv6CvNza3S3LESVvBlSx3j1odehVhY52NnqxCcl\n",
              "vL7V0/wQAEr1+mLgmS+q3nTvqBiSoSXy/5+bPhPVlW5ntws1AJVbxPCyl/eNFJrdbhP3aZn7zLSu\n",
              "dM1iAAC6RdbSrdBcoCPW7MH0IAcLQwgsOFfLZUPzqTsBJ7NOz9cEYuViZ759C9BHe/mTsRaCgHP2\n",
              "GW59oAPMwaH8OMfSdcXfHZDqCTHPKWP5nwG1bWLd5PRviYThRoAzQMKLvYkZBnb1W2APguf3muQM\n",
              "A46HCmA8E8RVxF2ewSu+5kDjDX0KQjsFrpvT20ExGBeRzw1b6I+NAAAAfgGftmpCvwAFQa2LwV/T\n",
              "zvRYrptmDh7qNpUrvJPQLMC0xdPxsaylYEFNUlTygOYYzDlJLX4mY8MLi+b6ffAsvJzqdABBD73x\n",
              "211ouC4/yiKu9fjZO4ANoEOBRZebLI0XGtznQyrSuBGi4yBqNG8JLfEluAkboUY5GzJ9SuABqQAA\n",
              "AWNBm7tJ4QpSZTAh3/6plgADUXOpykjJtvvBtpmG0pfIFfErDZjuICwY+cY/mBaxWO5/sl7X2UsN\n",
              "1A0pcl52PSXoBp85xDsuhNvnZ584dkv8dHta8xQcYnvfVhlYq+ffKOF/i4ulVRavGpXCazq4h8VQ\n",
              "XUYsvxWv8kYAslVQFhJjeznjN573X9/5t9vR6ksXIEOV/qxn5e/nJxQDajHE3+biNd7gZCDDpRIr\n",
              "kgq+hQv8oAT9Y++cz6DXpn7PKQEvZFdZUBFOVMoVce0B5+t4D/MgK4pbREl5kGylAS4LNAC1PTaP\n",
              "WOg4sE/ryM39gAMDP/CjTGQh27rHlXaBmB2iUIy9mE2yzTctV6vkMtXW5mC9ktkujrri7EQUOkvN\n",
              "Oa/d7GQgNfij2adtbOUUMQo0AeRYIpgTM8r+By2XCKFDF9tFaZpA9IphSEcP/EYod7ixRpjU0R1T\n",
              "QSXhS+WVk9C7maBc6gIPAAAA90Gf2UU0TC//AAPOA8nryKlwyxB+BkBUGrGoAwz7B4nIbg7bRrCw\n",
              "eZ8wLROOH/ccnQxNb0lGsNpLAEwIoce6GzpxhomdH3UOReJRFq3cLVtAHuSsT8AEXETD061xMoJt\n",
              "7fl/efIgOybdch9LQLxcmUeBSgdTxpSsVsZWt3JrFyDNWhGHzvGfU4FhOt1a5/LY94JeTtghB1zd\n",
              "DGefvdiDtT5jeAtLt21VRUirLMqYubomB/VWOByW+A9YYKvSHSAHwao9R5ehiqKDVB68HtpGr0zK\n",
              "wGjdQuU1440rdcfBw3r6FkvaP4QH10EIwUayi4H6oo2h2SuAMWAAAACjAZ/4dEK/AAVDJJhuE6Hz\n",
              "KH2K3mNOwzUnXbJJYPBCXjh6LmzBOYz+c4+Trk6d8xSyYtdBBerq7CspxF6CixFuRqrW22cXwK+b\n",
              "3tA23ac8zdvl8pbG61DzfFbOnxfadLq/sHNyIn7wkx5itw23Mq/EHHKAM3f5vSleyQU1uvkyuFhP\n",
              "JzCcXztmgoTQpv19x1Bs8h+ds+YuLaObNC+83A6EaSArYQAAAQwBn/pqQr8AAdtlNNmR1tUX3YNF\n",
              "B2cixz3wZ7Ir8h4/pGLSXDGNdC+31jpfQYIFecbbMlKVs74E1SNfQAAdgo9L2GB9KvBPyXmlbT1R\n",
              "B+WLHacUTdDVIrhgM9v/8NOsVEkBQEm3U9QMmhXBIUBqK/GbmNTAGw4nqLaD69wZkN9e9DGot7/I\n",
              "RS5NaKbsv3jZ8/kN61QG6zCmHUDunNY2+KO7Op0f1ry9ZydU8AxFl6rq2RDDG7S+9sKrUH4ZbelD\n",
              "8RHhmzLcKru1YGiXk5Zq6/kt36M5A2BDV4EvtzjDTzmZEXqisOg+erKTSar0B9Uee7TmPXEm5b5K\n",
              "xiDFBKeEBhaeFSxbViW7NExzzAbMAAAA8UGb/0moQWiZTAh3//6plgAAcddArmXgK2bqwHvL08Wi\n",
              "vP/lfgGI+qjfkRc8whvHJ0x9vrcPCHP9qukDV/wXVVXVKqNkfl/JFsSqbg94n9OwI30PuUzYSP4B\n",
              "01p8ZmxOJKZB08YKQ2rqKq9ce3PfnV18zjK+tKKLSvl8MkgnlubVICC3SIFFTrBUWZZ7AvWWvaEd\n",
              "ovoCdIT0E7ZNe0K+KS4mNJlcQN7WWrmepKB3g63kBX8px5pbEQo0jTRZ8XZm8oY4K5q9qVMLnFtz\n",
              "QApcp5eqAk1DI2ANR5KQ5VYGxsK8ofkfNYDH77tLEUALkluQBy0AAADzQZ4dRREsL/8AA+Pr24M1\n",
              "47ILRPZWd4EY5XLnFS7XOCtc4CQSvhtotSBCzUdG+GJOiuhA0WkMkb+Se5DiMFPb8NVe6++qNrrb\n",
              "NDG3i5nc99QDGp8GsXeoqtBrLaiiTyAMmxgn0CPkGcRTNzLur1ZjqdZt1suBCPWX1LuOR5c4zY05\n",
              "hy8bT9B7/55hV+Pmbs+i4MUIC9C7luqtUiyXUMpqJPK/G1NGTt1qheuuvJqlMuTold41PDgOt1qt\n",
              "5lg3b3d+EZBx1XfYQ7aqnMoh88d+lGi2L7nKit9YQ6GzZO3qO6IQjReC6LldOq6pKfzi9YlhYD0h\n",
              "AAAA/QGePHRCvwAFaOLUqdeFimkl3mRmWQOZ3ElWew7nkwAQQxu6akpdNDMexqJgZZr1eqy4wfTK\n",
              "H+TuWsnIceq295xJN6KcJMcD5AToPEj7izBgMKaM15SW1UzSoxJBP2vRzVIN+ghPyABYfNTMBo5F\n",
              "dcH8qSH0F3jTRyZVQlG8hsUVH/ziDxH5+UV69R1lr+a0N/viy/PlKHcfOS04MncaFIlDVtYluHzd\n",
              "IGoj5J9Onnchfg047YhTGqOfci/JbCd3tFnhAVlrVz8/e6FYvMzxy1FfRoOH3qCrfBica04Mop9K\n",
              "xKvJz+O2bz6HYKFA3K2GHQ4vXBDgtq9Y79gADKgAAACkAZ4+akK/AAT852XDSbnHDazFSso0rPCy\n",
              "NCEQNRwAbwVjxUPONC3/TpSNH0YDELCwVmwIgUP05rKdEAPzhMV6OOavmhPDZOd0OwttAsmS36p5\n",
              "KvSaTYxHHPTEGjk7GjEQeR6YRGjQdL6nSj/QW+40ZV2bmb1raY8aEx5+NOF3EToRMCamt+GSt2Wc\n",
              "MkFqk9xPwe0mIhQWaGnt7MogB+EoPBdYBzQAAAEwQZojSahBbJlMCHf//qmWAAM9c6x5VQYAFNux\n",
              "TauePxU3mqPpMRUchnDhZYDzt657N6Z150zSiwgd5qZr0b0xeUXs+yt91uyIVp3hJZitOntXuaZ5\n",
              "z3+fy5FSKu0RNp+VqCxITpfaUtLijkJc4ERYZlWk3IFYBzI5FRJaFB+qps21S6potwMuFUPat7GH\n",
              "ZhN9Rn66Tq1sQGvXubDdowV6DS8oLE1xHhFVM42j4mUikmoyQMcwQXoAR/JxFgItGoiRfoKjHtnS\n",
              "g2KpfPW6CDeFwhhVAHzbdyTCyzSbtnKdcC/v5TmLoNcsvlF/cxH8snXjcpK6IeJFc+b1T9IOTXtX\n",
              "7U+u2as6twW6IfXOuJYlqYexUkZ7QGq5r6KmkKUGTISs0aRHk0FGRVSFFwiBOneZUQAAANRBnkFF\n",
              "FSwv/wADzgQK26fvMVXPyS5b4pKNUFKvPqZnS1Q2OP5n8QY1mHZpoU1gPCFYxv5PmErUjbHIzpL2\n",
              "hf6WfDHsX01n8Gp9ygMpgy+3xQcT7ROoxSk26QQn75qx43GM/eddsxLSG+sKY6bkgI+W6gH5Q0vI\n",
              "w16SEpXT4Z2D03DaVpi7mp/XxPyAuBonEN6y4+Y1JDdlirdrefNCactKTdq6YOg87kfUnazEjnzD\n",
              "h6NYVPc6xerezfTr1I+cgthrT7U2qm8t1ASBOkpd+q/yBoDPgAAAAM8BnmB0Qr8ABUUJBHBBmZ/n\n",
              "gOIx5xxMeW42b+5DRpV9hFj/6DuNS4BBnfr/tysDQxzfF0hlSWKFDtFTPv4b7Yg4cRFLZN0KuzVV\n",
              "ZwLt4EKyAf7HY9nWoC4edDpxK85dEMUaACEWgUvxm13ta6RBlEn6IBAx9AuKsVAyUdHIoGUSDXXm\n",
              "o0021BXP+BDyJdv9ePQnjkMUBIWdya7l+mlJwQpcbj8CgksZBMmbWYwm9GPXn19jpk/sjD9fQLf/\n",
              "Tp8RXX0LGvPg6Mu8M/+ZBeSAwIEAAAC/AZ5iakK/AAVo56fGrT4BtD8myB9XNPzJ+O4AQF+/kyZh\n",
              "9YjG9ySq/B1U0NDmX6RNWitTyuyg71y0cs/zN3241OkJCGrhQa6upSbS7tooOQEi7rv3W4n6ITZo\n",
              "XhRGri8SkKMXUUpbeLOPdSBmtnNqy82YTB14qcuxRjA2upSuUfeVtohRWjTr1FarI9M7loKepckE\n",
              "7DAyuAkiayrA+oElFy0ueit3lStAN0bWNKebGBKuQorKshq980O0Gn1AAk4AAAG7QZpnSahBbJlM\n",
              "CHf//qmWAANV7ZeNtKfjwL1kUWux4AY1e6JelT9fiYMLLf8OQQvEu/qRLcei4nVNGqi+2cAcBL12\n",
              "YF/SIz/VSkGlo1TsW60JD3XN6L/6+Wda+3ijR0kBDEO5tOWHyDMj3LREVmPa+/aRz5Ah+WaPyxAr\n",
              "BzPrl1RCK4B15oVnR3rH/4ctj0+RaN7EjPPFjAN3R5vQU9D8f/agtdtmMEkz+3m9FKDuWpcz5S4c\n",
              "0SaZwIaiRL5ZSDwPhEbCfBrWdRW0wHBRmTEa7UiImO0N/6LTwo2+wSR7Bwz6+xuY3CTqpaKBLgTm\n",
              "LdQHSJqHjOs5R+s2CDELKdz2x32u+8N9VMeUJjuFU3LjgQrTu1ZEgqeEzy66jdD0hlgU0gD2zHem\n",
              "E6bBVp+Qotn1drbMU4milCCoH7vF7PgdjAmHIiTZF4cIaii1iLqSoCvIwRCZLWHMnZygAnqLX74G\n",
              "4DrOOnEOKJp32PQYFJkmHgHkioTJELb6vsuIcBt29oXAJzORSnlQ8jYFNLtz8ebMXyUmAspNoa3P\n",
              "ieZfWSrE588VY3Diwhw6+wZnmUbQoTGr5TiY8mLlelBAKmEAAADpQZ6FRRUsL/8AA+Pn1KanvWDC\n",
              "hSWUTEJRqgA/dsMQuafFs1NPC866tRiBZCeP/tFzOFxLtJNWvqoccchrJaV4IVovBrKs6KgKiUGJ\n",
              "Vus+88kgECgzRFcipQ+CNyXjh3Qjdh3MH0Xjrx+qTobrbb8NUk44yZ+bUVQKNUWQQVybo4nP0S/9\n",
              "7J/ld0lpdrD+YTtawSY/5yrMP1WHmBnWcdW4wFiA1l/AL7Q8OjFSy05S8hvxu8iKtRBdm2mh3Jhn\n",
              "UzP2Ix9wmKL+Qk+gvbI76rGf+vwShQgpAwQjoL1QeFzr2u/f/4NkmrDoBJ0AAADwAZ6kdEK/AAVo\n",
              "56fGrT14WJu+cF803ZUVeyGh97CSlfT26cWZaM3qivdfiB+yC3zACHGtJvyxrtE601q/VLw3DQYp\n",
              "7tHtu+tZyHLb7NeX08QRHO5ARuKo6hrGfelwJq6uLa3gLPXH//DYFq+YtlO2o0o74EkicSiDBsg9\n",
              "hTFoQhxCTdlb/fEH+WUXHz8xHnNV46E4egp+SFb8K+fSJpIn9z+pGFZMPEDb3HSKGBfrk8TCEvCV\n",
              "ifIgFZjtaPhOii3mrcCX2vPmRDDrA58f+jI85F/vreGNopOHE4/juJrDKvs1Lky5ZiWACJ6B+C5M\n",
              "AAKTAAABFgGepmpCvwAFRQkEa06Rui25W12JkFoddncathTBm5JmiELrt+laUWIOzFnr69REAJ7H\n",
              "S1YJ+3zbytP2/+SEXe0SNNJ9HQRd/YcJtkOaBHXfr5J+A4aOZuCGsS8A7T3E2ypwNJohgu2Sf2Pn\n",
              "S9OGSsQ6Lb0PQoICqKdoqlblTrYvD7u7q2Fpxt0SvAs2TgA10WaEnDOx788wuxZEvu8dtv3m5rE7\n",
              "pB0D2O4Lpg4/D8yRrCMySzyTOwCurZi+esmJKz6kSGNrxpdkYJiF2EnfRLD/rvROabg6Rf78j7Kh\n",
              "a/Cja18yLJWDiJu8Ew1a9JXBqEobamtssFqpWCpuihamL+Y9G3zz0Lnw2PRa95MuRURinp8rgDFh\n",
              "AAABi0Gaq0moQWyZTAh3//6plgADUY5K94vbTD8rMgA3BQeRpD8ivV6ZPGOxwpE2B2uCcZv/DPCM\n",
              "cS7J/sx9/i6T33euD/JFXRFU17m6fdOeKBc5fCcjnA6rhyOXRz0KZ4MrgBoK3sfF4PfYyMp2FiLZ\n",
              "8wCS31YWACB5/H/ObRY6TCJIdV+DZ+9ervtP93tLcrshbunIXwOBPUwEonXDUd3dfb9VKOTFpFm7\n",
              "jAX/AiH79KjLBXgpXHuhDQPj9ALEimL0thLrcRwM/uclGbp4cyk4BK1JqFqLG3rPF//BY9loP93M\n",
              "xzLELnNVcSNVxMKJ1nWlZg2z2r1XgqQeQdAtJRvM7oqRepICtIJGRAEgjXkvYAGGNORv0RH+TRlz\n",
              "QL31pgTEHh2Z2R1iUhETDXFJJAQ8INpBCOuwvnhkm4WuvCnk7ognYe+88TPUeRrFET/aXd48iHiS\n",
              "aVZG4K09bUQqu5zhDO3c/ET4yJ3D5L2W+ZfVW0rCcl9H+HS5SoppvTV+Uyqwdaj19Q2Qn69CgMWA\n",
              "AAAA9kGeyUUVLC//AAPOA8R7Nu4HiJDl+RQlev9NFsFGyD6Ko+q1VurN6Jzj42239rW/zRMCSxwy\n",
              "w8bPS0NN1cwSEoLpnk/cPV+GwOV0iaau1EekEYY3zisv90rUTf4lGLyJErJ+/f++WmpPAlkknm8V\n",
              "atc12tFNh6iHPimAkqxorxmy4jFOFlA3zDJfCPcPlw2xIZ34hmU8/ZyhTpDN63i++eYjvudImxfy\n",
              "RzE/E4RmXs4YgJdbxP4CgigbfRphYx0v1j7gD3zk/ittEQJ8DgaGUJTPQpNI7ZDOG681EFEqdeOY\n",
              "82y6m9ydBkEVBNTHmb8M3q2tzyCTgAAAARkBnuh0Qr8AAfDfVrlwltCjq02y6K9E5p2LYtDdjyuE\n",
              "HV+ThIoM8AkIOM+aMHjfanhVwNle9AA/EYb3CavthIU7LV3tli4vtiCPy7pzSsPGY1r9j0BcrA2Z\n",
              "lhMhC/s7pXgFp5W+m4maAsxAkSDmAAI5tg1U1gY2yXnc8+IXWPqSeGlCM58dqkd1vogCptHDgGmM\n",
              "al0Crt880O/shBcy5r+3OHOYHuMvEGVw2HjAzKEzAEBvV+1e+eb5iAUnHU0P/mEbSFjqTuTuUaTO\n",
              "0rTxo4C/3VX2QkiFT975WooiA66WU3MvxDflG7BnF79pbzhS+TO/OWAzDX6cRdHS6GGgEyy2M0Vw\n",
              "Xxxrc/g6e1B4NdlIWH83LzwnbNgDUwAAAK4BnupqQr8ABPzi0kyi59tWGtrMVJTJlfw5d5ijD9BV\n",
              "pfQRzllfN4CIcQbUxFtcNIT3GyW9+sdZLRFDHJXC9u4sQiGZAuSnEAHAKzzhRvBU3gmnbYymKEpw\n",
              "hLC02GUupxbFyA2a4iZ79/9MfkHF/sTnuaPH93KANfIsZTIqtLu/pTPDtTTJKDj1bguodQwykX9n\n",
              "q5klJhbJxQftrkkauQP2UlUW9/Rw+LVZ+naAtoAAAAFgQZrvSahBbJlMCHf//qmWAAAqiw1tKeI9\n",
              "i1sxDASdA73tpfUC5DuAba0geuTY4tBWHr59qLDo15CmAsFLca+DrjYV4BqjeUlyLRqCMrULcTUN\n",
              "6o0OgG/gOReSxMAntsRUbT138iX+1izvnazydEG8rDR0sxl6mIvTEMuj2pCYXWAa4NRqpUnhI1nv\n",
              "ST4YaiHAp/fgfmE6PvylL8DkGIoqncTYmcRdPbv/8i/Mn4FjQA7TyBnTBZEaW9qFTm0jZOmx2lFN\n",
              "vBMsqghlc46x2pX+lTwran9uzQDSShpESRt+QMYz8o5tbMM13CeYeU330Zp/08KXFLeNuxPCE3p0\n",
              "KAhS7aFKpe6kT9CxsXQpQKYls0rEb6lBo709MlQE6tKxolUZb/1YTDlvVYSUXvMR0XHHQZjfT+nV\n",
              "bcC9WDUfuEWf9vSoTAqx+pdeiFPiXBD15IrsIwpM031wn3jqbagOgHQCggAAAOhBnw1FFSwv/wAD\n",
              "4+vbgzXjsgtE9lZ3gRjmChbzX2AbfE+a9+vTqIMZIEXnaJ/xVAHRyQJPqrrXyePlVqVeLp+v2/e7\n",
              "SPpFBNKU13aat7sj6dUhjUZcJ1fIL1uaHNXF+KUhRQA/t2xYdSkHnZAsYkJATmJSxyXipWAJ1Z3o\n",
              "6vb+i04eD5TeGW1cE9Egvrla1Mtv7BO4CgcqYAI9DZpHoKMRdGPScO9iN7VF7crYpw/WddsUSY7F\n",
              "cu/havJPtSAvCRYrzeMTH92AEIzXM6D5FzjLpCORhR516QhZQU69ljoGNhkHYuB9AG9BAAAAyQGf\n",
              "LHRCvwAFaOLUqdeFimg+zHsRyiDvbtsHg3TSRirADSew30RRNrqZ5bwMSSmzKxwZEtX+mnUDG4k7\n",
              "f5C4nUChdVPd8Rvkecet22m9KTUPdGAZ3wS7GmCFxk6ZZ/r5F4BqgaK3nUZBh+1mPm6Q3Cy2GTD8\n",
              "2qyZ2CExqj5G/MaS1L2bPQbvTw8pye//g7txcqi6Wp0N/8+2QUKc8LT7YOq0XfiINVIOEn73PfI2\n",
              "A2keq2tW0EXK19Qgsuoz4jpj3IHNCxX4d6oE3QAAAZYBny5qQr8ABWji1KnXhYppJd6JofPiE3qH\n",
              "sHy7iSs7mpAAQJY9HqSe+g04Jfa3i8wiWeq3n+SAd03AMFyRw6IDtJWpW63avU4Fr+SNYlv2BPY/\n",
              "zLjUEeDG46TzbeOuoRwaXdKg1kOeEH/vlmibj1JkpDoLj3/mNFdhclLilUPugBaIA5W6ba8wK6vR\n",
              "pPBMSC1XLbsqcrBxwJMMg/gMgutCc0jUfuAa67nqSz9t9aQtd1N+O8IFuZdYLY0O9CDOF/LiqbSL\n",
              "gFGKK2EwZU1Bhjat7q+D+iWcCthly5PmcIpjk7HNZie7+gvUAnMkBQ5GUEkNo4eaLT6AZTVcf82d\n",
              "ejS2wgDyQ4oEn+l0SQcDQaRJ9KG5e07YQ5bzS6w1bcOpyvvc63VtYAXf+PnlxTJwa7gDx3rb1xvJ\n",
              "Zg8nPM+xJrF4wQAMjbNrSfD0Ozrz37M9eoZvAximsfn/wdysXpkI8qDZ3bL98AXBYLElXJl83+eI\n",
              "4Qlti5HOyozELmn5QapNiF16Xx0bMyYq5Uv2lPY9NDkf4gHvXAz5AAABU0GbM0moQWyZTAh3//6p\n",
              "lgADVe2gXwVEf/Fdv3Y1oANAGX+gQhTbk9Wgfg5wcFouXNpst+XDMDXFSTv1/XSs/fBYrT70fipO\n",
              "/wHZrUy0o0k+d/7QovtMUrWSWhBa68WqxKocG9JpV29a1wEoL15lF9AaagQ4siuMzbTT2Mktsgtv\n",
              "lsxZL4l9oPnK4E478kjINvIqNZ5cXmlNqCvijUkZ2Ee4XiynFEzMl7zuEOOpwkdygA9ZWGWlLyYV\n",
              "ZwxDT6vT7x5G2VrOfqMkO8DJw3R7YfendX8ZiP7XeWcqQSnAPB7Ml/ne5hxTHR8YdBzrUV7WQRtm\n",
              "Xkhxn3CBcqKYJZ+NgpMfyDCZ+/4EqmPS+2IoNilwoEARjOAJ8Rw8OenrTGfkkx6oucgXmbXPikSJ\n",
              "5JUnWjAkIe6AF2sPkk3QtLMF5qnkJfNJmQG7iSOvjXTHRnhDWeAz4AAAAPhBn1FFFSwv/wADoeu2\n",
              "/xny383z1EgjyAy4QQyyDLa/vMxo4ASg7QLkj0o5of5KRVmvkIfCoFLNY6wMwQv/Hs8CfRfPleYV\n",
              "RFdqcu7aKGUtUmt9NprPncGqhiJOF08XYfvbO+XbqZMLlvMCMWms5YQxt+8/kXqaKCTyy9PV1s/+\n",
              "E79g8QGnHeDjkCHFFVh1+8PiXY/AyCLE8QRXbNcfLiXzu10fw+tOgKyn3GFwIemU0n6F6r11sRBh\n",
              "WJx0kjCUe79bPFEb+BcM2Y8voUKbgRwl4mchGze2vAZWyZ+xeZGTlHEoA52tGzr4bdzD+GmimhL8\n",
              "fGpuPmhbQAAAAREBn3B0Qr8ABPzngIZ/QvcL29QgQAX1LdGpf5klF2BCtxYajKIKhY7zlWFNbkHG\n",
              "kiB8Eoz+/PXQivDX6aEQ/V9ppdE5l69vEgNEeZlTmoH3/MB6IvkBidpYOtG1/fGgW0LEt+SDGTso\n",
              "rb5eTm2C6yGqKkNT3DbFOo4qFKWb+nP4trdqWs//+GvfefWzFvG8o73fvU/egU/Yt9Zp2oWVMPyL\n",
              "WDUYkqcPEDb0i4Mhu1ohGQKYfHdZOsDzUB8zkpCmskRQnnsAVaKlgaE0DikoBB6qNPB8+P8ctiTD\n",
              "7ZLnq/2cSanFq2m4IHWoLofiQBvCwotJwPk3KRd9SDPYOzdYnAciJ7RWbFnVb+2f7ZBjmF0AwIEA\n",
              "AAE3AZ9yakK/AAT854CGf0L3C+xQtaOMpPJpAA7Ogu7k3pPf7jmAV7Uj8GhV8J1FofyOioTaDok6\n",
              "rbILmuGpcT5L8ivopd0jIIR0YdJZ8z2MccyITSGR54ig2ZesyC/OCY/MliLIW3V2GNuqCo6NY/8U\n",
              "2Qi4bqKpglzOgtZYnoN7gvq/e7hWMhR6kEJ6kCHiZp50gF9JyzrkZYK0AN8Nkt5f4ETde116O5ey\n",
              "Wv85OrniVxBRD65aOFWa1gvLBYPg3GcLTPWU9C1mDS9vJ1BBY2WwZH4YBeLJSDOOb+YBW3/Jmpg2\n",
              "qhSXbVtmCvP+oULy6kLVxsUtCBJ9u90P0vYTE+do37f7tet4f/ayBcaLTxIiXHXZOkYz4wIcz+mQ\n",
              "B7JA9ens1bd/P7iXBaamKawKVFgUnnk6W+0AZUAAAAFoQZt2SahBbJlMCHf//qmWAAM9jkbGoQ5Z\n",
              "+5NrBEVP6h1Mj9EX3oIDqr8cdi2vYgKOdNSsSKin3wULKPN0A/qpTYgBpt3teir2Ta6cFYfE1OlU\n",
              "A7npItIoFceVE9KFI9sz4AyxKZrpv+EMlfmrtu9YaLhY+/60vp4Qt/AS/OLl0TLbrl22lv3nDzvz\n",
              "6mlhKFO4ZQPOGYbSvpHjvpJHeMB/4IPlvU3n/DH571KxwoWT4g7neBrxkJ/cvvypyjDkfzkc+/Nk\n",
              "fIUf0PC1tyZbIyq9cI0dqaSr1JonJpqlMjQJoyZp8yRH1CTtwYJkzQeNkuUBm+bCI5r192lYAw2k\n",
              "si+xs7xlyOP7EYaVSK0cokG0wwiy/tkbbFvHTtck7XdeOjMtngi8jCJ6FhdUqpCUYo/pcKnQSeGH\n",
              "MiEoNcOziRY5b60v/2dHTkoQiLl4tnDA3KmSHHB8SR0GevJ1CV3MStzx52bBd88yUgD/AAAA00Gf\n",
              "lEUVLCv/AAT854CGf0L7J64HjbXYA9Yaga4hqgAnELFj4CEJOCw2fv3/C7hQbTo62XayPi/5cR4O\n",
              "ZL9/IHXz6mFwH0rg/DVXBbg8V7m9AEznMcp0Z+uCW2NQgwD9fUHA7ecnmamxE9ipK78bWnthRKwJ\n",
              "fFfi1Tsxs4k/RF+FBPe6TgPyfzbQwhQmb8V+QOUnPpbvu13bnaEGGd8YUzNzbkCTz5OiXqatbajC\n",
              "l/YkXudqg4MK5Yv6ZOgoU72OmAyMVt25GRSgJsDsyVPHA+MLY7sAAADKAZ+1akK/AAT852XDSbyV\n",
              "+gFS1fZndCt9uEsnnJDcoSrrGlI90N8s3zb254L1OESuY5OpgADnyMMfRRN4YPDgRXO36gPk+Gt9\n",
              "o4bLDWO6j+r6TMypWr7hzvmVwuYQNip9H1T+MqDzy9YkSHCpbnDWURhKHyz5fYfc7IreTy8Q75y9\n",
              "kB1MmuVXlNLfqB/GMrAz6yUFRlGBQvEYlN9jO2zmdwhUjBPrJ22rdvX5hzZA6eShwdbGnKaLSmrF\n",
              "gi2CbDrlhH3BvfhiKAA1IAAAATFBm7pJqEFsmUwId//+qZYAA0Htod2xxUadeIRhCfJCCkhH4/SA\n",
              "Dq5JVkfDuPndnEh8hCUhJj6LghabwZzYluOrQ5pCBijL2ejNshvqCw/KJXA2tNwMvpIRDgEc+010\n",
              "hJqV4JUGJCTKIwF6qcapOLnrtbF0jyMKDcfgaojTPBZWrcf9GUbEoa7N2aH/JTfGaw8hbOdXeROH\n",
              "y2E343oEppEGjADnXMY2ka9n0Hsw0TxHWoX7OfL3VqBOM81K9JT4igp0VVj86EkJl79TUo9x5S78\n",
              "6SnQvj/36+8VK5QtLs5MjqUd11v/v7Gv3TXTxAtCI7XB34owY6KCZ+X/m1QZzBcKshuMeCF8A/w/\n",
              "RkLQjA8wGGxFi3VKYtZhNZwlXU8R1oqPNRBYDoZUH+yr4/qJnRAFtQAAAMVBn9hFFSwv/wADogRF\n",
              "kdzR8v3/D0+2KyA1ufl7Fy/0ZdutyS9B8i5S59d1jOblHjKdRH0FJbBLGarZ0AW93BOQ0DK2BC1v\n",
              "CWZBWF2dgdboRAd6I6a/76/sBlWbepuFjbJWtRmEihfQkl++gjpCaUjBXlbyBPYXZ5ffIuFLBB9b\n",
              "F+Dc3q8rgB14I98L/nQhAuUyJ//xmQfQsJ8JVdwMDYl2fco5ZDRs006UMmlw0imXalHHH7Hx7NxH\n",
              "uRqrL7C0HGMPsICDgQAAANEBn/d0Qr8ABUUJBGtOkbot1O3cCQ4tLako1eEtWLRd1ieyVWMGip2o\n",
              "PPeZO13exsAzVN1Oqgw4epE6Kp28SucWWR7xmEQfcvYnHpYRzHG1rTaG//J18y7Xb3Let3I6pQpd\n",
              "W84pcaKYuX7ntBRLeUGf3NIhuz8jxP42sGhwRDbOZpp/JZVO1UJCONbBjJBBWAhRPsJzJd7TBxJ6\n",
              "GRDVHdEGghZ+scIN0ucvi6h974ltJXsSWGBey5sLPGCzq0j+5rS4RGfRREu+OGQwIuZJzkANSAAA\n",
              "AXEBn/lqQr8ABPzi0kyi9QGv1dV8MZWIv2aNxKRvGR8/VzL16AAdmS1RV52I7UQcB0Skdfk9cyGf\n",
              "qqeDRioyJRlQwVggkZM9194wQaKzgSDRdJAQwSSSRceIOzia4GyyUJhYvWjDvIdT4jq6XKxt6WUQ\n",
              "1xmdO/KT0Q875MpRQj7pruYaSyThlIoUO2vVi7B0cr8ZTKLATV/0pKIWkE73F1hjYAJlP9CmChn8\n",
              "KhabbK2D6ux/7lFmJUJLCS9hTK5+8kGlejQ02gsrWW1awf5lmIVEg/nmiDXPYU+AaZe6EJ6YEqOj\n",
              "aJKE7h6on50WoFqmr9SP7zxSduxTxcFfsXAGbm+iM2mp63gzdEpJf3YmXQ9AytSYbneUsP/7yxRV\n",
              "OZitWJMTOb0kGnlo1pw9s39b/UCNCYwymc8RgK2g7v3lv6IxRc1LFPdl+oRaTG3PODRWnK+dgVcv\n",
              "ievkpCgPSCq2BcgxBZFk5JH7JJHGr3NhkrUkCbkAAADUQZv+SahBbJlMCHf//qmWAAM9jkraAWid\n",
              "Lsgno6FoFHUze5mww51KJ9a6I1F36g1OdrHt+F242uN+S+Rnc8BrAJt7xTCfQJ/mWNFGf4of4NKV\n",
              "b1fzQkVWtNBC4iQs/Ui0n/AhdKx6jxVusiFLHZieToeeZDQEpERM/827Jj47PTHr0tyTCZizOe+1\n",
              "5wnnnh98USbZ3mUlEV7qvwYsucFPxfVB12qj8seCgfpY2+7F6+/7/C3rZ3LNuCfplzzYqxRbvc8T\n",
              "QLHms1C+jkLtmdK35inI7IAAAADAQZ4cRRUsL/8AA+QDwlNjiOdOxEjSHPP/tczFI5DXycwTFHW/\n",
              "02ayt1r7ADjZ0rpAZyHg15EAxMwYrMM8Sq/DIpnN4nNbRidXlpWQXDNflK5MIa1uHpGxQtpuIz35\n",
              "12kgNzF+LaQjks8Jin45DqYUAkm6hKBeUzlGKwnQrPDrvw7Ox+Fc2v3njMKPmmv3s1ebgPnCskvP\n",
              "xyKWSgBZ8Xd7JR6Y6bkgI+W7mV7G//ohMfVpaBWqX/6kCKn21wLPANmBAAABKgGeO3RCvwAB8YXQ\n",
              "Zi+jyVEcsWM40kl1vs7wOgoJt3ABfKBMzp4PpFLXxzka6jkJwh4PRQ670XwGuIPN7jYJNZ9Dee+c\n",
              "FHreAAJ/I0YfsKV5kUFozGV1YWVXddEdt9KVEs+WZuuFP1z3Z5WAVxFEmPPduVzuWXGOP92wWvlU\n",
              "2ZvabpPUNuje42b7QIXBvoND4r2/o/B2+OpZ4KNnnahl1AlEmoc5ENm5shFVwd8ffWsG3GP3sVGb\n",
              "CbW6LrRihl4ZZ3ZnwkghhzR5JGz5VcZn1AqBko6ORQMokGuvNSyuy4YNn4Po87Y6dqZ+RtJ+g3Yj\n",
              "nPiHmlNdn5O9XROLb14w/FnsfYfrY9jE9Fzgj7NwXzReigakxbfLoX9je1Yjbay/LdxpIAK9SO2A\n",
              "NSEAAAEtAZ49akK/AAVo4sxtM+BHW9AmflbGF0XbL8O1I5WCl3QtWEeG0bNZoz4cHaxx7uA5K5FA\n",
              "ijEf7+wA1rMY4BAfuFXUlNbiOt9VmAlRknYprNJhpqyYgEW4tDzU5LFZrHzUi0rpmWt/b4zqcdUo\n",
              "AhiX4NRGeiHnhygR3/TAuXa9iazsaiFrUtzdFhlfFXUNnqdxeXSRDxs/yZxfbDlLrGPXtMmtd2XX\n",
              "mxkuRhm7o0yJRkqoAQhvn2NWTfShfUVJiiZkJ+y8I8nJkst0Vnivv+eQDNzt4T6h+wPprgvIx7Id\n",
              "MI62o7f7SbEjQALlWa+CGzr+NrBZ++8a3LhYbV4uOu7WSd9/PxfBibxp9E/yPl1NbkAjwvnDXTQy\n",
              "Y+eqlDgZywFh8jsNbX7twQQ2nsgKmAAAAO9BmiFJqEFsmUwId//+qZYAA0Htod2xxRVQ0I4UiWnt\n",
              "wIx9UMVo+qBrT8C7bkEUthQ/Dfl1IDcQPl4S0lMwPasbMP/6rHfqECfgDTRgVtrf2suW1afWFrEY\n",
              "QPz9cI5f4oFolFCJXIVcK58reuyHbBamdtrVuhQa2cxOElc5vno0AiYI4jsKhv70109gUQzjLqMh\n",
              "xVpdUT+poXMn1+uZ7jH9PqMIyDKt2ZAe2IAQYInkZxyPAJOmHdDkWGz3YJ21COMnCiGYnujqBapb\n",
              "NGBb1TNSAor7RWlkYz//6PYI+Xv7bD1DYASUGrXcYWy9/X4CDgAAAKZBnl9FFSwr/wAFROQQbL5Q\n",
              "ujEO9anjdts2RqWiqi+4T2Jnlth5vrzOgAHZw9cKzlbZjH+95T0oDEA6AtBtK7UV+8g+eDppGyQb\n",
              "71PPkJOiqqybcOuEAtbEopHBlOYP35DOmOl+/dhOxFzZ8c/pV4XiKdc2kvd2eOOhQflDea/LHZHo\n",
              "sKvf+088aRXvHbxFOpm55SDg+kXgOc1zqhJShoBMcSpsAJuBAAAAjgGeYGpCvwAB8QHa7lmhgu4O\n",
              "HdId+ZwbXgA2V/jWeSF6ezm3XmU2wjVniEMHkG+l2N1gF30R1SiLbR0l/pLt/tkKa0vxnB7qynJM\n",
              "ftiBCYKzIHwa7/W5OUioIy3HjW/ZJHt6U/vLojGUwjiZhVGFD+anpk5qgefwNRRD9xfc/VgroVO0\n",
              "RcO5wMFHmb6A1IAAAAFvQZplSahBbJlMCHf//qmWAAM9jkbI555QVV6yeigYV5I6JHz0WVhsaFWv\n",
              "QpdSX4+0wuMP6iT7KGcr/42T21Yh9bqPCH0yplgx8Cn4SIpDP/74B6dhgFpothGm6PccBfdWYqJs\n",
              "1a4J04rq9+MJ6jYrC9EF6sRQSoGERcgS5jJlKD3obXFTB40hKffhhxwTlf/DKAAUmmco1miCBntl\n",
              "t4kSQfNIKE4lMyOuQ4GOGAXFkK0rPFxLNW+S4nAEp6qCCa+jX0GmzN6OB622LI7CZk3Lexc+/+XB\n",
              "YyQmSXdXY0mJRsrypVunBcghw/EGNd3NQSvZBBi3BVlAMC1AKcc4uColLCEC5H4kffRiI0LIr3mQ\n",
              "2Z3TUCU7Kauw51w61qNFGIhG8VWdOQ9QDy5D66kcyiws2geWLRisdtcjjaLvk5OC7+5wGYnfNcpU\n",
              "MSrcvhRqCQk6j6b+uFAcInIKZkOMbwP3rsqdPvZBYx9RJ7054QAEfQAAAWBBnoNFFSwv/wAD5APC\n",
              "U2OI507ESNIUDi6Akx9QAIvQ6Mied0xJ2OqbZDUISSWHGrsypI57Ixz10vV5SULkDZRSkx9AOQvQ\n",
              "E7Y1PtT0XGw+fG7jmhf5ZIITvuOnOyKlG+h9ogiJneGhJtz1T2QIX2y1u0hAH2Pbxmt18IrkbSGP\n",
              "oT4vZd396aoG+NV1tcOSS2xvJaUeeb8J2h9nir+Nc7bka2nUfZNhIAVKUSk5YIXl0nbLM3oKImPw\n",
              "UTlCHSqZgiL0HS41P5ijY8yiFkYcVgehDzWEhZJzp7VGPuPK8KWSSHHpz0pR9Yt/Mii9RmtpkHD6\n",
              "7c2/B4MS8Uy4kotpSfNmNaZjvrsus1+nrhQgKvcfJyHbiL/ue+Uj6s75OjPffJRhZPurpW9Cy6T+\n",
              "LSGOjJcLLRUbU7pQygoQXw8jaWrHW7wiQemvuiPGzrB0Y8CtC9CW5BJu3GkP/FRHcEk7EAEHAAAB\n",
              "CAGeonRCvwAFaOLMbTPct3ybPST9LiaXRJ7ABuoaIDcPG5THZvgZsf1Koia9iIxLAVpQzHXWXXOD\n",
              "Lnr+309sNzRBZMwaa6xDWH0GuHMVd1Oznj+WBDuQt55ME3loo24NR8AW5z2B9fUeHFV45VsGLIFR\n",
              "KLp7NtBIMnavbOQ2zjPyxDCWJ8yIN16ACna+ts5HKwzB/HeAKpdD8baVZmLvoMby6QlByorsLToH\n",
              "6PZV/6x0yB8dioMWl0K/MTCsPICfXOPjjSJmi7ETpZOSRiNQ4F8dOY49M07bDPcDaU/xLuly/8VO\n",
              "voi7PV+y3O4DZ3AP1kclxxWbAvt5gJLtxRZiqirbELhY0XEJ2QAAAR4BnqRqQr8AAfGvHnOsX76H\n",
              "kPhyN/ouJdR0y4Hj9L3Lj+hQssAHNF0diHASz1/fH0T6PVfQ6ErRsJGxkw/RNG2GJ156ujvvBATE\n",
              "o6MnDDpj6rH6zr+ag0gQ/eAdf2RzY+BSz2lYTMwAjTKS94jmA3XEM++RLFJCpBe4fBjZM/Byz5eY\n",
              "nfQUw0rl0GbM6d6RZjoYjLvmaci1ZRG8e9YUtyh1L/UOYVzYZ37CflHOvkXoFrU1yvQxZ6fZTpSP\n",
              "wV5RWzY7c+blzmsycW1uzBd///B5vQdGpLwLplnMKYdACr7ib7/+9xPuyxwrOGsXEokoXRoOqLrN\n",
              "suoPDZAC1UNXLxoxPF0Yvg3JEY9+DyGRxQaIUN7KVWzfbcMXQieIAHTBAAACP0GaqEmoQWyZTAh3\n",
              "//6plgADUXNJcd781k8aLUSzDYT2UPTKF04eIti3CEeTp0uyu+QwQpGaipzsU2rnj8VN5qj6TEVH\n",
              "IZw4WWA87euezemL7SddgefJebmMZhGzPtqpnDeCJ7f31m7C2P8PTfTZv2sX72rpxAOc/jl3WdGb\n",
              "HAtbgo5ysdR2mOkKU9WaOzusc4uwGQSOGKgmzSCCtrIfCrPygN0Y/zs2qV5Ug6hB8naMV7IcE7PI\n",
              "zspwKvdFS3z4AhwKGDX/hzDuESSavdW+RbdV13HPcsBuFJAD9KaEpUOPDMXjzbMk2F++YEiqIn+w\n",
              "Er1WyzBF8b2aJKhAciFvEoqugqnE6iqBELSZfRuhy08gLmX+UqRW2KnIqbhrq4CSQ2y6FgTxpc1w\n",
              "B6paWQf7/D9GrJxX4/kjnzPX4zUc7nquUmiCYLx+NxmWnKNOJVlbsXMXOkfWmOHJRUowJi1PHPOy\n",
              "PoSe+JoIAPAC1Hr27Z/kD6mFXp0BLnDlQIJ/YD0u4xX/uNV8OraYboUjuHZVX08XvKtJpHOsrhR6\n",
              "Re4aIDHWa771/taQR7DSsI52P1psY7tUf2BFR4wHg4huEkcIuH4Ksm5hfHcnh8xC9Id8SOml2rM2\n",
              "C12sUzTNdyQP6YgNbbnlqwA4+W//oudZk0juWPvCCTObUOR01hE5VobUfxuwvTZtoxyrRzf6kDLW\n",
              "/CUUeFmvuc5h5Jj2ZMXNbDg6hQ2On4PglDqL7DPDQ5kVk2MhBRiItd8FgWAA/nb0cATdAAAAfUGe\n",
              "xkUVLCv/AAHxAloFhqNX2LOavIRi0a1rYwAV7V/Ve8LvoeIXC+ewKBl4xKSZVR5lS7KuyxCG1RP2\n",
              "shiQ8jXrnmnpwhOHdayCbbfTSilybpeSTqvephqm6gBR/Q6wYo4qJV/iaCvUZsPx5O12mFHTuDdn\n",
              "7vTYzFAsMBBxAAAAwAGe52pCvwAFaOQQUyeerPURiihbUbsV0Ip4pfXpHZyewt/xPKzebOEAGs6D\n",
              "bUBvP5Z9xHkYvYNH8Q2JK0DxquKkgzbXRBbOtG7hR0PpPIoJrgZuxqaoHU0em9DS8guRcR13O4CN\n",
              "ZFCcysz8AqhLIR9Hnb+3xBox2YxBQH3CkkhEcPskWSLfdJNZa4HtBwfKGdZEyO6r3NRPpvMy0P5o\n",
              "EEZiTkOSj1MvKgFotMMNg7Z/yCw2mA5iwEYg6NQq4xsBcQAAAQxBmuxJqEFsmUwId//+qZYAA1Xt\n",
              "wEmx332+NnEahuFc8Cna19ufNE68tX4u+wxpREuhwIB0XVn3pVRtlYPcXR4Rn5eFHUhaGecsn198\n",
              "ZtTpjCjNgVZGWi4qoDsYCnOlGGIqmyrWZC3kM/698YS9PV9IAugLFDH0YwbP6rRi2vepGHl8WF01\n",
              "BqL/S594MdHtjuPTOgk46c070z7+yCyGdf0idQyaihubLDtutuDSaIUk7BLxMTSVTVtcX3ttYISp\n",
              "09dRmW9ovLObMKjuJpjIxGMhHKMleakdjkt6Ss2ek3Xcj0Tiszw6m88hMzbKf4TyljYy4AwBY7kN\n",
              "L2hysH+Zz509o9GBuDy8Eix0QAl4AAAApkGfCkUVLC//AAOf8dPsXzCL5CPirT4XYvlmngmVQ7jl\n",
              "uNGdR3a+gYBG1jRaynP7VL3OzeTNFC+1NOACAhcQPnmlN6kSu7H8/SGExilTClX1Oqb44i+GYS1b\n",
              "5hi9fuM38m9lBXOKXfDpnTAGgKiRdmTb/6HNo+mCurD+sAOyVSMkMEwSq6AcBbXvTASFQ+ISmbY0\n",
              "LriMloUrKeWYSWAVd1H2QENgGVEAAADSAZ8pdEK/AAHsUbhp8WbALRxGgGN3xkAF6nqL/vKFF657\n",
              "Oi1smYwaNlCLfKl2qzGvVnoazNJyPK46fFwIwo8Kg9OCLpSOpDWY2kWijoXwJ+nD60QtgCsMe67/\n",
              "fBlRIdJebBHlZOqPk0sA8CLiXSFas83gk/2cLm45uu3O2EpTG7j51vAgMRZr3+wtd7FJJRdNzF6l\n",
              "ndu6Rb6PIqbfUtSCTX5sJULqHAauefK6PVb6d0FgKHoR6kxPpMJF80XwqfpcUwzCXtaG4qNVRvlu\n",
              "5QuypAd0AAAApQGfK2pCvwAFRQkEa06Rui25RGPOJnY/U/obHoRGoObkVqwtPLA5TdP3J8AqfUim\n",
              "9gNxNaeSyQoirteLrLdDuYAXIe7qD5S5yx6aRjaxZfUo4dg0BrCSXoXJMjDTu8G6T5BpLH39lW+N\n",
              "ceI5MBnFBPTQZFeI2RB4JNqjGvvQqM/DK6HDWjvSZ9ucGovmH+w8N2qvXMeDjjxDog+b9/ITPu+T\n",
              "bgAD5gAAAatBmzBJqEFsmUwIb//+p4QABpcBgA2pjRybsV7HZBKhA05gwiehVYL8NAc7B5VbfcVf\n",
              "ZR19KI0Aa1RJkqe/UumLO37CrhY+TMvm1ikX+alIqe/ytAxdkYQFg/UklzVGqFZZN1zgplLScSOf\n",
              "5oAqFEV6jVWWC//t9oorQr/RPMXmFXwVdbwyqVDeu3xGBOq5XgxzHNrBnz/Rb812An/7o3mcGNlg\n",
              "AAxOvFwwBiGRACevvqXsvPuDWS0iOusmNDfCLtL/eqf5DJGul39TFFtA+LeH7qiKTT0kBPjNLbzO\n",
              "VT+UNLyMZ3dgrtWmK6Tgh2WLlJePQ27BGCHWyKN3wF6o9PhnZ1ly4mcWKE5RPWJ18+NK6vFW3wLN\n",
              "BcSdS2PEA5DqwZ8yJ25pvyPKXHCsN07cXItTNnuz+06kHNgec6UTE6FgOX23m8Wzq+xFoVMd1QOc\n",
              "eAUpJm6CR/+OlfOdDXgAXtdMMlvBwSjU15++nCUnK9cphwVv/PRJUrQnWViOmGChlqinQ7QJmlC0\n",
              "iMUph9S//PzMthQCRAEOuG4ZhrhZshjSw+2idJefGIPxAHHBAAAA/kGfTkUVLC//AAPj59S3YqmQ\n",
              "C+YN50QYrwAQJkKK6ZHIwsnfR81id57w4XwUllyoV/22Ax+QDI/IliSLb/so4FzkPG+iN+Q4dvI9\n",
              "TYuWgTWzog+YcziKNRIU52/XJsXiWwyK8qyxjXhId0C8X5z/yiwlUV/z1qwN6S+wG5H/KVULyo4G\n",
              "HwuRggXV1sIp35Yzz9YYaKGtTow3GPDW027LAeVQVDKVK37OYGaLgjYyZiQxR4kywvCh+qPiVEdm\n",
              "huk4m4LSV77z5HS8alXCsSI21/SOCZEoAeAapP+0Enuhlc7dIQDs6Z9bPw2KwtyB1sbrXndj5A+u\n",
              "0qvM7r4UFAGhAAABNwGfbXRCvwAB8N8nYeMM8F98w0JK92wYalwAcQfE34513rCxaaQD79J1H+Lq\n",
              "a6+qJk7ioxJF1sWmzbI7WweT+GJKpVziayUdW6e/TKhV0TW/jUzaklFRAWTyQCuwq7Q1jgMaPJBK\n",
              "bY4t/P3udiVf4gHjKuSS2SyNMArlcpA/gFIVxU+q7uc5tWkOww+NG4cFYjOnM5fZEdVDfLV+n6iv\n",
              "YfBnVxSa3JOU9v1AghXStjXe+sNda8BaIO0BKLNVuLd8Aiqt2AT9lVkyjz37vja+kG4bZFc///hr\n",
              "nsPig9F6rydCatr3R0cFIC7I94Xr9pRpxiqrzvwx5pkNgMelHgYZKoDke7ugzeVrKpPSFrzKKfAs\n",
              "utlfe468ZHS6rS5rJ3Fit5LhjOHB24KdMzcGKpUOTDevx6rsSgFtAAAA9gGfb2pCvwAFRQkEa1K0\n",
              "b5+CrR7TbWZMDzTZotZoxUKpOoPPeZO13exsAzVN1Oqgx7VPsoZIa/b57PJBKj4BIKbn3cf5x4Cs\n",
              "zjn+J7ljMTJ6jtk2MDcfFrH3gtsR4mVonVuk7RwDm0bx4wcRt8xWnQcw+nzzvB7hQ9sa79JpYjZ4\n",
              "CY9agSLRCWMbf+st1yNvKK5gGCKgr2c12T2fMYYUSNT/49FVVlfwaF6DENwQJMvrLAHmybRdwCvd\n",
              "VG1X1vHAm1mPVcOJ1z6jgGvJ5s8DRiWS9TtD29wDyeyDybXbtPnWmks/lG5yDbGWhbKaKc/Uj5Xf\n",
              "UAwDKgAAAchBm3JJqEFsmUwUTDv//qmWAANB/NZJ7X50s9XAl4l2AFtVzexbMvj0Czq7h//Yt4qc\n",
              "UQ5nD9ns/tEam/sduRR0aNnIrowsG3+chgSYdlMvKx6bUe7MuFT+Pj4+/PQziQvY0zWPjbdtMKhK\n",
              "+y2x/gGNbywafWcbrpPNJrtwjN5pOqMf0UK0KvY0I3Y7wii2p5AB4IJWIbYQ1LyoCKfJezNA+q3n\n",
              "88AfSkUXQUx4heY4K3YkiC0TTOGSLMWR+BhkgM5gBx4r3ov6AD9kO58TdhB8u2eH0OWnWPALzKKK\n",
              "Ol+bjzuiKABzeX6tBMiJ1d/C/Ja42Ea/205NztDacmDnT/qVTupzJaaLW0Uf2gs12czjBqz9z2At\n",
              "cYnHSfqjwc4tM1NGVmJvFltYxV95/CX0MNFK+QIcW5Otevd9FdkQhlqVgKoIsyhRFCaBDwCgpqEu\n",
              "nyBzctroVM4nIadevjw/P1K3p5wzR4LJK4yXH7kksmANjAUCBjlmwh346dZydHSF7VaczMOx20bB\n",
              "BRsHWronT61VAqe8bcAyB+ExMzYG+DuTKpDI3KdHilzzkGJDGsIqi1/iM5inEcddlFsXuqv+1S55\n",
              "4mA+6FpeAxYAAACzAZ+RakK/AAHLVsM88s1tKAC7p7fR//HqtWKjl/EUem7RmvT2yW7+KyKB+twD\n",
              "XwTwiXBfhIH8g4gHH7JqQ0MFsbrXVbe7zuRSsD1f/F3uieokR7I5gKHQIOEOxyGkdi0esGmlMgCd\n",
              "hev86tjERI3S461gRwr6T/HdmkIiEkji1JowAwR9v9NwvrEQRtC/rumitSomF2Ztbe1l2KQrXAP/\n",
              "zm4LomJqko1pgU7OCEqEeLzAHzEAAAEvQZuWSeEKUmUwId/+qZYAAxn81k8aLdXg5AzqTupWd0yg\n",
              "WgsYrHs/nCzFt/2l2v3so6tCDXrwL1syTp16FMd+DniPpsJjonnFPe1NQXRDVsGoQARQkHrjsRyD\n",
              "jxHjK7D+ef0Ny/Sz+aKnl0dRg9rH0X7jtTJ1cKyOKQnvct9ZPd/YyLdG+qsCk8gKAJijcMvA4+zh\n",
              "pfRFFiVIvrD7mDR9L5UssCLjVN3vMrUf4wYZ7+1rQ8qFRXpRGkH27PwpwyVT6ksYHs2ZDh8CZazf\n",
              "jBrdnzW4EE/pPhHKZAhDdEueeMsiGPBP1v1ZMI0eK9H+p18Unr592FKnKAiDf+u06NmgpBpmhAq5\n",
              "/U2sduJp12Re4V0p0Rf0VcBbDv/y0AFpPfXMGAinpotno1EX9GOXgBgQAAAA1UGftEU0TC//AAPj\n",
              "6Ne0zmy/jje6BThnZTWcrXpHtWfANzbXHuAPbEw1W+3uRRdt7/FnqS5zGbrU/azN5bJSMTjS5rMM\n",
              "kQ2pE587kKHN/B8Oluw/p8lWbIthA1xAEw27f+ksHIOLSQYiuy9JVKsGf5C4Oe7Azfgw7ZfDmBP2\n",
              "y3ifl/0873XLhJOrXwGDhjiy2SgIcCdUsXwKc99MMMghkW3SxWd5kMPa5/3dWCW6dp8IUZWwA+Kq\n",
              "AUq/gWS4uNml7XgMYteFUR7jRksBhaDPQdkVwADPgAAAALsBn9N0Qr8ABUUJBGtJpLah7FpiMecc\n",
              "TH6j6VYIxUKpOoPPeZO13exsAzVN1Oqgw4epE6Kpt89n9xklCx5lkAZPX+WJrGJtWBudydWvyetl\n",
              "r+gyltUnrBLrw2pVxYPw8ISroIy0j3mn9HiR9VEuXZCrL56LJAIJlrtolBtriTtlUEvMY9x3Iij3\n",
              "4xRgS4ORsdMUiWEEzk/K53fpJuH8jnxaop0tR4IkU+DPSK7JO4Hc7OZ9E7kSFngwAN6BAAAAlQGf\n",
              "1WpCvwAFaOLUr1MItjkfmkC5OryZ9N2NDGw6KPE82fsbWnAkfX4oaB713VnQSvhyplcnYorFg9PF\n",
              "NApHxw2w0k79QAW3QTLimycFQu2zIGn9c6jXHOlBkov8bigf8Ac1KebSFVAvsRqxGfSj1fwVTRlF\n",
              "ZuXEEWAQAG8ARJBMfXbZjBxhFbgiXgp4JdZj3ykk3AMyAAAAwUGb2kmoQWiZTAhv//6nhAAGJ9Rm\n",
              "TdEzHnDv8LxrhRVIGuHBwba0uzEYFcwpZqzX/fStMK9rWczhIAbXiF6Kqz73dAWq2SGOg7O/jHhg\n",
              "ZO72EEjHsDXtZIdk44bGVBj9T+SMmVINNlEeF88WoUvfiJFFGzAufOERSkS2cjJ2olfp/O95BRYJ\n",
              "g/1wTQFWehSmLOBnk4Ufn1RiHjQV010+Rhl5E71neJf6mUmWS86tAltiz/mjPG8rnSxvybzY63pG\n",
              "AVsAAACgQZ/4RREsL/8AA6HryeokSrAzJaXidKGX1ulj+g9qbRYj392DRRc3eAQSPFPcFSUUh2yN\n",
              "qENxHuZAS7tP9DypTRNiSLFecYZ6d2QFqyx57G93aJkMLNLLWDE4TpAGN7/3jErkxJqJDYAjbLHz\n",
              "boz8P5rXp7pKKD7HuHi0A5gzCSwJcoL9U2KoYJDmsv76HaYFDcrnFKEfS/bW/BQRTgCFgQAAAREB\n",
              "nhd0Qr8ABPzngIZ/QvsnezD62/R3i5xsmQ59J8lpbLXpBV/pd/3JY1LTAADs/Vgjkot823Rsc3bI\n",
              "FvWH05710xYVSSeH86lE53C51M9J2ey9brWvP2zIohZoEacyQvqcet3GCo6vtEKQAxlQeeXrEiQ4\n",
              "VLdrCbF7I6+XTLo1Rt2jUqrl3Z6YkmQKzh9ciUQ9UAiXsxhT3hAG+yxxqpiAfQH+EPej1xEGd6xI\n",
              "23bqhd5wFED40GAft69tNSuDWNRqY+tsyTh1u7RUfa9/phdCREe8lqURL2VuhNAwEo0GWqKsOkbM\n",
              "kS54cmoBLMdhfjEbtSiVsEBlze9Ol8RTmYqisdmashP/VmwrvK4n9QoA3oAAAAGIAZ4ZakK/AAVo\n",
              "5BBstxyvZkhSUd5joljO/+D63RdACBZL7W8XmESz1W8/yQDum4BguSOHRAdpK1K2PrYySSDqG7mX\n",
              "v30PPlW7vnHhFmc1ctsZju9xMkmRRWNTvj9VVBbD2ro7b37oGHt4Wiuc2SDRdqwNjROyuA4kzE4l\n",
              "xzYVzZzYQZI+Dms81w/yemZn/GxiGvuP2OpLnzJ9jTHn0+m8MtBjTDWik353KUL3p6TRWztpFGd7\n",
              "5r3hiFs4H9sjH0xDNLym83HxvvGVJ4bB4kSH7J6/7ndeblgUewZJurUS6boGBa4uc6CMKg6VcGjH\n",
              "lLX8OeJAIH1aB7jpPyziaVdpxYnDqFuuLy9/zoU4s1dhQvWrJIRLmFCWmEC9b6WzKsZUqYUhHlNr\n",
              "bkZaaQzrmvxRfzX0q2T3yYhh7ebJv6W1DybckAp1HW1IxwZA7o1+S8Yaj2LziXo5wXpFPepW7aLE\n",
              "YNbhaYv+2/DWE6kdafa/PKNzxMOQ4exH+AP8I5n0veW74isQOEcQIeEAAAH4QZoeSahBbJlMCG//\n",
              "/qeEAAaf2VEgO/gVFvupMHBH1pLkKT/EXCssRG4f8nsaGnkz7xh5VYB2L0d24GCI4NOC+fK5jKww\n",
              "eL0DSu+tm7Z1E5V+ztTPvc3i7KtZb8ovF/8miQ3i7fKzcNE+XAs4WOJMjZGQI5+ouvLrykod7gUx\n",
              "Nvc+5qLB7BnKpx2nb0BDkV++72LglWeAF5qoEas63SnV4EpjtA80u7FtksZefNZRm/h3ytI9UyyX\n",
              "igb+FZJaZs5mnOrVzu3+HcA9C7Vr39FqZtSIbVdi08I7oPvvhTCe/enoeLQsWjpT+ii3PJwjpuun\n",
              "bdwYi1sU/fJ0cSoocvxWmTZIUuQoZ9b1xhJGj7ZqiTB22YJDgqHJ1rlwp81TXTBoHfXmiwnh1uPp\n",
              "Ng0FvFSFOABwgZLyxL+GGxCCFiBcb5xXJbdbeRA70LVRfAKLotxM0b7o2+X9c0pXWNJn2+nSMasf\n",
              "h/tbrEGz5Qn1rIc35B5u94eFlk3uHSeqLbdM5OUeTbBRzHyChHmcpEJGJuYkm/F3bciG37dt7lj5\n",
              "IjHD3mNyFhP8QBfhbKGZ5nsI9n7+dTDzyLZUngm4VIDJ7O7UfSF46MPjJ0XKxUpPxwqJ+7/jHRsK\n",
              "anv5ZLgWznDZRLsUZCegkTHVYyRr/4DUA/SiDqfzow1MoAEXAAAA0UGePEUVLC//AAPj59S3YqmQ\n",
              "CCXfdmZzwY2z7ztXIarqLINqPiudaOTIclFcqmj/HZbwzhR5WmHRjzCESqsXHcdyqfnTlpxJOo/M\n",
              "OK3ZdkCi0XL3kEVKdxgsCY9usB1puGOqYmtoOJAtWD+rBcimeDvi3rLB1lrjG7rWkO3YHr892ioG\n",
              "nQDJhVsXTgMXBlkW7e5VqDdZ740GxjT5m8MiPyPEyix1n3acB+y8KXIxj5hXHOQ066muaCe+KUjf\n",
              "cFSqmxucumNtS4y3Mk6+KkIuAEHBAAAA1AGeW3RCvwAB5obk9P0nQk6UAHN/XS+5I0NhK5hhvUeq\n",
              "urUb2CGPx1NvYfuueDo0hjOu7Ede3a5/Mrs7/E1dRZF2I5P11rq63uhGfzbAG/w41OS4yBJy27eC\n",
              "SY2KCzPv3hl/BaswbZBYUCn6Zn8XL+vGCndouLC8mPmpTuqTKQZMli7w2lS+TYxr8bWIMh4kRl4/\n",
              "l2897FCGx/DPwituGkAMYgYjd0ZcK859lPl5jxKndmpiNdzIZ4uhRKhtoW69rhqQAfxFbXWN5dby\n",
              "8TjT5GYo+AvJAAABJgGeXWpCvwAB5q8gVQEADn6Knag895k7Xd7GwDNU3U6qDDh6kToqoH0VA2Bl\n",
              "UFjzHQ86WBACVfuGmRVeXppCHiRZ20oFtix94JEWHs3WkQ8exz6+qdYh/gc8XKe9sY17xXSSQVBx\n",
              "HaSruYpIAGLYk6l1X1/xf4FZzcgYG+2uPnv00Ei6vgNbBCOmrvd92JV/ZFzQceZ6Aq/9g7ND9Tt7\n",
              "jUKaacMkjnKGfkB+JJltqhnlto9cRBfprAzhkRMNFYp4SwyuHRA85zU1vHqmn7JOUFmpxXCn+pJu\n",
              "0H1Vjs2KrAlJ1lgzBZNnHZpls7zTxGLvc0m7JymEawQon0H/Hq7p0OJhh4EcLHeDn9iqKf/Ry09O\n",
              "87ppgvM4HXMfI7q3I5YPOfpq3wAIOAAAAP9BmkJJqEFsmUwIX//+jLAAAGq9bwHv8s4PG/Ad6aQh\n",
              "rXif+wLiHdVe+93ObJ9kn1oSxIyq8afdqReOdDjcpFnUnBM2HxSQdlQwnPln8eoDfIMnoZuqvS7e\n",
              "AyS0BiskmnJ06jLjj1Yp9AwuId63o2eKyEQ3+YjJ/MpKA2bmd8yWhCL6TZjhjXCp1kdJf0QCF9a3\n",
              "cVYuTko6Ow8OIkGv2OJGAzn2fvy4/+Sxa24iOCWhPpYYUkTPEOw1pQgLFg0Dthf3aGMKvOCogvDk\n",
              "q1nrY800qSFN3SioGoDytRGytK+YomYZS+7TTnKasKv5TcALx9DMi91vez6U3agnldInwakAAAD7\n",
              "QZ5gRRUsL/8AA+QDxHz1SWATzq5PWVA5Re0wjATOcms7ra5UR3VnA3U2+JsIs6pgVadhB+cvKXkA\n",
              "SCcyy+MWXlSoX/ZixQwNORAPMOpZuxGnxJouKpqQQBaqmDiefhby7VoxNDVRpJXp6W6i1a51DUT1\n",
              "VXOgnnfzRXvy90uITl4Mqccsn/c2+JQnx4JHtz6Ar98uPE8Wj1g1HnMdkjSOZlG0JY8RxH461DxQ\n",
              "CJxEBhozWyHRd6JkhKBsDy38l5LgvoDkVJ7OGK28OhuRWoYvbCZHt43s4B42wLWDLm7p6V+WF3uO\n",
              "YSswd2HU6cKbOazUxj7iMbe2TrUAZUEAAAEhAZ6fdEK/AAVo4tJCi+jQg8BXVaT8oFrPwAB0jr+v\n",
              "0S49Vq+4xOAzhjSbTef9lB43ACrqOIQL79U6Uni2IZomVNLhfJUJMSdHJeee2K+22xFwebkRGdXc\n",
              "psA2JbnEd/vNTw1WmNs5hL5LcBusskOUgCeLE/9Twm14nw9A2+bfu6glwO/Nw90K+sS+AY8UrR34\n",
              "YOYdPFQwH10Dyl+r+S21I6DJrXqrxPHld8bLSbdGXXM0i0EB7HK/MDxMtPXpnDssH0BaEjRwSGBl\n",
              "vCvYBAjknRnZWTRMfJS28y+gK0cR89bw5wPffdkLto8d//eKyyS2T6IiJNCfYJruOfWNmKwRh+fA\n",
              "ohOF+fSm1mG2WOTaHvmsgVMwsEJ7wH2NkZpRNQAXcAAAASoBnoFqQr8ABWji0kKL6NB/VTyNpJ1g\n",
              "Ws/AAHSOwJ/R74Par/X+lYjDV9hRSIH1vkUoEc2szcLS9zn+eqTf4CEnO/Rtg8uIW8svU/ldtHY+\n",
              "84tbHb4HYThuXbKtQaiqVuVQhGn3d3dXgPbTcA2jveZpC4Qsv78OcIu9+YybG2dKnijlQZSaewH8\n",
              "AQtvHZqGLxOlSz+XI5CSd+XFSAfCDkxTBPCSEK1k1Ro71imyAkctUkirbH9gzGs4yYpjmbznVNiZ\n",
              "X4+ty8EPJBAwW/1z1vrrz4ZFpa1Lit+PPI9i7Cemr03qUTey/x65N+84Dy+mvkBtSIRIUxszftj9\n",
              "o+b7t3X85Bxo4E9WY8vpboPIfCDPaVELxS8lDK0lCZK79D6mcp3twsUmptX6mAYtAAAAkkGag0mo\n",
              "QWyZTAhX//44QAAjp9bxJgHEW09Rkuq9vxQAXdVdecL8wF6H1QMHJcsNCT/9d6g1CxTwcyygQTos\n",
              "D7qtfSw+jG0BLTUoX/bym42UV00DA7RgcRxCycgteBqSY3q3nxE9qEsHK5ozEezp2uIMfPHN+ncT\n",
              "///hp5mzklIsZJLyOFMNUrgOkVUB5ENQABFwAAAHwm1vb3YAAABsbXZoZAAAAAAAAAAAAAAAAAAA\n",
              "A+gAAA+gAAEAAAEAAAAAAAAAAAAAAAABAAAAAAAAAAAAAAAAAAAAAQAAAAAAAAAAAAAAAAAAQAAA\n",
              "AAAAAAAAAAAAAAAAAAAAAAAAAAAAAAAAAAAAAAIAAAbsdHJhawAAAFx0a2hkAAAAAwAAAAAAAAAA\n",
              "AAAAAQAAAAAAAA+gAAAAAAAAAAAAAAAAAAAAAAABAAAAAAAAAAAAAAAAAAAAAQAAAAAAAAAAAAAA\n",
              "AAAAQAAAAAKAAAAB4AAAAAAAJGVkdHMAAAAcZWxzdAAAAAAAAAABAAAPoAAABAAAAQAAAAAGZG1k\n",
              "aWEAAAAgbWRoZAAAAAAAAAAAAAAAAAAAMgAAAMgAVcQAAAAAAC1oZGxyAAAAAAAAAAB2aWRlAAAA\n",
              "AAAAAAAAAAAAVmlkZW9IYW5kbGVyAAAABg9taW5mAAAAFHZtaGQAAAABAAAAAAAAAAAAAAAkZGlu\n",
              "ZgAAABxkcmVmAAAAAAAAAAEAAAAMdXJsIAAAAAEAAAXPc3RibAAAALdzdHNkAAAAAAAAAAEAAACn\n",
              "YXZjMQAAAAAAAAABAAAAAAAAAAAAAAAAAAAAAAKAAeAASAAAAEgAAAAAAAAAAQAAAAAAAAAAAAAA\n",
              "AAAAAAAAAAAAAAAAAAAAAAAAAAAAABj//wAAADVhdmNDAWQAHv/hABhnZAAerNlAoD2hAAADAAEA\n",
              "AAMAMg8WLZYBAAZo6+PLIsD9+PgAAAAAHHV1aWRraEDyXyRPxbo5pRvPAyPzAAAAAAAAABhzdHRz\n",
              "AAAAAAAAAAEAAABkAAACAAAAABRzdHNzAAAAAAAAAAEAAAABAAADEGN0dHMAAAAAAAAAYAAAAAEA\n",
              "AAQAAAAAAQAACgAAAAABAAAEAAAAAAEAAAAAAAAAAQAAAgAAAAABAAAKAAAAAAEAAAQAAAAAAQAA\n",
              "AAAAAAABAAACAAAAAAEAAAYAAAAAAQAAAgAAAAABAAAKAAAAAAEAAAQAAAAAAQAAAAAAAAABAAAC\n",
              "AAAAAAEAAAoAAAAAAQAABAAAAAABAAAAAAAAAAEAAAIAAAAAAQAACAAAAAACAAACAAAAAAEAAAYA\n",
              "AAAAAQAAAgAAAAABAAAKAAAAAAEAAAQAAAAAAQAAAAAAAAABAAACAAAAAAEAAAoAAAAAAQAABAAA\n",
              "AAABAAAAAAAAAAEAAAIAAAAAAQAACgAAAAABAAAEAAAAAAEAAAAAAAAAAQAAAgAAAAABAAAKAAAA\n",
              "AAEAAAQAAAAAAQAAAAAAAAABAAACAAAAAAEAAAoAAAAAAQAABAAAAAABAAAAAAAAAAEAAAIAAAAA\n",
              "AQAACgAAAAABAAAEAAAAAAEAAAAAAAAAAQAAAgAAAAABAAAKAAAAAAEAAAQAAAAAAQAAAAAAAAAB\n",
              "AAACAAAAAAEAAAgAAAAAAgAAAgAAAAABAAAKAAAAAAEAAAQAAAAAAQAAAAAAAAABAAACAAAAAAEA\n",
              "AAoAAAAAAQAABAAAAAABAAAAAAAAAAEAAAIAAAAAAQAACAAAAAACAAACAAAAAAEAAAoAAAAAAQAA\n",
              "BAAAAAABAAAAAAAAAAEAAAIAAAAAAQAACAAAAAACAAACAAAAAAEAAAoAAAAAAQAABAAAAAABAAAA\n",
              "AAAAAAEAAAIAAAAAAQAACgAAAAABAAAEAAAAAAEAAAAAAAAAAQAAAgAAAAABAAAGAAAAAAEAAAIA\n",
              "AAAAAQAACgAAAAABAAAEAAAAAAEAAAAAAAAAAQAAAgAAAAABAAAKAAAAAAEAAAQAAAAAAQAAAAAA\n",
              "AAABAAACAAAAAAEAAAoAAAAAAQAABAAAAAABAAAAAAAAAAEAAAIAAAAAAQAACgAAAAABAAAEAAAA\n",
              "AAEAAAAAAAAAAQAAAgAAAAABAAAEAAAAABxzdHNjAAAAAAAAAAEAAAABAAAAZAAAAAEAAAGkc3Rz\n",
              "egAAAAAAAAAAAAAAZAAADPkAAANVAAABaQAAAPwAAAD3AAABCAAAANIAAAC5AAAA9QAAAT0AAADB\n",
              "AAABRAAAAQ8AAAC8AAABHAAAAZEAAAEmAAAA3AAAAQ0AAAFEAAABBQAAAMUAAAGsAAAAggAAAWcA\n",
              "AAD7AAAApwAAARAAAAD1AAAA9wAAAQEAAACoAAABNAAAANgAAADTAAAAwwAAAb8AAADtAAAA9AAA\n",
              "ARoAAAGPAAAA+gAAAR0AAACyAAABZAAAAOwAAADNAAABmgAAAVcAAAD8AAABFQAAATsAAAFsAAAA\n",
              "1wAAAM4AAAE1AAAAyQAAANUAAAF1AAAA2AAAAMQAAAEuAAABMQAAAPMAAACqAAAAkgAAAXMAAAFk\n",
              "AAABDAAAASIAAAJDAAAAgQAAAMQAAAEQAAAAqgAAANYAAACpAAABrwAAAQIAAAE7AAAA+gAAAcwA\n",
              "AAC3AAABMwAAANkAAAC/AAAAmQAAAMUAAACkAAABFQAAAYwAAAH8AAAA1QAAANgAAAEqAAABAwAA\n",
              "AP8AAAElAAABLgAAAJYAAAAUc3RjbwAAAAAAAAABAAAAMAAAAGJ1ZHRhAAAAWm1ldGEAAAAAAAAA\n",
              "IWhkbHIAAAAAAAAAAG1kaXJhcHBsAAAAAAAAAAAAAAAALWlsc3QAAAAlqXRvbwAAAB1kYXRhAAAA\n",
              "AQAAAABMYXZmNTguNzYuMTAw\n",
              "\">\n",
              "  Your browser does not support the video tag.\n",
              "</video>"
            ]
          },
          "metadata": {},
          "execution_count": 29
        },
        {
          "output_type": "display_data",
          "data": {
            "text/plain": [
              "<Figure size 640x480 with 1 Axes>"
            ],
            "image/png": "[encoded data removed]"
          },
          "metadata": {}
        }
      ],
      "source": [
        "fig, ax = plt.subplots() #matplotlib figure formation\n",
        "anim = splt.animator(spike_data_sample, fig, ax)\n",
        "# plt.rcParams['animation.ffmpeg_path'] = 'C:\\\\path\\\\to\\\\your\\\\ffmpeg.exe'\n",
        "\n",
        "HTML(anim.to_html5_video())"
      ]
    },
    {
      "cell_type": "code",
      "execution_count": 17,
      "metadata": {
        "id": "ko8KJBCNobY4",
        "pycharm": {
          "name": "#%%\n"
        }
      },
      "outputs": [],
      "source": [
        "# If you're feeling sentimental, you can save the animation: .gif, .mp4 etc.\n",
        "anim.save(\"spike_mnist_test.mp4\")"
      ]
    },
    {
      "cell_type": "markdown",
      "metadata": {
        "id": "gu1_f0XZobY4",
        "pycharm": {
          "name": "#%% md\n"
        }
      },
      "source": [
        "The associated target label can be indexed as follows:"
      ]
    },
    {
      "cell_type": "code",
      "execution_count": 30,
      "metadata": {
        "id": "7Yb76uofobY4",
        "pycharm": {
          "name": "#%%\n"
        },
        "colab": {
          "base_uri": "https://localhost:8080/"
        },
        "outputId": "0a475b24-ef96-4947-fd4a-07d478542684"
      },
      "outputs": [
        {
          "output_type": "stream",
          "name": "stdout",
          "text": [
            "The corresponding target is: 6\n"
          ]
        }
      ],
      "source": [
        "print(f\"The corresponding target is: {targets_it[0]}\") #the mnist value we desire"
      ]
    },
    {
      "cell_type": "markdown",
      "metadata": {
        "id": "YTRqW-wtobY5",
        "pycharm": {
          "name": "#%% md\n"
        }
      },
      "source": [
        "MNIST features a greyscale image, and the white text guarantees a 100% of spiking at every time step. So let's do that again but reduce the spiking frequency. This can be achieved by setting the argument `gain`. Here, we will reduce spiking frequency to 25%."
      ]
    },
    {
      "cell_type": "code",
      "execution_count": 31,
      "metadata": {
        "id": "ymxnM4CaobY5",
        "pycharm": {
          "name": "#%%\n"
        },
        "colab": {
          "base_uri": "https://localhost:8080/",
          "height": 910
        },
        "outputId": "6d2b89da-1324-4835-81a0-5f9f33ee20b4"
      },
      "outputs": [
        {
          "output_type": "execute_result",
          "data": {
            "text/plain": [
              "<IPython.core.display.HTML object>"
            ],
            "text/html": [
              "<video width=\"640\" height=\"480\" controls autoplay loop>\n",
              "  <source type=\"video/mp4\" src=\"data:video/mp4;base64,AAAAIGZ0eXBNNFYgAAACAE00ViBpc29taXNvMmF2YzEAAAAIZnJlZQABLqJtZGF0AAACrgYF//+q\n",
              "3EXpvebZSLeWLNgg2SPu73gyNjQgLSBjb3JlIDE2MyByMzA2MCA1ZGI2YWE2IC0gSC4yNjQvTVBF\n",
              "Ry00IEFWQyBjb2RlYyAtIENvcHlsZWZ0IDIwMDMtMjAyMSAtIGh0dHA6Ly93d3cudmlkZW9sYW4u\n",
              "b3JnL3gyNjQuaHRtbCAtIG9wdGlvbnM6IGNhYmFjPTEgcmVmPTMgZGVibG9jaz0xOjA6MCBhbmFs\n",
              "eXNlPTB4MzoweDExMyBtZT1oZXggc3VibWU9NyBwc3k9MSBwc3lfcmQ9MS4wMDowLjAwIG1peGVk\n",
              "X3JlZj0xIG1lX3JhbmdlPTE2IGNocm9tYV9tZT0xIHRyZWxsaXM9MSA4eDhkY3Q9MSBjcW09MCBk\n",
              "ZWFkem9uZT0yMSwxMSBmYXN0X3Bza2lwPTEgY2hyb21hX3FwX29mZnNldD0tMiB0aHJlYWRzPTMg\n",
              "bG9va2FoZWFkX3RocmVhZHM9MSBzbGljZWRfdGhyZWFkcz0wIG5yPTAgZGVjaW1hdGU9MSBpbnRl\n",
              "cmxhY2VkPTAgYmx1cmF5X2NvbXBhdD0wIGNvbnN0cmFpbmVkX2ludHJhPTAgYmZyYW1lcz0zIGJf\n",
              "cHlyYW1pZD0yIGJfYWRhcHQ9MSBiX2JpYXM9MCBkaXJlY3Q9MSB3ZWlnaHRiPTEgb3Blbl9nb3A9\n",
              "MCB3ZWlnaHRwPTIga2V5aW50PTI1MCBrZXlpbnRfbWluPTI1IHNjZW5lY3V0PTQwIGludHJhX3Jl\n",
              "ZnJlc2g9MCByY19sb29rYWhlYWQ9NDAgcmM9Y3JmIG1idHJlZT0xIGNyZj0yMy4wIHFjb21wPTAu\n",
              "NjAgcXBtaW49MCBxcG1heD02OSBxcHN0ZXA9NCBpcF9yYXRpbz0xLjQwIGFxPTE6MS4wMACAAAAJ\n",
              "B2WIhAA3//728P4FNjuY0JcRzeidMx+/Fbi6NDe9zgAAAwAAAwAAAwG5pYX/dnfziCAAAAMAdsAV\n",
              "r+/ghHykB3/JgjRY8AzRUd7vzLlY0XhabljQ+Z7e0r0cjJpdjSs4OgtoX9lhEhC58g8CYk8nWvvD\n",
              "KlFEfjONRmu5kU8kSX8TF1oMinLkg92a+kzM+sf/yAAxTffwZ7b3UeZJyo1/sg6uVTylcOiJThZH\n",
              "D+DJ78OVEJUWtX+sTNTNxiczxrrmxL0RLrZPESn/UomVdt87aNbWWM+Kfe4DjD325IwEoFx9tnwe\n",
              "ziCOi/FDpalL7QC3TTJSP+KHz1YMve1pAQYdapAwK7dzHvGRKu6owFNc+12k5omkHen240WktNFs\n",
              "j9acHOKq1+J/H0GA89bYE8RGRMrMi2JLLyst8QI3Jyj4qWBqsSnVBYKPuOUAHemIRfpq9zV7iSqp\n",
              "dT0y1rWg7NNxzXQBkZ2wIwg/3TfxIbq+/uY2O7K6QdWSqrN6bAiT+awGURXgBbRfbvrRdvc68tM3\n",
              "KAiothM4e8w+Hr1JkDwjDfJB4gr+RcgcZl/TNgQGvs/7GlZpVHwroqvX8XnP7s3fWAT5bs96wqyp\n",
              "Uirhu6c87r3zb30Hfxcpj+tGQ2JKq0Ch76F3HYN9m2xV+ndE+uz5IVPBCb9L0ImXgHqYcLACUe3n\n",
              "0gmybz2/KiqYz+4rGOm3Bd4LV+SPniFmnxGZ51n2WyQrbDp0sixhYHyTM53OgHZWM5Vii2u4k9pm\n",
              "a3TFuBEIOOaLtU7G+N7CZEscmri1n01nPl6b9vHdHqme7xXx8Ahv9UcckFxO17zmQvlCpIRcxZlY\n",
              "wMh8OaGTtxEsXUVePK4svUE2dJjpWEN08AoOBRD+QEqOAf9Dl/Nh/as62fEXf7EUPux29yAB305m\n",
              "XvXGLSHgzwFBxF2DjtvK6mYFnRdKnhp/ojS302vVam0iaf+AjlYO58I+ObVotdmtBMFKimPTeaYp\n",
              "AbWE8gNNDSn1BaMkpYZwxyKVnbhwUfWKxgfzyB+iNQr3iOTa7jZzcSbBcTEcrlI7lPEZB8RMfsRV\n",
              "H7E26Kgc1CT2YzTjfZqA7mPsl+DrBqr/x4OdUxtgjE83yWaZssm+OIcP4uZV1pROShYxJy5lE0Bh\n",
              "WO3sV2S+3SYhv+GGZY2jFWJZT2QKVah8+QwvbMrGT8kNv9dngYcjyB5cr4pUZ2aC4zvS7ebwst9W\n",
              "g8B7LE5ObkQOAlG+yvSIFXhltt4bmMW8/ykAfM8S8Z901InkcCm1/23amKmsly/ibTCZ7wEwkwk+\n",
              "6E/TcDtbnNX7+uCVSw/zBHzxcKV/i/WYc2qoJljYS2zAJ52lSa4iQS1zGChzG1Oy9RXDu6A3fB9V\n",
              "Z4ijkdwJKjeSwgDr/xLqlPyoqDJL2f7mFPvNpevBzNmc3tHEsagL4Ubd3DoXOKvn6moB7GMX3gyD\n",
              "0oB8rbIgxf1phUbEgg+VUQyN9oHzwLXdtOOvTdfEfGsG3tM8mVL7kUSHdXLlckhJbMpWF/iTANev\n",
              "7I0ACuol+WIArtNtD4Vq61Fw12J0+juDfrtK9DSBdyr+4oX2edMV2criXpeBWMRoZKMy7U98NlKM\n",
              "II0DN3jKGZy0/ITo+IiBzuf+F5D7v4d0Q91xWrKneVSgks586r6r1A/F8aTx6nTubnBDjsf7Dkg0\n",
              "/7INqdxpjnNAcr+Rn4ZMT/Mh1iqXat+46rQjnVxUzPiMWG/eFyL+NZW/JbWLY+LI92FluSeLanMN\n",
              "qFrE0SQWGto6YDbDlZluf9oixT0BKslUIsPZ8RNyvZtLWzdjWBiY6iILFE/uLn6HyqsBH2r3BpIE\n",
              "GvWBfpb564GF5AoQo2idcfrfvfEV2nbsoh0GU+4VWtBmN1tBVHirCGZXXwBCHiyOff73UEgEw2jF\n",
              "0QnHli3ui2pMSBZZ6HzJxkSxsNKHstGB8EStBGgh+3dJ1Im/LFJATJwJWL6xWxioKyFz1zVG3cEp\n",
              "IO8PRTtpw1R8WmdQg5quPMFK4tQhKeBUsz7JZlmz+z8FuVmfOzDixZaSur31HOW/PnR6UyQW2qmT\n",
              "EfYtTanBD8eKf3a35R5T4tZf4T4YCEXgCA2za59+5Fgo83Ff/Zmi3l95OVbobuuGr27uKttCeDM8\n",
              "lQP38oPAwZmUNuvQlqiVAS/rt3U9eLG2WJ5llKXbBydX0J9vO6sM2HOYF5WNkQoj7nnAD/erTyUR\n",
              "xVlbS3RzPweI02IO5kqqJ3ndTgfAIhUGd5bI4wFdcGimLFsq/P8/2jeKnphUp6NJRfTjpb6gZ4+n\n",
              "o+RcdDGaG10WKWkvwQy2Dk0zaTXev8hfPBxdZG5oy0rhiyCjw/gzLh/WhwXCiQT++kwDEkK8JBG7\n",
              "R7vtpv1rIMXLDfjZJAvlkIXcmQ7lJmtpeDGcfx9r+mdvsehdMI9i30aXsNO4R2/LptoYxnZ9QTvK\n",
              "2yYvvXECLRZ8NC5j+9GTAj0BOXmTJhv6jWlPM6u7+FwgBrW2zPTU5UCSm9dF7ZX70ONAQ4ifWLIM\n",
              "Eqe4k4Fhum4jTSiq90NsrRvei9KVYAdT0c0cz4Rz7wVzqYfm+F0rY0xHwjN2zYtPy7GDu3A4/+pK\n",
              "4pR+fVPRyuAVJzhJe14rKyIUnueQdKeYyNEksMq/wgNB9GsDDBiXUA8JAH2pnLxBeAHZ5Eqnlo1l\n",
              "3IGW+Jm2WYWQi2gAn04GqAjlnYfwMZqXNQj/q6TrHJlEBFrXjtsJ3Xmes+kMUFHucKYVl03Kezhh\n",
              "cnRNDZO/MQS4WVbGe47nFx6uSVA6pyCkFI2ST8iYnyksnNXBFqE7NZRmsjV+Bwp+ABDpCjxfBkjP\n",
              "aovHYJY4REdSFEXDq+LDRMWGn9v/8an1cmaXjnfwoeHSibEJ9llcUP1XBjRJn0/M54eh3LfC3mye\n",
              "L2r5MN3SmVHNHwRNkj2dQ5LhZccxrULWrKeERmxyWq5ZKsKddnK7i9z6FxqvnT7zAnA4xY3O3JNE\n",
              "4IbWkTMnPxtyyu12rEphe2SHAt4epWhgoyB+QNk0aAMLCZKQT6+TcJ2ji+BuGAJ5ltUVbrZKQBzA\n",
              "7X4ix3qLZy7BdudfZ/ezaiGfVQAAAwAGjQmkLAAATUEAAATqQZojbEN//qeEAAZGugAP/eFNH3PR\n",
              "M2eBO4qJA2yLj/E8l6pNnZolbbe4+84vXOU5XeTX7XKvbU2WxGFhVjQHiO3m5Vk3l/hv/s2FD1od\n",
              "Zrlg099C20cbep9fd71nODTL/vxt0zw3DfaLrgWmDSXpW85lfd3xtsexsnL0QtOBdvl6I91960Yx\n",
              "T0ZgqjsxWZ7ZuM5zOUdrSAWYc3pyh73KWvzYI9ban+PxZlr88QPW0QcL7cyoBzEOdlBN7YOQ0FI8\n",
              "0lQo/jlD6lQ1tNdlS8qC8pFn7xO+jX2MXE6f/ms1mT7eiZGkvFnodLhGmp+1zJbYrpSh8vc95mid\n",
              "Pd0OK1hM+DZ5XG6hgnEobK+p1FCVVlGkrPdHIQiZGuq0Tm9HcYP1NRp0slOaI1fnGNnHuzSiTlVz\n",
              "FHgspNrrcu6Xj2krDLDJ/+lC5mYsDTbfKQy/pt2CWbtV8ZKhv0eWlMU6ZkqoPCOk2Q1/boIqDwxI\n",
              "me5SI0tS9Em/QZ72fR5bnB8ADwKUjPpQiXt+6R2/C/y7FqT4aN8C7vRz49hklsJ83iKb934Pjv96\n",
              "sRaFDwj3Rn21o4CuFFEO0lIPCpfss3ujazYNe3EXNHXr4VPnXHjK+WNptLmncpsXODIwFpQK78bL\n",
              "tKQ86iFzSaRVPttiG6mpFLyMHz4ItOSdPtaFDF7xcqNdRHMcSMbCIQQ7XZgOUF6DC2WQDM2W139H\n",
              "eOhbDJnsh3orNOO7AzifCPGvSSdMemE6eJPgypa7uZkveUOgz1//6lyDCId+eH6NS74nnENrq8zP\n",
              "D7etc2BsqSrPXt+Dg3dh1scBk269glRMkg+Of7vlft04uNq4iYUUAEk22nXxJMeNwfZxXWJqyeJd\n",
              "+stWGydftzqmv2pYRTZPHi37tynd9Fr43gxpqNy/TMG5fBSh8hC9KALvR5AWrwSfwu3n+Ivn9Xew\n",
              "ea9mGZ7ZBrqVo1HJXUraDGxNWfMvjrQwrDCvN1r30oxE6dgoVIRyYIsZZ8ust68zdhK+TtVdKvXr\n",
              "qk/PLZa/Flzh4eXubyAFlJRG7eb1LHbzUjZCuV4bsnetKztjv1z7rejuDq3erRoUzVGqeApA61fz\n",
              "ds2+30b3Cm7g8PtyatnT8v4AuBnrdt/k78RzVgopRW1TF0JXGsmBqEmRWB1jA+IdFdXKDR53f9A3\n",
              "H1nCldTqTfZ5+xTj/VT4knCGbpm6fg0dkVFL3eUoofpdoftUYKXRP9I6sNSXxpJOXYv+ytCT1w7p\n",
              "tp7g4H/zxL3Z07LUMw1ydvsVqqkE+vSzBtP7Yol075PTVRLpgg5zfTVjEiQCksciQgR1yAEybj+n\n",
              "p5X9ZDy4vZwmdO3kBvZfyYe7iMhVmdBakAz2yrQrnLokZrhe9RRzD3st+lH+LFLodTSzts1yOZ2e\n",
              "PdJvnHOkpg4yfySNQREax48Ai0SRCv2NEWwGeb1R18mg0fRxxLy2/54iLrDcev1F+P55zMKziZn3\n",
              "H3fk9Suyp9/wGSLCTeXVbyjSsT/2IGF+HbrTz79L3vSEWU6agzv9epbu24nPO+qfiA5RQexlq8QF\n",
              "Z7++8DcDm0LpZN1dwnrHT72BJrL9bapCu3BjWFIgAO9bDB/Dvm4lG6EHrONGmTFgLyuxZ1b1tcra\n",
              "BoVLzHvy6YRjVzC8XoB1oEoZqmFvgkoVowh4aZLgoXDD4XZtRoSkoAAABDVBnkF4hX8ABSDi0nqo\n",
              "fQqHfL1BudRKmgA0HiAf+oBNSrljw9jEMkapKrCJGlWideAl78VkXk/DHAfHaV0aUnz1z52e/ysZ\n",
              "z6ryla6KTD70wH5XG1BRjeojC/t5lZh24of/iUBg5FIZrSRh5b2R3QoT4XzyTnQOZHSTQPMGw/4q\n",
              "BsTzNiWjHOvpdjMUSSRbbMtgqnNbn/58V1YUAVrAWikLfIlkCKldAIFEpGA8UHJm/VxW8c1b2mak\n",
              "hE/l4jVCyge2VBx6zH2dlW1UJ90I7NTngcFKeZuLDAhW7ZCBh9yvSIfaQWbakSu3jL0fTJ1R4DJM\n",
              "WdKtU+4NQngZVKQA+ZxmZGEx03ra570Txsk4OGMao0zQ1AjUOEZHvs1rlVUKqUFHTou5rvzqJHkv\n",
              "XYroXV/qILRKagdX7yHwRnKqSUqV9sc8nKU6t3hX4yxP3Xggq1s812VB8iQDVQby82QlZXUGt5mW\n",
              "FInfnjlHJbQ6wtD/NuPQO0UnBYFGWVHmEwGM6Jy5Gf6hNSwXjtHmv4Cukn9bQaXvNBsQTEX8J1m8\n",
              "IZElYDDNGgbde/P4PqHeQ/QuBoFjxqiGNW14maFFLm5rpQkaRz4HeTOAxGg1u+rdW+/mPqjO6+k2\n",
              "uSAolOPbaOZPutldO/rq2Gi8hCULZzWE2dCNjnJZqxlnOYVGTTTRaCPB16l2LHUMuL6DiTFjdp2k\n",
              "TRQQfsxgPZ8tM/NwE38G+obj2NR9pYnNpRgPSKE2J/AzWxrkQwEPMBPAVUNELElljOPFac1DHcQd\n",
              "uO6bYeyTlTGvZ7V0WhxM74TVUbaNpzuTSZ43cCvkpVuWhNSwC7iyjiRmzbyw2SxBT7crFJZdq7WM\n",
              "zzVUC1z+K/4A/zDepxOsj5uDn7xJz9DAmf90aPC0/EWXPKYNohLT3tM5MEpu6iUt9yGvXfUHVJvi\n",
              "Oc/LSx3pYk/wAmk2E99f6BG8RxvXbxWtcfVcQs1nREzAxkcixEnoHOVWyA22Pj8faDx7zobr+sBd\n",
              "lHsI7BkHzy8sxyqfvvqGxNFNmeExEmAxbbFy4dwwDEHbl+1MTDv8JJqbR7HjlDIEP61cdLjuWudC\n",
              "g+C26SbghfMkuU+HEPgxT3Qn8toBOWeSYzaOkAeGmBzfEcn08Vi/NlDVMz59wJmxKHNGFVTIvHfF\n",
              "LQ6F0TEzXHMJ8+1vQws2fyeyPZmHsayM3g0O/ItK+HSfcnAfssGD956a1mh635FAlNdJye9nNxWE\n",
              "mXXynsxbI/zREpP/YlCfE77Wfm6bDReiCUEgiBi46lCmSxU8YqVu30jQqlCLmpeGuw7A+MYcPSfJ\n",
              "D0FI41ptuEJtOgu928aXb9BKtC+R6srY4kPfElSgFJLSnQNyYlpFXUuFfydK6UN0JcxWaP+pFGAA\n",
              "DVnpXWeCHO8Gs3KQYQaXHpWqu+WeFJn9ZyasewNz9++LKvlgFnEAAAKkAZ5iakK/AAUg5BBmZ/H0\n",
              "NPQo7+bBgA/FrUPEfDLy8WxdqZl+i6hBMnASb6kK3cC8BweeLm+9hi0yUk5SfQ2DOzXgetFUsnE1\n",
              "v6fP4vyt4ERZ2cFh8EXLY/jQC/ehYsaHYuiPbyk6GdscPpFdw38C2D8WSDwShCjwTCjY+x8jImSo\n",
              "vTGg7U8T8U2oNH9Kq7sAWQJPc/KJeefYWyxaCldpAQPAV3B8jnomSPSKl1b1rN44bDBKG8xQxiJF\n",
              "SSa4ZVB9fuwp8LuJ5lMa8rglSX94J1opI8G06hUqDiHyV9GE+VOtOPtv4qtrBpNLGrX+B9TOzIgb\n",
              "hU+O4rnPVAKhvYVX+iutlWWMQXO7gAazHslPtf+x/YlPs9eqBnMyadL5bJoky5yljIwtt0f0RcUI\n",
              "RBmTmMmkWJvs1IOndg9tSnbv1g3g5p2actCAT1e/DjLD5PKqCHP4YvzQ9YgP3quQRfwCu4Lz2wXv\n",
              "/hLkjZ8SCYRGjCgbUCFuBC2YU3hCvtaNSEklJAWyF3xAGqjWw42B8hx5y1Lfup/X65LdRCoKT7CI\n",
              "RASdg4olO1bgmCx0MSa8ftBNScDhM3riM1DS/lby7oXuoGpHjW8CbKsRssU5t23tdKTWcG0sbzjq\n",
              "SuvDxqeKEhLzVktpCBTo2nEsOas9HFHvba+76cciL+2+XSLVNgVNUp7OHiFb1h/7XztJIdP/+23V\n",
              "0tkS1IL5BcdYUCrDOpVv9QLqvypoOv8M+jRI8Nh+v5b581mGUT83MMwuv0kwoZEpQajGlH2XEIir\n",
              "yJNiUQdgmX1zIs9VDvREAjJg54VbnTCOByNTw+hy2h0NybOpmQKPjuHAN12rW6KFvcVOF8ZdYRcy\n",
              "IJVLZzw6dzC6LG2wg9UO6/uEz8z4yqBlNjkEdl6+IJWBvQAABOdBmmRJqEFomUwIb//+p4QABk/Z\n",
              "UTj13oWV+ZNsJ6H5uByq/ABwkTOVtmho1l8J9H+4bVPQ525G2KKhr0kZaHVd3UcLe9Ue3V//oKZP\n",
              "eZiIrZVtPSbTqa4l//DfJMOuINdxZ2OmskUX6ZQTehtl4T/1fA0WTFlcnR58q0Hev8DCQqrFcSGq\n",
              "6Utz+DMMLNubVGH7YG81ArygyM/ZM9FxvooqEteQ3f0GFz+77dl+HiogBcrEqj5yojcasLcuL4kl\n",
              "j4gRY19CDzhAPXHM5Isx6s9a0ZBJ5byWFvkOamhIJkcXqWCu1AKHmRVEKcjIf19vSI/7Txv7+pvY\n",
              "IDpE/PnlCVokGgntoN8/dYf5NQm4cchEoiIndZJK83FeMCu+gtK9K+xaZrxM+Cq3GYjlxWqrKbHC\n",
              "ba7xx3d3QHnnnQFzDxMBjYNRtmSiuZsLTaEoHu/LAPQ8P+RtJkXW2zH6Dw9iWq4SaImP0XgC+RMC\n",
              "n7xSLVcK5cQGnTkZF5XtcPZHUYCB7ZSxlwwj2uQUcfmQRn1Bv5yn5Lg82V2cKBvViRe4ITvSEiep\n",
              "Qe4+EYBrBTp5h+1N6IWamuFUgwmM2/5kNB7M9Ep9qjArn9hzbscM3Mj7MkzpGzav9nw7T91bO+SF\n",
              "ujb2LkvIFzGfH+lx2cpNgq/N2Nqk3s/3Q3j9CijzxiSv/BmB08YaohfrEHzxCSGoKCS0tSkrnCKw\n",
              "N+hY/15rKXdj5CCnjX2sNaIp3kdoeIoQ/uLtyvRnRmCV6BpyU42hv7JGmpX/kJK8rdSTAhVjqhGN\n",
              "vfZaRIdvock/rAwT4z3r3UVl0pVAsm7Tn1Y8LptxxbVMmGGw5bBRgIQUknc4W8z+kxmMed0G6vzm\n",
              "zFtdG7R732V/gYL0IcyZHinVenDzdiKJT9f0i7MBwZTLw8VpaMHUreKUjoNYeI735os+elwDQGNl\n",
              "ncid4xusF4e4kP4RfQBb5uuCIvm4OntFQ1h+9ALFUMmkTEmu+vp1+Ogjvf9lVAASvvhC/78l/Oyz\n",
              "PMA0O1jjNvVh7SDkFF+Ndf88HV5+BbehaqtTOBxVVmAO40F+YwPgvotrwAQ0J7XppsIENDukHgRl\n",
              "KnZyalt6bJopE2FLNoLSzDVtjp/1IGbwOLko5Xk4H2T3Vpxnrz0Zdm3X0mwCDz3xqzOUfjX4FcXg\n",
              "nlVls73d5laAAWiswvgXhNW9zbJBiZzrYb84VAyyWtWzrN/1bhyLF5gAlZ7T40gwL0yViPMOt953\n",
              "2H9LOM7AGx5Mim6p3sYjAWJsGrC3B5Vlq3+xk4DE9Mq+4vTteqRiYYQ+7DtG4vn5hGRqkB0utJ2Q\n",
              "U5qAy0U8U2f/luZrc7qLnFoa0w8kbsLkFCwdvsUmY2JxsNAl9LfTHzVuuEg07VOMb8elC2rj5b60\n",
              "JG0HKA2mcQgoHiBvj4Pt5wc5T1F7hAb9WWgpZdTkSg21YDEf0wEMcA9aWwoPWOCEverK+9EDi168\n",
              "XtBOJVomwvfuTi9ewQPDuNbj1JgCPYfDtmO7iZewcJ0zOqZKvlXiifKFhyDaksyVNwCgejEcLtES\n",
              "aFKhXl+7rro1T42394zsxhuu8OJr3XxHEwQcTMX2Sdapj+j6CX00kfQI+AXQ9Fv2XjV6V9zBghGH\n",
              "QBgbV02bZm6PGrZYZdrt6nAm0JfBDghNuE4hOxfcb7RYQyNMzHVBAAAD90GahknhClJlMFESw7/+\n",
              "qZYAA1Eejq90uhQlYYnkrqvFIj1YnBGktRDj2YOl+AGi0PBnSs1hzFOR2nw+PgTwD0JEWAl2TZlP\n",
              "sEPqBIJjUuLOeCSfgetJLv5LwSbSUwCVb44qL+V0vwFtVD2WZpRwEzriLEF+DTQa+CLqMuwZVQNN\n",
              "UBf+FdW9wuWbMAsTLxGQfTBZhPUhQjBP9WJZhTBZE8DInMbsQHV80HSYYr/MVHtQNhGw/21UToNb\n",
              "N7RHy6kUETaUsTDaqV2esx2He5l9AWtWMjgAAMvj6v0xRWD25MjZUxP1VJeZaIcUnAz85o7fjQlE\n",
              "vT1UPVh7pigU8EGnMgB7qJhp11Rqg/pcWiXH13y4NefODnf7F06LEWszNUhi2GvceyQEhejLtuj/\n",
              "AZFjO/Ij69RAQcS9zFORepy4Y1d61N/UGdDmOz/ZmwJ7/hLNJmng5ckP9SZ8OvKxS63PZECBxwZB\n",
              "en06BSVkyzIi39zM+NkrOOauNU5wCZbxbAzkkFC+EspsbqmQblh7m/pAKva0Y4KNTzbE8pX4NWXl\n",
              "b4X8reBYs+pXcE0tCju4Pm88oKeo/6BNphM4xFq2m7Gf53lPnGC4KrZPH3nyZq0gB1tXuLCboJ7K\n",
              "te/lBbWWOQGROEHpmmwK/PFPaqmXPRMrZR+dPnfssYyTAxGzo/1KbZvNpLsit94CjLNB2ymaZkze\n",
              "drnBcr/pLjqIW+oICqKz2k/U7k2pBTt1+zD/8K/zdy023SxAHISYXLoggWvIsWAGZ3IM+jgw6ErI\n",
              "REIo6o2uMA8Syx3AjQDGwa+JEUcNXQjFBkrPVGiMWnLlL8ttLz7faNfTcqHX+ZBFwt0y8AsrNe8X\n",
              "Y0iougNlAzLY+oBtCliC2qAcbMor8pA4/y6RFPhzRxoeq7+FtVIvsRocEhXOouI6Y/YNcnXsCUSR\n",
              "iohbf9LqkzZhijKyHiVbmolFJvXFxlEcjnPAVFuWA43iX7A0+/0cxc2bAcPtV2JTE7dGOAlCWsak\n",
              "rcj6OEYONR7YgHRWyLLz4TJz8ExCbpveeuSp2KFg1roulzoMWlX87EvyTWedxStrw9wX/sjS+D9g\n",
              "tjQdNgCVYN6kP1HBeH1YDntkfxZtBKnvXrRbAC1TNJqylGxYxs2cu357lDFEWzo0URi7Ej7CL0uK\n",
              "KVjZm5gm5Yr/yhPvfBL3B+xdrBX0e9hXaJtrlEDce/2CuKU88To6jeeoTH03u5LeEmvtVDXh57Tp\n",
              "Uu46DM2YmEv6rZD7YmqgPkA8v4JtG8dEltfdA5essKvOJljFpGsWpA87gbgQq9uIyTUHu/5lAdgp\n",
              "m72iiw0NiuqESmxQble/aKtD1KadnZIyVYMrj2xwtm8AAAI4AZ6lakK/AAVo5BBlyh4Acwbs0zTg\n",
              "gAW5JWJmGgAaFSQvQhSRkPn7Lae6gudsmqQI7iZhI1ofP8rWzFkbtWjBcnfXBB6outmUJ5kqLLDg\n",
              "1/MNXg23y+0Q2rg4VKKPkeejzihMNJWYZXASnywhTnPpiRDU05x5PpyH5w8k3Ywpqv7vn+TcAmRj\n",
              "wDbeBWk+IgThf/wtJD7pucHY+5ySpFcPPIIQt996R5wSetNp8/VBId/JizS2ABtDjdMa49eZRjL7\n",
              "DKiuRt/UjhQCDq/3dMH9kE6m/NQ8X9jRpZRjB3hKvGxuBfYkp35XxwF5z+QD8IYAzgy173FhCe19\n",
              "7dtkco0ItufzCEnwxIlvZN235yk05vX1My94yq7UnJhe+gi4cb4UD/TrFopf+FsXeRSQObdC5oW+\n",
              "WQF8Yab8n675LwLM7S+M3AVkkzIVx8S4I4vimXCKJ7FUaBD1Vn0usrn0xsFwEOVpSOeav9HOCeRt\n",
              "jTYNYN19Of3EqACJQGw99iwU/XEVJOjTirAEGY5itLZBp4BTnuToAwAZXz25ZEDcLN8Wsll8PKVE\n",
              "52CV/WKG7pgnVcjTSyJhuQFTGztuN49FiFvsmXIcRdXTCF7KjC24yUZautLz3ThUofBz+BRMmbYx\n",
              "uH9F0zp7XT1p4yqKO5Wc4oz6MWXAT6geNMSVgD5dVO5BTMj/BSVCC2ue3JHEXr4CBr8xpvve9nDe\n",
              "UgR4UchYtIzrQqi2+tfT72JEQOiZ7LznBqCUTvW+1TopoQAAA2ZBmqhJ4Q6JlMFEw7/+qZYAA1Xt\n",
              "oF8FRFv8FmD0AFRjMHhxtFSrEMUkPjxQbo48Fu+1oDGKC/0Vl6U95VD1tawqn0FOZBZshA/FuyNK\n",
              "bbYWIn+pNXmGgcDnhP9exQNkxOA8cheaTByv1uqbsGdBB/vZuEPjRRk+Xqu7quGxz8kOgndFaM/k\n",
              "hwm89doMjz1x5cBtjGZ8splt5R2LN1Sap65q+B60qVJyJqBpIgVcFmk1055dn/vh0XYi1SjVGebM\n",
              "7VQxdo/4gu/te84sXcH9AbAewMu2jBaS+9VS0iFW+FH4COWRx+D6V3/a9xniH0Jp9HSOmrh5s7wU\n",
              "5zK1n1c63RUUYA+qitjTHAZTh2qe4D/FNNzQ52YvPuyARJdEIWGk7A04akecLNCXIySsoFIqK0wD\n",
              "OtUXun3vNWtU3Fv/pZHcBgHV7UoynHx6G0x0476cn5vKBpyNPtT1fWV/vlsItHkx85WuxAGnsXsB\n",
              "aGPzbns4XP1Y4mtlQNdwcAFsmhSOABBh7ZxRqpq2cEnJsAAxg32CfdlBQS1uE4CainijmZ213SNK\n",
              "dugbLBfTweCMTOb9Bgv/8m2EUux8PoGv3DfVxwQ9/7IHq3cOUygj3TC0BOFNPSK8lotc9l9IRu7f\n",
              "zrgtH2VAcW0dX3cPJYtzwQqsXYV6L7+B3X67MgPuDWo1Oc5zkXiqDt7qo0zvgGwMEXuOllDXRshQ\n",
              "DZJWt1nR8kLjnmeQaaRnZqNaJnJYoRHqpralf3wJDUSmU0bKt1I5i0jEm2ORUhUZ2I2+EnnevbCJ\n",
              "UQr+3Dv/YxnssTHTru70eeFmc7wAqj/SvaRYhkfqaTVPwyRSOdHPv4iGLsVBNPm+fWaymJxM1+6n\n",
              "cp/v9u4J04+75XlrSUXCIdUf7suanw/97XzJlXWMcdXX5Bt2sbRzWWMGgnxECo8p6qY9vtfEVi1f\n",
              "XI4gh0JdCTahWeMLU2kKcbFTiG1GKFCDg7CF4CJxST5QaxYKf8l0ebDbfpLRMTsUJiL2EvAXHUwc\n",
              "QcQ3wl5T748ypCYJjU5i82DQY1rYAvVBfVzUf253Y+/evnBnv4Klc8lyFGsa0CCpeHvpEYzS0aWg\n",
              "u3bxmExcXVQIEPYryuKdokxwxipPp4CtXou+wXgOnQgitUm2n8XahbUTRxhbJ6W1ET+UgEEAAALh\n",
              "AZ7HakK/AAVo5BBlyh4AyXfD+003t2/3us8XaNFn4ABoRQ/0fr53rkIz8KLz8t0ZYGmpQXlffZU0\n",
              "4k0RASXzZ30GPmnuJ1/tSPMTS1+nt3STrfHNYP//68XVzCRzurm9uhDbkn1I7b3VGXYxzZmh9nO6\n",
              "db3fyysL4xRJx6UMygr7cYboddqLWMln/aPee43GN4JoGXx5d4DGEFCY2tIPMrkjx6pOi997Skyd\n",
              "HrsKjh02h81uPmrurQGpUawRJxy7dX0bFvqc6Jf1zyZI5OYcyEv1swG/+6JufiUOvpoKvGMlh8uU\n",
              "orEfWDvj0BCYYcAQWjzdO/a2jeIUKyt30qPjfUTf6XrX8B20uTXoReDQ/fI7NAyFXobr2ABLz99w\n",
              "QTK0RrgD/1Zkr2+rASY5FLLJAATky9knwPy/5FxZBQS16nASoO6h/Q7tiEjlHc8SkkaohSP/NGJW\n",
              "z0xV1Cj3GEgnn4CVlIdqFrQaJzwCzq1LmwG7qyKBxzGU5RUPpL6y1qIBeJhTiAv88mYGoNBPJ5NK\n",
              "yZbUcah9M/+HlPseliivoPWwWimctB2Fs8eECRfHU0uyNdes3dsThyND7zwTdyrS0cQuxf93r46u\n",
              "oviKRqZaYZ2pfbavi5E+ygH0e45S5DHSAbOrbLVO/ZGZ03rrrcilHJSD7NkSbCGJYPFHn99tNU0Z\n",
              "5no9TJF9y47X56HK81kikhv2v3bi+DMAs0JKxMItSa/OucEc53Q+ZJhkLrjKlCLfW3IDkFnzOvAw\n",
              "IZQt6Hf93rRKIqxn1VXxgj2XNiTqwKS5kByHfphz4+0NyxXIxCP2UPvr3h2+cN14+heqliz2B2x6\n",
              "7OKujYpuaGR9HVNkGnEwHjA0/1K+udzzAIIf3nmDR/OBk8ELrXXPPMZDeocbP+l5BSgx1hvb2Mn9\n",
              "l6lpn5jTcxLQTC74aloxIpamK30kkou5ZJr264WPuEcW68HeaZ2P9j+2HIXeFwZtP7w1s44AAAOy\n",
              "QZrMSeEPJlMCHf/+qZYAATn5HWaZTmb8wbYczswDlhJcHSJEuFAEGqduhDP9Wtgke87IVCJXG+M8\n",
              "JBFYy1h56Udqss74irVdttIDHBvLS1NwBmMCZrpur22F1GlFzdqGJdvXf9h540V7mj+FRyLNlBZa\n",
              "MYEcWGG0qvSr/VYOMlTvQzBSgQ4RFjCJkhciVBE/Nj0PKh3vXdEZ9W9QYykpC+9vlLGGee9LIl0+\n",
              "OXM4yTmrhKyeLOM7VyUUKBbWsy5BLZiFmAVPG5BoAfGQOAyaj39uKQ4/WcALMvwu0kuUDvAix/3c\n",
              "/77PpxJH8lKg5blGUdcYPVoSkRyC7kxBU4T1Q0oTE+NG7NBXQFv4Lbsy7MLgGPTmk0F+AmZz23iV\n",
              "uKYAK4D1yz/CDSxHGxI1bRkPlvExFaQZ8takrOVoUAxR3W/ibcLQ4+A6d5mwcXvxDlWox3hVHZ9U\n",
              "EUgdoesvKQ3eunaObmOBTwbvnp3sEjlNZs05pgIJMg+5u5ZsVVw/NU1/o+5B2B/JvfJoKkav1t6d\n",
              "BkHeYZQSptZ84RscXae73PaW8NFm/r1x+onWsqhJEsLvJ9FldtDGVlLz/xVc/Bcmm4EV0s/VKxPS\n",
              "aAsTHMYPgCAtp0p/58cFEXB+DUqKR8oCkIpbJEZhCIHH5onfztTzGKJbgkaIykZqAKeNkX+Rt7ss\n",
              "fNhBQME0ugNUS0KX9Sqwp7LwGZ2uAPY+DT3NXgYGU95GpYQV5tBHjP84sMaEKED0I9y9NwkvaR8s\n",
              "kh8MxaqiQT7ir+2mWhHp+QYKCbC1kNemdqxWij3ACGqD1r3x5v12XU688PmvhFGwmJDuLsP6Rp3V\n",
              "I8PRcWedQAeVodFvexBd4MfqBi/rZ+ORmlymvY3uBCrCy+cO7RtLd2t+ts1zRcKYlVSjEqkJwNb7\n",
              "2drvHyArtgCkLVfNst2QMBv5zW7l1GOjSe/X/3LsSjn46/rXTaNO5UF/o5nyNOoMtUvumPrSOPGp\n",
              "xTkcfqyj79n+IkSmUcshsEtdFg3f5IRagJLOegx9yUeE86QfdTngVNPBP9IpTTQFiqBhsZ408AJ9\n",
              "jPU9Q9p0z/NdSH/9fonvxkz16rUtrvUbOcRD5OVlvnos9UjGN2czDZgfDZAQGKjplNbcc12DOtxf\n",
              "kQ3sqgS+hNyyj7cWvnhppNMw45EaL0369ZmA3sKPa7mkHXAF4CVk2G9/wCdzHxcsDL0edyLfT9eG\n",
              "GbQzSA0b6ZJYGmg0cTDR/cgnk1j2Rd5j0ujo1QMH/GYSgAAAAkFBnupFETwv/wABdGDS2RF++3f6\n",
              "+GPiUAAHwijHpo8fGH/Cmkx0T1lsMo89099ALBhyYJIgsBDR+QKw0/6XZqjkfgdv7rQOx1mDujpd\n",
              "qc0sp/FtnCx4W3tqAM0qmERSPVaW2QeAEzOAifFec1sWsWfHyW1PFSXyv0lBrxrtHlnwt6eY5WwD\n",
              "dlk6r1LXx87gVQVx/9E1eAgdZWvXGzL+kceZdzCaIwtu6Uub7AbfFCA70xpzubXUCjhX4eeqYteX\n",
              "JRBjHO3w6G4S7zLyUYpWxQdOExM8XXxqs4bDlFh6boemocVsS/iLP2As9WJ0eVenK+9D3sD9rZes\n",
              "82Ei2P0voZLF4OtWpVMvutxe1TGXXGdADea/rwMoETpifwigM3xUO3yG2kNovd7QnoDd+PpDsZap\n",
              "pcYiY96zqehIccUCpT8m0bbjwvdgv/wo3FoUMwA3cu/Men5CDAhUrAWf1C71dSRVOqRsikTwFSUl\n",
              "qxEwty6hQOfyOCsxkHJa7OHfLRB2qMswg9grhmZcWuNEDrR0awVQf+zsfC43AIIqPkhqBVG5ijkv\n",
              "e9cUR8mvECaY63lnwZwFFvxM9REE8BT/loVzaEPo4snyxhLR2FJHBfGVRTKkkJVCtyVXelyWvJ9o\n",
              "26Yecq9X/gq5JSzN29yidcpRDGyayhSWN3ONozfdHJuSi1+Yp3Wy3TUAiy8KDdZp3N0YwyBr5YMj\n",
              "Bb0mC3ki5lYcom9OPpkhvUfwMzPD/5Dd9zcEUknKmbMCoaaUMPxiNuoNDEPBAAACpwGfCXRCvwAF\n",
              "RQkBPU03cTQJ/hfTDq3XeQt7YQp9aVm1WB8Yre1i5ZBH8VBp/dNcZjPdzunmjR4hWC/yekZposyW\n",
              "pkA3RhzumO/gT8lVI9fl77uCrVQhhjUSaMgB4q75qeh/ULPV7L+yWVsUGLpE8ZGvgoL1C7EnfwHG\n",
              "NMuQ7nxPWqw7lOKelshawJOPdbOK2h3VgLH8JOZqf7FEz2p6tfqkiUH0EyhfAK6cqmbBiwl1cC0Q\n",
              "msn6tcYKcAOa6JNXKStUGYzsqFXPeuDi421oj2FfuVFG/qiYcnUEdjxR2hZJ7VQ+59O2+Mw+Rovu\n",
              "qFn7898gEUTxZeuIzOg9HawvxubEEJBW7C1K1jsWDXnmUPDkVlXRqEbNxL0c6lDJMNUuIisy/RoA\n",
              "bcyVk7xSf/kUacFa4UKlDGD5FDPmzT0NeQTQFroBOYqSKXt4HwcRYHclouAUhK3XpaGbmm8Pyt+e\n",
              "kjOy5L4dNBa92+bZVO0yq+/0EmFx2xdTNQ5abo/CT/sm0QrDhGayYWwrTzElKXu34RHZi8QElfx0\n",
              "tQ539XcNFcsNWwW1njm6RoCvk9vEJZ0QGi7q8Hh2xBbAw9iqWMjXP43S/iCSwj2CIwHIJ2CdpO7g\n",
              "z1apgQTmXOkC6olQc1Tkw7viQvklxqX1/iefY1OSX1UheTKkG1QP8Y60cmdkENB2sOPUewPEepOn\n",
              "3mJxkj5R6drNcJ0byx8/0Tj84O4Ntxlbzip8M/jKTocJ1BypDHj4OTFps78vQZsdFvRu6FpPMKxa\n",
              "yU15LMic7gq2otiMIbKUwM4gVABW2tsIVCjegsR2xXlF75NcxLva9HdAHgaQZwE2S3QuiqyUD5j5\n",
              "FuSFsnUholyviAY0J1Oe/6M+6XiuS+UciRBhNGw9aMvxc4yWYrMvx7ukZ6QAAAJNAZ8LakK/AAHm\n",
              "AjKWkku0e6Z/QAcD+niJS0Xbm7vhMLG093YdaYTp3kWtOkWU7x5EBP/Qvkk+z4HuSWuydYmqicN7\n",
              "izAvPib3vxXW/v+VmEEleFWzcIZwpkpC0NhQ7zcyHdmmXG6g1Q9xpxRjHgfMXI6jI/lyl3+0Fe+2\n",
              "qVF5O31Is8sW63FpejWZB5i7MpdY0pFZJZh2WPA98fiLKCMQjaE3/9n711zlpibr0ZmTbIaOODJN\n",
              "3u7sJLjsCnt0adcsftbjA6eN7wG2L6nH/s0ie+Oz2/QgeBF0roF5uuq1ZJ4VlR+2dK8GDe7YYXqj\n",
              "ui0kLXWIH2XbWwmJInA9DwpIWDADoAr6D8D17Tl1UJeiL5Z0Az+CjN/7KMpnPokZAyasfEsrwnk3\n",
              "fzpyjiMJOAk9+TN9+DAo7JiQVJQAV5b091Y3uTM7rWK25Ld5S3JtpuPF4FNaKHm/zFh4epQKvSV9\n",
              "XoRnZOdtGSX+V8OxV4xNNlFS9qqMpe5YRsP8KAE29GQF86hZ7g7L6rGvA9p9Di0DqnHS6sw+SNNQ\n",
              "hhdnIkAGQ4bLxQbcz1zn4ZwI1VQ702hrf1NLSFkDEL4Fpp5zgZyiQ3DiYxa3wACGzfZFk7Ast9dT\n",
              "g8qTak+vKBZ/vGFxuo15HsWtVIBvGBlonbpB4SbMWxllSwK2jAguxiC9Ogyvx1z0QhW7UJVEWRu/\n",
              "63r7BtVAxWhHICVhWGOY3GmEX7qGQ2B1Iwn90Zxda8ckGu++83b2PS0sthNkzkCr8W1qJVfqQYFh\n",
              "GAJD7L0Nkvc18wAAA8dBmxBJqEFomUwId//+qZYAAykdXq1jwXUrpIGmMlKVUjSlDjIc7rsKm4O0\n",
              "8gQF3JEP8S/zhGd1ACE6Hf5LRZpn68b9m/qi4WFKdudbJdMo2+OmbPNehyPRw/VXjwlgeb+25ha1\n",
              "n2aRp/o1hb6nJCaoTncigOwJeRonk4w+PwgQKCDU1OFrJSPakBQMLMqSnEAKQFI+AF9n26uZFQo6\n",
              "CiJZFTtSRAtgCcBmzFM7io0NVhCgSjJh4r1DS9Z+Tkk+PvzlMygx+EKbSpfQL7jfxZoRIG5uSua7\n",
              "/SC342u6e2jysmWQzgD6/l3maK2O6Uuzsq0AbLJMRIXjyDuhmlde8+r50TE5cWIgnVBZ8z3EMkm5\n",
              "OjjHAj5LkFfvY7eEPPZapOkHFpcXDyXl3VJoqbIVx4fr3AP+TXOT6jioa+Q2ECLFjsB5x9Zi+Dte\n",
              "aAUI57qx713FTlgCOpiPocUTfheO4UApnxiSWUIf0m0Fx7QWD5ays0SYUlQEduEYOiglwTRJ3hgh\n",
              "p2fYO0Cokt3NvniKKluHdnixAdIEFbLZl7BQG25adCMLHGCFc0JyYpJRplVtalWsO9kkibHRHNea\n",
              "kfzCmuYLETGlfhJtaeoC0H/N6l3XQbgrqcbNxPaQ0Ufcp04xUPJw6BHd4iacGdyRNF/eYUqWNSPZ\n",
              "GNjCDZ9owKQ7lGR4N8262vYbC/AA8lhdHaWEY2Ur8FshJQ5R1z7d8EAFOgB7eCx7AuIwP/cWewU9\n",
              "pn46z0XSmXBhiUjfh9YWAltQKDZDLogcgnl86ciOIR68zuuieIaXyt5zLSqA9CDuNmMnsUyFv1BW\n",
              "Ls84NyQkpUgkxr1k8RdlPc+80GJ7Lig1Yla12Rm6fc6wdzU+5BtWKt8G2Jw2eYy6MUo/HK75jl8K\n",
              "3OdiI5aVb8+qZz0IgqSeb72aS+WkqlNZLOPxGOSRe3HKiusxZiDkhpn7VF5YSRv0gv67IES+vahD\n",
              "vGD20tRxKKlKmD/LTIqC7kbVX9H+14YunhaMykBCEQSE1XSjcHB4Epeze2gtrjSYd0nmEYd+5dOt\n",
              "l6CEZh1eGaJGCNA6k08lTfPrYjOSFUHJ0fKf+vibZc7cAueG/4KpjSOxGzkr09reSAVuCe9W5vNR\n",
              "xlw7bnY2gmdygYa6cRsTtNmwmqqNFlLxlHzi2iefBYh79bno4mQ8ALKDTHPv8pTlq/rFVX/coD5c\n",
              "/X2GjZvlRCPjBOBKsCVSmCKVMqSHsjAJHUR140PCHMYDLLxEo+BdPq/CCQyKPjrxaGqsNjbbmaQp\n",
              "zAJR9UzWo1XhEW+tAAADD0GfLkURLC//AAOh59Lm4sHQMqWr7olEBB4V2Pi7z3HVrj0x03I4M3G9\n",
              "lE4/Rqdmn8fJCOkB5FwwwF6wk0dX06Aupp9Fzi/4r1vIbJ3/s7XB2dvXPUyXwNnDe6IqPFG7XgJq\n",
              "NY443RCZfGlTJMslzd4gTGK3eU8GbH2guhPzK4X1BXa2vTu7BkUlD5XhFoCTTx8a/05nLYsxmlkt\n",
              "Q/1e6xAmc3xN+oQgGDuicDW8kmY14+auUxwh5oQVCyY/Tm4R0aR9jSdf59kRn01c0PGJvgJFR9aG\n",
              "zmRVYcucesHiP4gHfA4E3wG+5d+0ZVGJx1TwMfa9UJLrdbOh3CDD4Xq9sTsAEfGLh1omC46zkzRq\n",
              "Aq6f2gBuQlqtQ1QBltoNXOMeqCl7N83wdJWuisIeSJo0vEnRU0ag2GPsg3zeRr7jyIBD5f5/Nkzx\n",
              "MXk5hGcqGPZWKPs1kTt1K/NcgvYl9WB3F4Tg/U7ySH9GRD61froe+tKKJjtKCxGIFFcrFbIGmcm0\n",
              "TkuBL4N4LCsmZcG6gsrh8vsjjT9UA9GGH8AhQnDI/vLfi34K7fJoQFLUwa2xQPrVixKm1zZIy8hY\n",
              "If3fwJceRUre8wWwvkcs6PoG8Ydn1gPOC97m0eETEl/7ntVNVFvetD37cUs5ZyhgCDLbyoHbdZVV\n",
              "n4HvBmhYJka7T42P114vwc7yfFydag9HtG3nrxU5lzUDlfUEX7XEJKrBG8fZvpXaJzK5mv6VdFRh\n",
              "+LljmbHFYrHqiqj5X9rRHcmKC2u/u5q+qXqK4+CuALgULQGRAPORef2P5QaxLvC37jbGfbTFjw4v\n",
              "bNUxojTct1i8kWbjBX03k4Xv2gkdi5iUZpxlLO1nkAcQW1Go6Pf5r/oRHGEfytJZ209qvGpodE9i\n",
              "F5ks5bNx+7rDsijTp+RdYbqGfJY89XODwB5rAr2HecvZysE3SiVA86Uk9iZGidi6fbTPvazogOKo\n",
              "3xLxMewHsJ7DyhGm0UziD8JmQh60GzwiSWCEisWD9IBZi6FqZA6ZjaezgXlEXENderpcUEx7N0cB\n",
              "/wAAAsABn010Qr8AAfDfVSE4OrXrdqADm/0XxaZhMTBICVnfSsAg53h/tB0svpxaGZLSC27eMfoy\n",
              "Zj6SJmYN7mq7LGbQcZfaCUuGXKJu776p/Cmejay3YKyebPC0N+cSSJFn8GctsB/BGOoHqy4i57Mc\n",
              "Qo+B7SDQh/f9brBg3irWKxQZqD7wqkk6O9uDEEn7RBBLrjVIcbzkF6lWHNAv2Up9kh79J8XaWte/\n",
              "OM7f+a5/amcblK/RhsDuiwuFTZCyqSj98loPKkYF+wrf7UFSg6MSFgFEuSJL+NcB/B5KVRXCdJnd\n",
              "6T3+KkuFzR7lzVEJMUEFQAS4OUjNFAsUJPXJAxdFluWaNNUB0fZL5vYk1l0dDNBfyAv12W8G8z7R\n",
              "H4SXup6MUZSwe0FU9ojb1MzWOYKgkyXS8A6BiW0taJ+KycS+E93XrP0pGctGolThIhzz4kTiBp+J\n",
              "SZ8LlupApkWzmgLReCo9rk7k/wrpql5U8yzcAl16gnPuUnxRQ0RS64cvJe1MKkX5meg6jrCjGH9E\n",
              "0dlTtdeT+Pr7BeT1/MmsvCkQTBuu45pwW7nbd3Zu1/IR1DtXt9IEyu0YseZUP7kZsZGiG+b8m6wS\n",
              "qdUlLEbIfk0VOgRsRT9BEKPpbGZRdpgiFOCjksUXzwgtSsz4MYGM2r0bpOrZXZQ/2xpRWqn3Kfmb\n",
              "ts2d4NaxyMfDI7nP0nHIdJR9gphuNIUN6EfkinI6Pd2TnAV45Kia30u7QwYDQltR2fH6+M6+eu17\n",
              "u/PcWiBKtPv0q1aoQybPybQ/jld2ku4kWPUVbql8ExID96ZAG09TNNPt+7T4Azc5jZkzzA/0MX4p\n",
              "vDStKSHWqZ09UcDs6eNjG92f3X3YPgmYBuK/vOLhPbHChk6JOhkC5E0+VqcbwLcUiWGek9zMDaTP\n",
              "Co8Yv/o6FiqpdE+qXPT88HUgA4wLouaHgQAAAnUBn09qQr8ABSCvCeu1gPYUTxEC4fRpnq/gbxhB\n",
              "RjgsCFEhjUHOVn4dPyc1wQywpSFLNRMpwKeNpGZtc610G1eSBnLS8/bb2U7eRGFvhHfdLZvKc+Rh\n",
              "xFF/WSPrjpcPmjwpOCwAPziS3asXD/7ZCbweSqVbTpULIptX0EZhRCcSr4MqkCRZWLkQTTYlVbCz\n",
              "OztrFj76LBTlJ0SjeqAi2VhgnF1i0ejGb30FDy/yELFG2LMzQE9RahDHDgYNgeGAPx15Zy2sM2bD\n",
              "oj+ZOIHsIbo3WWAyoPHo2te8pP37QaAak71ihzAOrLKNVKl7jZWDMpSttLjp6lH9gdNSV8IIN8Er\n",
              "A4QIEcLtaFXGwrDTH7iMQDK0CSMlpr+WHNsONGMruCntImit+Mck2ZHZecCO43xBx5cO0v9cFIma\n",
              "opFjqZipkReBlXF7ALG2hLuvOdf0Se4QsM3z5KMiUXjgtrKFodoOimbQNQorvELmGnUfmwbYDFtZ\n",
              "tzwmKW8eVDIyecUf/964CwL2s4KEM3wuWPYJgNMv3uotu3RlJ9DLOSenP236OodnpTr/zUkPPjHB\n",
              "V0BH9Ar9vFOeBUBHnQhjIjr2b/GxBqcOy+5R8oZhdi0v6lm24TgAJR3hyipqe7pX/CyPOL29KFhO\n",
              "HuMXVfjkX9PUa6zE/FDIC7BiPKGyLbPBMC4c5TADTdLUpD5+OMxC8PiypXGbMOSca+EGsHrPt/es\n",
              "mtf7emaWr+wilIMbCsAqOG/+UXIovkwjiQiGK1ieKpeZcuiHeCqZeGvc3nvQkWLfD9uBOVLb2PKn\n",
              "d6BsRUYciLcKkIqHa6jJrFzTiTEhLW8jjIJpKykeEAAABCJBm1NJqEFsmUwId//+qZYAAymNgIBX\n",
              "m+qhlZx114gvFbaIf6dbA+wOV7prvzrLZ/7Hf9lRXpPfLEyyrxFnW2pQ0hO+WSpYIRzEv85Mi0W/\n",
              "LUIVkKGvCgUJ7hY+zy/KcQNCLOLBf8xBYQntDxAz642ljplUtyEez89NrtYb1eCNx316HdlNO//9\n",
              "vMIUi/9zcDcbLTaI7y1eBVRmOItR777jTdr7g43qUIO+Rv1Upb8dcVDdZDCqy6Xe0jnvs5CH1n1a\n",
              "QTiAidQ+owu7LONch992odmZ6w3AFbJxwufSrIUzuyZnrIQ2N0nFZPvR8PiTSnunYeFgWXc8esVX\n",
              "HaQqSzk0B6hq9ZK7PX3BFCQGroMZ6xAvFsT63OjGc17zrekSRLWQXkx0D/d8uskYLBaQNZjqHEGq\n",
              "FX2aW5/bYlkDktjln+uign5Ba/VAwfRtGgwJENlYmWM3PjMIMIMzOjYoJNjN39VSvh/kUvFlnDYV\n",
              "UleO/+kYMItrH4FPmQoHR1jivEt5x9FMxTRsAKyYrzi1trNA00Q+azVUoVfOoBer7tvGWMjGhOEZ\n",
              "z8DfRd5rXdc+0TpWpTkMtaeGpOSdZg/EJMXxgEAxZmWSZg/Uaeytg1Gs720A8a2Rb53bpXbkYngR\n",
              "iMuhittpRAGE3rVYbsAX12kz9lZCuv3LE1c24hjnAUTfcIlpxeXwRuQ9us5OlF3XmysQN7OcuJE8\n",
              "8nl4HK6GaKn4zHO39iv3sLSkhmVOrnpuWm3rWDgucPBtENjUQ5qnD4kwLnZL6jw0yTM+rUVMEwEI\n",
              "1HTDzBfDl2/rpyAlfUgrV7fOPhxIbwxLy9pSq6Z/dQrTGh7lpU3m2gF7n8EOJAzSRrdxKouVWE4O\n",
              "NED4nm8+DdZ5hLhhQHGlPNePCbjkhMa2E9Apc+NmdasP349f8JWAIi51IvLGM9mAcjxrv+g4H3jb\n",
              "ibd8DjrCX4NbVvE5yrw3j4/+ndIQccUd+CP5oUfKS5xRTBLfy/47+K9hy5LkWHL6afldn5wWjwtv\n",
              "pNJVrE2MZalhfSYJ9B2kXdqGtu71aqmUaCXySY8PeVXErxCNhSidLhB41iMp1eqK6FFruvghvp2r\n",
              "BsBrn/iYOw32lsty8wYh6XSu0LttgkxlRZ0Kt/IumO3xv4HIa87NfYV8NKu9Bp7Q3eBhjI2FGhKk\n",
              "Rqt3Ln91CwWk8LPjx2kHIXICmTXJN/vXQYu01QQxq4ujuArY0eguvxUkkIqbQa7umK28M5N6ETkB\n",
              "7kAym7fLkzZq9prMx5aReNQHDHVyI9Vc6GkLKXYQcK1/y3F77WyfUmVjq1wU1Vwt77xMYWe/EkcL\n",
              "0WEh8MCcHb5JfkW0AffaJ7nYDZLAor2pxslqNKmuD6htKLESYomkCzVg6/mo3LV3uaHeoRFVm46s\n",
              "C41pubZ5Y15UOAAAAupBn3FFFSwr/wAFIOLN6e5zTM9RT5uyIuGs0d+ORsUYjOCl/T1ujeFJsUea\n",
              "/HQ1VaboX/AKcHJAjIBCJeSs+9CQafdldfH66gtkihmXaSwYeZ6rwM3ULokqjsNLacywFaUMx1hB\n",
              "xHVyCdcZ5ohMDDDxaOYcufUZixZLjROVVhBCt/uPG65uqmwg5eYhKysXyzrLktdrSDzr6JyZ0zMd\n",
              "k+JUG0BrbRPGtB+Htv8o4cdlkVNnTlnilIh+jLEVMo1R5dBBtcbdCxiM0GOFe82ps3pzfuI3R9Vd\n",
              "kKxkzpTdcTBge0+Sd8Icwj4N3rUUnb9ZeKXJTBUFO6q1WjWiWPsWc/8gxbQzRmSo0uohZxKzsuKN\n",
              "NI8q2tsA0XzhQI5GvjKKLQdh4cy2xGuUJtXr/1pWCdeBEN3u9/HBeZZWCxHn4uXae9zQ0Gh1F63U\n",
              "itnpIptXzHO5Tn45o1mxfTr/BufC77EyOMT2Iu5Ap9fY/BjYU9SOj4Y8jT6nHwCGK6q69AbzMRZd\n",
              "Nbf6u746z0i9p8WT/SqYbs5svQyYpcVdDGLuAcB/xZI/Nugr/xIp2GFXYBAyIdH9cXy28qP8wPcY\n",
              "f3a+JwHXJql5KNzhJ2XBXhKDV7+AuMjBSajEmz8++TjEVMO06cdfmG6hhu0J6NZYNw/BoP3AfZr/\n",
              "n4smEeDcJc5w/Au4DDPtktciSMPOfBV56rIeyUbfdU6Vw4C/Mpuqekde7GsQZhHIOHcnKgSv7KFT\n",
              "u75wUWUqStbDOio5Fa9VlQJV4ILWCBnleh62ttAnheWHFKwDbOQF/sejU2OE1ZTVPoCpA6IWbdXE\n",
              "a7U0rcWgU90ioIvVU+kAlOKQshCuO3xn7lpkpwmhl2HDLJugLQ7WkI8z6MjsBC68uQL7f1lBia5G\n",
              "raz1aUGidWL5hT8kEQIpXqT4E9rZoULmNt+XH7llpDcKtdLIOfsdZHOJz/s5Sm64rBjtRQdY1sxc\n",
              "19kVPGQvDeKB4DrAina5pzAm4QAAAkEBn5JqQr8ABUUJAT1NN3Efag2jbL7x1pJtsk4uK4G0BqkY\n",
              "so4v7yuOaSkr1C+08el7irWUYTFOtdZ/iwy7gUq+xq/gLB9bAdiE7rcTqYjqxLAmwAKsZgSfGDPB\n",
              "vQzlaXur/HshfeirtwW+O13W71QX8RcXqCl8mdVEhDrAO7wO7t7LYtAC+7OU1JeO1E/t+DVd+9ad\n",
              "iEDnI6qt8XZcmx4FkrmKPHthCidMrlJtT2Olgw61tsODz3oFn76lHpNC8/abLPxsMTLqepCkv9cu\n",
              "02RLBB8YEzciV0/7c6KFUkalujcCfHF5Z1TF4ElY1HuZqr5nWF9oFnQcTh6+jZIPtZG0N+dxwLSB\n",
              "iqRPwOj4yNUd1BfKIaThPVolUPJD/GMBbmlagr6C07Dlg0qg6F3OgT2aucVOQVwmISbyXmgUWwZy\n",
              "G06hNAQcL/tjL22ph8Q+JxEU5rbFUOt8Ga3NEKnpuBEaGLuknTbat9ZRDCy026DdHNAvwWfb0RNq\n",
              "BF5HYNMNqXI9c/lhxlqMO3SpCO2LVoF9+4bcA3WwurObOtlb8xpCxfTKDmnY/ziytRKhqdwgpBFB\n",
              "8adkArwDW5VKdHdtLOGYHXxhFlBTrwnLAaE2LLFWk5aQExrKpveIADmBUha2cPky42BgUIVxKHkx\n",
              "eMFPT6k4XTFVS28WS6Rr1KI5QBuxFIi73zc+ktd6nD91cCldBwzqU9bZjSqY+2ZbaeA83H2FzVup\n",
              "oRr+zXjLdWX70ACL16GdPykmsO3P2HCzd37DIAfMAAADOkGbl0moQWyZTAh3//6plgADPR6EArzf\n",
              "VQys4667BCdyRMz/CeM0IAAFD2wq8ef8CXFbq8n5QeRpElmSpp1HAmaULSjDroyT6gc2J7RIAvq8\n",
              "AcHcaEMDi2YWDg/XVGqzVdO1MsacT+wuRkRxiN5gi5NPXxzIVuWdxVI97EE6FLa0DdOBlYO+Z0lg\n",
              "ki/+vgb5PcLavaLRVprhtf/NZ8Fq3XjjzX4O+4ANOZGqEGA1CeGlNojYv0aQ/YYpgE/ax4GaSrAG\n",
              "0GsEPE+n1sxbOP8pzUn5gBJ/wTrKnt77I9ShRu1+6pdOy+3/uKulX0hxv/fRkqiEQien/OxFetfs\n",
              "OfieCleMZjgDGn8br0w0YHUx9jJmMfrZIHZYQV78WKZWNFsXroXKRdVjod43paqsQ7LQz0XofRFv\n",
              "Lrox4n6mq9dW0hS8xxwGMhEUSlFliXKdaYdR5pASXQM3QqATB7dwDCl+yrlt4kUDOmsyXkTP+eiY\n",
              "F0IVV13biKlPWjnh+oiAzdht76Tp94LbuWbVbLHz9OHlfpuKpKrnh58G8LaNTt1lR7kks6hyIQKV\n",
              "DqaFFtYKj53zA4dL8+850B/xehYdSMGrwNp+Mx3xpgrHKELDQS6NiyWj2ndMSwLdSZXr7/wFrUWC\n",
              "vlRVJ8Htqd/Jr5rPtuPeo8l9+ScYRJtcRd86deuRl6+ceoTVqq6EnthXDogDYKP7f7oT0VPEVDMd\n",
              "PHGyW63fR51e2i27nCeWVBlDoPPvGCbydDSynX4weMoRo3LYNi248CF8wYr76D0aPSJQ2xQUCaan\n",
              "yvu5+za+LxRLyhXFHbOVJdo0CenGNa5ezbREAvm4Rgk+uxoKKbuteEWWPkHRfcUUEDqfnI09H1XC\n",
              "YTgKOIM5VktMbNkalxh6Y9zGH+sgoL6uYB0MsdwddEiPgKfcyKuufkTquDF5Bzxr7wW6lZSd8n3/\n",
              "3yzw6fanmL5GI6JKB0QKFPJpy1/zE3fltPi+sMaNOjCRai/M4BONPwjCbI28YV2KkRwN1Tf8sGsn\n",
              "lkcwKICGzl/2qUjsXtE9KHAvhgTFUsSMVhmT/DZG0wXXskMj8WTZYEtGgbR/uS41Ohru5ZZdR4fF\n",
              "6QfPphYAAAL1QZ+1RRUsL/8AA83o166PtJxXIozxAdq4Sz33gBAi0vBPTXoDr4DBRwrmOm5HBnHM\n",
              "Zs29SO2oiseEAO7kOVTrSL7x4JDlIvU9Sl+E/tmtAK+ETV7XY2HP0lFzyYneHwBprSDekk1fPFZn\n",
              "e9ea2foFguPvqqAGmjdoGJLLCPupK6tv1wAwbaCiV3DTiRksHfuYRf/pj1Svrh5s1zQUZHQ4DDN4\n",
              "okD+cLCIN8/2oIDKgzfFbYgq+r80gICJ7o71dCuKS4KIlFMevFtIQGRW9l10osf0ges4Jn7Q7lX1\n",
              "MZM/rqJsnBGh8jJMqNwcyfDmrIBWpZq8azjchNLSZesHTkm1ABaKUdHqTGtGedYNDsHJQirBnG9Z\n",
              "mpJgX4f22vuECmfO+iONv32Q6OHxZadlXmGWHDG24GVeiD/oIqxWMVsFcWT5NTLngdUmQwGt6lpp\n",
              "gnO/U188wDvFXfyEHoYlOgUbK1AatRynzL5js8S5MLrzpqfQpu0AATJt2+AzfkSzF1HrcY/GCD6k\n",
              "m0pk0R6/hBFAtwntH8gD51S4wjqKGOwIFEvN+DnAU4pFTVOlMjAF+onn/lKA5dAR5ezpmRXfzLjR\n",
              "RaKRX3y/Fod8JACA3fEOgnYyUJrzvU+B5tiyyFXtasNhPlV8HspdNo1Q1mycMLoG4aR6H16Jlmx0\n",
              "q6FrM/Y44OrXcesQZvEd30pBbMSNgnVRTDkXfA+oaE7bNTVH6Jdc56/l2Mis3Ek81g9alkds9l6X\n",
              "QkJQF5GdmXQqlTYT/1JS9JJPuMpWHHR7pVPN8joU2HtPhU+qrb2MkNX/c88XhM6mIO3JV4d4JC6f\n",
              "F029yXeA9guRT9g0O7e1TIgDHMaN0QuWHz02zVtYB1vvDZ2Na05ViwHKfikgvXTHcuS7GwErcNxJ\n",
              "oKpxzRrhowqkL+nlmjSVWc9yp+FIm1op3xfrcCpX7hmehiQ90Y3m4nNhv5HEqrjYG2F0fJSQ/JaW\n",
              "gQmLGTLw+L0P9WfhbcjsPbH9w8PhA+xtQQAAAsIBn9R0Qr8AAeaG4wDNqmQAEJ1peUhHSAxmcxkL\n",
              "415ynBXxRXvLk0qlWpQ9xFX2PfB2MiYqLURD/X2C3A455jmR4aCBGmEEXAvS1LEFGByACgtaGKFO\n",
              "RWG7Nfzn5ei093VOIBLc1esx2VUXbz0wTWDyvnTXMB/10conB1YF/OMXa3htVSkUk90/k251kY7P\n",
              "HI55D3aISwdg1T/QE67dqZC6Ged6NidJe1+tDh9DQKG8cvX2mJbsCq1uGuUiayA+tJeepAukXbuV\n",
              "rSSZnfj7+YCYLHGpCXGNpJ2NfuTdfaUA6ft5uJol75WaMVwZGJfEgoi5g6Wm+EE+Lg1AW0Rq7K/S\n",
              "Mqkn5VXU1Fh+rjre8vQiFAeGY/mPXvkLWq9vwtDx5WsJcP1rtvl5nPxJjGm/rOZmwPaptQENjTPS\n",
              "lAQa43rvG975kYrrKrW8qjFPkQpMp1ScecyNaDdFu/UbtnzJsU9lz8rTNabg6bJhaFZgMSwZgoMF\n",
              "E0L7XufLNrA23PGyZEn1BlU7MqqalHWta7X1qRDRje9dEZzH6MfY3VgDC4gk69DozW9gtcfX7vBs\n",
              "2v0B2BtK55huXVgFr8s6XJsJOEe/WODIXUVye359yNueAPqM2QB+HhJLHeCqIjDRhmnee8HhpZAH\n",
              "8vQRGv2cXoXeHn6s96JH22XIoLvqaeJ0IPDpOp6prsbxFCo+xFAgBO+CRb9WJ+hEsWr3SZ+VUz2O\n",
              "HKGBTYzVfigzUCIwuE+4izx96XiItx+BQosfKvVUQlhQr/b9NCVrHZQ8k7oDQPad0OyRQqyeN05b\n",
              "0mofutCZYlVRuBz0+gqCml3gMm8SFWrm8whxq2Y7nRTnYBDdIEN0d3flQbytrnNDsUxtQ6+y1+cE\n",
              "ZuIT5ywk872uoVapDWP776i3tzTJEtXmuAPOjCoVSeV1y2KRZg6R60CmZbkX9ossWDqgAAACHwGf\n",
              "1mpCvwAFROQQZmfyS1r9aa+C/NSAAgS2PXNYvpsPFO7J6MIUWSI7tNxOSz/wXgAjEe+yfHXlE43f\n",
              "kj4OXIQiCQ0lTLa1K/r9+tZIRSB91iLwOB8ZtMCfCbTxokAe2he8KpZyhlziHAfy89aBoHHTJPNw\n",
              "pDXiPzo0GAG+Yl3ce0cIkQfSZI+54PFDy/GoYWPtUhcX+RewVzzjdOjyQLVu8P0iNzVv3CfUKWvK\n",
              "b6bQ/nr5mwYmlKVo6d0L750+BlnbrYWX7OEVRQo6kRkjIhdzWnlqMDGc3vTyRpe0A6yfEI1poUK8\n",
              "kn2eWKIwiNV9H1XfwN/Xk7kqL5hdzQGQm+t2arFBVyBWm0l8B2WWer9p+JFJqfHN5VCWmbBjeMeZ\n",
              "ZSL3w/sFNGjUVBW2fBgVcMdZICahXmDg8LmgRitX1wSZZu/nimBDeFUCfJk1C3x509fDeE/v2Lfz\n",
              "I76xbuN1kfSGio1wRBPyby/PGd5PX+A3CjA7v24xV6zD2x8Aa+KXmqPbx61gnYiVg8gsAXdppPIG\n",
              "rhgmwt89ghRdVJJw3wqVdrpgYeiJ1Aeh9fkHgrefdv50DHt2griH4ALSAIwiQCqrHcrBedC7JZGB\n",
              "zaBbQzaYVoUmdOy/Mdd0SCufONg+Ec7A6cFc7ox2qUxkWtI/ibcMTGiyDqOiG7NQfOVGy7BkiBcl\n",
              "qi0yRaV001wpuknYt7Q69+ZecCbsKKOYJsyM+QAAAuRBm9lJqEFsmUwUTDv//qmWAANB7aD1fF94\n",
              "HAAyNXFAgOGjwmo1chnnFvYxAypvTkeVFZJ3vCHaMVPKoFHK6PF3LwNSjNrezLq8J4cNlEi63km/\n",
              "/v5k8u8Gkmeik6BQO/DBz4a6DNhTPU9tR5Ue8mtHYtNNjENSY/qHcfiiE1BOVmHjdOUlyeeQ8bDk\n",
              "yg6T5nvZVtAizEOnwQVoLYa0mgx6qoxGbEuphMv5D+/9W792XEyMFIpvwXhmSF0uBbM32PHnzK3R\n",
              "fzxXDuGJcq3uN9Gm1+6Tb9FPnPLKUD5qvAuvIWsEjRva1OnAuyD1+IH2227eEBoBV2SWXZ+WaZxY\n",
              "6on0sdUH5Q/qs6cFsFCgjHnpRdtCXgF3rV7DZXBX7IKTso1+YzILT4I5KPvLK055A7zrMPqTCP81\n",
              "tQw8ynKhQ8acQTjnFR4tEnkOAstKRv1rxfsq9sOyicCElC+ZI/VEUpWOVbIr/J8WDQHiAyk1RlSV\n",
              "W34Eb8VpoKkFUrhhTy9TuCBSngpngaJAC+oBS7Tehld93EA8qbTncgLG/Aup0GynGliyfW1Pi6pU\n",
              "zxdRCXDD8I6np2Ur1q9PNw+VG3P1rkGR09DgABaZMGKDP2bdaOFi73bJKtKxkpt24IwCxONl/eqv\n",
              "FseA903TN/0w0wQMO2ITUtDBcuhOhsBrGcDbrWNpRZU8hdI/1a+adY7zhVGhRud6IJRjTwqBe5QD\n",
              "9oa8EZOW9+jiFXfbPYgdtT/xtYGywOACPDEKwGa+hoTlKmYfVZmPrdbgB5TpTPLs2coQK1PFxQv5\n",
              "UUD4DlL7OsgptchZ/QxV/swjk962TvyNhFXX7y8s3Yzb0nz+IrkGwkJdZGOJlm6QOgEGjIjoeF8+\n",
              "g5WDJU8z2QSEGux1FPyTZqHoIgg3cJdkJ3TC0cuDbwFMWQfk3NkJ/GXwNBpOEzW+obkvAwEfzz8Z\n",
              "17LObX/2gLSYjAOKEFIjISmn5QiFtKMOsRyQTmGhDwAAAsABn/hqQr8AAfECJna3CwAcyhZxu43y\n",
              "gpsk9U0j/4x0niQPdYNyFjiR+25CEQHK27M3Pi2kZnII/CjUM8pI6K5hvXJ9ifcv8+6UDr7VHg4m\n",
              "g1Gbt0x0r9hSA/qA31wvrfjALqnBWv61Bz27dsyRBIahFRf3hfMwGo/yiVZxbjpJHRJqQRwjicuv\n",
              "vl8yV872gQh8VANRWtFNDi366aEToejR8ycSv/DTFb5F7RBsmrMhCHqKOC/sybL76yGY3/8NI8Ep\n",
              "vKdMdBc1Ee6BZqnzeaoFNXdCvpK2xdr7MAoymTrc9DIuwQe+7jnIEa06peBBfBnXrZIs3lBICpyV\n",
              "T6U02vR1DlnyN5wSyJeT02SIdVRdZA3UutsWy/95baEHGprpc1PLUcJY3OYITSFh1l++KDMi1uN/\n",
              "ORlvCKW4EkiA3p0l93v4KTQvgkKrvWN+31I9HNdPlNoxKd+NCyJBnbFXlVQrkV2s37mmbX4JagFV\n",
              "wzeiepyJzOFiOH7xON2WItS19Anm4oHfDDT2LOtVQIJP98g4RPNXOgz33kKL0FSTeN8NEny8kQle\n",
              "gqpxKqXn5q5HCmhz9/02LoL9Te65TQCFeN9IbgcxXTzGAlYyrTLTWSU+aqSMC+ZAKlhY0Akg+9l3\n",
              "FpoXdJb3ZUvpkmcvRAJqz6zYecawzjnpMA0C02XsKpeprBGz9RFGEp7d7h7q5jf0pbd2Ypoh5uk5\n",
              "z/0yigufR2ezrvwgJCg+WSwsCtjARueoYcLfSCsU75ALD/W0L4/7r25H+bPyFSGPKZK6KMOYnaH3\n",
              "24SYAIUtHq3RmBCqJnMrELo3r74I3/hhamBtPNz37vL3yGWfcZPoBE/zY2RJgIPbE2CZ8ny+TE/1\n",
              "XJtvAinERODUJsverTgGcm5QB2LO/r9BWUzQEuNHixdrBFRx9HwXCVWSj3HtU6IrwggN0/UhUwAA\n",
              "A3lBm/1J4QpSZTAh3/6plgABOfkdZpd1IqrcQp8IqIuv5wWiZOZbQkAP5Yv/vnFZMfCT1z/SLfMB\n",
              "KoqhLgWv/gYkWCcg2I0A2R9RDx4locaxi/IhtSzK/95BN99UVRw5ONWjCVDoID4rADFm6x3Kudq/\n",
              "sDG256Ir5wyFi4afRPZXv4ncEY9hv2F5cxW7lOz7M5bD2QEEKvjWTF4+03/OdtCY73KWvOYTRss/\n",
              "InlTt/msbbvzlaQpdR+4x5j/baUtpYG2NgWsUIMREgCE7QFHU+G/RMJPL5fb2qhUhLVibgbhEKpt\n",
              "K8G2fXJ8jerdvM27uvm7QR8GXhszYChpe8k0S5uRBIrZXUv0qr76qf0nR0Lcwfm2kLDwQbZ5HU9R\n",
              "R3796HKK4Lpm0zdvYyOnt6fZLYVw9Ze9el89CZVIEQe9CPtagfWQd9CJTNWdrHxwllzQd92PgHSh\n",
              "TRceMMACaIxJWJQ5FQCW5IqwxiFnQP6axgLzCCETclOXkP7bEOxG1QMv142dfer58CJROxjj0unU\n",
              "e4QCYQCKUWMVNqDIg0AjEHHvRqTobl06S3hTL9gY7HjhjEI3UbCl0TJOpYOjfiayo4B7Lk/aKj2y\n",
              "S9817M6TokCithAnNWFsKOOnuL/gFSYiKvR4hxKf6mxfLiaMo6+aYc1jD4IrQzQs5TFh9+/CFlI9\n",
              "Cbmz+C7UI3w3RG+7smRzJ7pFRExws1akQjty2BcbVYk5jXD+hfaYeyST9bvX+hhw77zV0QT8nxxO\n",
              "B0CMg8lJLjq+DzSEL6daysOxkk6Rb3ihgqeazK1b5qn+PLPYjF7GXVmU92jnERT3HAh5iOht/DL0\n",
              "YrBLsczPu9XzIPsoWx3CYXpdFDHt8yZysbcpfPSZXTsRLU5SLBEC+AaTMFWrHtz/OxGp30HOxsPj\n",
              "OCm2wuisIUHLP9oXfJMb4IZuuMfLeay3d1+0bg5y94sBHQxO/koWdh7/R4GfcJ39Qzeqb4YDrdJY\n",
              "9XjBl1KCXMEj/hck+hRreenCsMKtV/5NTNQbeVG6/gQoemQNjSq/b7pHFytnvHFeQsNtikWbZofe\n",
              "4MhXcY4XtSqq9I6n/tr+44P0JUlpa2otgibmrYerYEO1aExyZmJfEaWK/361As+/oaPIoa8N62Q7\n",
              "olyxOvvNcxGtXAy2MHqP4jEi//p6rrlTO2J5EScNmn29tbd3AAACfUGeG0U0TC//AAPkBXHAvceO\n",
              "ZhYRKE6fv0ZsgQP22X5fWWgtx615RH3zUjkZE57C8lRwepK6gz4n4w3lsyXEOwJjEK87a7exszr4\n",
              "I+ZjGCxW7zYuwfhSrmzgdnCi65lti2htUkNQvUGwECCDQwZLIEzHy8RCtGcXtzxArz+n9EIKHTtd\n",
              "/wYSvk3ykN7fXmKaQYioltHCKDjlx9gVh79izq9kxTxAkoPtNMIr5Z1X8ng5w7OOukshkWrFMQO7\n",
              "DC5hxlKQf0VtgnO1VowFQ4z1LiQwN492jdb9TXlEwOdzAchdOUwxx8vAwJuv7/a/E3vVFXcjGQaC\n",
              "FX3TbipWSwa9mo/vrZcWRr3+jtO5S51v4Cj/njxz+JtO8om0hH6hC15tx71/r70rDs/ZzxD0sdR2\n",
              "YkK+ssc7kxljOrdReTASHqAcDSAMlhZ0i7YBeiz++T4yMl7LxzqP4knRmbVNVeY6oWtg4+v+fm1o\n",
              "QzGr21u40oFpxLUYmqztzIwmrRlUSiqXSAuBWhv41yKvY/vAbx2+e7csa96R0QSg9rpOW5ZgQg60\n",
              "GNST+6gWB38bt9KIoYzHZGTjHCygrlkU6x5QtCQboS7S6rOKoTVeE+eeVnsoFaxLb4sSnGQ7VxKO\n",
              "sczu0mQ5lQ1deGce2B0c1poUgRPVFp36hWrfufWaWIHnccI0LR0L4ds0JeKtzi2N15fDTNzrKUWW\n",
              "IIfzZ0EKuJ4CmaYLOpH66iyTLxvY3NXlcJW/qlb3ndjKZKsfBeuqAgkQzTKm2l7xsaKvsdnRcDWb\n",
              "8f/w7VJ88R6xho8ANObD+QSipSsockN8q+ZfuYx4V3r4Z6gbtGAQQxc327807Wp4+g4AAAKoAZ46\n",
              "dEK/AAVo4tFXlDjyXaPrg4vtj7OURg5sGAD8eVnhyf12vQshctxvDAsZiRWR7PTxM0Q6XvIHPrUa\n",
              "kji6Ple6YugBPuWBqN3Uwy3cC4XBmPc0sIAsP1+LNxpPvrFj/DAFpnXRfMEIP7j9IvQ0M6GIgDvI\n",
              "AaewC164HGrLzfLoF0fqizOujhcZL4gLmgF78obBZpdV2d3I0VOGEr+XOp92f7JeCQnijqJeYrwU\n",
              "pJ7X78KgVhd0c8a3Z2GhJLsIdfcqyPYuAGXVvuCH4ZbFkwv/fMw5WOqkEYwi8yZ+ULsyCBPH9jyw\n",
              "p1r/8QwYIeHYdV87Mojvaq8MWLHj1hH3GuqpaF4pWsfLvltTP9a7QnkBZFOJlZbAn0usTWoVoBa6\n",
              "rBhUS2vrhr822aDDK06qXT+iICh2a9YsgI11GPv07iUGUbI41t/GyPozN9nyWtTRthn3Q4IXnTRd\n",
              "jNtqFlgCY6QKjR/tawBA+3FhqmIPaSca4JgswCCKynfhnFlCUeupP9jNfvK89bQtbqk/urnlw9pg\n",
              "GM3rd3MBoYtX89HwCqIWH+wQmprlnmCjS9bwjrh95epofnRwFeSv6BZoGKi6fTil0HnE7YKaqQMx\n",
              "9yvtRBiCv1WQyMIvxkOUfMwk4Iu9ET2hCuCsst2zUczx41hPBG5xxvlZUiGzDY4JExr4jv7pK1wi\n",
              "COhUxBFzWxrD6ezpVeYaDKH0BKJYlhNEtXtXs0UbIkYY3I/3/fRCelCTEfkZ5WSWQLanQYtePdBR\n",
              "j9IynVqcOSmzWtS8jaBN0OINDlI+/cB8RSs3Y7B8cX5tNLH2pvbusJqfUCSWd05qgcO8JDcLn9Ze\n",
              "bOdXWZyWIknXc5VYIHdBtggRYcrzLBx8a1iqgCfB7BMLzrRuA/c81A8FkgcClY0+DekAAALjAZ48\n",
              "akK/AAVo4tFXlDjyXaPrg4vtj4IvzUgAIE8rPDn6x2/HqrsxCJYY2VUejS9Lvd7RZ723w7BrU0RC\n",
              "wiPOOA1tRLodSfRalXBkfbB39h70plzDmfu7CIf+NY8RjA+m70tMzxCzr+v58H2HqWiNIRV8840Q\n",
              "VWsqjs3bPKP80/P4cpT/AdJVmzLZgjjs1VhasjzJLphF4Pj/eh2MWgi2m2iQuVCJebpuBoAECrBg\n",
              "q0j2nFA66AdPLuomRdSXrCe3lAo/rE3TEqipHRybbm3Vk0+OUuM4+zxf4Jtn19gZAz3M1xNPhVEo\n",
              "exxYm697Q44RxWce2z4g98sVzAOq9Fyex74rYht00k9XIr27K9Gqg23hu6kh5WYyHT1AHzFln3n0\n",
              "Njs9eUDZ4zUR0ipMV08B0huJ8/GoOP9CQ3dqRMaFjHrpQ0GJyoC1cXnPFoTONyLyJP2XoLGsrbFl\n",
              "37BlFhVhiQWhkmjT3q4ojGgq8wEyNqQcXmTMz6ZYd7ROrGEeY04ZrGx2Qt45xdsVufeH8gCDRtbO\n",
              "5055I6xU9BvRJ3mWERLL/VYvLJ12Ae0hX2LbYkdduYn4viKWgsnIrblCXPVdx100SXYygYk48GuF\n",
              "XgrPLH9EICaH8in6Xmc5QVHBrvT1kw0Peayr9h+M8aLlsRMiLr5spQVqWsczPHKF3hOl+V/Riqil\n",
              "srwj96+KswY9erufjZWicIfhTKOi/LN2u077SGj3gXV2BxzVDvmassBbrslVflkPmp8wpdeh/7IG\n",
              "cH3A60hVbeoQF+a8cQ7ptyfFsUJl4/eKPYGdX7IQ5eoeVD71da1FAgSCsW5L7+ywQ7qen32CT/Ed\n",
              "uZlptNSXgeoX3ephxtE9MbV3JdykbjWIQM7k9wsLGZDk9gvaq87SrJvKoLszscop6Dp3nAmI4e48\n",
              "g+r/akHuXXfogF2JSgKoDydOq75zcy7t2dOZbtoG+qKXKFIKrXVI3wH6YMjcKnBjnllQcQAAAw1B\n",
              "miBJqEFomUwId//+qZYAAThfuVNIh6sQjCSZW4ZfgAqBLStxzGwPdp91+09sL6cVyrGp0LL8HiCH\n",
              "9JNGJVFErX+iaKf19u+bZHzL9shx5M3sdvcxlXpb35m+rsRimG14nOHJTkaNybdnMjO52rC/vBSe\n",
              "wNDS+HIInevQSUbwK1kFJvgH3iYqTPhvkKIMbB/kULVg/nnaw5xrG+r4yCfMofwqtxHC+faDg6Hp\n",
              "iJwIlSgmW4GvA0HNmcF/ZIPEHhDn6U3xehmYw1plp0eExsYJbMgEnNXbDreCqgXeC+sw8YjPzD6O\n",
              "Q7StbjiOG7dTSJT4QCzgu86CocLvgioMYXM9pM9gXLWWxYevRiumJxsmGwVv90XzeEfqoIjiI6F3\n",
              "IKtCEt5zWvEcWbjzGzZ9NqQphfb/60jB1UyAZKcMaofIOYcgd0PXkxqfwQGoNQb62ojw6OcmVXw/\n",
              "oFYBZygKVLzHiqldhsDp7xk0iWzn9raW9/wVaoZJl43QglFGCo3g4ujZ3Q7SBkIyBI5sYwzLYktC\n",
              "c+ORNjoyEw7jQQ3t3dwIhWE3BmzLaOIVIyT5MQC5WuG9aZW4ilw/V8i8p+ff2L/FFN78dmX+hwfg\n",
              "CSdj4iTTVuaQsiwYd7OuHNO6klTuv4bvxi+89iZIz+/E5t4lenCbYjjdjFeKUxbpj0BpkgS4k1nI\n",
              "EHql7Jqhas8d/gf+hfujknNNG1nE6c5f34j1myDZCbBcT7EkciBCtDQxT8Xg2OhC02+MNPAnvXlg\n",
              "clc03oz9VJY2l2RwVAUvDl64iWQXjod10BC3TOzBTPRyjmX0upsBsBowqSJL914Th1Cm8iKn1GqL\n",
              "oBIITxJNb/KcSne9pizVQ2BKdilFMqplpydaxj19W4oCb7IfbX5r3kMxNn6lzwaA6q+4VrP974MU\n",
              "Y3VuDEgStZQ5ns4wYvEu00AcJvdHVGXWrx/NdO1pIYmP5n2P74hkZDI0Y74VhFqDmfOHHZcRdmJs\n",
              "OmEY3tpLUrGPOJmME1AYSCjJJ2kGBp2BbtqO4LgJspnZOg32ZAHTAAACq0GeXkURLCv/AAVFCQJc\n",
              "mm7FfDGUPDGip4FWpkkas0k6q+1vF+o4a2peNzZszbomrzJMZRJq3W/wvb0m/SFip8rpsZuxUG5S\n",
              "+EvfMnOMPquEkoXf1ocRl+5Cg6PCOoc+TqwwYXKQrOoj6t/wSkbTdiFJUvmmZoskC5ciMIEdzBR4\n",
              "SehqT17LKjp0uaCBmdT1SZ6pf1d3CQfxl46FWzSRQHYs0KSC2uaDbnpR76j43yCJ1mEqw7DqDeMn\n",
              "cD0vsmAakarotvvXBYbG80vCwxIHbPmFfqEO1FfHmNZOADnplRucPl5AS7nHZ0I4AEVKrwc9OTkX\n",
              "wu2aL7YUhKXMrUv0wL6fZL1IrIjKyQwng9iiuFhmhiQb5R9wdGpGJ2K8ryXWviHt62HxXxiOdtjf\n",
              "pYR0qOrHNujzdtZSlzAbgSrynImqWqfIhGy2bjou0PV/8z9MqEnRr3MNwOyCebf2uC32qZ084eNz\n",
              "rxRLD5Gpl7TYKEu0qJzGzQuUuHdJYAF9m/eRo2BGABcePuR4NKXRZJAybp5R/aJUKm9WLk1r+AAI\n",
              "3DN6yO5qVvgY7ifWFlIgAcV5hVtlYhTIjvsQIyiynP0yhHfhScKy2Hq6vrrVtGnvj1+XWA7U0/Xl\n",
              "bYrnthJhKCr38igllSOp0epA59fTLbZBwlWMfIMk4ndqbFxosJSnbhAs6MjIG5KRGu9khwPy566n\n",
              "JUNJ8pJaY++VHquwI+xEkF+SZsOFKG2r+Pq5UdS+WE4UNIQWBXwbdAcljQYlaCIANevQjhI8+v2x\n",
              "51Vl7SoQwDG90wgbdOy/kSKcJblRTo9KaW04mjZ1K98PFGQ9DAvRux3FBBoVX23rPQFvkp1AAtRH\n",
              "ft/15U5VBae7gmUVtvd56ulDyXSgLN5dYv6fv1J740egOWlZXm1pSweMAAACVwGef2pCvwAFROQQ\n",
              "ZmeyvdmaIBJUNPoVarHFNJW/vXOkWEGpk5sY7fBtX7XABeX4SZrrPd83YU2XCBcQSsOkNBN1x2Yy\n",
              "4C0XO9IlOfQLPDMWpHRqVYq5VaZCMD8OYNwZEDmvM/qVAhA29tycCvVuYzrDX5urcaIK2y2HMysk\n",
              "lBH2+MyiLEb1oCH4Bq9aYsuoMIkPU3iMMnpxFa3Th05FpxrVvB54C5rG/8GDhcldTsMFPhhtpIOR\n",
              "rhbR2VliPKvHeVq6VqybUHRKY5UIFLAVjsORc4s8cbLhYfbzKGpQ/qrPI2v6DHPYUNKEnwv05vev\n",
              "e2j9w2BRehwVbitzpN3xkhzMFXTa08Q6A6FOAfiU+g7qnvb5lOV+hmEQF00KwzU9AfiGK7p5K/uI\n",
              "VzTpUJiMFo324qYFoF3D46+lPdKR+NDGY/MHbdEBse4Jtii88jiS0DPVOdRVpcHUAhSxRyhWkqGR\n",
              "70fx0RyWCjS3F91zTO/8rQtTCDLvEC7E26R9Z8tZ4JtQ7AIT6t+vPsqHDR8ykLiXjm7jsxM5fkxM\n",
              "NM/p5cGBzYJ9TAd9Ukqj6EZR6HN8gJFilNcCFAocIZa0K4Ia+91Sossl0Ie+VG2EySIYyKo1pbZl\n",
              "mpHP5Jqd49gvA06RB4Bsb75XUlT/WgzRPfWW1T9E0WzA6LOFtxa6Hx3FlLPnT86BNHNhVe+23WC0\n",
              "WHk8v5g4kAhrWUrUGMd58GkHho49WCr3SLF4bEZPDW5gCLDwFiHo/3vLv2nhssZVOwhOp8u5W3VI\n",
              "E3gea7FkMmpelnHoHfLg+wNTAAAD9EGaZEmoQWyZTAh3//6plgABOfkdZplOZv1D109NF43ObefD\n",
              "0zJwBBa4H25HxRuRD8wX3+JKxXP9UNQDR3+qBYNS+/5PDgZAje30aWIzt+Uzb3bDmOc5c9XMQ6mM\n",
              "nbuScu+01+J1B0T5gUa2g8dX3OLQO0gXizD1Etdg0GmJ3pYpvZkZjsfFnjqdCDd7fb1pX04aqDhg\n",
              "elAgssPPr7UJ1njUKfnfS38CGOYG/dmijFTWUU0V6+vWqEJs9CdICGAr+rdyEOd8rMNuGhXHcRg+\n",
              "xA06IgPbP/sT3fstkkUVO65aDwLjIyG4LVNHPo1pJR9KNGU8grLA8NZ2uNh1cHPARhZoe9+g5ftq\n",
              "d38WgC3vn+hdyo7fwQM/acoVbE5+5w1XA8em0u0fAU93Bbjj1WNzc31G8VDC81aY1NHo6Bf/pL6B\n",
              "a35Me8XoZm95X6rE52kjKum4PYmbUovlpLeJM0llt0nxZnTAoUKNAUYDGkgG0EvZeGChmMDfG9gn\n",
              "8LcOgktGjbm+suEw4cU1lC4PaZA6o78TITV7Zys8GYSkz6Y318TPlV6//birwpWKxYWsGsIRpBES\n",
              "XiPAgtrNP+i8EuK1ANM77ew5tIeiyEPW6uY9rAf8NHXEJ7xYVWQvsHjuE73lspvtkklAkbQyH+Ss\n",
              "CItVNXeZVXcVfWQ1jLFhSRAsITeHBc61rdiwKglQ+x3DIgvYRp0u1Cqrjxg5/gMP534Q9hl8Bn9L\n",
              "tXgh6bxcmc3ip2HvbPpByVOxXyn/cfpws08GZYUpOugzpp35dSkXeBMxLaMSGLhxoSG7TAxAPsp1\n",
              "+s5L8tI+lK7xqsG+jvqymgtfmApYBbySexl3hu6RSp+o71ShO1VttlaqZkPHcyuIdniBKT+fhJki\n",
              "Z0iDbUlldOoNKOPL8Pnpl9pKEiwfZTfUJzj7S4UVEAW7HJqijHo5WTSUcxII9MfBCLUJ0hl5DMON\n",
              "mJw5iQmc1hAQnS6ZWot0vntJFceHNHk/KIAyD7C8bRl2Q8Wao+9AyyOgC/c7YLhJqXApPAni23LX\n",
              "EuBRGzWDjk1iT1POUgtcBBHo/KYeCL7Id3h/RuCpmHK5ii7IhOdU2QB38/pV49Ixxma40iYqh5I8\n",
              "PT1BJxT67SjKRcoTD3fLj4ndihzPAtF8y37KAjvFSD85EWzlAB9hZcyAQy+1KvYrPwxxqoHOJZyK\n",
              "zACSQ95KaWW4Ll3P9YgD+7dtc0ppdOtLuE/r13Q8z5abf1sP9+p8UyvdW64fUVCii/8XLIY92gLc\n",
              "R93qbaGAwjCfLy6++PnHO7HzKjcV8PV3NQFut80N7hoe2IxMV/WqWA+F5cCcJ6rvF24OQkhgjwUt\n",
              "z5+loSi3DUAAAAJEQZ6CRRUsL/8AA7gDwlNuTgmhiXLIsUEep7zKBW20jAsyE2GoPrzn3ZiAN+zy\n",
              "YNmpEfp1Eqhu2pfG1dLsiFf/q4MOkeeYr/q2FC39H9oWI9UePAJRIzLXDoGTFFs+RxEv8PQoEx5s\n",
              "4P2OKi7J8Ji7En4c6EOFmRq/gi+lu+TdsD/NM+18HDkpavN5MEJek9Tq7kPvmHZUkrvotn7rmMAN\n",
              "441lumr/BmgTOWDgX4cSZ791efNyyKAA5kwKU4b7IABwJlqa47WhbxRG+rr4fi+ZvQLNDNNjen0G\n",
              "TBP1FMhJk1EL4UWeqIhGh5MccDz5oRHijwWKWmBQptfUluvqZJAtm/lGFI9l7m7My7Q7Tw570B8r\n",
              "sS7A59szTGI4mCYEvU1TGQsFr8V7TIytj0hx+cdfv7kmVEjPi4e1VyIYy65yGa738RPRSWrYycu0\n",
              "Wqg1XnRjdEzbp7JEOPp610wvps5ZvXTrqCS8dkA+krD9Sf38oAkR+TozpUYqUsvNcfny1BCmPMeA\n",
              "P288jF9+lwjElRU+v/weQoaFB/3BZtx2HbNxKqgTulHR4qq3//F6qkibu3sPo/7Q+NGyY2r1bc7Y\n",
              "xGASi2gG3k/hbbx6mBtS+B8Ed2ofsSTOGB7hIei8CTGzfXnzea25l2+6CUp3/y0vaAgfT/qbTPi7\n",
              "FQ5IJkf3CMV3TkITZ0zMlMfN5fOcurvbVKPndhTBNj0hZFb6hGcE2XoaFRinWHeYCHEgTWCKmCJ8\n",
              "XmQqQWSPvHd+MjI0xp6ILGD0NAm4KwAAAioBnqF0Qr8ABSDi0kyewDEFJ0YBG+eGf18jximukS50\n",
              "Lk+gIAOCUrZf2R9pO7/JWp3HLPX98fRvmPhsoGIXEZxDLs/VKeXksfIxytXT8bl2Vk5aaL1VFDih\n",
              "ioCBWffnqauEgo+y7Xl9lcJrJIwvLGthro42fFAZudU0TMA/9ACWiPKwfu+bk58oLwRLsMZeEuZj\n",
              "rh89IYsS81bTkgi9j3C2zhT9yJIlL79G14xL6TiSXlZ6zKh/6IIIHVTKQv01+OgbVgpIVOxUhove\n",
              "kmeI+SWijNkDlc7GW2xEKkBcN2/LUJW9GVhLAVDGHDA9gfT0cdFCBzY0carp2q+IcA4HJviF8LVj\n",
              "q6a6Nx08mxDhwhgvYdyu2a0bz+yZjQ0LMwTZ9cYpj6r5bsU4FboPtj6iX2ysiSA6wiI7df4vkKV0\n",
              "ZJx1J+gJN4VJ1NObPp9wcXjgW70Ju6+9C5X/+6H3dOA+aeRKykkqsmFAViiF4GyePG31YvvMy7ux\n",
              "E6vvyWfhkaSYMwIy6OxY6qJuNCHbneZuVCZQZ6deIdz3UzR208olWeo6AeGC3ycU5mQAkDxMVO8R\n",
              "RPX8ksALA33m/nJSRDX5N7NVFuD/ChkVFBZ4sf6ohZsdl5gQkjMMKUwjRYjQ2e2UMC8HZXYgQeRz\n",
              "czBWa8o37ysXcKEMZGKUDlo4hmGCDV0cKR4O/lI7dM+YE9ctclSKh16jr+FvuORXH40rlYP6uNAY\n",
              "8b6CmNDQHpzBeQAAAqMBnqNqQr8AAfEB1rlM7QAO0NKhyBr73mz+hoKkZZq22ca1m0VZmW64+EjO\n",
              "v6fO6QIefGQ/5VjamDPVxyQd+TJ/d0xQoDbOnfNyB6kdCEbuKCcILTV7e+rFSt6qAN7WYxk1Kavw\n",
              "C+IFsOMcwVc4GUR90KVTFPZEqiG9VXgnEv3UthbUt2IP3qdsfRBMXGJcbudt+9n2H9Dlzx+KGZYF\n",
              "VmB8crlD4w5PAUnqYa1UKxFvCgeh82tEw6tL6bTtAhfUMlHBM1gXpLULTS0xxszKES4B0cNBJcKd\n",
              "rHxJ0n3rMC9I8zpcwDyg5hLAayNFy1sLujDmtnhOseRUJzOsrHSN3UjcGk0WXz4Q7SKYQRR2UK3G\n",
              "/b5WsMygpL2VPdpUe+tqF6X9OZMamnEEVrrD6U64uPxYUhNaeI8yTPVRLyff/hoxze8vNDLelHAW\n",
              "j37VthDGA62I2CqII7r8FKdcG6i6rUXuArN8TaMoCG7l8O9F3ZdnYcjWQe8TfkAXiGu/9p7zPYZ2\n",
              "leJPEP4Qv0smuGj6ACJCtKuGsmooRwZuN54B1N6NGtF04fLKdbGLO/r/2xiRzhBMgkvoejfNbcto\n",
              "JBDHCgyN751wdjGxdn/Zyv8nNYoepoyRaoZLWxuq88q20D6wN/uy0Jy3lieRBk6G3o3cldNMdBE/\n",
              "FdYXrgRvwJgQUrW4jdGKW/i9ZmKhVCLrhCD/6zrQjwJwvSS3T0WGKyY5GANSAmo/mYE5x9xufKCe\n",
              "lVq8NHwedxaNtdXM5TJJawssSGuRFBIoxWk3e4fPYYH0a/44h4e1HoiA9lY6ddXYiAOlZ0gHZzzj\n",
              "YPjl+vpZptAj+b2FgFpCn1Yqcm4KDNKhbpor2+kQIOhjmZGr7ImIhc7dJDJWu7Pskaw2mB0q1xNY\n",
              "Mx/8Dt0AAAKPQZqoSahBbJlMCHf//qmWAANB/NZEXE+or8137V1JeEdGrKgFWDmwzyJXZ8spLoBM\n",
              "2YDxPwseH0VCUBX2BhQ8uMPi7beNEM2MJrNWZ1D/nqmWIF2nkkVVhHf5P72FePHjks4P35fyUTsc\n",
              "Fv1XNkMStqZheMH2hMRyqwg2+2HzaeCvAuH9XH9ul/PtBCR/ncsVVN9I3/6TfYT6X6YYkk4Lbm6B\n",
              "8lPxDxafNoBv7i3sSDjAMlOMHD9H2AEOR1Zfp/uCkQDe8VlcUYUNNqXXClXuwzkm4HQF6xbCAjC8\n",
              "NLaYtC1YokAkHJOfwBFfhluaAxb0ukt4ShPsRA/qTc4sV1bzEdJPIploPkT2nUDJsJffk9VbavTQ\n",
              "qeGJik6oErhuxaFuOLLhCutINNJlFOtbQkp3xiNwDlUR42+4WePa39wvGki9X2XtkQwZNZydafGx\n",
              "wf6Sm5KxxL1LgWc1/v3Wo12h2OJHS7NCuaVgpI5buMEllo7F/8CP83T7sjiU7GWjoIuMNrfMIa8x\n",
              "PqCRaq4Hey5P9VZT2CNm9U1uKtm9FrW42hJpihjUpqg4j2m7TXUEZ2kX111PX8KrR52zdxnNFQsm\n",
              "XqtYCu/OGbyT7ufsjufbEt8OlTfIyeuO9uYanxdGKZavTKFGGD3mqd7vQwM+or9l/E9tBtRzutpn\n",
              "l4NAmKKTRdkOqfabT0sQSXQTZ3Zq689+B/D5ZtYMhCGeQ/DKO4rb/9SvPK1I+9Kaz9aMJ5CrPZNc\n",
              "ptwYsBqO6oGEX/vAhbtfRxwengxu5lF95rkA8RqZomgPjX6qrVKtV1UVern6pIrCDZ+IYOru/oif\n",
              "NPE8vTw1fB3vGpuR2RveJhpc0YX3yeuKPZSJK2jS1KrSZ2oIuQAAA59BnsZFFSwv/wADzejXtNcM\n",
              "tEAqekZKyDfuHO7yeM8khyirkOiddJLSo6Gwk6ZxjcNbA/wZE5WDTC91CAquDgUDqWVf/8NMa638\n",
              "skz1CRiAuY6NslfLHQE/1KOJE6cY0ukWW0qDSGSe2x3Vjcagqcm4f6fCadbSAaLW60BWqqkBVL7Y\n",
              "6pM1uoKrU3hAmzP74Yj3bO+h1Z//856ygSaQOEzMIN4dCAB/AgFxcEX+UuhBymYSKHfno8e2w5Y9\n",
              "bhX5mTnodLqOTLBWI5dtg7KEi4IgAw5HK9lPb8Q7EIMKAVUjXekxyNT3dhOFV+ifBME06/p62dd3\n",
              "eUnHC+JI8rzcZqkxsIoaG4ctvABTjUnSrb3F99YEbXQuGL2IOe9JLtCDvYZV6ir5r93k++/Hw7Nq\n",
              "YgNIUNW2sXx+bwPiEEK0JukI+W4BJRta1LCWIP4D6NgVquICE6n0LVOtDokoYjo9Q6JceRUblccH\n",
              "dBVrecIWBt1cAV8dAGSvXWG3jEgrvuo4wWqPtsfIvTpxXTNmgz5rjUcTGBoLuzjDCFCXLhGaKmWP\n",
              "pnC1y0riVaWgjel8plZb+19L25tYix+pp7fswS00CDi8tsSho8eTaq/m7B340+9tyGrQddvy+GRW\n",
              "ewnt0ywo0/7K5VFm5ZhajDjPHULZC9FElHUzGY3Ln+AaZTjRqwECI2BczxMxgURKDx5wcPYN334A\n",
              "u99sFWXqR1XvVaj0qX2ys9F+kzjWMmktTeDmXuWS6586PsbxVn7JfbzLDfJ0VVuvzdOFNAXMel/Y\n",
              "+bgCbeJfww1itAWTw9Kx7Fdkt2b3gb6otnjdoWOlPN3/e3HiGsoStXpnlN9aECFDS9s9n7apL0Zs\n",
              "G3/n8vEnL5Sy1hLOZZX3gwU4Cw9vEo5i0dIXG5907KY8kUTmyxn6myGuotE3DXq4dXovqGELuJmy\n",
              "eIJMwXWvXjBvzGnt03fG9kMRaEoBysUf0/QTej4Lz3fMFA/FgVEJ/m2qb50VQkJdQRp4vOK3YcRO\n",
              "bqAYcCfGWdTI0SFEq0pixsm98O9mZDrvngl1BobpG9V6J2nxhUSi4IFA/KmlTikHEEujcSijByvc\n",
              "ApmMtKkh/qtRXPNVdaP6ZHq0bttKVaPNQt0W3xnH1e8Towgc5iJrGbsK1SM7YsGMW+B5kiBY2XA6\n",
              "ZUhB/9NAgA2aX9oqrwgHzroYqxK7xtvJ+0s3KsS9d8rHUQde2AdrZ9dpTS7jyLUPzqT5PBigGDEA\n",
              "AAMrAZ7ldEK/AAHl34RWxABzQtf1zAmFpUhB3gx36zasfLacCjWtSGdmbNi9ueHmr01m3UzfhRxJ\n",
              "l0Et/khhU3QcZN4SzVtjgWUCXvOJT94TtJJJe7LDNTq+zEp9HdyluFupOZ6ePC3sd9ePlQUjro2q\n",
              "quEZxRamoUKLcmne0gz2CbK0w3idZK+UVQIIU9pL+lVIaAA+NVV7Pq982ln2nVbflaNAPd4PWnlO\n",
              "6nWUBhCaDjMr6cP0Fz7w54d2gQILt8KuZyZXYNTV+4iZoUY0RW8obCR4d+zpwlvAVXNPKu2M3LJH\n",
              "ibRgU35o/UlzX379R1XIu4SM7AaMdzj19QfHC/liatmYs6ujQptzgPdKrsuXqLSDv+7//aOTli5D\n",
              "6yqnHRGO3BlyeowOxZWB6VQ3C2/qbaVLPQk93Avu6WIiVm49hPIvF2fYxDDsLlPLKVTdnXfDkjIg\n",
              "ih0tjL2P64GkblmWgKw8zeshUsItRp5zB74+slvIl+t0gjZRtvrOCSTilttcfisp2brzNwROLcdN\n",
              "4wn1m2mZ6ZJ75NjiZcHymKR5mP0+rTaCtaY+JID+2dEQypw+st1hDGHOPAXZX/8F070awSeHDNP/\n",
              "mSreTW8dq1VJA9s62RL1tCqEDf/5lDGODPMgzYjg2pHnwXtPJsmVKFzib+OL9E7weCdBMADWGxaF\n",
              "jGjIg/J71LM8jC2cGY0JTByejwfXpjnSx1VZSmGToRUT5W3LbsAtDv7PbCPPmi6AsJyFc+oWshKW\n",
              "HxUt/5lwxaZftSbul6IxHI2d+4IA3aSSse3aWnqnPbbz1z491gtZjNZO1wVuH+TGHN7rHdrXsCfc\n",
              "KpTObWxUnKNy9QA9hI3UanqgWNyCEZGnZFnbAFYQVPzDjry8ZyY96MP3Pc9rjm61/e3GKGx8CabQ\n",
              "m/Az2R4IY+rvIhnqxg2+jRWeZMCREBmt36kjbgFVCWZb9UKj8W8qkS8i0mAr/u5TBu2l2udYca96\n",
              "AM1AIURwls27sRzYXUDXVS4DaSdbpIhqlhDaxIFz8XhKAAsckRmSVMjJwPUqbxqZtA7aX4YPanJ7\n",
              "jmZJamkQhG05C88ZamA6oQAAArwBnudqQr8ABUTkDk+Pza758rgwTAx5UIpOxUAJUpMIvclRZC0u\n",
              "I0fmmK6CrGVTHmmGci3QrIbrIgEmJT3F79H1NQCEkvvChfcz7gvs7H1XcBUm/IMIElB8C+38HupL\n",
              "pLOYskMz3PZGlsy616Qy0T/CqolpafxCAL0s8Wwu3+GQwwaa/f1p6a4t/tUf46VoczW7p2/ynKZx\n",
              "6i0mBDn/A/qAze7M00202rYRL/dfsvs3TgoY9BdUTGv828ZtgZKqIr75s1v4lP23ZV7WjzY9P0PI\n",
              "DVraqetgEjd3xmRL9egFPCgkuf1TjxXxun0/IPtN6fRyj+Li+Jn6mu7qgyN8G/ydyV7uIBGmhIxz\n",
              "8qloJmE9qCDKLXy/5NNtVGoR3pXsTr371hwwOPHXKLH6Qr+3hLRrn6bp9w1Kdpeb2xSTJrXisplE\n",
              "uy/adaFOhsTimF1q23fAbri2DIiB1FqPufJ4dYYk8Iwafu1jfkm6o7ik2sVKKma9gYRzI4exNhdt\n",
              "iKjR/VZ/54ic9ESkURAZt2wX17c7rXvWkud3MZrWref+nWkRKG/f4JUkLvRsmKMJcZqD9OmAvDuA\n",
              "rgQpkYYd1E4VVfnWH3kvv93l9BmrHIgMaq1BcgGoLtLExWeLmT1EzhTK8w8IGDJbkuCuGIDyzkTO\n",
              "g3b2teGdz5/5j2Er1jLbUL2vJPfBrd5LLGi3IZ14lHKoP2H3YAhzlFBr100018qlvC8MdYDbLq48\n",
              "UWVcfI8RgqdwYECjFpTL9fjyX27pVXbBkcrwpI1qG+qGITcqWiOsTQiZ0n3uclWWit+lXPplUzdL\n",
              "tYhW4NAPw09gqwB1TibGoCZ/ESZq0q8ypJdQp0dztXKm6U/m0pR3JnxvmcctwDUCSXxiYPUs2L0b\n",
              "CrrEDfkilzP52/ivJG8+T68QnNcX3q3qrqjYAQIyikLiAH3AAAADMEGa7EmoQWyZTAhv//6nhAAG\n",
              "d9lROPXedeUSu92AHG0kxFO+s54/PhXrAMO/C/r6KqrOLcpRvWlg/OkrV0sVaXszbhxTUopDc2A8\n",
              "a5rrAq2VKWW5tvuy+Urd3ADPouk8FmE7kUPPYbj6M3FUFms4j4AAI9/agSPmum5jTcd/ocdyH3iH\n",
              "RZNDO4fs3iBT8i/tuaLi8/n1Tyu0+A8d+1z5lgWK+EDdtadmG0SqnMlg6fF+2ka5e52SNOMjdRmK\n",
              "xTyfbqAmgqsZLXe9wHX/GWW/DjaKk8u+5/ejvRJr3SmZzoKtDd0k14aqw1QDQSKMfM/cmrDX/oa+\n",
              "YRaHaKdCGxMsLoKqIFjg9w20yY/nraAisufV150wb6FTVFvSQSoTg/osDTUelQUsTjE6ybuV2QMv\n",
              "5ULMHXvtz8jCjuObvQSLisn/h156ZQDoxed9knEEGWsVQCXe0wbnR5I3Pe/3DK/dDv8xRHRIuoJF\n",
              "jjd0ENHcnfpfrZtCZiO9RM8jjajorJtp55tA79Rc+0GTpCI6FFoDvr7QmEeDsWiHXri9sE5yxR51\n",
              "eCGRwDb4sdorFNeOjuqJu+WzFzLExALTeJWMIizRUMf0JDwDjwHilC//PtioPE9dVXgihZBUy8Rk\n",
              "dImqQJuMgC3UpHXKGmwryqipdvdS/ip3zzcOPD0l0Ctx4Va0yT30w5/dGZRRkD/COPCNKV6X+VU3\n",
              "jdI+FymLQ1YzotMhXLIfOPIr8yxRMtOvModkpxgVWMKJz5mRyPWYHvrQIKAoSwyzoo9ibBac6Vwy\n",
              "NdpFzx6PfUibw4lW0+lnqEL8CN8d6Wf+j2cG7AI+dX1CORMh8jpNUWSg87NwCQl14eghQrePH3Jf\n",
              "PtdpYFCaAn53q2f4rXBKPeB0+l9YMaP8dkpVwAm4X7BujXEzrtoYOpeiCEp8uQ+/LGMCh//poopl\n",
              "oFisDdRpQ4DfuL2faDVI6uKBC2aKaGskoZLUSsBkQ5ySHhB58cOXBdvPMr5ROwrWQMMCcMzwnTe/\n",
              "CaM5i144Cg73zteWdW0VvmMKsi2iiDl78Dgyd6h7mfpsIKRs4xuOHUu+0eEA7G/8QBQllQ5BkX8D\n",
              "PgAAAvFBnwpFFSwv/wADzeg3P0jHgdN8OJ28dJZgPDEqeYLDQ+HjaIz/JfQf1PCaCWM5fAPGMY94\n",
              "5CDmPO48jnpcmZtchVgJXqaLDDsY2kKeHC/uz7UAtTaMa57T71o2+qZf6ZUlSUz+LsHCkbPrH8Uh\n",
              "nwdNNLWTgx5/5GFekMMHifJ93yop7NBWV1uDAB5FBE8OvteznFfuRlsiH51MmHGzdkF1w8XA8j+W\n",
              "PhkzZ70v8mvNLSIcOuGuuUs+SXAhlAoPuMFhTu6XfjupY2sfugigVnXEVpz8Jcnyn9aLongl2kjr\n",
              "GwLjKdOZcx/yFtFcLePm0P/la5q1VO2Nh9JbxlnIv32UD+aC97bbsA0WayL45QXnhP8Hjn6D+a/H\n",
              "tLhVA2GZVeF2TVnZ/YBMBOOdN1fPkcitTnHbiq39IbUywO3oBcOsHZnWyuF2kqbYGj+eJ4MuWLwI\n",
              "k+uSSOx01BmkJXMnG4eIpgJNAeMLBPvT52wE8iNfHIOhLqqQFdjD2dFyBleNI6w+PqYHPltjaRxy\n",
              "kTM4x4ZNvhnuuDvB2GdCuPFCBi/qq5huTtYhwG7/8RAz/z6GNXhVUmjIAQOr8KMPkIRTFq9u76V3\n",
              "Ul8tXxJHjVWdlxPFGEt+WI+Zq8vbWGhfTeXaIusw85YFovVkcJ1OTZSbmVertn7xJxWCIRHjnSGQ\n",
              "sEDFpFva2ilOoGmD3E5rjY2x0mh++H1366eLyMZj9Rv8gFKV1sepo04o1BS27V/wRzft1ZrNKUjs\n",
              "go/8GA0DHUQXQOFPvnvFSEUC6fdah+FkfGHDPxUJgPvK4nCVl7p6RCFwEgJbmBt/DLHOJkx6vNMa\n",
              "0QULLG82+7psSv8I0Au2HYQ/NDn4HbmyhETBWu5Kvn/L4aExH0klHQEutdmfciE/cgZsKBvsdSRr\n",
              "vztvvhAeDHnk1ZEWAxZaUpH6CFKTSOmdDRk0IuYeKTqj6R+HYhBKnjAxnCXH3te+Dd0V9t+d7xOb\n",
              "ixHg4mnjd4jw+CzDqYUuC2kAAAJAAZ8pdEK/AAVE5CdJVuN9BgaiPaRGah9vdWudF0ZmtHcsD7az\n",
              "Fa8Sh8u0EgA3f8ZSclQkNTs2d81zW2LVW8wV62dHhdm6CJLB4EztUc19IhnmiRqePrGXjngvKXjj\n",
              "tt2Pb/DD9aX62JE13Y7EJAACoB2oMdoxu6i7mXMiIShpHk9b8PKdWDlIt7C0Q0J9rrv1lkyrzX3J\n",
              "THXJ9hOSb92TPsTK2+SOD7W/22XOrzUV+SkEJC8zFg1dw9ic6F4XbhebzRxMx2yqdFCIjI2f9qSX\n",
              "5VoYJmrFRP939649gkKxGc+X6n3H6JrQ1Irrk+0aP1+7Jc/GXi3MLsBYwFJTeeTtIIBpAWPeRWrw\n",
              "kB+aHRgp5U9sRx7QJvDwYNBBSc1zSMiSYngqfuWqMf5Aq/QoXPMi6/y0vdF6nsDQDKWAUvf8kGfK\n",
              "1Sc93npEioQYytVoM7eErqPWldb/33NLxKo4Oaw6BkaoZbl+UnfUZ+Vq6fRFvVdIaf8oGE8QA4ET\n",
              "1rPqhaz/z30X7Qta4KH0lIZ89kjWT5NvhcbZRsSao3/Wi8ZYh01b8EYzV3lQ88p8rTjsn7ek4UdP\n",
              "31kUyFn8hlopxrrV7w303TEfsXWoSQDFZcgj1sDD3RzKzVQxYUJISH2ANbpp/ER4jaTQQxpRbTaX\n",
              "OUKdfISwh6HElVU9b4PEtcYkTn4kIojdhkpR2jm2TjN+rGw0FcyIz7x2jC9dpOuUHCjWqj+YwMlF\n",
              "po9KGrqAejOc8MIBFY3BmWveLoBaK4C2IOOAAAACcgGfK2pCvwAFROQQZk2dsO7Kc216mb2QAgLP\n",
              "DpLahyGFmu9pnpXx5puxCazejf+1JJxKoFQwMQqUkXtUCurjmmyHcdl3q+XlzwVRTVuncxftU/HM\n",
              "YaAWkj42LwhYcY10VvgnTmIaRYGnUfgBOxJz5XT0WzrzT5wLAMDbqM0Cf9kbU0kg6BFEBvY2j7zN\n",
              "01fWW4tuKTsEJKtkOi2RD6PAzULxVMki2BBdgo5htK5ZJx/jjoNiYYIILQg2ANsBrIV/xU9OGZTk\n",
              "QEaoiIdkbhDAkzw6t7Af0uMz5CmtnZzJ4iRc8RoVoWJFXFiKw5AekQp75PQDdjbTtKjodR9HV/SG\n",
              "DGMvqVVKBrK1F1wKqii18PLbKMdfJZBGcViFBNkfrS5xzgknBGXsY17MqT4iFi5pSmhhox0t2i+c\n",
              "Ur1J2XE1bV9Wzz+EWjGIvrKQIb6jQDhEOESjldEYICfSZyh0ERQMxmtEXcEDKQi0lO0GUFg/FFcC\n",
              "DDqWj6udKEiL2yf9fw6WJW7ZAeiZaHhrj7/a6U9w+HmlDqz97Fx3awwoC217Y4Gmn24ilDnQEoG9\n",
              "jH8hKD5CgVBln8C6xS2DCxkbB3/31vZJ2ACWEllfRcX4IoXd0lElwekEjfP2nsgNYjwIZKSogr6p\n",
              "BaoH6/GSjX48AJFuKklAm3bJDumbfkPnvfLCgcqCaM73eolrbb49N3CA5Vgmds7UmL3C0LuFMfR7\n",
              "mkOouEiz/QbJuDib1l7BdMD9v68YDESaUVmmOuXD1C/DRixEZXbMBgzj54dH3etz78Qm9UhF9ALX\n",
              "VZg/ZpPIe5NbTaEfcq7sjEkd8MPJEIx31Qc1PbIuAAADKEGbLkmoQWyZTBRMN//+p4QABm7ULNzu\n",
              "A4VdmAAtnQk+l8ynsaduL/6X5SeKzVVv09vMrJdkYvTJu585UfxdfW9APCDQgzshN07/bQYqsKIa\n",
              "+n+rmeC5ZMXcwhGt4m20djZ7mARA+3ayxEtdPDNfmzMABR740RRpM4+kBJKQAVCWc58BzES0+TzV\n",
              "oWv0P29YI5+zhqIvybLnaovioEuJmNCwXY9sUmjZUiBOnNvOgcoV6bBmXSmTbCR71wPu+mf7Qy4b\n",
              "6yrP00bj6n5+gWBX/E6HjmE0MXKp9TE2NxgFKfoDBUh7B2yLPhAUw2Me5a9DXgXk6sm04gy2Y9R+\n",
              "TmoZfWcZPyZyDoODYAtmOwZJUwCFMGJaEaDG9ScAM5hKJC6XML4JEsXEGGvbx3A3rsnbaDJHUt09\n",
              "xFKSUv6GrNEmbkQls7yHla/wcoagB24/IE1WVUFsHJMe2XQQQlsT8EPUSnuCs7sR+O8M2KTLCAqS\n",
              "13j0nb61YsdMo7rz8Kn3yvBo4kZwM2xrLj+CnX6DcRBZphr5s2/Vd0TbHYPPgiH5y0xsXJMGoG+O\n",
              "T3D8VSteyC9ykFLHT87EMWUIGIeH4sRxOS4jGQUJ5Dl4Fjlqv1rCuQclT4+P3RQzX9SUv6yxIM1B\n",
              "YUzFBJszcOViwrpatc3NPDV6Wi2SkZf3C7p5lntVbu00KuIlyPa4iwSuLG3W5D9cZK60U6f6jcDW\n",
              "sBbegEU5mh6t4RWa19zHmWXIaAGbkvQqOnhgj1szUJjWyHmPcn6sWxQxv6s2U3SQABaOt4xdKym4\n",
              "wMNpz4D3Od/WyMkcNCydzWUYBXCedwWN9t/upBRpENsHSEb0AA4cSYxFXABOzXhnTqVowsdriDq2\n",
              "PTbJz+Oy45C/BkiQTj6aCwdFJxVs7GChEWruSuSQ/fiJfB5KaH+KjxRSE20apRg3bjALo/1sHgb3\n",
              "M+XQBeRu7cVTpxGWDxsqWQZxre/z6q9wkmyphTghu5DNQv5Ck3uUwFwpQDJV5+47skmvZNL4SFDf\n",
              "Yyrg7yb4gUnlKeapJqmDJKxGJxFA7iz4QtF5B3qkAfE7zGrHNlKw98gpFMEAAALLAZ9NakK/AAVE\n",
              "5BBmTZ2w7sp0VdmX+ABAlrOAtRaX4C30wstMvtOceTQYGrfIBCnAv78Mf5LYR3SgOJ+vdHVdsRY5\n",
              "PS4WOl6M1GEyUloImxb2qi1/Pnw0LPHIV/Ty/n5gbjSfCfrc9KCBeKbn3L9xy8yIO1PbH3nze2DI\n",
              "sS6VopVcvUVOCRW84cPteduJISXQh2GmZuBu1DDr9TSnORI7SX8LETop4DoAIo8KdvmkiWy9ibju\n",
              "ZteCioIfxiyF8c5/ByTgGfBA7mB5f0E236veje0wEpt3zQ8FI0EjdrCG+qcc3NUPuvWvEMnyRx4V\n",
              "p0eFwxhwLVIYKdF28jg/mBA3QWRVc+pk303Rz8Zd5QRK0urhl2DQAyUZe5r8H3pgqR8ozmq7fb0q\n",
              "6nBG93Q9wuYhxfuWJvQlVlyoLVN4Y1m13innidCFdqBC1ZzsP7tcxPkOILQ3flW5pHT2khNDPiGp\n",
              "zgS6sUukm14Dq+hFSjjb14aOibRDH7Z488LZlnmc/bvia4uaTv2F16+f+TDszx60i7T/jr7uHwNk\n",
              "rbC486Wez8kEL2lFq/SRG9NJcWcVHAcoYq29kOPGr4MALapy/9MUsZsokAIOS0aSzID0q00lldGw\n",
              "0wUb/djG1vR0dPa2Lxg7bSqsP769CJoEAMxqFNbn2uT4Muk3fPdEf/ohZV/V7OaUmC9wBWrZ3sfT\n",
              "i2mCiF1s8RQwh/5z5o7H4tqrQCsTpE+xXxvFIlBRMFMcmStxPN9nfVvT9QdaJyFNuUE6ZOXxg4Ty\n",
              "2Zl7/YIX+XT+sSTiQYYmD/RGmNulf4SCcy+mz2P7nYRNkMXiMOthid9eg4Zmabile3gTJL+J12u4\n",
              "IWxr3KcCoAABAcaNika8Y7t4eJ2dResKmAkn9e9LYlEz2K9psf8fX7qweCyv7tdtQ46soCPsJmbD\n",
              "gi9KnP2hpbX3vgeQrUdKdJukqVHCkwAABBlBm1BJ4QpSZTBSw7/+qZYAA1X9FMOk4cAJUQyn6jUh\n",
              "3B9chxa3tgCTM15hVLRjnPzW61ICsnHNU1H9MQSJN+7OQvVJTgRQKcYe0fh7Iw1aLO0Q3sCoyVr/\n",
              "onzYoGBwdB+8QNtNnQGy9yPqHD70quqKhw/ES28rYi6V1QRXIt2SGpTBc1Awa64X6DqGSxLHSJuc\n",
              "KO6dOpaCxoplSqkmfsbguE8MCKAevHOCt5tf3SSofRbfYvphskpR5dR0XQPfmvaGisP3him/yI8V\n",
              "OnItuenad+Vv8H+0AfPXci1JIgJi1EdaLxxIib33X6ULHcyAmLUeZ0gZ3Kk3OLSDsyQvQIMiBWGn\n",
              "fX8avwHVUuqPzP7/dtZIW5Xa4T9IIzOlDi6Td16B5/a4+w19CLv7MF/MWCRlcrdem3tZgTsEhwIM\n",
              "avR4U48vJbUsIjAjOo+6Yee7cGs1OP8R5Uymw5nbiseKekZTd5XDqG4BeNev0JKY3dY4o4DEQFdX\n",
              "Ywld+ZWdTldTTRm/hS2+uX+J0L/FKZscMGJOhQi4cDvtBfWudJXe74MLrZhSEQPS/f36KO3SZGNT\n",
              "82SuNkxafwFLCFwkEqS8Emrp/DvNKHuZ+jUjo8UA6Dj6mDkaCSQ4ut6jfuRzzENvRo3T1q3XDD7D\n",
              "R8e5vt9IVeFBJwUT3bYvUOxawnqglIEs7frRl+cjvqHJDM0iTe8wC1hyslou/8YeBajtAkyLsRz4\n",
              "leDn8fUAIdysbtARP+uwrTf17gSdUQ/G8J9H+Wt+E3/058g2+qrx5LkgAxdVPN5pSmppnG99huLW\n",
              "HMGajwvPikxfUZ4jqqMFPVfhNuJbQQYyb1wCRGMXfnI2okgqt8lRS9Ko/Dw37++YEAYt2BMwtyYU\n",
              "g4knF8yqLFzXqvon07fbPRvR2nN3YCa2Q0HvvcJUm4gvGuAyNSSZBWEPfab+9uHmpfkOPhctr2v8\n",
              "VXFK0/aNIzpqni132BfaUVvrhcz7RDoBl/nuZ7AXs22DoqWf0VfgS+J4rBZTp035TxVy8YL///lv\n",
              "xMh5liKbZzRzxvNSzQiNcPGnNyBeNOSsyTAhXW49NwxWcSqe3Bt/n7luCg6ieUZu0+uz7oEcKEu4\n",
              "jwFKlpbVJjO9wbmWLI2IEMIsDne9S92skUepQQHk9zKYZp3FxIvFQezN6F6WyCnQYNWGMRAo0lBs\n",
              "5VnBEepfneT8a0ayTvpNlEb4ZbSde1+vdgsFss/JjazcBXo4E/Oz56ZECgxRl+MlCXrxZCyV4P9c\n",
              "i7M5pXhw4Ny3UVaz6zFW3KP/2hmMDzYetAkG18JtMPpVFfVdCLiZ8BvADo1tPEiPDrnavPur6+z/\n",
              "tzg6fJAhOr8vQojjijVDOs2ZiNSozCwKE/h/cw+0PEyjkPeglKxxcMgRmXUS5OL5HwAAAgQBn29q\n",
              "Qr8ABWji1JbsVLPDNE3INdWXhSeyQbz8gHfAA4jOGlsrE/Q+EoGTTa/kQnH7rAZt7tkW9f5jN3ym\n",
              "bjmsJnxjrKFd+N3v4TToU/Y8eRcgJyCGzN/DGgOc979l50cUjsXMFdq1Ksp0nwwKdx8RTcetDUTm\n",
              "4lRxqzSeJKaGZUQVL72vvErAdYLpg42RcgOCXOipon7BWIrdX3l6LFUjHm9X+LISqWthtpWNyXoz\n",
              "Il3IYhiSh+mJkgClHSZVCmlRx9ndgTXMB8XH2rsSW5M8Oay4ItY7U5aWMDpv4YmxPquQ21EJ8UwI\n",
              "FuL5OsXP6wh7+AfnL8/tFDueovWH4172SXkd1/1lZ8axGLI3RqnEpraQVjzD6bSJQ1yCQeZi+QOu\n",
              "+I/mcb4WFYCsAFmvUuEQOihi7hMFK9rqgJZL472wS8HQZiXRZZMU0v3JINrbpgYzU1w97q7OGE4K\n",
              "kJ5o01EuK20xFfpm3WXwYIU/BJb86JO9x4/whJZb4rvk8l3fZPA5rAim/Hk3g2NRBXOTpm22d3Ul\n",
              "6s0taCcLYThVJ+Gq54W1kQBu3y+EXAeflOkuJOn9TuJDxSBiY0PNj77Kjrf9X2hveBqRN8A2bw1z\n",
              "TKLc9Cd4YksRPgjfbbWhHYJN4SqEKdvMTZJRYFhxHpY+sa+8xM2+xMKYsLSwXHE+LsT6T1FABbQA\n",
              "AAOxQZt0SeEOiZTAhv/+p4QABp/ZOjiI+SkxSawlqGb5Otp64SIiXYj/ofTvizTBOFWLD8qqJOUA\n",
              "BT9bpCwUfpoxlO9ZITPlCk1ZQbmV2k4deG+FjbHUbLKgA8vqYKC2bZa46vZeS/hIud7i1h/HiS6e\n",
              "4Q2VhxOoRv3okKRUuGRFDsBWxpo4fEpSdKHYE8I57V0xaB+dbforoIpBSM6/K0iWEMl34vTkHj+a\n",
              "PjxK1Qxdlbj8uYB/TyILcawgbTYqvxspV/mHxME02G75pHkL3zUOfMdDd5Xw9OZdDi387S5pHctl\n",
              "E/Bj/eagFv8dBIv7zAKyG1PJPfHc06bDRuLrd06GgCdn91d7FV+ZacVgUSxO9cf1jfFlPNX1Gw4r\n",
              "z8uXa48lFsiu9MINaTL54uEhMCENO500yRXFqT21wBSidfaHZMyDiEotYj8cRG6IgT/yQm1i+WIW\n",
              "bvnIlhb1pf0S1eGyislfp8maQi8MJQnEurk/yOf2FilqifqVTs97mWcCZi1DT3h5e8EP9k3LCI0B\n",
              "6yvCBCQyon0BOtqXoYuYs7wbe5yEi5zl3KkEi14vs3xoCI0MNobEa22ECcpEL26+lbFsMN8o3BNS\n",
              "PoIXT0ESIgXDEilhZA/2kT70FSndqr58bThGRXGmkBY7uxTLbW1qdcDvHZ27s4XYyrEREkfKdX0n\n",
              "WVNFEft1rjcYLu2rt1fV3c97ihd41YT/7jFrg/gIUlOdLRa1eMDUNI/GRVScs3/aIXDesTWThhqX\n",
              "4mjp3iRZnIu0TkdB2DIfsF47gpqttQJElcp3TK95TIskRmleZLmZ6II9DgTw7loKSjFX5cXc4NUJ\n",
              "Buz/drV7YL7DEwPKuI5ansjOzEqHJOFutTYMD7xzM6PlfvaJ85VcpQmalm/7KETwQlkpEetUgJ19\n",
              "55yV55XDiIxTWk0KyUsHGKXXDIkZncjcaG/9l91E1+R26gxkhr+6+i3fUk7n/W4Md3lKdedi/yIY\n",
              "a5cBQL7FsDz1kMbQjCkSE3j3WCuWs6mwxxYefrY9JiExY2kNKZ8yqU8gY9RAsrBlaF4QOasopy+S\n",
              "Qk1PsYc6+gTlahKhtvaRiZWYlQ/Olj3ZpqiJGF2hy1fPQTEbq06t4OiUaf+hE15CHCH291ZHbTuM\n",
              "W0wRVSZu7umgI+ogXBjdmpWgmd5h7kupXmqDU0AkR99wObydcT2WD1pprDl2xd1S3VDMxk/22wxW\n",
              "WiJNVStm3Sfk2jUTQG9hUuhfUJJe9+nQTiMvmrDm/EmYgM+AAAAB9EGfkkUVPC//AAPj59Smp71g\n",
              "iO63iUYTQ7+srx4UeomHEnCYV9VIlHOADSECxKSnITc5GLpfwnB60Uf1c8Vjp6unFcbeZ4MKUV4g\n",
              "5t177Q4suFb7n2hVhSCX1L+6C8awI+A/CZIzddebDii2GKwWPXKJfGpx2DhkpoUCgynTjhgC7G22\n",
              "90FScEvquAtvYBDQ40VbaW6/hwxNnLO4OLbeEH9+kAOeDRUml/j8LN6cLfvkR5wP08o7wxmjGJ42\n",
              "hjn+tTCMfit9KBJ9rkUNyEXaAF/km7ysx3BbZ/ILGexjZbYqMMHMiM0Jpal3SCtEbK9YRROkR8u2\n",
              "bOg6f2PPpK50QIXWNpH1tAguI3L91JXrqEWBaPYsQ3nKfcrKspIl3F+RW8dXseeZD0K9GugEPMU4\n",
              "EPi5cQbuI2u3lRjZSHJr7eSWcbVon18IXOp5NAV/v1GItMBMh/QLTiVfLEY3TqdaLx0/7dDKP3V4\n",
              "CFYyCfj5jogM1p8CMKar2FFwOatDxXbVYowkF2GLPF9pWBvZRIn9JOqX2U0q/deoF/RqmbxNNXts\n",
              "v5+UpUeOrhAWgWCRziL6yd3ZJ+pjkYbxAKbJVt/XiedI0i4wQcRGHzqu59PD0t3tOf/vv+wTteIQ\n",
              "+bd4wiVsHBOPaxkgn4hxhKGcI4rFuNqntB0xAAACXQGfsXRCvwAFaOenxq09eFibrzD0ZcPX7iqA\n",
              "X5t/x1IAF1GlQ7JohX0RIX3bxpH5rUMqZNapg6xzWNz7mR2wEBnnkPef8Wz2NMx+tamWEt/8zFuY\n",
              "2QFZvdgqEAEIM3kPj4sQCoD/bn0Hg1bkHDZUw5LHh2pz7y4UrBSdHlnqxrlHkpYUoVx1QBudQaCs\n",
              "9Mc/EjIJ9woGDu/mSfEhGPyR0mx9FWGQzH2U7gLYS5YVnMqm9OwxR8y3vczkR1SekhaIy2NGbi26\n",
              "humCxFAMiAb3FShH0B36PQfHHgWYheHSJFiE3jXDor/k3WSP7plFT9TI/6M0WBANT9f++pdGmpg7\n",
              "2jbXIIcvEoIKAvmujaMKcY2rfToI6zwy/ikx64HrEtPfKNiQL7vM+4uEw4ocIV1RD2th0MrCabRY\n",
              "MDNIIpFW2RIoW6o4QOTSxO1tL3IWLVZblz6LhOrReaWO8O4qZP0peAhWylsuylcbftfKEtx3sa2f\n",
              "mZ6RasCbq/hquSu7hC6DBq+RnoCORd3BgJquNo5FogrvYQwtA27wCvT+8oFGKfHxyLTPfk2Fhwt7\n",
              "Uarcg46v80e2aqRogeAeanpzNZVVetPv+zCBKP8Lq27M3dJOaBGsQVT0umWE0F+QmDRvvFh3ynlq\n",
              "rUZKG/Ty4hfBIyx6W8Lp+6OO4slK4h06qKJZ/4zQ07arzDYUB5kC6DIr2ZeTRfZWtDXnnc4m7R5t\n",
              "718qbcM3pQeX7nNAkL4XANrGCe9wdD+pB2SWFjZQRRyl/XPyLa2J3oAAUuPLvJH3+3NQxyUEmjyf\n",
              "N8qQn1DciAJWAAADPwGfs2pCvwAFROQQZk7qDscEptdlGdQCvgAECUiSbI2EhXzzgqkeqm8HcobM\n",
              "pwE/PLbdryiNgmhsUMTB0TEpAvtp1MXH3cHMyuCCClRkBhVmCPAc267SQa00Ca7BZ3O6vfIWKJvq\n",
              "keLCvc1jCokwxxa9eiMYcJakRk7pXIwz42rmhDNrSiOZAk5CoB3DFIluxofzglxp28gOclFi6fog\n",
              "20Xc84WCi0mWqnFzCKkmlZkncpxsIphHmO23Ad96XKC+jI/M+GgE/r7zcbnRa9u5JiCepH/2jM9u\n",
              "U367enFysO+KrvyI59CTpxSXWrmaXtlwFK+Jk9dvqq7ma4vApuJjceR1wrIL0zspQc7Krm9VIQpg\n",
              "5K6e0h/2asbUMz7x0lOOVnTzBNhMKpb/BqwhtGhx7qDmkSZ3WsJG1DVwrle0G+90bveufaOscTh7\n",
              "loXNAShzAraMW0Hl3P4lO9w6qxU1sCoPsT7jVemzxjlubhXBtwRMXM/CmvcLypKQTDAPZDXGxqgd\n",
              "1ewMFLKBOLGRHos33sM90MfTYRfRcyeK0PrHjhW3PnuQ5oOJN8XS+ik9GnhlHDW+Td0WRMRtIhHc\n",
              "bC0ASBJ92EHNU1BtsHt2tizj+e7q8V2deynh+j+pxBtG7Y5BG+44vwD7eeBHNHtIJiPyy3EeRpxs\n",
              "R+AxOxMcY2rm8bM1KtC8/1SStPf4HZIWwTKwt1vbAZ2rnNDhGGJbQ16C3Xbr16i5OQvuscKu+YDM\n",
              "8a7AmkkX62uO1SagwzU9a98Pwy5xzmMH4MR2lhHLIqLkXgjUw5u/PfD8BTU9n2bHiPMWZnDfkHh/\n",
              "ZEq4swMBJytNZqDUuqvN2IbJLhpdxfarYS14Nfq1aoaLVId10iQN8aAZr1UFoVN9HTKfvgUBf/tI\n",
              "VDxhKHi0Vy7WFdD0ofRs289d3wWQsHpjU9a7hWKC3nsdiRc9eiIaba2lcRQ38EicCsw7im7nN/I1\n",
              "neEf/a0rtNQHh6zPzCAKKUz3+NW6ycTRf96MJ1+i7el6Rbf0Bkew2cTiU4qgD9JcgRxCscxVIVZH\n",
              "kqRstX6Y4Up+Yr0ZXfEScc4kEwDaFAcaxQ9Bmgq743SbHSn02rXSFP6F+WQ7oAAAAmdBm7ZJqEFo\n",
              "mUwU8N/+p4QABnfZOsCujSGtn8AEtYZ69M5Z2KQUljxmAKMeFEf3Q1y/ghHTvH3AOfDTbGiV3vZ+\n",
              "qdfR3MNX82de5PVo8rRj9QYOdgJWDWQvJFpJBnDayKdatmZVS5aotaoKdkXA6rLkbc/fAsKhCtJz\n",
              "yGY801U69QvIyIqDi3RpeKvnHaMWhh2JFKzl6wyGDIFDJoyWzwiD6AyYgt9cADD4gTlAFCg8kI+a\n",
              "F6k1PO1dfWbhuFiS4aSE0Q/HnPZqJiKnRdkPG6q+fPqO0wV3YkN6eEiSoC3Gx0V+2InAwk5Kjj3v\n",
              "0DRsjEfNBx52m3XUSkNxJOYBs0sAAwjyy0xR5+ek6DSdaC5uoorjcIpxuQIobyOBACC/8UNdd5TK\n",
              "K8VYH/CF/6EJEFZKIPeqe8ms0G4O2u35cGAJdbr1K66MESqWOK6Li8iX17F9QAqGclrawb5B686k\n",
              "8BfsTfzrgyXIjGUVMNXyPsfc5mdCGvYy5t7r5OIUCWLT+ig8uWYzisBPjwAhW0CdVWf4ljYspi37\n",
              "+qKk7DGMx1C6+MFKhBV5nasKUAccukRQ109TnCoPVh4HIiLfF2SL/JWSid8zNIZfycIg1cvvNcUe\n",
              "b2yslG1jFboiZ9I6PO6dGI0fk8l7Hs/tFMZJSIacHZotmNwoqf+qyRwB9qylABsIei5eD552EIaw\n",
              "5/SSWKPKmAHwLOqsY4TBTvI3VGZCFw5Atqj4jXLJqrVKrrIM48VJtEQ7MEe9KWzv8Ann6KPxZEqv\n",
              "wlCuP6T5L65cxew+212JZ1Fko/e2oyB67h+pbUM3BIg8MSw7qaEAAANXAZ/VakK/AAVE5BBmTZ2w\n",
              "7mBnJmfexddrh7GsSABdRpUOyaIV9ESF+KjnRJrqztJBXu95F7nhNMz0fstaCvVTAb3vHu4rUXo0\n",
              "U30U21RlzNY9lPG80StpEZLxu2+tOpkoS4JPVljqWfb7ZToo3UxtRH2YdM+A3/hPJ8bgF6iuuYwx\n",
              "hv5Uruu7fOfsLzTmQlEDWlKbXzSa89bA3zLS4J8ST0ZzzJs/3ai1y9cjN4Fqob3kbvBTEF/pLk3w\n",
              "W/7VreuMr/9SCbQ+a3LceYGR5Ku0gTGwqwmG6Q0iz8JIATvor0rpfiLArmVlPiax2lrjkeEsGSl6\n",
              "ogm0P1hE2bBrjC2F5VOYiCzU7YZ6I4tte6r/5QzPU94v/yeY2OcLtZPD/0k0hmi3LU7UL2jgEWri\n",
              "rKE8Jn/8C9cctYUJOdtwBXMRo0izbq3ohba3ETUQvf8Bc7f9Sd7rlLO73IYOhvCM45utz69iFfeJ\n",
              "j3MxN0v+9cKqPEvRmD7XOiSS/jiaDMnqFlnF9PqU558aO1TU2iABl1X0fWoYlch/hIB/qqoi62Zy\n",
              "8jnoqicryLqBvaO0ZGmBXtYGfeoX3SX4lD4iEJxZxEL7QUUU+zytL1BkCEkqds+GUD0vY55u16MH\n",
              "gVd8mygXHjWT4qjMttcaRqB3MFlFIbKGTDyD5NLemUCCKZmHDTsIszZjMQERkCI4MFANQb6bRqfV\n",
              "ktddEOV7IG6stZBB965k92ubrATvTETVGaIonp4CQM6L0fvPyzHdzQFoKylNzgpH3QQkzEidy7ba\n",
              "B814JM/NkzMgFVeC/CJpVAw8GSaQ2fsPPTTIm2iUfKxr0SlVFN/CMJvcPfdsXdQk47cw0YPkIQJu\n",
              "stfIck7UMZD78XPcb/tOUWE1m5GYjb1g2nQZr86mhMf4K35lfzVZDd0PQWG6i8RyPrrQxgdy47ZV\n",
              "Q9cTl++rPyHHou1RKezzXw5yUwovc3jN16Hhr0Q0yRWdxkL7o5oSOmeRwScBGQvF+1eQvunuybg8\n",
              "/Ll3Yz9i3OONwrt3pfyFGZ5r8WfOxsyMsrGaChNCEo0iEmc2PPkAtOZfQOoWdtR/ZI6e0B60s7PU\n",
              "7cvtz3l/5bHkpogHk8aAgcgE61sOuZ7Yg0ybh4snEsVEimuAqfDysFJAAAAEAkGb10nhClJlMCHf\n",
              "/qmWAAMt7aD3ku4fUe/d8KonAA7S6AR4VaeQx8gSF6nElREDyotYYSyKtsJ2cATwCu1OiPveyPBQ\n",
              "PNmjjylANkbnQWdfttOXv4fNbi+xr2N/khXqeCM/RhLN0pzwMyAsdFNC7Ffvfvk6igvytYM+9wyB\n",
              "hXnb/qdf72AMY7R5s1skvbwYTnj8NRXfDU2D1DbM/cU7hjQWBubjUOBnCOA+2NuV8CUELFJ+KJyq\n",
              "LyU07q+KrQoAiVxI58UdoNIT38wo3UXdPzPvg2RqkztBFv6/ZQHRjDoYuyNGF4FtR48pOMPfVIBe\n",
              "nlt1+FSasQkrEwvmQ9dxcE8V6rtjSCK5mOeU/WlB5NdYutca9oO+gqH1ZcJMG6SZbK4etiRe3AI5\n",
              "/7UwhXWRvvKgDx/eQKR+j3RWrKMxgdyr7gTOhHRFce+hFWJNpeLHOLZte7Ue2G8667O+LHULx1YV\n",
              "kOQnycawiM0Sy7OMwyjoiRRdqBuDY6vwSvkyc+py7MtwnrpRy52WggGSZ3eUxIfbWN9lf0PH3Q3Y\n",
              "FbJOAxQ134T4Ra0t7ps67kp23vy1rAEriU2HSpbr1waI1XOXIBc9VmQx3nfsMoclC3DHQ6NUVptt\n",
              "r29Sr8mcADt3pXGT0UasMbrL6PEh5vq0EjBBXY4UZR+oUqeYG0/lBM8jYWyKeRikLOBb4zKYwv1a\n",
              "hVFx0+8wLBy+ZTdNm7xDAbE6ST4gVmhRZAOzdXPprZyySdYQDWwudFGEfQnvtWRzQyejGPc+EWx6\n",
              "E1//X3Xi0+pKgFJcjRzSZbELi6csSBDI6Nyv5wM6XB2U3LiWo0iG11Mfi1yVQeF60Ons61lZ7ZFG\n",
              "xfELrTR3H5yOrPWFFdjaZhrXijS6ny/uWbOCuQ46H0+nV1ooLWZ/eyEOyTKvpIP4eqiWtIE4I4w2\n",
              "C1/UxIMuqPz9heVutCZKIcBH4Zydjx8lUqnjEeV6V+0t/qpYDoazA9PxepWTH951rOahAYRH84SH\n",
              "enPsu9mIX8RZEzmNe/9vUMxW19PhUax6ZfsTvHbmO3CwH87Cn0Yufni8wxpqnOWoYd7wRYQKjJ30\n",
              "MV6s68UJTn1ZK1j3FpzcbmgqeSC+U3vzh4Y46XGV+Twm0g8KckvE5XlbrZeW5Ebx5lfEFIzlTtf/\n",
              "OoTYL4bovorbpXyT18fyTR4HQJI0bgiT1tNpy+migAE78Ybvq87V8DAZO2nCuuxnTmDvzrBxJjMN\n",
              "kKTyzfR7HzxSYmFr72MHU679XbTD+JuR5ReC+0u2Q5O0VGYs5cU5gpU02+p0z25Io43/TqA/AIC0\n",
              "YLryKdeXsYi6j22XiCDnEAoXm24BDnZk5D9vNa2sNruzakB0wlbdUi5yslMPLQAAA0tBm/tJ4Q6J\n",
              "lMCHf/6plgADPY4SnFP9s98sxSJj874AInWtk+9vGIMDoRn+C75jDfkMI+r8JM1q7xWscL1pw56m\n",
              "jLOZyU0MCtNRO4bHi6SZkD1LSBR2tS0gEsq/s0PZBSklRAI2+0FtZReCPpmzcJhRlzTRHKJzdQ98\n",
              "qWs//SBkHPN8cW1xDngdnHoq6zs7EaQtgPc/WWOT/La1rDYCOYvB7WZnzN+O112Mx6PUzXrIoH4g\n",
              "WvAUL/7v26LXvZXbx2pF23dsCN07biCxQmEYMQ1JyEwD3x8/Vq1IZkpZ0gjgPsfOZD/XS8R8HjZr\n",
              "OXEHZd8BM2JlI+q3PKfl/UxN9sp5FG1hwdeg3fEmLlmK6ulA4GtTmJcM+pufZeVVHdgZzaDusv/x\n",
              "Ie9ImnycOfk2tQTJsUqfWoOasP/bjkvl0bOq96aiQ7d7OR0Q97sF7O8jNlUaZgk0sIPQN62o8VVC\n",
              "32DEZ5kBsfpxrd/CqK0udfAGOgSu4DzJJmEXc3SB/x1fpikRd8N0G16uYeWMTXCQmqmtA2zXmw1G\n",
              "ey1GgK/ms22/CBUXW3D63lKK1QnQzFYEB8u2dSKGkS6HI9Ps0mbAHdDks8R0cubXKxV3Uw35+pqL\n",
              "wS23TtzgG7h8YrHKDl8ikf+mdwYlRtZrcy4jvc+GNQs610VJfASjH7wpboQkg5FNJHML67Rwf/gV\n",
              "ROq1EAGURELL2bwZlTmW1UVYV7l2iMdPnBOkKyFZW3wZG/0X38OCnj3uXQMKllcvho1xN/HgICv6\n",
              "j+P+EK3db5TLODfFLJn6B4TOokYaKJbKmKSt4r9RGqOF197D1NAtAogGC1z41Jw8I+zKx+ro3Gsh\n",
              "sys5jax0xOoa04Apbx5k9rSlzScnplG9Gp6koaKA/qwrGtdvFcepYn6U1AdIpA923YKc1RbScvma\n",
              "njoO3X5UhhE8pyZzB9/eh4aTLj9IHzlo4ObTZ5I89GrvQiJszpMq26De3YXuFy3wADVdlkQXERHl\n",
              "tgoitb26nH6aO3eQkAXfJg+ZBv1HJ+vPTQnb4wwnrdNGk/D+fKKLCGhJI/9aDa9X/wGNBL7smSw+\n",
              "AU05uIWCNHFv6+qTCxKABgwXqDcC2SYEcI7Sd9O8a5ylipo/BU0AAALyQZ4ZRRE8L/8AAXRg0e0j\n",
              "m5/jwAKi71eXlzr9ZEWgaZS8xrH++6nRtRUUef+Aswa9bVnf0DmcFR8gD+3DuBQp7GHWApyxZvn9\n",
              "7FM2c2n7Om+i8vOUP/+PjImPmTp7F7PsBYcGgSgHgrDnIKFEWqc8ULd50W3biQcDuhQmDfR39kqu\n",
              "9X/TB4oZrNu2KULytQ961nzUCfcoZk0leiCNB0SwmhlwmV3G8s+48nhT68gM5+ZlR8vQO9v+HZV3\n",
              "6Z6LWg0GLHpkLABXAVUO2jwdvhRBh/1lxUv8axQ67DFddWUmFaCsz35Fonymo4Vn2AqRyXldF1Kp\n",
              "wdH6WURLdSpytRGlGUzfP0Cwt3OjOOVFsNtU/0RHEin3S36FOUruEaxWZ6na77LpW3kxQ8FBhDr2\n",
              "xJPneGePyg3Qcxo9u9IYLEgun4zOCIEvjJ6z8qDQJvPFpFijEJ50eB1BrmP7ALuLlV6XI9S9Obuz\n",
              "AR/hSSLxqxvgjtzie3P6CgnfG0Hal+wCQ+qZcFl0OBAy0lBcEHOMN/pz5bYfy3JPN8oZletJqZ1D\n",
              "dV022s/nuFLqJd5WeGhwXn4HEpYRDNbOKCj5OGdioDB252sHjOQeo1Cb5RVAN4Z1AHXUe2Tb44ew\n",
              "aCPU1dtBkA4OzwYR3u858+s3L/Xrr9sD4VoIUdpfyRvELjZldJw9jlUCHzlJM886u0EBc/l7l5kS\n",
              "vKdGnWfcdPMRbxrlRchtTBtGPvpV5Z8F+YX+Tdl9laoric+9g9BqnjjUUSPLGVcqKH0grITZbyEs\n",
              "L6Kww/DL3UaOe5EAUl4g8bHUWa93dXUCRoVcLA9httwPpA4WreFwUU2v5YIa0y4S6yOCm5Joyi/K\n",
              "7JUJ4Tir2al2/p6DTxy1g+Wwb0IX5JxNvbFB1YFPs7CPdPsX1IH4nBaQImMTDHu/vGsM9s67UGyV\n",
              "MJSo7lYy2mQFy6mM6rTovZLjMB8vZr9bb8/U3894YxjPRy5SGx5XuS6VeXkhS2kyCAIqPCCVBAAA\n",
              "AlQBnjh0Qr8ABUTi0owpQE/rfMx/wB7YAVgRXF61iCh23tqIFSSmBxxfeMKayQcjEpXBPdx3rzMn\n",
              "QNuSnQLzCVOTM9NFPajWpIAoTXXmKoE4mt/T5/F+V3Qx966XVXthC3Y0r6rv/14WqbgmJuOMukEv\n",
              "fZUWkV4AnMYVr3uo+xyQyDwtYDidUTxcjHDsg2W5lZ0+SjrdCQ/IVjchq5u4LqOMmZbGHLmDvDcT\n",
              "X7wkFMzoNvXc6hlDPZLmLt+n2v02d1p6l64drnXd8CrxAoTZrfCS2JFYUtpeLiVTbTnpVORsExwe\n",
              "vQJNZSZlo0uEXmSkFbRd7EAEoB11P1H41kTbzoTg7laXo+8aYScAwXIF9THnO4i+oPatlYl+Tntr\n",
              "njJ0IBplIdnhdTm/lLNEkUBgBa3sBtjcGe5iJFkFoAQQeW3e20mVI0fBktWoi+JSZTb4u75wSU3K\n",
              "WZi335tz7dCXxTl7/S/RF/zryc9xs7Yc8o/wxFsWi7fiAKo45OOlcXOzMPN+KsR/7VdVWqJOWQ2K\n",
              "Gd6ygCu6fICb1CA1vROmBXDtL8nHyNZoKkW5A+W8vOEnZT57K/bgmJTXkglFlefpAD/X+ypkSfBh\n",
              "Uj2BuhlFYlzSWfiCqd5jdWd4tzMDHiMClgCaub60/mukFf8AZAemKKBEkkTKg38WV5kMEfTe5HV+\n",
              "QQevkcPEzCbUvM/B3M1oqqW6eLWzG+zxrmyilUGy4gbeSUAa2kEuLbhOG/JVfhdI7fbhpS/RYeXE\n",
              "1//mh7LF033f0w+Q9Qx0u8F7t2VG/SFAGeABZQAAAhgBnjpqQr8ABUTkINPuoqcuKVtY3gLqAdk1\n",
              "f31vJnR7yLEAIFKrBxYdKSrtFsrhVGHMm8wx1TQV54F1cbGSPvHEO9D5kh+o5dezReEjKqsi2ry4\n",
              "Do/IbsC5uyF6GxQ9LgywgCw/s1EVZygRpZJSKc3U0RthyQaAhRWgFSYWJoWqHHpE7BmS/kBANABD\n",
              "pHtywzP0aF06s68F7/FXQ8iwGLWozBYrgaXpiw7xc7EHBzfXemRsTHzY0kaxlo72KEv8K/AsGD57\n",
              "ZclyjaDi+8MgOk0yLwmtQ+aUb/wDWdSdaXkhEYOeAx48UikqvZcuCz4OJx52jstpt3xmGnX+g/bE\n",
              "oTC6d93U7PQnBnfzj7H4yzMFJbBV3CNphuYsEtB8KvmKgsYxSpxQOaHrdquxpwiLJ3NSK6vNcQ9G\n",
              "g5fGzymmPqHuVtF2klwihJF3wqSHG+v/DJleNCGi3Gi/QJLW3/gjY9nyD1oXPJTa9EwnjThDpfZY\n",
              "f0ymfv5KHYscZxtWCz2gSCDI70/gmWKU1EIVzpPWWZW7IiQP/VpB8tzeto4/nX7Knkbb2+HX+AIO\n",
              "1md/8WvC+8bNj/MK3Uo7c4NdbEDvBF9jwr0GEW4sjxtS7smi4Rm+ZN9j6AT7olytp/lfvo6ZXYVT\n",
              "jCL5jfS8QAI/BMS60Rzi6y512Q5dgjbPojlQ7d2f9Jd8yymqffF2uQ7W+PX5AO666kPsVSSLgAAA\n",
              "AxdBmj9JqEFomUwId//+qZYAA0HtoF8EkCLQ7a9WKAD7gZqh5vWqHdkkvWVlcp9MjI9V5Cbvd52e\n",
              "OP2x51s8OynMRZiVuOY2B7tPuv2nthfTiu+GKSG104e9KFZA58KMW0U/jUiQoq3n3d9zGyYBXreW\n",
              "wiNK3fkwpa+2zP89IPXZlRtLNalgDmCEHutgq9xT/6ZRDBP4rtd9+WW8/irJ24mzLI1DcssUrWwl\n",
              "53yJWjVYlBqjBCx1BBzhbaF//4T7tlFkveQ5CCe3Wmq2QIqPj5BRYOwTq0moJs7Er18fODgfgQzC\n",
              "OSv8y/62Zj9wwwJ9fAU+oFAVZvUpe/mBiT9MnQN1SKAMyO6IHflth8KM64Z7H0S99+WkoAFH4dYk\n",
              "X3uC5JfsuMxZuLSd2vaeDuZEqtNfBOZXTnHR7PxcoNYdXPF3Qr61X7xj37bai9vcBKO4woMdtPtI\n",
              "IltwaaJ28mkVwuL0s9VABofiWsWRdLAgRp3AwkJaDQ8esOsh0AerKHduO3KaDixeVDfn1W8qSLLh\n",
              "ZS3kjFhEq4J+eZ0QAp1NIHzLeaGCaI4e2AkBbYI23/nM48bmqsBMuWDMsDi92+OQcZCwoZUb99VS\n",
              "buijvp7DVVY/uZMMJqkoO7CzXbzjfHvKPO+WYZeLa4Ogk3qdROKau6reIapHObjI5FlIUn+YgiD7\n",
              "IKAmQlLkzAYgCuYRfew0nMuxwpfhVav8tUpv7LrFrTdzXVLRW4uCQ8lKNFRiGuULHi9flZF963y1\n",
              "F1VxwW6/VwfAsYokfwtQoep8oUSl13lU6wybRmwKwbDa1QLcnTlp5DME1VEpgFjhnyW+FSHPSWlB\n",
              "fQ3ctObaWy04VwlbveJnqp+Hx7XoyQcTXBLhY+oQNdgt+YwGCy9g4gayDxYn/yU6Oh89efAXt/fP\n",
              "8lYtDfHe8ZNxWMBD6QURqLat7sS902QGKFKuqsaySxrznvlnbOT2C2Nr67gi/z/46h8ST874kVlQ\n",
              "J21QohqijKJ6Z3pqf/qaHT7baLrKjV8in0LmmDEdAfRKpyRcpATxeMVUte0xVjaoKRhHwQAAAn5B\n",
              "nl1FESwv/wADzejXrnx156mJSURtc4gNjziTWAADi8TC+4JJdhK4Y4jaBaWGX4q470yWe1d4FcJf\n",
              "5JboObbbpxW1GJ1A5eihrqhhoYqNqwsbvqadMiVAwh9lMKbAzfBuZS1b1AOHJDN+czwYTpU0YwL6\n",
              "lxaGdvZ0vtZc05S3JYoWGaBjXMiQ41LykF6iVbJwnZ5ThcxH+CB3SYHNrgHDiO1/XagVBb/Zwm3Z\n",
              "cK6yHeb4WQUWFs06DkIDF+Yg2Np24kydcmam0jKZKohfTuXCr3zzNjCWXyIt4Hke5UW+FQPn7COf\n",
              "wH0KQ21vB8WxBwBYrBU3fuOzfA8fwx/rR49iFJPjk71PBiV+rRcimiPO2xG3RuoIpLqfBERbzwaX\n",
              "DtMwc4wZCZLqbvx0gYpchG8vvFCfHtT6iExjDS0UDM0YnpsQ0XvMHHhcrxwOn606geuVKzfoeYpT\n",
              "JESpO0a4sPc7deKVby+JL7nHrolGopaiy6uSQpZqi3gKuEPdlhZf6OQK+YPg1Zccp/xqOkqm+HVD\n",
              "4SFDS7za+lQNNWzOtX5ZDchS6bYSQZxr8SnMCp2Wz8iscvEh6Z4g4IBEgzISWax6RMvIgAHKIIjM\n",
              "5ovczh4sGj0S0tlibZlBX7z9/bqdv4r70Fh8bdZZgm2hd+2n7xPRodastWp1fTBeYBIs8YAG2R0m\n",
              "yjsbCQAqbYbkWryfwxY80RKcPqT6QWqng3mhItVAHrbCqR3rX6bbOqqq2kT9xhtPrLxiwI+8jxM5\n",
              "1O04jh76Jc5/2LjuxwltUsQ/0o2wuNzA2wt/V2Bgp6S7aYs/ymTtahE8DeWNrrWd3k8gU8LZkmUh\n",
              "PC57mtnORDlxUwAAAvIBnnx0Qr8ABUTkEGYyEYiuySCJWN4YdrWIAOVAJWXKfYXH8v9C1cgqDhC3\n",
              "F52kcPh4IJZvCAKfgfo/Vle1pbwwfbt13x/fyzcqHRjsszBEIqKBhidAXPTM/kxlWQuFHwj+QK1G\n",
              "sEN9JSOWN9Zo5n3k4aRnLGKT6UGGg0GsTdarQtjUlIDMJMefFcDJMtGSf+jYS/SrpLXyKUshBasg\n",
              "h1B4D79oEZ2X7rnvJVd5ZaGRogEvOT3GiYTP9BHuUtT9CsXhQcjqrMT/IjnfkwUNGW5ClFUN2lN0\n",
              "PQNx/L74OJa9XYHiRWyxMhz6ZNBHiMBr6kzVB51aPL8k4ikC4qgDTVAeEy+hc79Qf2CpYaXss8b1\n",
              "+MxrfE8RSy9T0u1TLu1nnf+NLRRwk2QUHqqk/WE1yv7NB9GK/mPc29hEVPCfDb8Hdur91A0SUxER\n",
              "voY5wRdv7z9A6jc10aTpc+AVbPDZnabKAOYspB4pe/mRtSR0dsHNBuBg3p2ara7yF9MNLuqoMxed\n",
              "0vTtTWdp/HXwMTjX6glsiLErqbpClw6aopPRPwD8Du0zZkH0NZXUsc6NCUeHGW0697X0JtcboVgQ\n",
              "OgjWA/wEq1uoVtq+3wpXaJpOCNNs+3PheLDEBXyUn9JW+XgIo2oEQpfMqorbYlVNObXp7pHj4OFn\n",
              "7Bl+nI92J3VDILgoBKkpBB2iDArlQ8CUvFrvlHDGFh3XHAXft0RgQCFXy2Al/2B7e0wisSs94Hn5\n",
              "n0Z7w8Gq9kGMyEdEFLSSrxjEm5RXV4wS71CVvjpw26tjbFCOt3Y5dQIcNdbHhXaLL7mf8hQgEQRe\n",
              "Cl/sl285M/uePcQtpRPQwIo0fyOP1V0F87LB2ZMhU1VBjsnBmVqRDce8aJ5k+1X3/Lfu49wcChr3\n",
              "dJEVssQ9ACtl6jkNXR51RBGfjU2Jp8PKnlJDRjplr1Z6u3VdM5UEz3XnhEFNMAfxVIMtAFSH/ns7\n",
              "m+pd757sg5d5uAQi/135QNxWTBDU+5EjqnHAAAADkgGefmpCvwAB5gHXvfcgA5w0qGxZC0mvZl1N\n",
              "1ItKQwU7q+dO5Rz6qhDR+JCFW6ndkIXfQR5HAeV5WU0ZtA+Yi7Bjxtlpdntr2fhFlkYN55uGHxlI\n",
              "rkfUMwS37oXyCKzOexaBTfhiye0/J2yN7yHbeFwCAezsEOoAnpM8jIs5U5kz/DRJRibXdTvD925U\n",
              "sHjIoY5qxkF+1SCa/HkYKINv25bznHhj8UsjRg0RAimsJGv8onfF3NNUWYj0h46xsgX0HpNMmyLz\n",
              "FV/NKPAVyD3OoO31iIk96Q4bvkST7nuxOj4bqeZRLGLf4lACh6O1vJ2eEdSDDQTzxGnuqVEhCu6s\n",
              "qEERZSMq6GspOEEFkROvxtL4RxpFrQeqM1KnTN2TkN/TgX467L5nzCVEHdKPzgskL8maKGkX23XN\n",
              "IaAlVeDqWm85iHuwFcnD+tSOW3kexnf1Eu/3SIdzSQz8vAjsemyXYu+rUaEnFklvddh2TMSY5K4e\n",
              "cfU02JPiG6Ugjpyo46oCRsPq8FJPE9E5iUlLRhQXWzyXc0XJMCWEmitWkZlzLheYjQ6xyFL2iYjn\n",
              "EWCo/hxdqvagte4l3k8riBoWAdq3bzuKTBIM7vZCRL1+hfx5r7L9r9ZQC1AXMc8++L8zvcVwJnZa\n",
              "c983mEPKb5G/Qq2Hb0QF7UXP54EKdZZne0n1jtmeYw8RF6bNGMtsTMze0KgkhVD9Jb08CaNkgjbd\n",
              "cEIJoPdJzPpCZG46QGPRbs74QjJ3iTbZWtSfpHSuhQOcMqnCXQoE+VZ6I1qyKUAO3KvkTNK3wIm2\n",
              "YQlWNxOJ3zwxMdvgceaHfJ5ils/O5cZO5qR7hB63DaH2IjuL8EoHezjY8KMTpyTJXgHP46+DvGkI\n",
              "dGVGVlxeqZvuAT6XgqJRU7SLYGfxkQgkJ6HW4WUzF5cwfdrn+jVnueVEuOqvuL2rN+UYuRp1q3Ts\n",
              "frXfWmw40XzZ1/Irx+h063lxub5HLdMKNuYaTZMLCo+3sqk1WBBU+KBXISf2iWvuzvyNpc/70M4k\n",
              "m3go0XtQUjDECoN1tffggYp2ertKA3anSmS2JLQcsRe067L95VO0y2WmoC7FgKZ1ChPvfk14nx7B\n",
              "Kp+NS9JSimQjLCwf76aHMa8Rg3ril+gZBMshONPHZb0TvT61So+JewDlf0c95TekGIX1Lk6vNIv2\n",
              "w5Bsck3gkATlgFms2jLQQLCVGi9oxdckHJu5T57N2lSQAAAC8UGaY0moQWyZTAh3//6plgABMFSy\n",
              "e4ADw6TSNQJfuseCTvWC12tkKS47jcp4Zk+pX3farpBk12lOPLJjh+BPwIZs45nF7bFa2lXCvTZs\n",
              "eLZhRVqD/idg1xHl2k9PEn/QMc64wGOP1ZDstGH6Lra20Z7HHZKEjRrsVesdElxZMsKKO06Bt8Yi\n",
              "7Yq2pOSVOt656c5sCQk78dNFpWLkd4y1kDRIXKB14w7tv6HPWPeriMyEiyjAVLWHg9Rttjp36bTN\n",
              "f6qc7RY5rCRTrwns9NNeOfWIlifr//GXoMKbMNpjCVAfh+O+sZR7gI7N4X0PWyT9CIAl8O9AiV10\n",
              "FvKR+fUKkT/nh0HMcn2GZ53tvESC9OGyPwVKQFrqbBeR2VSbLI9gr0nTboRrq73uvI9PtmnlBmDB\n",
              "tVT04J1rlr5DJtwNAVVTSMqYvt5q2IyPRQ3u/ivyk0W6VRP+FxPpC47KdymgURJFjxSTpGVbFArE\n",
              "wBznHKmazr43C2qVAXtYWa07H8htnzih/lcu/77AIGHG+Bhp6m0NH6N1ToEsIB2S64N8YQVo9fQl\n",
              "ze0ZmrWNXnAfcQ9sa38ss+jAWtc54TZjbt2iC9Bj2LXYikAS+dGLKB6ZI2/A+pbRYK6XQJsQDpba\n",
              "G55Z+ukogfgEUOHJqqQV25Bh4GbqPw0kD+oQLLNNfZNoGtU5yUAR26fMjyvhTdF8pDKsoBYd/+Rd\n",
              "42ME1IgYti+8b0wAXUQ8MUkP3cFj8CtIiNdAhSkFiUT/xJ7y56RA3Cf3Um6Z6D6xO39yduqgVr97\n",
              "3SYalT94bgr3Ysow/vFatglwDveOSp3YY8LOJVBKcVuMH1Hdw+PTeQQuQJ5e+4OXROQNihZSQspT\n",
              "61HnIfN43pl5DbmJ7rl91tORZnV04ANrEQ06npc4P78IcX7Q52luil2fwslMXUI2vVblpqsKvH1H\n",
              "/sk/fOS8Sjd2oI8kUDwmrurnpFNHHeBWTxN8ZBG+ti1nAeDosyKSFOL6TWzzDXwmQQAAAoNBnoFF\n",
              "FSwv/wADt+vb+Yh8wAz80fCk5otUBixtc0iboPta630pyvYAKjs2cXlNACN33lD/gRyN4FGO8iX5\n",
              "7Q5t/FwQolx4FFF4a/IegyofPgjDHHzeFlOlae9WIa5eNNwe1K9VyNWZdVW3iaOquY0/F61jAnQn\n",
              "P9qIJ7Ln9MxE4e+io/KNtZpa7nitpJIj6H3ait/A0hgJkqEc1oNgUITxH0MDH6bES351MGaLBVf1\n",
              "PHn0FVBDeOFnfuq13cUGb5A3lKBjJDs/JOAOqyoxP6ZMDgLGPNNhspgyyX5PbZsb/ituPd2m9kXG\n",
              "Qgte/PaM+sOJjrr8VTxFI8ZXsB8GBSySbItAZ9vLB2oPd6thsnDjkHOROhkmLvOhTwowC/gGTJPR\n",
              "qVLCy8tfG08d1onhiChN4PiQWJS8iLR8DWK86Rcym2eeeNWM4imup0OAqNs2TBkBgB5kz+Xii5aT\n",
              "sMEeYC1RJXi2zIK3/pSayqwInbSMYZIjzVKM5N56qH0Tk4txbPJHs8tHq1Ly/8LUE8BX82tqYuYt\n",
              "dgy9PaXoayKclpQYredhN9nrc3hNGpJ6chByT1wWzcP3SDm866c3vfAEpuGe/qshx1mnxo1pZJto\n",
              "eJlXAmPdLcMe/0eh785CeeO8y8365u12j98ErBmoNTctcO1A/i8oKXxqtiRlRGzvyDgzSD2XC8z1\n",
              "iAH7OVAZWlxE9v6n/qyToaJFTJpQkuXQdubWSM/S29sAcFrUxvNovAzLfo+E+X6nwxLU0tI1esK/\n",
              "6/oMQ4FPPzyIBkCQbmv/si9JrFjz3i+bav3Y59pwFJO2aR5fe8JbCjibVgty4iaa9mCl/gF62cpp\n",
              "E5ryuJT9nDrusYOmAAACpgGeoHRCvwAFRQkBPU03cR9qDZ8Rc28DVkuIO8aSfAO2ulAhybTgzuy/\n",
              "cd91n9RM9W9p5lmMOQlQaFu+VYwKDBu4s3dwaaBWcfUcqGoeWu/CddHYqRPVXR/kJ3OsVDwzEMuc\n",
              "ccNGKFiJ96WhKK+RKDJ5PUbqpQ14k9d3WM4OCdGoxG0vK2OYvf/m80A6qadJhYhNPKtXT5TKl5n5\n",
              "wJqdz6yhnuI/pZYf+Rn8jwe2YiIRT/XxKf+JSkJPNBNANGoBCN3aDkYaldY/LHZsfr7cG/tW+xiw\n",
              "tyKTxcDskkSgxC/lxw0DEOacMnJxqHKycqpjlp4yslxlCpoQI8UKwiyMc7Lit7nVkiLH8uStxDIk\n",
              "aosmXCWqfTmv2U2C/ZlxKrZhPhhsovOUSLI6UV0iH36Fj009+TyGu5iF7qYdkAcKNw71n3JG30xG\n",
              "L1MzbVAfVPBQfrzAZdSWJbA0aMuw1Lid3AvWtxw7edj6FMISdPjNwexS3mXy2nJ0cadNVeZbj2gh\n",
              "SU9fMLXe+/wLj8teQ8IWvT/GVu7hqXO987sMKz5ql2VEfIqfVA0IRy+ziv2gXjr0H9//4t49C5ba\n",
              "eGaSe3rtsVp5TQLM2YE97AXLgKo4BhF80lcBXF+0MdVc5VSTbW9Bn53SgVfoNUSbpA8OIsXce0wo\n",
              "FDLx3fOLubySMEFEvi6i97ZN+vrmrakNtcXaS8on4NtZhTuhBo87/sVYEKQiuytcu5OuPszZ+fcl\n",
              "xIwuI9rpsu5b1dztaYKStMzxACCR8jpNXhip9aYbDMba6RPqALjaNPo4A6UPfE6wvcmg+l5zZ/Np\n",
              "06D2lKeWqYiA86Ve/4TJn5Dq8JxrkPKggqulQ01sfAg4mT1iHndJpoytQWn9uxhTLg005tWvcFR3\n",
              "St+G4HCCuQAxoQAAAzsBnqJqQr8ABSDi0kyi2+vCJgYXBOWSI3Y4XrCADanvZN5HvXNrbxI4NWs2\n",
              "/CeK6G19wvVFvsucU0jZrvrOebWx/40JK0Fr3O+LPu1G6vPlCYGrzC4x7jmPwVOVwQ6Ef2k+S+SX\n",
              "uZomtF2AXrpWjM9+pPKC17QlLl9OO+BCIQCCExQrb8nrojbKFBiyOyQYvhjkzVfdd39hr3mpPR7R\n",
              "TwOHROPDcsLYXWarPxNT/Lv0M6MwDfpGV6wVhdqLAM9tlNy9Yx9+9kIqrHlRHnGJkCFqWn9r7bnV\n",
              "GctKRkb9g5knKxogN19CDDNCzLuXXsGFBmFATTioJ/qT6jA8B86zPJXAlSPapWjp+YObf2LduIiR\n",
              "kKOkIkMaXxL3pD7hPCsKFochLkVUD+GDrvSYki0IhUuVuuZn/v88ComGXfhWbyUi6OhbAivEaATf\n",
              "5ZMn1riaXh3N7qpgibOear3GNmQyz3Z6z+sQyIWjGyaY8BRa6I/3BtUuMmQeQgMVv781vo3UxPR+\n",
              "U1KpT9u0ehE8y72oTTj3ft089g7ZoA89NkC+Ax3n5XnEJIlG9Qy1TMFkDq+wqsC6zJ24tSkDHEtR\n",
              "lhJjxqLrsTtFUjXUhQhnjVnWlErREzCUbJ2qgDKrfNec5imtgI26AkhXUv+xLuRICgapsy9UMcH3\n",
              "Lyl3hl4b1GTo2F3VYudGhHeNa7MzziLMio4diJiQbjd6oBXi/PzhZ2czq7NnEaDn2FUjxY/s4ezT\n",
              "v8G7/irDX22H1sndiQEquU+OWhyNBpUDNy/5y2pnu6NuIIeopspPnLdtY0EjDPqr5cwxDRBQBbkd\n",
              "XBokIxiey0nxyxFLpNN6JCm3Ybl5ao1XY2ZlLBzCPbP2wp6Y+OeMeMwT78ugbL4sz1BESAcSIJWG\n",
              "1XAD4YmmncmxwxqXkUDwh3VTClTBoI8F3bcNjhswzgF17B6NdlnCLcxoXIkfXf49sL7jZLBDVIc/\n",
              "mBoz3rlLCwmiu56p+TQHLYXE9dI8CWtQhJGrl+bgtFp5xKhLxKjhbY5Hh43Ul3LZWf0m4Iogte+0\n",
              "C737HHvSsfF1S9KMA6pBMJhViSnIZhMYJ39vw1urejqKh78S86xVGJznEAAAA9RBmqVJqEFsmUwU\n",
              "TDv//qmWAABx10d97o0HrVgkLXf4ACTyWlb3mFM6eHFI9DSBIKiskgmnQazYPh1ZnxeC/zjHmWI6\n",
              "sLOQ3S2NV4xS+wF3lvA1KcSMp0vUSQbOSgcyVEsDGx8Ie1pYVXMTfdw0WFH+iQw8kPPKogzeUrrq\n",
              "pzi6QOrCfebDEjqs7eam3ChpUbx0e8SI31nU2+jjEcgFMZAnXjGXak+5pLfNeW4QMNT8jFzUgu6k\n",
              "aRfJzaZVqJVL+2fXdu5fk3lpSHDlQMPLpXn8jC+oHb+MxDMHDAWNeybtQE5s3vgxRVmlNrBqguS6\n",
              "XXaL3NyT3N2e2EJYus2EJ6gyLb/vVKOxzxP0kokTXpDgpkIVSQQ8Pwv4jdMkwISHakY1rXtyBCPG\n",
              "tz18JSlXHg6hzHFfoT6UaNM3GP3wRV9JcVFTMt45aj1vluM04FEB5gWm4bkmudCrpgDiMdNjfrbU\n",
              "8N9TSZ8+9s5C4mmAKht3VmqzxRex0BdrsbI+1qsHTSzS1I6PDYvA7KWiXp1ZS86x6KINK+5P6+jC\n",
              "QcOJAgK/CSEI1vXM1ZLhfMZZ9yAR62nHeoX7Kn7Hq20D6AtHs0YpwViZ8rDSKf2gwILKBMYd1yu4\n",
              "fsrCSSyDMR3+KWCqgPtRcmG/OM4UZ0u3e0qFRtS5qWFco6ktgXj2Ldg8LH9UX38rcbDweR0VAy5G\n",
              "QJgaN6fOc1sqin8WO8mCr/vKPlkuq3t/9qkmbLmUeSqiKEWHCApO1kG9S+Vc9f31Qc/8vGLYJhJQ\n",
              "rTuUKQYXhlUE2XrEci3Of728CgeB8G8P9fA0xlt7naVAeEwnntaPlOsw/sjG4F/QzMMWmKhu+66W\n",
              "glN9u1F/7Rr2yvyG5CYCzpTwvdpDxTvf/I2LhvqDDEOamKi9RBS1u4HQiUytYyBcLTw/vCy8bzTA\n",
              "Ru8IHKD5FPL3rExwpWaxMZLhzdhpqUMwx7NALmMhy9nfxSIM0pQ0bd2NbpPmR2tGKfM3dNV9UJkQ\n",
              "X1rNIUp3cV906QlQoyi92KKghX+0JNC31NAF7EKmhymt/Ba51bl6T05Ab66Hf3I+dZ1mphk7YN2F\n",
              "RzvKx2jln6wnWXZqFeXZQ8Ez7eNMCo0ZlhlY8Uiak7mpMgNCewTpaCt6iYiohkCz9megRFA8T1TS\n",
              "5F7jOzFOjvtM42Qn3mMrggWDI8Wk7hy7ge8GlZAh4XOzv8TIhr32IWs2xYtFWynhs1ZpOpUJtGHs\n",
              "g4DpjGBmcIIP6l2X8Nyy2n+f56uYAiHlztWkfSPkCpSuMC8ERLjq2rqMKLxssURIX1c23GhMcJxx\n",
              "LwAAArYBnsRqQr8AAdZWy7LQAXUaVDsmiFfREhgXwv6E/rKqmfxrWjULn0TGb041GrzZ4VtaxPuJ\n",
              "rs5y8eSVnA1gDQXSbdWea3N81Js3QKr1ade+0h6lZRAK2XXNjP12frSbUmNx4RZQe2ct1FFybLmi\n",
              "NbL6Cntf2auAH+QYFOJnYNGZxbSr4tdH8TC2dJ76oa9pKlQIbWYzCapU8Ok60qZXcR01Dyd6+9vi\n",
              "7yIxlP8baVv37pDhbIlOBypGCG0vKB9XOmO8l1Z2rNeTtOjtk7/hPeqKrCmQWU3y1ObfntocKqJo\n",
              "qwsDVauD+N2f21dz6hH1E40KnkBbTz6eYhBGA8W1RVamiryNITRdEF5iyYWSGyAus6aKkIQCHMr8\n",
              "BSBgTNIYzA/RPadce9/LHDyKRnQd+FzPsR9ztSk53VwNr+8mbYhIRdYFBfmVWOjbmT77CFTAo8P+\n",
              "Yv92wciQMeA+dVmQYV7FigtHsaaRfiAt7eK80brnQj7PzIidUC9tCnc/WX+djg6f5FQezKvRMatL\n",
              "/BXdkL19JQiWlmHEkknKYvle8LbM3YXDqUfzybhXieK1ED8YsPROmVBNgA1cmQenzANDO28NDO8C\n",
              "Rr8Cl1gr9EAvWanqZPt1jw5RqVp4XRcchXIz3STfihth9BGxwO2O8J7o4pi7z6ervo4MVbWkKZXF\n",
              "26QxMWlYYgi5A4GNOQ/54NgqGO1ths14LWGyqhXzj5N4B8qScHE+CYKFjqyHBizsOAFmgi3B50EO\n",
              "0DNFsKRoQ1ntd+J3kNctH/mrCus0eltSfSSor9yPoFg3weD9vGHaQdkkho4UBfVOPrqAFf1zQwHB\n",
              "WnHhM7zP8AQtUuaN7/q9EfVbBp/mXGGvZkTsLYMY9n6qnc0lmYugisOW5GgIs0GYRBkGkFiBqyzg\n",
              "QfsGBUs3LcGELxD5FgdNAAAEAUGayUnhClJlMCHf/qmWAAEx+MGD/CrR3efYmwGlWoL+98OeWW45\n",
              "0XYCB/qGjiczN/AKwD+ADPFRg0otoAMPO4bVRCmUhGe4FbxkgSiZHqpap/C285BTE4P0LJvyVTIt\n",
              "EL1Tghi3PllkbvWIT+EOVbGLMbmxCQl0z2f+tRJz/5oyWuCWgeKW35wnmRb1NqY6AfHhvoC1GTyc\n",
              "8nEEu8laqpak551AJwt9bv4IqpVZjikBr6g6wUBSs46ial7ecX6/WHV0m6Tj3fbq9sgWtAs3OiAm\n",
              "cJsYpO5/VJ8a44R1SvBMMclEJCB1bu4cVkIlJQYbtXd4DKwj2LyiVKAy+3N7437m55ErfZ/U2Xz1\n",
              "c7wswU3UDALsnrOVrvY5wH9i11JO8+nkoJfklVTQ+j9GqPwXtkdchWMjaIMm2mIf6PluopE7uv7V\n",
              "jufsVS0ag/f6ociOWLSWtsgj1+76FT3M8+mGPHWO6vcoDMAtkf3iPaYXrZi2swsCQFbg7ud4DypX\n",
              "GvTSloVP1OnwocOeOKZr2m7L92N+V2a697dnoIn6dexLX6063zcLQs7bTCvPpcuX8lJHqqRJhsrW\n",
              "PZkf0fM2PyfLxiKIBBOEccdVPTpX8aAp+/XvHbDyinqhWgxTQfTzi9vodklHfDlMCPxf+pB7dcMa\n",
              "CiuS1gaGKPYHcEaLHJTvbidHR0n1NnTd1f3PXW/pjudSahhG4SNjcnoNSs/+y3B90F5dyLMBBpA1\n",
              "/qKfk0PA+5Zm63rsegH1nDmNfC95zcRTns38zh3YUygD43uox1F5HmeuOAejhgqmDVyK84TNdREG\n",
              "pQcYa6/fIX0XxATCN61CBxuxGYgJlejyVWYXF3hIeXpns347/n1788u/mhfbn39qYUifojODSSjD\n",
              "c//mk5oWnFHQIi8EGzS7itQbAr5gR3jC35EKhUn1mfYkqIetBUSzo0kTHUnrr1K0x0obQExYhHMs\n",
              "JVQFtosJrlL9cNjgY2zlAOwC4RsyQ0kgtTZM/xbriOKlTbWPramljVK4+wc3oYwuWeKBRUvjNozE\n",
              "33c3AaUGykt9WkU1sN4X/fXR/BXSkFBL7Tttc035GsSUnAFaef3BOkeVh1QjNSaJivFpjYsqvpsk\n",
              "VGlsCfedUpMtMwZajVP2x3Lx1KuJ9udl/ODRAoCTYDLqGaG7xYtTX5vEFJbSrtk7qRhvgH2B0R7g\n",
              "RRF0Rzz9FictZV2qOxdKbolzLzQBWB/skg96Rotj1pcaYdz0xaOXQcakCeKj1K8TzJFmzaXtKGdz\n",
              "Cb5rnzFMCJPW/RaqLLFMsaG10woIhIiQg07mwdJETKQtR7fz5w6rSeNRrxrh3oisqAByJXzVOj4z\n",
              "YVR87W2ByWtSTiEqrNrumEHBAAACkEGe50U0TC//AAFrzxJwD4ADRO9feCjlgiknugJWW3OcYXX8\n",
              "VfGF83BCLjZQWTv8Popn3Wnr18R11VIlQ6C/clHs7OXGqzwO7jg8v2joOOkT+3JXcrzLd1xbeiLX\n",
              "nmhJiykb6Ff7K/TufiVocR2m/Hr6i1gynFyo9eZfQWdD7jy1lcljQagrJdif7rJzQQDf4jTdYcws\n",
              "a+QHXJiqjsOlz6nggO7yFS3tjJ0tPa13GIiY9ibQRSasnwH3tgaBEvQr78d/fdfIhUkTqKfIZ8RU\n",
              "xG1n31RvvfdlE238iYZJ6TUPRP6QX1/dyezpPimDUg/KxSTO1bvJvXfavOUCLbhY52415GRoS1xT\n",
              "AweVsgXs/iZUBbCD8SMp3fFXk3WSB9aFEMJSKbDVTzjH82oQU4cn7fh+aoQeFE8iX+1wCVL69iHI\n",
              "aPLB4v2jz7qa62vuxCvK9IpoavkWwZXzIqyEBZk/PtvpEIh3GcLAlo44nypTh8JjVNIsdEYRXxoy\n",
              "MCgWaZTExKgG6HlY5OHPUbTWQGkNu9AKAa+2NBbX5AVH2l5wEQiJSHN2AOS7P463EHauaRHki7HB\n",
              "s8tExXlbghbqk/jtbag3mu4LfLKwrqpYwhwaQ4+S5SybgWiI6bApXPb0USKtcttbom/pzdSdO0uD\n",
              "nV+Th2wEfvOYN00zUKCsuROcwHsgcgkBwmz3X0vhNrNWaJ2bZBJ4V50C8v6TL0MX6CuWeWpVTkyc\n",
              "4RkC2nzC5k8fAfWVriSg20lYgFIzsk5n7WjBPPOu5bDQOZkgMXVJS2s/iBdTNMDS/BgP6OC2yEUM\n",
              "H9AygDVv/w7WY8+Cp83uY8Cpmd07iMBSHLjwAzAGtp0+CxFxOu3sstCAOvyvScBEP8ctAAACNAGf\n",
              "BnRCvwAFZySYxLtpieSLB8GVcTg2ctTGLI4BYOWAC2opueDfsHuPJdiUuAno1n9hp0dhpT7C4/l/\n",
              "fkqDehtWPJZJqlf66dnK36/WLxA9WoeHn2f2E5fRE7YYQNne/jXesvD+p4lg3oOGMLOi2Q4C+XQH\n",
              "/89DXnL69USPiFpaHvsobZCjRCvhoa0Vmx0ycuU0TMjWAR0+9yNDfKR8M7AmX2++x8Z1leYm8PLu\n",
              "RrmbD+m/6Bpn7dPZnN3E5LEv8NcFDumLI9x6LJ07agxLPKV+9vv7TmwJ6n4nwHwtIRx7Ngukof/G\n",
              "1iF4mQ/YZGO1WNqVuwCtgYzHJ8SDH8monqZqk4T4L43mzaY27dLQLQks0rD28LRMx8ZUnIlPWJ4t\n",
              "nSyUjVQ68de6c5ia0zHoIixfDWZ9egmx2iW0kjDEq06RTNsNATZNxqWB1w23b+9ED9j0eUSzj+sf\n",
              "PDoZsC12LImpK4Z+3KJUMmFGHbFshXe3BEjnPLsPuZt6WA4ZBcUcvQkKcgbXwzwqEfuFikj9zwQQ\n",
              "OC9L3l+N5RiQiYaaHXnDNP36xszpFk3aAzCr1VhMQTcW87Ouk50R0Yq/0kQUv+LJDDcOSzq5Mu2w\n",
              "1YczFX8Q4z720pRK7Ud8rxs+YbDhk4lbQj1wKFeXPss2OVhpRkO/o9JB85p76H59IW2kBQEGMTrY\n",
              "EMUuu7lS4ZvQ8zywIGyyIcNhY/4G+9oZ0gOaAZdu2KdEk+Z0M+jwX36z2D3yIudR/gAAAl4Bnwhq\n",
              "Qr8ABWWnt/6SA6QTRvRi4Swv/n8++v5a3WUTAAXzPkrOiqorIdRCd1glLT++weV8/rqkbQ3r33F3\n",
              "M0Dlk0aS1R1seHW17YXXxAcOwYvP5pC/7AJUY85mgJh/PSapZMFvafx8odFg8EyoYy2W5q0vHnID\n",
              "KQloeJm1XkOUfNhbNS/3v8xfTO8i8mnVDoUFXbXUTJ2Hg1N4512z9BMrqHE7K/vtGJ7x7ZVP9I/O\n",
              "9h9QuYbTFLKhZfPi85ZYH4PjGevYvG16U+UJY+zEF8YsbMdoBHFr0THiWjfkk8HzoPDsXRoI0n5R\n",
              "8Z534PtRrBMAuelI56n/Kenr9NTuv23AHYXCyiJUsu15sdfNjPGpTsMMb4b8pqJAqOL8v9JqFEfs\n",
              "rzlcPZg+3pKI8VbVIow59v0Uta/uyxxSxG9ARYW/HIqWc7FmaFARRjRNOUNsQL7sxGr3hPlYNfz7\n",
              "JNrbdHqxY0FOVd9aXSgCSFn1edYcV04ldHdmpKEQiVninJVWZniRdE4v7QV0d8l96aYaKNI7HBJ9\n",
              "ySvgwkUP+OGDId7VjLFfg+pg0k8CqNvTvOAutoAuXljZGnUBReoYYkpGLNoMdYtWd0tRWnZLZU1S\n",
              "uGo2xu9sbYuoaozsEjhCqejDQ6VImS7itKd95N5WPvsZWeM8N7g8BYcX9eTxMPQUZQ+yojwW910W\n",
              "qX1uWCwxluAJa2jjrpymUIWKRo2bvXBGQs33lJEjggsTfjDpcy0qp6ROiA/wrakf9d4yFSChcbIk\n",
              "YPwf42oanNlpyYiDSzVy91Snoxmczge6P4vUrkUShJwAAAOzQZsNSahBaJlMCHf//qmWAAEgkMW+\n",
              "wUioSSYAJKpk4fWqsR6vNryjFlGHgOjSp/UMfV2XM6eYP/ltTF8oC1Pm6sKC4JePeJKuAN9g6fGF\n",
              "wLSXrM2ATs10umNCc4F/ahZ7hNu6ZGRTPd6+bTwMhiVxMDoZQm9Nc+6lHQOfvoPFEtbk7q5XVNDX\n",
              "6RK3JSHeRIA7/ejeYge+SR45wh7Dzls+oJ8w66NypTQxgwqQR8yPCUB0/Vb8Mp5YyhNkq0nS/9CQ\n",
              "SP0/7nBZUk3GsTCS+jWpoPr0CHhAQtwzQxJyZrDb9mqH8XAcVNnO7LErT21JSkIjap8pLRVh+wk9\n",
              "W8TJSJYsjtarZSVftF/x8BttkARHtgobA+gGjm3EtfLP4CWAgb8Qfubgmsebvo3PlyW8mGj+HGHC\n",
              "Ct7kBcrQ6nx6KSCFcGE5gowaF5FuyJrvh1tO774F6Bbd/FYN881eULmheG8NT4J5qkN0tlYY3S7T\n",
              "xAzWY8AHUN4FLkIiUqz+MBvbvvqmduuieoP518q+cxLc0C8JlmF1oNS9eoMHf7+1TK7lS1uia8ID\n",
              "N4/7KNNCujzo+EYp8nLfFTdRDrUO4KXG/Ig1MT9bDu3yXb3MDxujZLBaVEnmLs0Lzk/L+PvKTK4y\n",
              "IyjCmXM6ODWFs4TX5WVDr6VuUQ/BjKr6fSGFsPqAiLy1fydQ+qUyBAmRSUrIggZuWoXuBc3pRe2C\n",
              "zvFYQC3z3M7CC8pUVWiYlouGLfEX+68KdGED1d0ydfbPHa8YamWF6M/RPXBX2UrfF7AHqUstrP4e\n",
              "5M6MRRTZhZ6h2gNTd9MIAfuWJZUmDq/qIvEwl7LDLb15ntjIO12i5Ml8eO0wnhjUJPqHaKokpxVD\n",
              "r7G9xiqLE91D/1LToRn97b563BTivcWw0SaMf6oyxCeLXNlf6hmEzi6hsm49L/cMvib5JuJelKV6\n",
              "dCI6ZS9VIp3+rmgJTK+4XtWRoEKx468TWlyXG4NfVac4L6k3VgGV9hrMA88MlOCk9XG5+mahkK9B\n",
              "lbzHiCPxYr2cqcAkUAUdbQxM9bqWuEEZ6ym3f6+4pQQ2UgUJMswB11/HO03VzDn1Mt8a/WBMw7FM\n",
              "E8rWXW1WrXb8HIYO6wNXsDKDPdksB34NhOtR7lvWjj9cclDKCeyr2OZqQDBuUl2OPOQ1yv901e8V\n",
              "pVM8ILcXsQBFmZnYJo0TMxikCl4uGWjGBJEUZtvYHnzfYrEvlwJynU8OvwIequ5wXlKvf52Z+Auz\n",
              "z5LYjaE5vSwGHl7xBoEAAAK3QZ8rRREsL/8AA84DwlNun6F++bsZhz0USj0xhS/QscmmpkVT1/TK\n",
              "/xsv+VryQ/2QMqvSkjniV4mqB9o/4h+eRw5wfP/ztK7Tw/5ET1YHD9GRCBmGUj30djDJs1++oSCR\n",
              "nDwl+xfgCXNjkBs0KXOnI2ey+2r+Porf67PczBT2WTMPnK8qS2qW1TRPaHGK1x0nxyX/lH78bwWc\n",
              "TGJrAyRqEPLIsa0SXqKqbmqGdoQY6FZ+Ya1+a+6XLK1rmhrvFmmGMR7RawXqwGek1WTTQUKlqNFu\n",
              "1SFsaPgNtdpH4pbhyfiZfxJiWGlOGKSJ84qO9ZEsPgmIL0FpNTpQoyElKWPzduavFJgGRFBVqRml\n",
              "1OMPQc8qLMt3hgWQ8g3U/VckycVzb2r2TKUm54SPrnCxpkg/pv+hYBwp8n4bYf231LLFFSX6AWF+\n",
              "fkCVK/Vx+5vF0p6r+qzjIB6xSoCSyMXR10icQNCEiXdVGitq9PCN/hQ4dkILp7FZNmI/AI5ZmSnR\n",
              "C48DLSluKwWCb3LDxikmCVzzLAanXj6V0I0Ra4zY1mPMjTGdVydjDfzCuWxqI+scvuyFJrJSSjbK\n",
              "uWshCAZg0ukpD7pi2eepJM0eOPsG+gLCbD1kS0tGjopxhOAu9JaLkP8m2tXsE22TKd2lhGapFT+C\n",
              "Rb5nmJUO0OqjSy41r7I9atIWQG8/ZPo1817+AYlwFsgT4nXLxGIg50tIdFlhotJwfvu8kvcOnRK6\n",
              "mYJla4GxskaWoBb6FRF+w6tDXCF9Xl+WnuVN70rukIL+bt3bZYygGip+MSRZNyQhjIL/XYoP/loZ\n",
              "TdckDGREoMzyaPqxL0X9ih6ogXVmeYXJXrWs7QXOU2kFmXDbMsKOMFN+lSwnzBie9YbTs3KOq/xa\n",
              "IvOBcGwiFRZRt1iZVh0FpyY7Dvdn+Wfi/47sqDgAAAKBAZ9KdEK/AAVE4tJ6mK92o4DvHTAmPeQs\n",
              "YFiiqve1/S0jNtMTAFcDZWgur8/7KDxt/8Bk6leXl9Vce310hEtCfzyPo776P9/mHKStf1agp9FS\n",
              "9QqjqBLnrjMjw50RgkeVpjoT98B9o7PcfLJCKNGr+dsP2jW6NNIdB0sLSfQJgc6gasJ9DrMJy0v2\n",
              "twDlJuW41gf11EJCDgPx8Q7PF92ds/VJ+tBDTAFlw67dOYuzUKokhKMBYmXOCj6Be9oh6SZVgBXk\n",
              "mFf3Pa6ClSig+aVjICi/jynot0L0JL00WvTyCcGE93Lu6GfGq9ZZPb9A5p24zXUCBU1puF5QUtMb\n",
              "YgOSkVJTvHFIdNEbAY6LIW+rf9nyoMi4i1Mkeh77WpSjEHiyfEbFHSwTNHUXuGGPrQOhX0oCB8zf\n",
              "vB3rAs2s3yBWoS79hSjHcXPFxoiPizO0pOkzMdLpKRBFQzRa3AmX87vrbMYYNvwsQHW7Jo0UaSpn\n",
              "xVu79pCw/6mhucyooACuJmy7gsUDgfAjw0WSTEmeUzjnbHjWTJ3pGsf/1bw3ApBMSIDnRmytqeit\n",
              "0PgFgwhXVPQz5oYmH4k8CnNaqgzzPQDuecWrUtwNuoSm/xnPHyBlIELPav/DnSWxT285nJt8vB+r\n",
              "IhB2fB+S9klJqGDoW4UTC0//eMIDIQVlx+GkbZ1G7etOdfDwIblLt8aj76KLojiLNAIwkpo0e/bg\n",
              "cNYVnkElO0bOyxDg1GFBeXGDBWwha/qQLw6avfWKy+924684e49gJ0wF5Do3GYyd/jpi12BFb1hx\n",
              "qXAdTni/52AVy2viZp1ZyaD3Aicf+5RFhrYnpDNGLM65KwHSf/1Ge80B40elAkYAAAKeAZ9MakK/\n",
              "AAVE4tJ6mK92o4CMkCgTHuet6s8NKQmgBA9t+ya/VDSocghsEK7wrIV1Szfw0iIZMI4O9ldZOD1f\n",
              "tbXM53n4NBI2Qlj2n/Kt+8/TL/uoJT/tpH3XP3UFGS1w2JUSOAWPpB3gLqlQh/ExPboRA1Yh+dGA\n",
              "u23EadJiAkVRSo7vILEIrLCQl7Zq5IXkKgEPoQRWqR9cnGnHYpDhlfHSOqPVDnjXJstfCHRylXBH\n",
              "Ogqv1ygpVHvfw9jdmYT7XMvNIuaUHDwxSrUxhWqrsRWxoZ8J9znPCGfTKQl2QZrLJ9sXRi2t2zaP\n",
              "xDJGEYYVRDjJKmUt/DiLN4GZVr7MpfdBHwZTqTKVpIh5Om1VqCeiNQMQQYpWPlweIwKdjdm2D4Za\n",
              "DPe/GUeVI083hwJUiHFRkEeXPXw0IhgipjiBK6eJ9zZ3+8mqkvF5e/S29zP8rk8/LdULgN/1Za6S\n",
              "Lue2hv3sqgqiZ/VIoy2/ZRjl5OIinf/HCIQLegh2h8aZ4ft1KFyU5l4UvfUCQVpR2Sc+1ud2Uups\n",
              "TB28idFC/FiLy76nshd37jk/btyg7pfV2+PPxvQZ6RcPOL49J3IMXIhM9mROHJ2CyINFgH5dhl1p\n",
              "K3IB0d9bwv2/OmvTNPbzwP5H6nQ1sCuEVkuS00DYYXKVSkDIw5FvZjdXlv5YUkBm3mEO83Ps6zhY\n",
              "O1BJguQYrM7tq0wx7xNrzkasDXeDC0zLfzCyGgQmaKxojj8Kh5tE2ohcm4zLHEUCTyFBlB88q11L\n",
              "rPbZIddhx6xnpu4PTcfZ6lwZKuasPvMWdUP48gOnMcjoqCQ/P6C/DCnclt74L2WotylgvJkfiDZh\n",
              "8l8ecdiBMNnHXDrOiWWPoH6lU7liCuj/C/MeqieyD3zrtY+OOQAAA4tBm1BJqEFsmUwId//+qZYA\n",
              "ATinL3gYAFYe0gcVwMMcv3c4nndRvL53Lxz1cGxHljKjvrq1zQ6ctaNzq9wtqsV+1HQR9GQv4RPY\n",
              "IhuefXZBy4r3Y/TndvsaaYzABe8Sqrx9WEqnqPEHSPMS+7VkQIqww8rmBHXUrIURY+rP6iGm1P03\n",
              "+VA6kWsA6B5ylHe5pCbB5SagRm+UXeSQQhDMSAJ9VPy0ziHIbkwSeINPq4atrbzGJuPPWD/z7s5y\n",
              "E+ECnrPdNcpM75CrEk9Vl8jgCGGxCM1lEtbhuPA9IAIhy6xIvvb+UQD3eP+6B6e4GD9WKD9EmxO3\n",
              "hsjg66CnLonH5zhXbjgo1PkvI7EsK9Zwj6B4fslcQzc3BMbapk2jGfh6iIqyVlf5wHp5m2+CwHrB\n",
              "IPqEw2jw1nxkMeESzRcR20+KIQtb0uuZAlihvRFOP1ibPWYPKYL2ZZR0q7c40ZTnrTGP4cGwk/nQ\n",
              "UTxMY8y74qwXUOLuibD/Obd9T8XBmtBAzUiYXp2xnjdX711vweTmwGmeJLH8zd8XOVvZIpAmV+/t\n",
              "XzsN2/4UmfNzksdXf+wQKPMtdiG9qAuj45lfQ7Z2rff80DhzccTHYWZm1a04KHpeqnjkJSMbsPeZ\n",
              "EhVLKfF9w1yuBuiJ2p00TGoQTlXVcPc1StTcst4jCxrPGFoznaxCSJXjvBK0XWpigMbWEs+gRNRY\n",
              "y8qgkidvBoqtyWiVA3vmOowNFKXYveNhZW2G/dVu3yK/6ldbxLVPatBDiXtmYv+sPMqAgxfmKPN+\n",
              "Ps4DG2j6YQW2r3nSxriqJDE7ANCH7JHvhN6KatMSfLKCF55bTD8ZdoLZKVuDAn4+t9WrSPvx7rMs\n",
              "2Y3NXBtcT50Ph8XRJcnNVYlY0VqfndQU/Z7Cwq3suMLMqrhCxZETt3aSrkaxdH9FzjvspLWY+U8f\n",
              "rIMGNLLk3aRe4CV8bqvHRY3j0wkxN4zmMnzkTOqoCM2AqEeZqAUAdjS0mMG3wkfmYH8d4Nz3YLO3\n",
              "fhKeK4qjuZAajAZRq4HE8PAa71CR1SAI1cSWd4eoGEe2UudxnsKIRA6bclRQq+cUX5DqyrzqKA2Z\n",
              "PTu2ftP1m6+Cdu/02/x6Zm2VRAZMj1JXWAFRhtPeku3IbeC43Be6aDerW/Hli5jh0kNsR5gXWjxX\n",
              "W9qgH4jxTOfMFeOKk2LU03vs2HV5J52R0wh5O5cjcj9i9s7hAAAC40GfbkUVLCv/AAUhCQJcmhmd\n",
              "Dk/9CnwdZKiNNZxe6ocKNMdaJAMTQEv0ydLAGUlNFvDsxo9H+3pn7P5+A+JPl0Jk1rVxMMX2R2j+\n",
              "eka0F/wzyOMFWi43SODVgDyDZAJ9JBwGjsnIQWl2aH5cEVitmoSPo21a/s/2klF6hEHQS4Cw4AOr\n",
              "K1aD9gx9546WNmGnHrvZMPn6ALq8E3abKjYccaRTcO14QmAGZAfABq4R67DQRoSJqi74Npbv/2n9\n",
              "y3UrABVdjahaUZE2SRe9FJ46xuIBfrSMRuBFsZdds73NQFyZsKJjNmksmHaDBUpPrRsLwOkoAP0A\n",
              "vEjwHq2+3W64Uwt+jHar/i819GGAIPYNO402RUia95e3OAz0bvj1UILYcbXe3YRyGcv4HsssVAU6\n",
              "p5xRaOqSStFS04ib6SU2G3Kfe73f8w2L0LSsndfAReRbEj0faMg34ifsakNkhmbL3IakHhbL5qRr\n",
              "RVPY7b2MkP+IEu1zMqdnPVFkNUg45I7Zzk09Cf7dLTScVEQ17bl3JO2NZO0Gi9GuPfqYMuxgaa+A\n",
              "K3ZMNvTubLrsC5jD3KSL/ey9cWDHx7u2zLw6ihoA6f/6CsYs7juNwUo9yAsSHooHuw86cltmZFDm\n",
              "wqhmD8Ns4iG2zOJesvXK8NTd05ZPn4q++n9pupHHpQJh3i2LGcmdCIWXIhp+V5Rt57+NnijZbNjl\n",
              "aGsKa+Uvwsj6BDmpLyf5FAKV+yQAFb/pTDsafxYewGk7yDgdYnjeShsXOgEwstoFyXMirUAdWgry\n",
              "8wa2TDBz0lKRZOl6PXmO5WWJ7vCnBvoFm0CRcUwxqOQd7Nteln/u2JtxOKW0sV0zyj995EmPH6AI\n",
              "FhzxRZe5aF8siQcwTZUZSdtA3VARqMF25Zrr+HzXyyQDjkO+Z53kIZPOgaSlhl9tUGeKevA7lFdz\n",
              "9adCsRNC3r7xLRmYH0+j/L4PZIH0jQ9vYH+52UXEIrFheqBHLwkAAALfAZ+PakK/AAHxrxZqmQn9\n",
              "boayb6MAFujRXLHj2OPzVpBfxQxYXug4onMv51W1aOBh4wcZUS0emtTsC+YVUj06tlqRd/Wxh1Nq\n",
              "sYV0Ab1k3vxyqb8JCQbm9YR/bh8CPAm/4f3lGX5oHjT/G15ipzDSaskL57TEW5cqB1kn1iZAkVwD\n",
              "AWM9c72TeTHPaQKlZs9aLYhbWI2tv7O0RG0V7SuKO4OCJog4T32X7ED3KOb8vJk4CleqQT2BeEem\n",
              "RqYGwsAQf5pBKztoIw4N9fsGuGG8Ey/WyVhn9kgv+pnuIM0CelYnur0zrYxuWeBEXxbfKUIHPfFr\n",
              "MI0FU0wDPTKgQk3DtyOcpTmnRRC/tfCllxeyojnYLcMyDk/lTMZ3t4K/PQenQ2x6YsVtzkXJkv0G\n",
              "SMoHI9LVtPqiBwy7vSAqb9eMEIkqe4zqJluYPqOnxNHBceeD4AHB0ERMM8/S/XH19PnfRrIvA7jA\n",
              "zz0hagnkBYZ/+sq66IC92RYXN+WwtPLtiNj5cNpujj/I+LbPPv9AIEqUQfps3zVsjAd1/Uj061OM\n",
              "m/DJQSKmW1foQ45WMmvlUJnH6oGhg81mgWaZNjprrXscDTcBI+QhLzagHvJYMUvjtnOuPL8dSao9\n",
              "aXpfUtFU6YIeGQPkBC8qAkB4gslbMJGyzPSwffCQ4H1d0fGzzgqyaRFkSZniCOXV1JG6o+lDQMbt\n",
              "ucp+eFi+Ta0TGqETWlxchoWLVQ8eRCX2+hPn7NVUkcNwVccOrWsXTRrWsd939Rdim/Y/qIzFPjul\n",
              "VbUhpgYDYuQiFNdiADxfF9PKdv3NS00yPLxuIbNSOrkcNflHMpBntYvzPwIrqdpXsiwbwcSKE+Bd\n",
              "1XccYaWH3koyKCVWo7Dyst5ZxvsLOKLVVF+jzl2/cSU2dAEw+hLCVpECJ/StTHmA/nDRyVVkwDue\n",
              "R4gmqd58XfSXsRpBt4/Gv28Z/RCj41OUPhZ7raMgCeqbWIQsAAADpkGblEmoQWyZTAh3//6plgAD\n",
              "PR6OhDbikqInITvcE3BDveDdBm3P3fC+3IC1EMSSMwg7+hnqY8QAcVp82wjGRm8bJSY+iZp5vgCx\n",
              "uUvnaulcZH4QO1H+vzOFaPiFTBW+zwQPyXHhNvGrea9IC1T+Tqv0XomOeHjpza8STt3MrQPGYA2f\n",
              "axeA6+sxMEFqM0luiMcezbKTRUVROP//+5kHbmWWrcEitLzOKLkWPgy7XI8NM1VOVG3iSDSZ4wCe\n",
              "0mOUteYdELVKetB2mJeK7gj9UgHiqv7i2kq4ikhJdL+yzu4TMmd5Xn+o97r6eggKZalvvZmxntsr\n",
              "9BbbAD0K4ZRRT54jq8Efr7R/EIMi8qAerq2a/OGY3PEpNiwDGZeQgkmq+cnPLXPizTZ3pwt7h/IE\n",
              "7fBzy5qe2qdrbGBSP3F/F4FB/oX8OorPX9VNADLAegDUn8drXYJLWLRTlwVpH8IGuiE9S1ayU9AA\n",
              "0wDN1LfdUSaCYZBKm8kWweG2amML/MsylCGPLLuc6ONJClkHQi03V7SKPqgWrLx20zGIu/WrwoY4\n",
              "n/rq7GrJa0PpKYG0P57KMpPz9vemN3cyk6PpxI5d2CFhjCaD8ee54SAJFe5oz1nQBMlByqWZSvXr\n",
              "uheZ/1Kg2xVQi6KCs2BOW6A77bnx8o8hnGdxPASaLmg7aQODPmQFwriV1KbjQLh7ew/OXJNR278e\n",
              "bMxAE9Jxn5vj3Ra866uIVlz8oxzUAtx7vcorUm6nws51uYrtwg+vDt9YH3XB4VZnVJp5/abSYd7j\n",
              "5O8fS3ZCLJKPsq+WPkheBR1NpyL686DPIqj8wzUx/NQRUGhUSEYpYOeC2rs8I8mfwVC9FOXgJJdm\n",
              "Lg9jebcOF7LLRlxrdPGxapzxNyl5JSkF2QhTvCMUSf4JzAX2gpcCCXqiYQUagU8QgoCpUpgjqkbR\n",
              "GGjYynSgYNjq7eoyOe6qRXnbIOpnCLY43GgZcBsiWeYGSAASi+ctKNHt7E85Jt3OGdqbfkQAl235\n",
              "bQsRF5shnu+tBSgG6hZpVS2VgmIDMdRrbiFGvapBJgTwCja/TomMHDzhol4SI4KHZkgEixxMEpex\n",
              "AKMXcsiBNsnesZFrNkairf3FKVqOsyvkdIeTb2jesV2Jo+S/2lDILkmgtZwEtuaQbNMHU0SSfBXc\n",
              "Hd69+ehLmZq3ojUnEomnJy1efGilR56qKUEW7274Un/w7aKZ+yAivc8InqLbfY4aEe984XBbD0Cx\n",
              "d4NylJAAAAMeQZ+yRRUsL/8AA83o165ZDvAM4J0Lt5Q+2KCt34Gum3eu78i9Lh8q+Cko1wAmXhQm\n",
              "QKear7C2tZNV3ZpXukD6Z+zG1ODucwUGLXetUDDjvneJiq+XA1IlKXMR9jDBZEWyGJ35/h8powcU\n",
              "0ZZ0g0bQurGSVkqg5VP710oTxZwUR9ObXchRsRbQKCzoe76m2qPc2L5FvGJR5VnsVvOFWLtkP0Wo\n",
              "gxswMJAfDRgYC27DN4RIu+C4plvbG4MqrG9Gi8oUruK7m9xuGWFJpEGWUGnMKNAXRmt3H2hrSUhV\n",
              "SxMoaigRnamQbvIMjEMhAGHgJigxzVGkGCIUSTO2wQ4bCAAIvogRkMbozNiHKzeOWuD50KlMTbTi\n",
              "5G+DGSnVW/a5fKw8UJMpQNNqwgDZEKiOgHvCFZmVT4Q9i5w0CsuquSj4EsAcGyZ0t2/1ST0JKrOZ\n",
              "nVir5Aov6ujWJRf1I9p+WlR+oy6dpZ0VwmTiuYueXPk6ru6PgigZ9vsU9JUH8/FNneZ42APZvedx\n",
              "OHh0elU97nAO9IQ6bjRGH35SFFb2yyrN0CZXpyCFFjiOAZ5G5n/fOy5bGr6vpyzkqrGdOkO6bxv3\n",
              "6TrGsB6LyabtCfnfqRf9Z2VsGZO75TVqLdTM+4u+xniTdyOYsWUxAN+pwWAvYng8JUgLzVggQNU6\n",
              "M8AaJMr+iF50e7IhxkSApkPozHcN/so4x1cSrTdMSfKbP2cQIN970SPUz4ONX2c5QyA1dfHGm1js\n",
              "p0fRwzniLkNoC0JNr027RkKJhTxbu0SwGu1eiVZ7JOKD6aq+qy21fMx0Bi2gigNXZKgVIHJSweh6\n",
              "peKMsQ3GWp4N9ls9ethkMGfpguw2N7Dne5x6FST99SDew6YPoBVizLGyKUrmb6/O3qy7bUvCqK6U\n",
              "H6ohkbciDRgxUJxBrDt4DKh6m9dziMNzB+4vL6EcLtAGG2AiNC5kf0IZc6rnv8FTyUdUb2HIugKP\n",
              "XYTBasSFOwq2p9wYwJmgT/eJ9o9bfPn1Vh0rQEbv5pYPHS2g56MGBKVqtWMxwlSajTiknFtMOx8B\n",
              "5GZs51BqVQU1AAACBwGf0XRCvwAB8N9Wg0osQAO0NKhyBvDJNn9DQVIw72yValWOfHz2LjpgcrAN\n",
              "++6fTjix0SQGbNnu/rgN63/deJeVDkvomBWCNw2pbO591NcBBGwtMJevF6Cxr/6ZnniV8IX5M8qf\n",
              "37Bc8NRIWC4aRLrIuT9+d9mVsZYQM9VsizHQhB+tWmkUSJ+jnJn9HhOSJZaYqIvvRVfC7KN7s27y\n",
              "b/zLyatWSqNIToVTbE+t7xbl8pXL4dAYr3D/F7lu46n4vCnLWQYVE3rmwtHmEEsv2PeeuSmWKkGW\n",
              "qid/+DEUyo6jfwLCLCDF1P/NIkUi1VgUdCbhp0LBIIgAkCXXLgCY8y7Khjeh0BCmKLkA+wyy67sQ\n",
              "EV64suhMiVD/00+hRhyWK5cqQHvXPhLuHFO3gPp1RFtN+Xc/eQ+TxrGpo6A9Wb+C3YCaIxYjUCVk\n",
              "vm7ngamzeyGt38amDvNz/r3QK80uIjveIveS+59VwmnhduMfhJiQiumAUB2wNHzQd/sIc46BdwBU\n",
              "RHgnuqKD6zkelVPnEbwB/rtDfWzAxeGEiPJDPrL1t3yaI2FmPeRGiLVD+aUOIf8Zn10Z9PpTR7ro\n",
              "pp4D8C/3sfldRcjL2kXm7Ur+mcaoWDtQSoG3/Vuw9++w2qZ0d81G/mpctoC0c5pRSziLSD4yHKY8\n",
              "Dc5XJbS8MRHgGcnU3xOqpiDZgAAAAvUBn9NqQr8ABUTi0nK3mHcwNJ2qT9vLFnU+YzGAANCnyiB5\n",
              "xT0UJJ1GdW/1GCiwzTIQMb+eNFGI+07V28Y85joi3Qxdl0Sc6M2SV89u7s5RS/B+dKC0VSycTW/p\n",
              "8/Xtz/XuVnhGE0F85Qd3+RxoYpKYnDe50EZbeUnQ4l0E+aCAstqvFqulEI9ft7e6jKy/LWNfxs/s\n",
              "umi9sdW0RSRWOY3f9UUxRXjJG+9zNB68lmwelEZ0m5J1aQt39AX7A+IwxOM+gA1VmkxwwjzcmTTW\n",
              "zG+R5SHBLMR4TO1KDBqenWIEBpDNJVpyiEobsfeAzGK1wmVTLV3xoh2AO5M4OsgeY+xICDNjIEMs\n",
              "d7U5rYF8fMFC4c9Sg+o+LyYlyzifg6pTDQnKzo6IxaR7YvGpb+/UFxiIiHc9ePCtcBozFkFUxZoW\n",
              "ejKUriW2unwES2tAXuxh87MgtBRmAzejsd1zGWJQlJOVx2L+JdbgZ2AEL/eKIqGq6+SKCEXOusLt\n",
              "6Nu4ytKqw86AW7PhLmXrZJU8XYzV//jgTbvzkw1ga2L26v+onstkwQ8YQk/SoFp1IklG6aZFktcg\n",
              "K22ANx+fTBYDOqY/cQzosFua4vRXXb7K+WQ2GJX5ivCyuyRmvNBngE6DkYTy7VOi7KOm9bBbbqkt\n",
              "mEzYXVhM2vLWGrUfXtKGPDvrsf/w01a7TzfytFKAjOiNZeFMGHp793D7o832I/ec6WrGNxVtnQ9y\n",
              "Y7WwqgeHongfcM9NGgxRsorD+4HKH/KCajtzoRQBbCb4ceHwHSmMIT46oWG5VnEx6FrG3AplQP1o\n",
              "BBVDwPVHaiWYQ5uGMApDK3C4rMCzkgXIFYCuRkToaGkQxLK+DPo4I8IsQbOdo5sJCNB3RFWG+kO4\n",
              "AKYAAO6ckDE3ip9+hP+FPF6JbFb02t+r1shf5nJYjU9zcJ4tWXCEKkLBYe4RsAdIFsqQhUIX1q2T\n",
              "9cS+OCdd+1m6pZTG3XfyNO6MUKuBnTlo0xVKj0aCzoj0+hIHDQdUAAAEFkGb2EmoQWyZTAhv//6n\n",
              "hAAGT9RmU/oI2PTHrwAX16B7ky6Fm4IE38GH6i801FTSzg1PuGVv5ciGMChFhfxTlFtxaujL2F1Z\n",
              "4tnTG7NRMnkjY9XOEH/4b7+MbbGCoyUApCPovpiKZOtSZCdQuy++flF/qJ03JgxBLebw38VjUWai\n",
              "iN4SqmoDwioiMsaeG+RgXThOONzZkUgAJxY/xA+ogxYdBg74BRY5pozczRtwiZxIN0/up2S2WlhA\n",
              "Uby3rtVltBjbYosOiC3OzI6SdTR1XkSG6t5QrjfvJ/S7J2uh8+eu9PopUtg3GQDMaDvO6vHc/pAI\n",
              "nvNpDgeCpx4H2YCZD5EifbyJ9YzzAyXazNXbJGI/ykL64wIbZ5oEO7yTrvorSyH7IBWS0BFZk77c\n",
              "phZrnmXcZ1AInlY24i1kOvLq7k/Y5rgJhMrpH47Uwjq8xdVTl8TXOzVv8NH4sLuI0Ep3nNoESc3z\n",
              "9z7P1cCiU9d9b9nTcY+v4ZN+yq6Pn2VAMdtVddIDtawrKQmpRs3V0Ws6794LfGxWw9CoE5QFOVVC\n",
              "NLZBiD/xtsw+YFDMLPBrsD1uIWKO09hoQ6DwgNgoKXDkGspkdoosNaLQtYbJJ/ZwQjum/CgnaxnV\n",
              "eatamxkgYDzndXw0EpJItnwOAObOWkkF3v9SthI60g47qnFICBQVKl7zqP4akALWZfEg0nm80GCL\n",
              "HyVxAM2T9f3mCQwGroPwWG8AV1V7Gjnxv7vYD2yJaAueFDFLAwjNQLxMbE9fP5xVnoxc1aBwfO9Q\n",
              "N9ucBgcRho4inpSlxVmNW50Op8m8q+ZR3n3gLr0GAC+GonGFZ2FJCa0Zg+EZpOFUwh5wtulNPL1S\n",
              "vnj0z+weh+GUTt/KgiznNckAIkproPI6KcHG8qp2x8N1dBSAj0nslRWupXg6xP08flFNgWMX1jB6\n",
              "+z/4bmaodLE7VJSh++/IRBsrGmSZS9ZhczsRiazutlrTua9rEs7O+yOaM+ADt7qZRSvn9PiVo6zd\n",
              "YQTZ4s61N0kJDx5S20Z/fANaeyEvPTHefYs9w3tFzTaQ3056MihAOjXcqyLY2EuZqm0Q8znrtgCf\n",
              "XtLGk0ycW2bM0IajPz8z6pBu27Ek6HeLuVfiMoGdKpA5Za4sS6c+3M7IasX7wUydSqPw2k2FvmuO\n",
              "ntKoQg+/hUM6V1abt3SldlvCSix4TqSvqtxBZq3VnlW+lqlpv0EUp9Mq1/LAhSw8Z87xDbFObW8c\n",
              "Kjszr9CtbIZz2TL8kNgfpdyXEvFVpntVKlMkIXLu9kx01PDTqoil3K8upXbnc+Q6lYoPZXhzS8LQ\n",
              "tmzT5sH/5kOVgDExcO745GS9YHLy9IegmSeonwqJ9Ripw6iw6zXNt0+W6XE+gJVF57w3A3caJaZG\n",
              "An++QIOBAAACx0Gf9kUVLC//AAPN6OapvZxWnFpTnARsxqkVuf6pLmKVKdtBsJYdx04PSQADrMH5\n",
              "rnlf4O14Sgt4k7jmmOf6XAQcLhSRZzNLk+8QWUZOKXKMb964AJwGvmXabu7tx+SX/Bq49ZfpKFdX\n",
              "2fludXMfGlyU5FKIRW56caL0u5cTQAMNnX+5+hKRLz1ShRt7mmyl/WB45hSz9ijQtRYS9WCHr4vG\n",
              "eQ07y/z/XRFn1pLtcy3AevHPCFaourQ+L+EwSmycL7rSYL00/pXWXED7i8JP0vNrBYNWkbNeATE/\n",
              "T8xxTj4TxLFcdv93eHk6R1/6TzILS5r5IhATRHPcQ54lgso4MHP2+67ilkVASxGJIoWuQRhqU4zk\n",
              "7SteeEt2JVbi5+BC0h8nvqJo2+O0RQQegdbRBqRr+HMe5MWJJywOhH9hLGQWz/Uw5ARC4ba05ZuH\n",
              "NEysvI8qnkvwM5H7PbCxSXsiDVeBcikkGO2o/Io0MK/YGQnpswuLmPfgb4tKepWoGucdm0yS0L6r\n",
              "IFkL0eWC8RMP7ZhFSHgxeLV88H1hToyr9dXwBzM+YnvK5PM7HrSU9KObAKAcyo+yqx77OB3ztgDz\n",
              "9/qrClaHpCVJWSbKC55ipHMfh5gJMhyhIAQk/LWXpR85lqDxhMJeJV0tciQSkhik82LvuGSoGV5t\n",
              "O7enD3hzF3uh/kq5o7+jvXL61nEzvXgbHI9Po7MPhASbbpD//c628+LDGr0wbnn7BF/zVqELVDku\n",
              "7bZHldpKEx53uV2vW0pkeMIa/NjvG9Ff7RFvD3Rzr/9YyUOFQuzKSR+DD886i3WzGnFd6FIYlOxY\n",
              "EE05V0g7d2Gli8jzGnsh0hp4URU4LJkrDaNxcjeaau8PJGuGYASXPtlVyS5RVg+hODirI6+w7dk+\n",
              "2/AtSbi38UOV5ke42RmCzJLRg9hPnEkvV9PDeJlLLvvVl8EDUgAAAn8BnhV0Qr8ABUTi0nK3mHcw\n",
              "NJ2qT9vLCgdejDwERUQ7qph/qHzi0ngQAOr6tDDIjVGSdIkY/wzJP+Llqw/7QeW9+UL917yz4dFG\n",
              "7cd8T5I+Teo0vTK1L+sX6LMP5EjYHFwMhSWkJ1jvtFUsnE1v6fP4vyr3sfetfAEfmhAYsVcF73FX\n",
              "ksU2Wec+JeJe+yotIrvq63AXvJo+xyIgJCKIv0+zhbOQTyJYdXng3PTbE0B4AV9PfIIHr+Jy+a7K\n",
              "rTLxT8TN1V5oA0tOzSAq+5LenXFJ25quhra3q9kMBDr2Hk9kGUDtvNsYPxPQ6ZNp793th3fibHSF\n",
              "34cpd+/5r/n1tQFajPAifbPgKrRINK6aWBENIQTSXxysD7er55ETSFP9+QFurkf9JuATnrdjAqBD\n",
              "oAZq11XfPkWH5DvSEgqnTntLoTmaepYe6q6qUP/uLlxd6A7BmHsBQmEXVQHSc7L5CehcZxo8FMsV\n",
              "QIpC9Kkp7eBWvcOxAnqui0DL13xs7uDb2dwJb+H7NCwSxc8i3j5fq2WNzW/jOVw/XVeBCkJDuI1v\n",
              "OnGVCWybqE63bMCuZ9JSIpd4Y/qGQupFAdGZ7+KaSbxyzMUei/99m2aSvcBZ5QfpcE/YMNps4SaT\n",
              "DhPiLwGlMTxfoqtkY0qaHvm4ce3Hl4jQMlBuN1O3v2WrZsXZAYw2pppFvwu5j+5beq8sx3G+Lp++\n",
              "6QwLVo+0fKW+Ufvx6e9eoykYsxzocSOkOmdf5OR4+LqNhKMgy4rAXtiR6AAApGlHq9IAGH4lJXig\n",
              "hz+6HHYwaDoyMl9KvJ+4mCsNRAua139MBxcIco3JKpybSFfv2cngWAMF4vlIyFE6sSueh4EAAAHV\n",
              "AZ4XakK/AAHxrxZf/ElTjEygyhOcSA1Rt3kANAAdWeqprE7quCuOGhNgQFPfInjOPPLR9LX42M1/\n",
              "Aepn1+M8ydcnBmk9Ea0zSOYRipv06ceJE/wo3UBGfW+cCBFKM4MdR0lGopAMqgDJ2bILXwRj2JSt\n",
              "UVH/MyHEkci87uFy8xU+5qtUQ7bc7OwDdXQ/Kdh8c5X/tdJdjOJQc7PfXGK8dso9uhgkLsZlmIPD\n",
              "KKG+eRZBA08ZQijsOKRqfnrMusfhNWGy2vAM3KUI5o1Y0R3MgZ+wIOgPba1g1HwGNTWEwGONf+dh\n",
              "Fh7jADI9ltek+EoDP0QGRyO2sqrg++FEqqyXVe7msbHkLwB7cXqu2Vp/03m/qs96eEbMr7LOa6eP\n",
              "t3e//wMcCR+f3dTuEK/JPmxeeHTjfRVPM3uJlUeNi7xsBnML8MgvzHmsqzRIrobCffnN5PkXNc0M\n",
              "TgyC3z/gK3ggzgdYe5sxbgzqXhP8v21zYPBoYeBbl5pBI1aDItCCZd4MTAJgxqI/XrtuoI671Zu6\n",
              "Ys9mVnT6JjiS0ZtP8AXfG4B7PaQa8HYajrQUZjo4Wnllzp3mfGclLu3BK1MXdvmu5QzV80IztHOv\n",
              "cNFthQiNrMvwZQ3j5wAAA2xBmhxJqEFsmUwIb//+p4QABnfZUR5dKSjwYsPCErK6vCPGCYwkx1S4\n",
              "ROk2EADESKKYADxfMTKgZZQo+pKHz+dBZ7hKotaM7nhUCMAfS4cjxLg+2gkxqzMpgz7mlz9RL5wR\n",
              "t557QDNszB/hUh5Kag5mp6wrgAM9kf9+ml67UCNwmwyWL4iw4EXeCCqQ4pqW/vlBx8NOlcZ/gZtb\n",
              "fBO1VMeIYkVX8dXs/T/JnYAV2MaWC1/2q4QgKA+f/XE1QmF7TRKoYZ/RHonFCerMbSUj9m5ymVhg\n",
              "lCbBYDBirEWPxkqi5DstkjEv8F3Q96GSjmOXuPyfMK+r10Ym1j495vkn9JvYBQp1xwi/HcoSk7LH\n",
              "I+Bmb8feU4xBIa5bZlSCuM2EOTXKoInEACj6PYkNf879QXXtGxNfNi8n2ty45e5YRCdhNi9G9LzY\n",
              "AD2CRg34ZAINAmVVo1JSFzwjafhw9N6VR6qEPDKjU03OVaDam//o7/lRxb4I3p4EecX2XhOmfG2Y\n",
              "zrPFjV+ztFE7XkhEVnqp+t9eTJaTqTFm56oR9NiCKHPrZ9Dz2s9+Mkst7cQtFfLODYZSn5dE0u4m\n",
              "T/Ny3CbOU6g36mL33OMuM7KUySleexDYbTv3AFBfROpN2Awy7Ab1WL0bcsnUZqoDEBERngKld2aP\n",
              "vKTg79gFW851ls6an5eUzcLuC0QdpcnNGBC7roGm0AkFyOZ1l7bNbIYqrZWn5fOvpNFQl6aRog/q\n",
              "gGcaohXQh5aET5KBCPfkSQk45Rf3uCVJ4A6MxMWnsgZ9r7Tp5gYAks2PEFxFPhMlcvaqXIdgPWbp\n",
              "v67DhD9QY+UjDLv7s2sS6Bn6j/y1AH5+2y9EZCBtf2nlgzaIwF+74lrwDmKWnkoxcKF97aKpMf41\n",
              "xBS3aVrQYOX4Dtq+Y9aLiZaYEfAYhIGhkqCePt1fd8OMIsoN7ZfJptyN7FZgFoQsAlxHS2brjbi3\n",
              "5JDo46JMOGzBpe5hfwwKCdij+k6H/mqS2IsZNI65Ve+MqIGE99l/6Q8H6kFaYePm2NkQuN6SRqWQ\n",
              "trV0F4jnhL1giLSWPkGE48ckUjDrtqzQ8BN6UZ/Wph6CVbfT9kPFFXO7TmgyDYEo8x42tB1TD3Ad\n",
              "/E+TWI+WVErRoN5vyb9QTzD5uegjeDuqpd3AQe8AyID6z1QAcsAAAAKNQZ46RRUsL/8AA83o165Z\n",
              "DvAM4LtDuy4KkPQAcMPEjIlejRuDjrw0l5ARzPythpQ9aJ60H0zd9WyzqICrXPwOQ5RLuSq7/YYB\n",
              "b5Ys6DwTELSVmBipsPidz/6cXcsT5l7/owzJnCYiGw8HquTEM6tgTKrf/N/6dhDoJ5K1io40jiMC\n",
              "fsnhRlVDfs1JJRVy2WpduQmNHfpP38J/xI1R8/XgfkuOLeHneGzGPYGLsROUk331SvMyrJe1IOtF\n",
              "Lf2WjgGOWOoJcQLTpPmx6UNQcc7HZ5uIt3oHEyY6ps3zKicm/g8btUwpqE4zYYTxeFsD5DFPx5xS\n",
              "IBN1MKVzwZMwFqN1nXZ1dnJlklWa3cwqy68yKbRuLfOPnh+dK/1PUkDe8ibQM23a7J6I8dWW7Qbp\n",
              "eQD9CujL1XfhFdzQL4+yeiKtC1+QO6Ho4a1ZcGNBTzzjiZVG/KfKCXfM6RrnA2ZK0Faae0iU5d6X\n",
              "9LwqdLAlWjHKPoKpF+6/W3DZc+e5rTyWeYxhkU+NYNqSIHURzT1LfjKWqI4sptKUc/kKZuhHSp/H\n",
              "mDz9d9dLXZpe0evk0kqs9YH2j2dRrHcCz0xzShZeO5GTLUR/I+qfeS3Z+2RL136vTV4NJWm3y4Bp\n",
              "eghjt75V31eydCYqLRgO+5bua3mpDDmNUhaa0i6aHCUp8gJ/xoTN93oY7PKXwl3b7nhIu3VY9hBK\n",
              "9fGYhvgbzgeqpunNef7Kx786ZwdjM+866GGE0wFuFNn0Mccd+pLzTxiQudB46eT8WqGVo3r9yMK1\n",
              "V9skjxwC9UskDO1v13QR54Ip5gKXRGNK9QE1QZtQzPdp4P+CpBB3UzMTf0LXqtxA5AYpTzmxWGl8\n",
              "qGAoCoudh3Dl8dMAAAMHAZ5ZdEK/AAHhT0717Z3jQXcSQPPTrm8LZUAF3D5D+svkCJecn9WDqvqC\n",
              "DVnzk/2SK4tsEnpJEFJETF2GKn/35Ybd26RxyZb2KQexS0o07Jjpb1jKuspYylNT9ZWyVscRt6Zy\n",
              "tgcENX78u3X3VadXAoRhcmeO98DN0+H+TRFvi7tevvo6oRxrSFWpqSiPQDQG4c9Im5xnL6TlwY/z\n",
              "6yvF/02PyAEe6gpnPFOh2O98heLloKzY19fWqsezIMxNwaqy7YVHzuNX7uqAvaC4s0Twn15LGX6k\n",
              "sLUJI4s8EjEu5Ui8iNEN6S/+mIsgktxOP9m5I2cTW/Yoaom5wZ0FAthaQyf908ilp5AvPjRgOjjS\n",
              "4RSFRJZyyW4mOY7zj5s7i/6e/pjzyIDliw4EQz8Vs/UmP64yYIxSOa8n50ke3+cRnYzhWnGVGpWm\n",
              "y+dlbEosEJ9HfhA6YC1hsm5MgtVkdsjcG/J1hp/ESvJhu7+vp3NJOOhiov66MVI/DFEYei0XdkIr\n",
              "iAOeU09YR/GBNUoj4nBv/Shg8hQzdyws6gEt6PGrk2U/bZb8svjGMp4+bhbo++ti7LRoOAcPz8/a\n",
              "WZXphnT8yrkayb6mR77kJQSRBKJFQy2NHIkJ0bphYh/gIDcFK2aCFQz22P55zC481imIEt1/PD3N\n",
              "mdE5OUGiXcLRpf1AmRYS2eC7QAoRQI4r07zawGxgOTt1mH1IKhtIwTzjShwu/AgsuzGRMFkYn4Hl\n",
              "jaCRbRGrCzL3HlyLjhDC8kCFSAJ0U/G3JLl7dDRMTXmvwC6uHYkL0HA699Q4q84z/QwSl9PgbQWL\n",
              "WoBiF17aMvjeM6TNGJTlhjUEi1kVAqMat7jiZ87X0Je6JUeZkSUF31iU7ic4GdAzzkPChTegaR91\n",
              "Rn9TJ8JWPXHkoQx4pm65kXAK1MWpl1mWFHlCFamjYYuRQ0XKdtMD5TL7/38gVIyk3bu3Ye1a2zmA\n",
              "443zv9pKm21KVd8a5HotFkcTi+Aw30oLAUIsDcyfARsGb11lJNVV3ypPWcURBIAOOAAAAucBnltq\n",
              "Qr8AAeFPSqlPuuLYu/J8u4gAhvVHYn7LrN+fF25D+4MgT6BpoIHmhbiUtbY91uKTXBKP95gJZc73\n",
              "wgR5TpXlVU/7xnu9ya9FJ6eIK1uP1vbk4kErOdRunSCYaJ66J8pZBM9s3rwgDJq2DcfqXTheDGFq\n",
              "6mgZXlWJad2SJqxJbFBu+vgV9GpaGEqrAuEGJnQPPAJNhBLvGJoMpq1SdFhvC8h6lWS1uG7oikvt\n",
              "TIhwbTQwOkFBiFGmLX13NkGL0p9SqhiHqUuLn1X6DvnVwR039H/An8YmCzZ82gG1G5qBF7cmoAdV\n",
              "2YhF8x73JqWQvjb1XuF0CMu7l7LP4kCS6Ignd5R74Qwa/aK7FNcuJbpA5DAj/FA3ceSEzHyehViG\n",
              "D0PzsAfKIPWnQ1XAu0CQFVJyDknlLy18+Su3g7pGC4K0okxQFyme5T145wO+Yu41WaExhsp6CdK3\n",
              "kQX5O5Q1Qq12Rd7dMF6c+PxTgJ4wxZwaz18cfeY4Ws2GJAgzQYcX8go/dlPD4HaT9M/E5Lj4o1R9\n",
              "nuWPzFsXYKVXCyvbxKgtniDljxqXGpA9n4l/CQbuDmz6grej95gUowi1CplENMWdhgn2jCzWm8wY\n",
              "bgxuv41okawifVrlils7uICyKVrdVAGkT8fpYFB7WvN4hRXd/UjTMdHcXRScr0LIpJsmfuBA52sa\n",
              "loMDFF67KZxNFeo+GzuBNtib62/FbBt1CK7Ztd1uxgNOcxZ/APQNSYLceJZQTbgYCyB1Zf/WWmp2\n",
              "ZjB84yweSxkldLCaJCZ3GVTiJoApguR1TlHCgtAay8jWURM4WLt/p3pBg+1k9HYuMB5Z001550a4\n",
              "h8bE8rkhNYZcV7zqAD1yAYTA/f8YItxFS88Hqdpy5AkD2D5ih54k53s8hAaVKu8jB3Ys/Irip3Zj\n",
              "/OQ1Q3Utc91PH2qGJQzlPHXem9dOM4wFqdcHISAM2oXpM0zFTu+9aoZVmFQaElzZlRf1oV4PmQAA\n",
              "AqxBml5JqEFsmUwUTDf//qeEAAI6tm9cbfEtzctNyiEAC6cjOUtkEyWjrbdNtfN8nKvQrIXCuPPg\n",
              "pK6J0qo39Zzw4+4CC41AWVIYnYMq/I90y5h+i4+BV9MrOqH2i8n/7iZOjRpvwT5wVcsKVuRciGBM\n",
              "RHquiqG4h+8Xnn3MLNBG00GtxI3tz9xl5gafpM258WsXo0+v6JvrzMc17uZht0KqFwo2xNFZcZ1H\n",
              "binQaFFv+wuzJ5S6znwmxqhgOyu8+S0dzwK6zX6QSEkvgGBHhG7cLfvbpLiF16v8xGUJG8wCCR3c\n",
              "HED0yqbcD+Szl3NAAGmwOxjj941Yc+UOzLunJDTdRrKMfaVDqfQJ7/mMzhYq5Y3164xfDP79Fe0U\n",
              "oXlinjwnsLoFZ/UKzG1S7ZDFohOSWnawNYUUa4BUUfdJrsG3C/iV1JeTigSfpgJE8t/EOvgzAsx7\n",
              "1/ylYjlPPZJNInihrdhPV58mgn374IGE8ZFq+HMoJEN5ICq8bcnaMOmXIKgy+JdMi7JqN+5dCSaJ\n",
              "PSkPK48t1EKX2gsOn1KlwyHniCbSMZq7ylCTWNmo0OwiSkvrjLHx8GUtUdyRu6P6J0pUfUsMVfwQ\n",
              "wF44R46vD14APpuqyOnet3oZFuxQGGVibvYfSxtyn0YjwT0vAmhsaQDVVxxV1s+Hh9lIn4X4UKUk\n",
              "v9TKEpLnUD8X7LBXMo9srQ1ssjqJxLlQqGyQ9up48PnG+CH97aI0xJmgTWpqxCUEBY+ea4DNAmoC\n",
              "bDG76WLsMsXoS0LlW3NoE4eUFu1PpZjVVDsm/3cUTZ+dGgbHtEc67exzLMSsJbP6TCxU6L2MYA/M\n",
              "0Mv5iG0oZUiZ1i+G10drAsEdP7dLQjukrcyFntXBdrovB1Tywwjjr+R325jsw8z5HWi65u2T+dEI\n",
              "K+EAAAJuAZ59akK/AAHPEFZbyBfdjxfvk7IEAHF9o9Tv5/dMzPcrtxcrD+McyewhEQKCp1vRuyI5\n",
              "xvWyl/9ZXCK8MN3x/WKyPevSnsaoibPwRe+h1EJ3WCUsx6+M+tct7PTUZOgszywkIWIpUYAMjb6G\n",
              "aomVsz2P66SSNL7lS73fC+Mj3XFU0NxQAHHUMefjVjgUe/lQ83kRqanmdcbm0vFboipOvIXG3fjP\n",
              "2RngFgXSAMtmoMI/1FovRqZDjwVkh298rhUyJF01kLeOhn7Enk4Ml/bKxeZ4oxPIoTuvXJXBDsT6\n",
              "UYzEgfZdku+t4E6l+vZgSL9T16JpDwgbXVvg5IeOJK6yp4QnbCFjBeAGHnzfP4UO9LTaEpI6lprS\n",
              "JoKFsLZhs39ScBkweVnkY9q89FA8e633XY7ugbQW0TvZv4P1B2bB4DzAhRWG1i0KfYA+668ZEI9K\n",
              "n2VsCCFccdNvUARuVn6sLLwWb3lnJEZuldiRDK9viXIbU+5ZdWzzPU+KcArpqmCeexvH11q9RkBR\n",
              "ewVqHqqoTqRMfkZ6aKsxLUKSXGx3NaesqGj9eJOGzgx2jXxaiIvSoeZ44Ii5pnwKUhHfFlUTznqJ\n",
              "SNrUH9zjb6tOfu62FYofWaE2Wja63wr1eH9HocTiKP7g8Hu/VB66+0HQ/rY4wr/Y7cYhJqp5TyKk\n",
              "y4AnD6wOFVqmimKu6leSGaeIP2QC8E+b4H/4JJ3DDF/Y+issCGFxJMni1klYbuqtYxs8sN4FyFOY\n",
              "7Tr6hvJmfMPw49X599+WQ4zHfMYKEsZYUGpKz+2rRVNRdKW2TM4K+8TrehmK/rUi8CPSvdIjvfib\n",
              "gAAAA0xBmmJJ4QpSZTAhf/6MsAAIz8TBsDX9SnzDkcCyACVqDFcTT8n8UgWMNgIF4olewPMlBOM/\n",
              "jy2+EXCmc6WijdwVe4Y/0hoYmoVDSrJsIbMztHc084E/69y1khLsy+FlpYOZXJoFoeWgvTDv1+sL\n",
              "1Nel2nP+U4ryip6qd3g7BBbW7f2ooSIo2BFtCTsm6DxAOWiHskfGeMYpslDtfmpNv4I2DACjK9Jw\n",
              "Ge1yy8QokevVM9AuGeYBRIQ/KpDwI6B3+tMjFE4lH9wZ2ORanyhDwtERqr0QOYnpH4Jnx2Omv8lM\n",
              "9JMuPXlEcDwqwiFejzsx8Z787VQ9Z4YUy6fdVBRL9Y+SZTP9z3iXo7uk5yTq1MQpzoID3Kpw2jKR\n",
              "7kJHs0I6ijR9WxY7xvkCrWwU4tXDtIJu7GyNk3XqeKCKW7d8XrNZVthVPKXw72G3MpZmLKZ6p4bk\n",
              "CfzSH5RTVLZvv5IA14ykA2AWMYhl94ZyJKxpUktcpD3sVxsLMN9AOVG4he655qu3XMur6WPJWT62\n",
              "Vh8Xb3QT+DuIVO8v2iVFZas4zISytKRQavjlncNDqCTNuF4LS4D+VIAD5IuCwLeXyp6qVArbwGHP\n",
              "PuWNaiINwzpzfQryQ/0PwIQ8eLL3eV66rWz1HGuCpDXsTm0ju2OapaUTS6yFT/jOlQrV1RZHhq9i\n",
              "7OwvSj6nPGPsebMmHfLKUQWg1svYbqpvtOrMK6V8ozfa/qYtsNK+CJ1Bz7hIWR5Pews/OIU8LJhe\n",
              "DF+jMcd92Wjvd3UGH9pK3TJT0Voa592lRMU9kHalmdeJwKqO+Nvn354WS7YjtcibJftrG4YjLilP\n",
              "QdzPul/07kiwLdwhigIYP0OIRMfa0rpCK+RqBwD/Q1gQXY8ythKRCIvRMteQhs+8+XRuSSzgxF1Q\n",
              "M4odzGbYwSb/SL/TDioTfMCUBS1myzM2UkR4PkcB2wHxu/A7dqA4zuoIzrn3U+5OFTLZfonIrzwK\n",
              "T3DI9P6DIn4uSEooWh6CRhsjqhGupamgdh341GoD+KXoY3jkVGs9yLXFDRI3F1GRYtm2Ki7EmkZ7\n",
              "owy8QYsP7B66T0gJgnd2rPTtMtg7YL0c9vu4/8JQy9ioPANrMmaymTgTBwicTHRYOyEfAAACTkGe\n",
              "gEU0TC//AAFitmf4AEPyVFkEhMjG0iSfV4R2xZV5OwdDQBEoGethLZJ+1NEb1os4eF8jBmm04kTz\n",
              "iu2eckZVFsNgjrqSiahIg5pDe6/ftD7kMfpUg8FnYBFOc8v3NB3SUTA0FjqUZ3CSmed8BHphbYQW\n",
              "h4uY7cKo9tEkFlkA/NnB4oyFXXTyvp21zP41UtPOLxoV/zw/u0oROJwG3yc6tjwUuioxxr+AcR/p\n",
              "sztuxWzoifvRKuGudL8HBBoN88X6nOCGBwOc/g1T3Pd7oB6udNrGZXgu/HXzew9kX3csIrNIkl1z\n",
              "7IxtV+z8HFj3xwY8XivtTa/L9FQdSMMBwhniyApYlWqpjCnbniTIPgfJmjsizzEyrJo0oNOxgC+r\n",
              "7fpTuDCSPliJX55ogOXchDs3gaIxBT2fq8dmvmK561zC7CdOXQ14kfALZcVdQXx2Wb9I7sb04O7b\n",
              "gJ/5Iwy0jYClQXbl0WMMLowjGv28xK1nsL09jWMUfRVeU0b4dNCEi8JjOd+S1BxtNODZ08EPOihu\n",
              "3dpljGa2SipAbqsVA3R9DJOprrNoU5ByWkBBbHNdyVlT54Rb4mefN1kfzKOBMaNpB9F3RCFiUCq9\n",
              "UrMHOVuzWnZ2jmm9fs6311xviPO9vM+CK/or7O0W0/oybW/wkTdz6vWPHD6S1ViMNN00hQraVA7B\n",
              "BZko0IWshSUJvGAWJPJ7UfsjippaI547r5JKbyBWQ4EFnxMK2oD/Kc2b0VvlzgdU4e3NI2elmbRa\n",
              "tRcFvvW3LOqUz1yFNbr9UDUhAAABzgGev3RCvwAB4U9O83qpn8tYt8YmMQ8h2+M3mZhyNO1kAGwP\n",
              "mfBhvLrFquvgitIRk2gQQ+izmFepl9+pxcW+mQXTlxp6tNVwWW8sNJtqZfBHMVPs7Q6yv7E+mp/Q\n",
              "x1O9Mwo+R0ceHOtzfNeqkGxLOyejsGOsqhOxEBwXpfR8B/Dz2W/lo2CHjQUPjAjTpKzMxFQ49InY\n",
              "MyX8gIBnzdj6zFkc1LOep04V5FqHIHyR0hMty2reufYAuaZmg1WQH7PbuSIbNvzWbf8+5HEr4ltm\n",
              "uJpOBRzRfIlVddFp4015XuTnJrp62AgWvLtNLxQr053/0bAJPvAR2AEhK4CyZFtqhA91BK5oWfiI\n",
              "ALhR4Kg9Bf/8HYlGpkHrG9uJr4gaUcQ+OAhONZoQhh2iDhGm2zIiOREats6V7ZTBWbARG670C+q7\n",
              "CozRVn8ws97ro/JJ6YMDTJBnPbGYsmAc5DWvlyJsIaadNuCBCWMyw+BD0d7tZGahcq5S8C68i1Nu\n",
              "1NHO2uzS0B+BsH12mGy6VnJF+7bFdaCvRJ517kyU17yEI5F+OotMvmtd03vCqWWZWBWNhezwAxqz\n",
              "8DHS84kyBbshhdMCuf9BYG1gXT0Uivkf0gWDxgAAAhABnqFqQr8AAeWIQvUyd86oeh1m8DGa9Jv1\n",
              "KLJw8alB7AkAd055f7d0Ddv8IVNV/8ItFE4wHr8LoAL5nyVnSJ/NGlAD8qBKbR+mjSr8uHQu/fT4\n",
              "iGNVlUxaDKtV9euj1cuEHB9GrySSZSsVraZqjCPXWLnBDvzgTfsSSJYjRUzLH3NOxKQTq32HjlQE\n",
              "BWrTkFAi7GxyChw4iH/ZjiUcKOOGQS1GLkpIqCyN/verlD3k2+CC4FAeqvlzUUOew4tBKq20+fq4\n",
              "xTdFR35WWtYV9uuDE5p/bBQAkrmtVLE4pf4Hy7Czno3+A4tbJ2LhLi7xf01dRyoNMkHOke7x1pQB\n",
              "0LWnJTJvGfMPXdOXGCok8qHgr8bB4oW4Xxukm6Vkm6dPuaXr9R8jXVWaKJBfDHB8Cyy7X2lZ+oIC\n",
              "DWnKUcprSYfhRjP3kEAKQnSC0Z5/+VGMGU66iUsWriju7/BIASCiK+TuroGBDeygMmB2MX50IoTZ\n",
              "XGYlmX+8IpbGF3qYtNINXhfook432/AU/ZfUxmmzmOK68WGfuEelMTQ7cAlRbgHOUV35bjnkJWKI\n",
              "Czt57UkXiUWiXaeR38LAJT5gppS3LW5WSdaRjNi808gAUtY9UEgSHcOEmNqulceeLPPLBzHEr0b8\n",
              "porTTY91WBgaoo7DZMDwTxCjPaySACyGu4q0CSkFbGsIL/oYNgUn5xZqLircCVkAAAKsQZqjSahB\n",
              "aJlMCFf//jhAACGqIeGkR/pYgAvebdJ4X6jy04UBUgrSotJI/RthjoUQ5Eb9CS1szTGlgb4YjG10\n",
              "NRuI+NsI+XWAu0PW6EDzBriSBl9/Gk2kfQQGznN16mDL+ag3fe8XuUAgEnA4tlDayWrZxct4CFRZ\n",
              "p/hlUmv4psRDtlWWlcGLb8+3rUdvLV7rqoAkD3xEt7gQnLca+6+Y0jT3eI/mU1ccRXFIFc09s3Q+\n",
              "/ergHSSnLVqTLmyirpYxw4BlD0YQ6lmc4UUe+jvq2eZm1UdtYSfOOVMtWMB5eFT7hKce2Rdv/k/O\n",
              "kXVKDi75k7fhRBnly5JZSL2yNhRVBTbefnV7RdSfpb+8pxuZYefy6wfNNx/Sa9WLkeCqZ62bPaY+\n",
              "rXriWwxIGLrZoV/ROUwV2/WchFSBeedUMJ2qd+xsweCOTsbgQhyuDLUOZNXERfpvdHDYI67/wfmG\n",
              "89QKQ5Q9ODu+apUl3HDnckCCSyg+G+UjDr5WXzrFYBUidYrwpoVNOilu774YCcpGiIuryxGOtqg0\n",
              "YMTT9M6I8yNrRx37z761Yv3owGyqmmFBxBZoGUAAmlOutGVTrR/dVgORw0ay4L+yX4cC9kUijKj5\n",
              "Efh7gEacOo0uayzFyZ1msxR9gu5s1NHv6JmAYV8+q8EZWKPPCudBgGEcmgS23CMNF+BJxapK41b4\n",
              "Z5abEz1Hek2ymIJXvvx4AIsj7gID/l07MWZZcGMKM1WVvPqjAWEsW4vkBkl7HCAcy78VlBdSGFg3\n",
              "EMNftR6nJB9Ch934cqdbCTyd/gQBB5p4BiDovpLYA4OUZc6V3tP4xDAB3LOz9J+d74deEj0GbCua\n",
              "M+ttkts5erDI2eji5aXwsJDeAOQPYa/6FOEI1Qbx1q2sIYFf/VYTlawe6Ee5nA3QqCLgAAAHwm1v\n",
              "b3YAAABsbXZoZAAAAAAAAAAAAAAAAAAAA+gAAA+gAAEAAAEAAAAAAAAAAAAAAAABAAAAAAAAAAAA\n",
              "AAAAAAAAAQAAAAAAAAAAAAAAAAAAQAAAAAAAAAAAAAAAAAAAAAAAAAAAAAAAAAAAAAAAAAIAAAbs\n",
              "dHJhawAAAFx0a2hkAAAAAwAAAAAAAAAAAAAAAQAAAAAAAA+gAAAAAAAAAAAAAAAAAAAAAAABAAAA\n",
              "AAAAAAAAAAAAAAAAAQAAAAAAAAAAAAAAAAAAQAAAAAKAAAAB4AAAAAAAJGVkdHMAAAAcZWxzdAAA\n",
              "AAAAAAABAAAPoAAABAAAAQAAAAAGZG1kaWEAAAAgbWRoZAAAAAAAAAAAAAAAAAAAMgAAAMgAVcQA\n",
              "AAAAAC1oZGxyAAAAAAAAAAB2aWRlAAAAAAAAAAAAAAAAVmlkZW9IYW5kbGVyAAAABg9taW5mAAAA\n",
              "FHZtaGQAAAABAAAAAAAAAAAAAAAkZGluZgAAABxkcmVmAAAAAAAAAAEAAAAMdXJsIAAAAAEAAAXP\n",
              "c3RibAAAALdzdHNkAAAAAAAAAAEAAACnYXZjMQAAAAAAAAABAAAAAAAAAAAAAAAAAAAAAAKAAeAA\n",
              "SAAAAEgAAAAAAAAAAQAAAAAAAAAAAAAAAAAAAAAAAAAAAAAAAAAAAAAAAAAAABj//wAAADVhdmND\n",
              "AWQAHv/hABhnZAAerNlAoD2hAAADAAEAAAMAMg8WLZYBAAZo6+PLIsD9+PgAAAAAHHV1aWRraEDy\n",
              "XyRPxbo5pRvPAyPzAAAAAAAAABhzdHRzAAAAAAAAAAEAAABkAAACAAAAABRzdHNzAAAAAAAAAAEA\n",
              "AAABAAADEGN0dHMAAAAAAAAAYAAAAAEAAAQAAAAAAQAACAAAAAACAAACAAAAAAEAAAQAAAAAAQAA\n",
              "BgAAAAABAAACAAAAAAEAAAYAAAAAAQAAAgAAAAABAAAKAAAAAAEAAAQAAAAAAQAAAAAAAAABAAAC\n",
              "AAAAAAEAAAoAAAAAAQAABAAAAAABAAAAAAAAAAEAAAIAAAAAAQAACAAAAAACAAACAAAAAAEAAAoA\n",
              "AAAAAQAABAAAAAABAAAAAAAAAAEAAAIAAAAAAQAABgAAAAABAAACAAAAAAEAAAoAAAAAAQAABAAA\n",
              "AAABAAAAAAAAAAEAAAIAAAAAAQAACAAAAAACAAACAAAAAAEAAAoAAAAAAQAABAAAAAABAAAAAAAA\n",
              "AAEAAAIAAAAAAQAACgAAAAABAAAEAAAAAAEAAAAAAAAAAQAAAgAAAAABAAAKAAAAAAEAAAQAAAAA\n",
              "AQAAAAAAAAABAAACAAAAAAEAAAYAAAAAAQAAAgAAAAABAAAGAAAAAAEAAAIAAAAAAQAACgAAAAAB\n",
              "AAAEAAAAAAEAAAAAAAAAAQAAAgAAAAABAAAGAAAAAAEAAAIAAAAAAQAABAAAAAABAAAKAAAAAAEA\n",
              "AAQAAAAAAQAAAAAAAAABAAACAAAAAAEAAAoAAAAAAQAABAAAAAABAAAAAAAAAAEAAAIAAAAAAQAA\n",
              "CgAAAAABAAAEAAAAAAEAAAAAAAAAAQAAAgAAAAABAAAGAAAAAAEAAAIAAAAAAQAACgAAAAABAAAE\n",
              "AAAAAAEAAAAAAAAAAQAAAgAAAAABAAAKAAAAAAEAAAQAAAAAAQAAAAAAAAABAAACAAAAAAEAAAgA\n",
              "AAAAAgAAAgAAAAABAAAKAAAAAAEAAAQAAAAAAQAAAAAAAAABAAACAAAAAAEAAAoAAAAAAQAABAAA\n",
              "AAABAAAAAAAAAAEAAAIAAAAAAQAACgAAAAABAAAEAAAAAAEAAAAAAAAAAQAAAgAAAAABAAAGAAAA\n",
              "AAEAAAIAAAAAAQAACgAAAAABAAAEAAAAAAEAAAAAAAAAAQAAAgAAAAABAAAEAAAAABxzdHNjAAAA\n",
              "AAAAAAEAAAABAAAAZAAAAAEAAAGkc3RzegAAAAAAAAAAAAAAZAAAC70AAATuAAAEOQAAAqgAAATr\n",
              "AAAD+wAAAjwAAANqAAAC5QAAA7YAAAJFAAACqwAAAlEAAAPLAAADEwAAAsQAAAJ5AAAEJgAAAu4A\n",
              "AAJFAAADPgAAAvkAAALGAAACIwAAAugAAALEAAADfQAAAoEAAAKsAAAC5wAAAxEAAAKvAAACWwAA\n",
              "A/gAAAJIAAACLgAAAqcAAAKTAAADowAAAy8AAALAAAADNAAAAvUAAAJEAAACdgAAAywAAALPAAAE\n",
              "HQAAAggAAAO1AAAB+AAAAmEAAANDAAACawAAA1sAAAQGAAADTwAAAvYAAAJYAAACHAAAAxsAAAKC\n",
              "AAAC9gAAA5YAAAL1AAAChwAAAqoAAAM/AAAD2AAAAroAAAQFAAAClAAAAjgAAAJiAAADtwAAArsA\n",
              "AAKFAAACogAAA48AAALnAAAC4wAAA6oAAAMiAAACCwAAAvkAAAQaAAACywAAAoMAAAHZAAADcAAA\n",
              "ApEAAAMLAAAC6wAAArAAAAJyAAADUAAAAlIAAAHSAAACFAAAArAAAAAUc3RjbwAAAAAAAAABAAAA\n",
              "MAAAAGJ1ZHRhAAAAWm1ldGEAAAAAAAAAIWhkbHIAAAAAAAAAAG1kaXJhcHBsAAAAAAAAAAAAAAAA\n",
              "LWlsc3QAAAAlqXRvbwAAAB1kYXRhAAAAAQAAAABMYXZmNTguNzYuMTAw\n",
              "\">\n",
              "  Your browser does not support the video tag.\n",
              "</video>"
            ]
          },
          "metadata": {},
          "execution_count": 31
        },
        {
          "output_type": "display_data",
          "data": {
            "text/plain": [
              "<Figure size 640x480 with 1 Axes>"
            ],
            "image/png": "[encoded data removed]"
          },
          "metadata": {}
        }
      ],
      "source": [
        "spike_data = spikegen.rate(data_it, num_steps=num_steps, gain=0.25)\n",
        "\n",
        "spike_data_sample2 = spike_data[:, 0, 0]\n",
        "fig, ax = plt.subplots()\n",
        "anim = splt.animator(spike_data_sample2, fig, ax)\n",
        "HTML(anim.to_html5_video())"
      ]
    },
    {
      "cell_type": "code",
      "execution_count": 18,
      "metadata": {
        "id": "dicJdyG2obY5",
        "pycharm": {
          "name": "#%%\n"
        }
      },
      "outputs": [],
      "source": [
        "# Uncomment for optional save\n",
        "# anim.save(\"spike_mnist_test2.mp4\")"
      ]
    },
    {
      "cell_type": "markdown",
      "metadata": {
        "id": "JgPZBNIaobY5"
      },
      "source": [
        "Now average the spikes out over time and reconstruct the input images."
      ]
    },
    {
      "cell_type": "code",
      "execution_count": 32,
      "metadata": {
        "id": "e4ikMCQLobY6",
        "pycharm": {
          "name": "#%%\n"
        },
        "colab": {
          "base_uri": "https://localhost:8080/",
          "height": 284
        },
        "outputId": "8da4f2a4-af63-4770-b885-785ffe9e204d"
      },
      "outputs": [
        {
          "output_type": "display_data",
          "data": {
            "text/plain": [
              "<Figure size 640x480 with 2 Axes>"
            ],
            "image/png": "[encoded data removed]"
          },
          "metadata": {}
        }
      ],
      "source": [
        "plt.figure(facecolor=\"w\") #create figure\n",
        "plt.subplot(1,2,1) #1행 2열 그래프\n",
        "plt.imshow(spike_data_sample.mean(axis=0).reshape((28,-1)).cpu(), cmap='binary')\n",
        "#averaged data type varying in time\n",
        "plt.axis('off')\n",
        "plt.title('Gain = 1')\n",
        "\n",
        "plt.subplot(1,2,2)\n",
        "plt.imshow(spike_data_sample2.mean(axis=0).reshape((28,-1)).cpu(), cmap='binary')\n",
        "plt.axis('off')\n",
        "plt.title('Gain = 0.25')\n",
        "\n",
        "plt.show()"
      ]
    },
    {
      "cell_type": "markdown",
      "metadata": {
        "id": "6bbbI1o2obY7",
        "pycharm": {
          "name": "#%% md\n"
        }
      },
      "source": [
        "The case where `gain=0.25` is lighter than where `gain=1`, as spiking probability has been reduced by a factor of $\\times 4$."
      ]
    },
    {
      "cell_type": "markdown",
      "metadata": {
        "id": "WpfpKe3zobY8",
        "pycharm": {
          "name": "#%% md\n"
        }
      },
      "source": [
        "#### 2.2.2 Raster Plots\n",
        "Alternatively, we can generate a raster plot of an input sample. This requires reshaping the sample into a 2-D tensor, where 'time' is the first dimension. Pass this sample into the function `spikeplot.raster`."
      ]
    },
    {
      "cell_type": "code",
      "execution_count": 35,
      "metadata": {
        "id": "KCpsLPySobY8",
        "pycharm": {
          "name": "#%%\n"
        },
        "colab": {
          "base_uri": "https://localhost:8080/",
          "height": 365
        },
        "outputId": "227fec15-cc26-4f4f-b822-59ea6cf1298b"
      },
      "outputs": [
        {
          "output_type": "display_data",
          "data": {
            "text/plain": [
              "<Figure size 1000x500 with 1 Axes>"
            ],
            "image/png": "[encoded data removed]"
          },
          "metadata": {}
        }
      ],
      "source": [
        "# Reshape\n",
        "spike_data_sample2 = spike_data_sample2.reshape((num_steps, -1)) #reshaped to 2D\n",
        "#시간별 뉴런들의 스파이크 패턴\n",
        "\n",
        "# raster plot\n",
        "fig = plt.figure(facecolor=\"w\", figsize=(10, 5))\n",
        "ax = fig.add_subplot(111)#1행 1열\n",
        "splt.raster(spike_data_sample2,ax,  s=1.5, c=\"black\")\n",
        "\n",
        "plt.title(\"Input Layer\")\n",
        "plt.xlabel(\"Time step\")\n",
        "plt.ylabel(\"Neuron Number\")\n",
        "plt.show()"
      ]
    },
    {
      "cell_type": "markdown",
      "metadata": {
        "id": "WvhIdrAZobY9",
        "pycharm": {
          "name": "#%% md\n"
        }
      },
      "source": [
        "The following code snippet shows how to index into one single neuron.\n",
        "Depending on the input data, you may need to try\n",
        "a few different neurons between 0 & 784 before finding one that\n",
        "spikes."
      ]
    },
    {
      "cell_type": "code",
      "execution_count": 44,
      "metadata": {
        "id": "R3kY3uoOobY9",
        "pycharm": {
          "name": "#%%\n"
        },
        "colab": {
          "base_uri": "https://localhost:8080/",
          "height": 176
        },
        "outputId": "3e2688d1-1213-41f9-a929-8d675622e0e9"
      },
      "outputs": [
        {
          "output_type": "display_data",
          "data": {
            "text/plain": [
              "<Figure size 800x100 with 1 Axes>"
            ],
            "image/png": "[encoded data removed]"
          },
          "metadata": {}
        }
      ],
      "source": [
        "idx = 400  # index into 210th neuron\n",
        "\n",
        "fig = plt.figure(facecolor=\"w\", figsize=(8, 1))\n",
        "ax = fig.add_subplot(111)\n",
        "\n",
        "splt.raster(spike_data_sample.reshape(num_steps, -1)[:, idx].unsqueeze(1), ax, s=100, c=\"black\", marker=\"|\")\n",
        "\n",
        "plt.title(\"Input Neuron\")\n",
        "plt.xlabel(\"Time step\")\n",
        "plt.yticks([])\n",
        "plt.show()"
      ]
    },
    {
      "cell_type": "markdown",
      "metadata": {
        "id": "1lxp91nlobY-",
        "pycharm": {
          "name": "#%% md\n"
        }
      },
      "source": [
        "#### 2.2.3 Summary of Rate Coding\n",
        "The idea of rate coding is actually quite controversial. Although we are fairly confident rate coding takes place at our sensory periphery, we are not convinced that the cortex globally encodes information as spike rates. A couple of compelling reasons why include:\n",
        "\n",
        "*   **Power Consumption:** Nature optimised for efficiency. Multiple spikes are needed to achieve any sort of task, and each spike consumes power. In fact, [Olshausen and Field's work in \"What is the other 85% of V1 doing?\"](http://www.rctn.org/bruno/papers/V1-chapter.pdf) demonstrates that rate-coding can only explain, at most, the activity of 15% of neurons in the primary visual cortex (V1). It is unlikely to be the only mechanism within the brain, which is both resource-constrained and highly efficient.\n",
        "\n",
        "\n",
        "*   **Reaction Response Times:** We know that the reaction time of a human is roughly around 250ms. If the average firing rate of a neuron in the human brain is on the order of 10Hz, then we can only process about 2 spikes within our reaction timescale.\n",
        "\n",
        "So why, then, might we use rate codes if they are not optimal for power efficiency or latency? Even if our brain doesn't process data as a rate, we are fairly sure that our biological sensors do. The power/latency disadvantages are partially offset by showing huge noise robustness: it's fine if some of the spikes fail to generate, because there will be plenty more where they came from.\n",
        "\n",
        "Additionally, you may have heard of the [Hebbian mantra of \"neurons that fire together, wire together\"](https://doi.org/10.2307/1418888). If there is plenty of spiking, this may suggest there is plenty of learning. In some cases where training SNNs proves to be challenging, encouraging more firing via a rate code is one possible solution.\n",
        "\n",
        "Rate coding is almost certainly working in conjunction with other encoding schemes in the brain. We will consider these other encoding mechanisms in the following sections.\n",
        "This covers the `spikegen.rate` function. Further information [can be found in the documentation here](https://snntorch.readthedocs.io/en/latest/snntorch.spikegen.html).\n",
        "\n"
      ]
    },
    {
      "cell_type": "markdown",
      "metadata": {
        "id": "enzqRvuNobY-",
        "pycharm": {
          "name": "#%% md\n"
        }
      },
      "source": [
        "### 2.3 Latency Coding of MNIST\n",
        "Temporal codes capture information about the precise firing time of neurons; a single spike carries much more meaning than in rate codes which rely on firing frequency. While this opens up more susceptibility to noise, it can also decrease the power consumed by the hardware running SNN algorithms by orders of magnitude.\n",
        "\n",
        "`spikegen.latency` is a function that allows each input to fire at most **once** during the full time sweep.\n",
        "Features closer to `1` will fire earlier and features closer to `0` will fire later. I.e., in our MNIST case, bright pixels will fire earlier and dark pixels will fire later.\n",
        "\n",
        "The following block derives how this works. If you've forgotten circuit theory and/or the math means nothing to you, then don't worry! All that matters is: **big** input means **fast** spike; **small** input means **late** spike.\n"
      ]
    },
    {
      "cell_type": "markdown",
      "metadata": {
        "id": "d5yZdcX4So-W"
      },
      "source": [
        "---\n",
        "**Optional: Derivation of Latency Code Mechanism**\n",
        "\n",
        "By default, spike timing is calculated by treating the input feature as the current injection $I_{in}$ into an RC circuit. This current moves charge onto the capacitor, which increases $V(t)$. We assume that there is a trigger voltage, $V_{thr}$, which once reached, generates a spike. The question then becomes: *for a given input current (and equivalently, input feature), how long does it take for a spike to be generated?*\n",
        "\n",
        "Starting with Kirchhoff's current law, $I_{in} = I_R + I_C$, the rest of the derivation leads us to a logarithmic relationship between time and the input.\n",
        "\n",
        "<center>\n",
        "<img src='https://github.com/jeshraghian/snntorch/blob/master/docs/_static/img/examples/tutorial1/1_2_4_latencyrc.png?raw=true' width=\"600\">\n",
        "</center>\n",
        "\n",
        "---"
      ]
    },
    {
      "cell_type": "markdown",
      "metadata": {
        "id": "DqJlK7AhjGHw"
      },
      "source": [
        "The following function uses the above result to convert a feature of intensity $X_{ij}\\in [0,1]$ into a latency coded response $L_{ij}$."
      ]
    },
    {
      "cell_type": "code",
      "execution_count": 45,
      "metadata": {
        "id": "J06UgGHKTkea"
      },
      "outputs": [],
      "source": [
        "def convert_to_time(data, tau=5, threshold=0.01):\n",
        "  spike_time = tau * torch.log(data / (data - threshold)) #log transform of data value\n",
        "  return spike_time #time to emit spike"
      ]
    },
    {
      "cell_type": "markdown",
      "metadata": {
        "id": "voBg5kujkGFQ"
      },
      "source": [
        "Now, use the above function to visualize the relationship between input feature intensity and its corresponding spike time.\n"
      ]
    },
    {
      "cell_type": "code",
      "execution_count": 49,
      "metadata": {
        "id": "52PwqfpKkK-I",
        "colab": {
          "base_uri": "https://localhost:8080/",
          "height": 449
        },
        "outputId": "af671b5a-45bc-4362-cb94-9032eea3bb82"
      },
      "outputs": [
        {
          "output_type": "display_data",
          "data": {
            "text/plain": [
              "<Figure size 640x480 with 1 Axes>"
            ],
            "image/png": "[encoded data removed]"
          },
          "metadata": {}
        }
      ],
      "source": [
        "raw_input = torch.arange(0, 5, 0.05) # tensor from 0 to 5 in 0.05 interval\n",
        "spike_times = convert_to_time(raw_input) #transfrom to spiking time\n",
        "\n",
        "plt.plot(raw_input, spike_times)  #draw plot\n",
        "plt.xlabel('Input Value')\n",
        "plt.ylabel('Spike Time (s)')\n",
        "plt.show()"
      ]
    },
    {
      "cell_type": "markdown",
      "metadata": {
        "id": "P972FBhmluv3"
      },
      "source": [
        "The smaller the value, the later the spike occurs with exponential dependence.\n",
        "\n",
        "The vector `spike_times` contains the time at which spikes are triggered, rather than a sparse tensor that contains the spikes themselves (1's and 0's).\n",
        "When running an SNN simulation, we need the 1/0 representation to obtain all of the advantages of using spikes.\n",
        "This whole process can be automated using `spikegen.latency`, where we pass a minibatch from the MNIST dataset in `data_it`:"
      ]
    },
    {
      "cell_type": "code",
      "execution_count": 51,
      "metadata": {
        "id": "m835u23QobY-",
        "pycharm": {
          "name": "#%%\n"
        }
      },
      "outputs": [],
      "source": [
        "spike_data = spikegen.latency(data_it, num_steps=100, tau=5, threshold=0.01)"
      ]
    },
    {
      "cell_type": "markdown",
      "metadata": {
        "id": "AKDPjTvKobY_",
        "pycharm": {
          "name": "#%% md\n"
        }
      },
      "source": [
        "Some of the arguments include:\n",
        "\n",
        "* `tau`:  the RC time constant of the circuit. By default, the input features are treated as a constant current injected into an RC circuit. A higher ``tau`` will induce slower firing.\n",
        "* `threshold`: the membrane potential firing threshold. Input values below this threshold do not have a closed-form solution, as the input current is insufficient to drive the membrane up to the threshold. All values below the threshold are clipped and assigned to the final time step."
      ]
    },
    {
      "cell_type": "markdown",
      "metadata": {
        "id": "VGH7b49SobY_",
        "pycharm": {
          "name": "#%% md\n"
        }
      },
      "source": [
        "#### 2.3.1 Raster plot"
      ]
    },
    {
      "cell_type": "code",
      "execution_count": 52,
      "metadata": {
        "id": "kypMtfF7obY_",
        "pycharm": {
          "name": "#%%\n"
        },
        "colab": {
          "base_uri": "https://localhost:8080/",
          "height": 365
        },
        "outputId": "fa8dd100-950f-4bde-89a3-0e810ffd257c"
      },
      "outputs": [
        {
          "output_type": "display_data",
          "data": {
            "text/plain": [
              "<Figure size 1000x500 with 1 Axes>"
            ],
            "image/png": "[encoded data removed]"
          },
          "metadata": {}
        }
      ],
      "source": [
        "fig = plt.figure(facecolor=\"w\", figsize=(10, 5))\n",
        "ax = fig.add_subplot(111)\n",
        "splt.raster(spike_data[:, 0].view(num_steps, -1), ax, s=25, c=\"black\")\n",
        "\n",
        "plt.title(\"Input Layer\")\n",
        "plt.xlabel(\"Time step\")\n",
        "plt.ylabel(\"Neuron Number\")\n",
        "plt.show()\n",
        "\n",
        "# optional save\n",
        "# fig.savefig('destination_path.png', format='png', dpi=300)"
      ]
    },
    {
      "cell_type": "markdown",
      "metadata": {
        "id": "Hm1--DHYobZA",
        "pycharm": {
          "name": "#%% md\n"
        }
      },
      "source": [
        "To make sense of the raster plot, note that high intensity features fire first, whereas low intensity features fire last:\n",
        "\n",
        "<center>\n",
        "<img src='https://github.com/jeshraghian/snntorch/blob/master/docs/_static/img/examples/tutorial1/1_2_5_latencyraster.png?raw=true' width=\"800\">\n",
        "</center>\n",
        "\n",
        "The logarithmic code coupled with the lack of diverse input values (i.e., the lack of midtone/grayscale features) causes significant clustering in two areas of the plot.\n",
        "The bright pixels induce firing at the start of the run, and the dark pixels at the end.\n",
        "We can increase `tau` to slow down the spike times, or linearize the spike times by setting the optional argument `linear=True`."
      ]
    },
    {
      "cell_type": "code",
      "execution_count": 55,
      "metadata": {
        "id": "ZX8azDNWobZA",
        "pycharm": {
          "name": "#%%\n"
        },
        "colab": {
          "base_uri": "https://localhost:8080/",
          "height": 365
        },
        "outputId": "f7b00d0e-1ab3-49e0-88c6-19b76edee1d8"
      },
      "outputs": [
        {
          "output_type": "display_data",
          "data": {
            "text/plain": [
              "<Figure size 1000x500 with 1 Axes>"
            ],
            "image/png": "[encoded data removed]"
          },
          "metadata": {}
        }
      ],
      "source": [
        "spike_data = spikegen.latency(data_it, num_steps=100, tau=5, threshold=0.01, linear=True)\n",
        "\n",
        "fig = plt.figure(facecolor=\"w\", figsize=(10, 5))\n",
        "ax = fig.add_subplot(111)\n",
        "splt.raster(spike_data[:, 0].view(num_steps, -1), ax, s=25, c=\"black\")\n",
        "plt.title(\"Input Layer\")\n",
        "plt.xlabel(\"Time step\")\n",
        "plt.ylabel(\"Neuron Number\")\n",
        "plt.show()"
      ]
    },
    {
      "cell_type": "markdown",
      "metadata": {
        "id": "pZuk6g3NobZB",
        "pycharm": {
          "name": "#%% md\n"
        }
      },
      "source": [
        "The spread of firing times is much more evenly distributed now. This is achieved by linearizing the logarithmic equation according to the rules shown below. Unlike the RC model, there is no physical basis for the model. It's just simpler.\n",
        "\n",
        "<center>\n",
        "<img src='https://github.com/jeshraghian/snntorch/blob/master/docs/_static/img/examples/tutorial1/1_2_6_latencylinear.png?raw=true' width=\"600\">\n",
        "</center>\n",
        "\n",
        "\n",
        "But note how all firing occurs within the first ~5 time steps, whereas the simulation range is 100 time steps.\n",
        "This indicates that we have a lot of redundant time steps doing nothing. This can be solved by either increasing `tau` to slow down the time constant, or setting the optional argument `normalize=True` to span the full range of `num_steps`."
      ]
    },
    {
      "cell_type": "code",
      "execution_count": 62,
      "metadata": {
        "id": "RLgntdwSobZB",
        "pycharm": {
          "name": "#%%\n"
        },
        "colab": {
          "base_uri": "https://localhost:8080/",
          "height": 365
        },
        "outputId": "d3d976b7-a006-4a9a-a37d-14108b3a0e5d"
      },
      "outputs": [
        {
          "output_type": "display_data",
          "data": {
            "text/plain": [
              "<Figure size 1000x500 with 1 Axes>"
            ],
            "image/png": "[encoded data removed]"
          },
          "metadata": {}
        }
      ],
      "source": [
        "spike_data = spikegen.latency(data_it, num_steps=100, tau=5, threshold=0.01,\n",
        "                              normalize=True, linear=True)\n",
        "\n",
        "fig = plt.figure(facecolor=\"w\", figsize=(10, 5))\n",
        "ax = fig.add_subplot(111)\n",
        "splt.raster(spike_data[:, 0].view(num_steps, -1), ax, s=25, c=\"black\")\n",
        "\n",
        "plt.title(\"Input Layer\")\n",
        "plt.xlabel(\"Time step\")\n",
        "plt.ylabel(\"Neuron Number\")\n",
        "plt.show()"
      ]
    },
    {
      "cell_type": "markdown",
      "metadata": {
        "id": "1EFIqaylobZC",
        "pycharm": {
          "name": "#%% md\n"
        }
      },
      "source": [
        "One major advantage of latency coding over rate coding is sparsity. If neurons are constrained to firing a maximum of once over the time course of interest, then this promotes low-power operation.\n",
        "\n",
        "In the scenario shown above, a majority of the spikes occur at the final time step, where the input features fall below the threshold. In a sense, the dark background of the MNIST sample holds no useful information.\n",
        "\n",
        "We can remove these redundant features by setting `clip=True`."
      ]
    },
    {
      "cell_type": "code",
      "execution_count": 63,
      "metadata": {
        "id": "uowgb4FPobZC",
        "pycharm": {
          "name": "#%%\n"
        },
        "colab": {
          "base_uri": "https://localhost:8080/",
          "height": 365
        },
        "outputId": "64a32b11-b7a5-47db-df57-1803d2e39e1d"
      },
      "outputs": [
        {
          "output_type": "display_data",
          "data": {
            "text/plain": [
              "<Figure size 1000x500 with 1 Axes>"
            ],
            "image/png": "[encoded data removed]"
          },
          "metadata": {}
        }
      ],
      "source": [
        "spike_data = spikegen.latency(data_it, num_steps=100, tau=5, threshold=0.01,\n",
        "                              clip=True, normalize=True, linear=True)\n",
        "\n",
        "fig = plt.figure(facecolor=\"w\", figsize=(10, 5))\n",
        "ax = fig.add_subplot(111)\n",
        "splt.raster(spike_data[:, 0].view(num_steps, -1), ax, s=25, c=\"black\")\n",
        "\n",
        "plt.title(\"Input Layer\")\n",
        "plt.xlabel(\"Time step\")\n",
        "plt.ylabel(\"Neuron Number\")\n",
        "plt.show()"
      ]
    },
    {
      "cell_type": "markdown",
      "metadata": {
        "id": "W7gN02QOobZC",
        "pycharm": {
          "name": "#%% md\n"
        }
      },
      "source": [
        "That looks much better!"
      ]
    },
    {
      "cell_type": "markdown",
      "metadata": {
        "id": "XG9erdfxobZD",
        "pycharm": {
          "name": "#%% md\n"
        }
      },
      "source": [
        "#### 2.3.2 Animation\n",
        "We will run the exact same code block as before to create an animation."
      ]
    },
    {
      "cell_type": "code",
      "execution_count": 64,
      "metadata": {
        "id": "BjLC1Pl_obZD",
        "pycharm": {
          "name": "#%%\n"
        },
        "colab": {
          "base_uri": "https://localhost:8080/"
        },
        "outputId": "72ce1e42-57f3-4887-9de3-6e1e000f3c27"
      },
      "outputs": [
        {
          "output_type": "stream",
          "name": "stdout",
          "text": [
            "torch.Size([100, 28, 28])\n"
          ]
        }
      ],
      "source": [
        "spike_data_sample = spike_data[:, 0, 0]\n",
        "print(spike_data_sample.size())"
      ]
    },
    {
      "cell_type": "code",
      "execution_count": 65,
      "metadata": {
        "id": "uwVwMVpzobZD",
        "pycharm": {
          "name": "#%%\n"
        },
        "colab": {
          "base_uri": "https://localhost:8080/",
          "height": 910
        },
        "outputId": "5085af13-a072-454c-c564-f9e7f9d32b63"
      },
      "outputs": [
        {
          "output_type": "execute_result",
          "data": {
            "text/plain": [
              "<IPython.core.display.HTML object>"
            ],
            "text/html": [
              "<video width=\"640\" height=\"480\" controls autoplay loop>\n",
              "  <source type=\"video/mp4\" src=\"data:video/mp4;base64,AAAAIGZ0eXBNNFYgAAACAE00ViBpc29taXNvMmF2YzEAAAAIZnJlZQAAJYhtZGF0AAACrgYF//+q\n",
              "3EXpvebZSLeWLNgg2SPu73gyNjQgLSBjb3JlIDE2MyByMzA2MCA1ZGI2YWE2IC0gSC4yNjQvTVBF\n",
              "Ry00IEFWQyBjb2RlYyAtIENvcHlsZWZ0IDIwMDMtMjAyMSAtIGh0dHA6Ly93d3cudmlkZW9sYW4u\n",
              "b3JnL3gyNjQuaHRtbCAtIG9wdGlvbnM6IGNhYmFjPTEgcmVmPTMgZGVibG9jaz0xOjA6MCBhbmFs\n",
              "eXNlPTB4MzoweDExMyBtZT1oZXggc3VibWU9NyBwc3k9MSBwc3lfcmQ9MS4wMDowLjAwIG1peGVk\n",
              "X3JlZj0xIG1lX3JhbmdlPTE2IGNocm9tYV9tZT0xIHRyZWxsaXM9MSA4eDhkY3Q9MSBjcW09MCBk\n",
              "ZWFkem9uZT0yMSwxMSBmYXN0X3Bza2lwPTEgY2hyb21hX3FwX29mZnNldD0tMiB0aHJlYWRzPTMg\n",
              "bG9va2FoZWFkX3RocmVhZHM9MSBzbGljZWRfdGhyZWFkcz0wIG5yPTAgZGVjaW1hdGU9MSBpbnRl\n",
              "cmxhY2VkPTAgYmx1cmF5X2NvbXBhdD0wIGNvbnN0cmFpbmVkX2ludHJhPTAgYmZyYW1lcz0zIGJf\n",
              "cHlyYW1pZD0yIGJfYWRhcHQ9MSBiX2JpYXM9MCBkaXJlY3Q9MSB3ZWlnaHRiPTEgb3Blbl9nb3A9\n",
              "MCB3ZWlnaHRwPTIga2V5aW50PTI1MCBrZXlpbnRfbWluPTI1IHNjZW5lY3V0PTQwIGludHJhX3Jl\n",
              "ZnJlc2g9MCByY19sb29rYWhlYWQ9NDAgcmM9Y3JmIG1idHJlZT0xIGNyZj0yMy4wIHFjb21wPTAu\n",
              "NjAgcXBtaW49MCBxcG1heD02OSBxcHN0ZXA9NCBpcF9yYXRpbz0xLjQwIGFxPTE6MS4wMACAAAAI\n",
              "cWWIhAA7//73Tr8Cm0WXagOSVwr2yqQmWblSawHypgAAAwAAAwAAAwCQhHHua5XJPWaAAAAvYAkd\n",
              "R/ghH3kBNDCYZZFWrjpvUjoWFadFXimJb1UuS8/N/B3+j+Gt1R+BLVPDXd5gh7gTTcAN00v1OG4c\n",
              "6OfI63q6/hsFNXQrxWxBfqbVtRodtrIOAJ8Z9cc70ABG+46bFy2X74fnbyq3tvijKmAetd64ZVXB\n",
              "rGs0OKTYYuoN6ZdDFhmP90xHvW9Z+IOXAPg21IAVhWwLOhP+uCv7kpNaCs8oY0g9gPJAfS9PYWg5\n",
              "lL1wy/ILqnyui/sNGTWnWP20tKYLoFtlesP5LAPDhixPdzp9TblWHmPo17rhTzwmWHw6nvC6T1Cu\n",
              "A3bX6FdtFhcsJxCyc6IyfXtqR6yUtYifjwk+1kstFYKraUh1WPsNJRwUpdQRajsOZdX88Vwc22AA\n",
              "qJbGy6yCDpLwex9r77GELBVO+/7yevvkz/g/LslIZYZ9XT/J3p7d7uWo+/UbmyPJWs+pyX2nzL+D\n",
              "zIsjZgHe/Ofvmsv1oqIfEvI5Eayk6ZY9h9w3LAdynFi76ysvQfWFjAaH9Erp34gVFSMYduP/5cdg\n",
              "mehVl8bD9oB8m01zct8MG9aRvpny2+hU8sWKYcZqoG80lRnbrafisnh7Nk8HvyejcScCyWehQgHm\n",
              "/rfABu6+d+8Gf0O3Y5BLxCJL5rSQkT2TBtj/g/9QfnW6718QbnZa6ezLYlUO96qqVtRocphUZ6S+\n",
              "0D9yNbnVic+owe5lcoqHoBhrfZ9r1u+5+aafmsRpuf4pub4/9w9PXbQXxl2O7drdAs6DDheVD6Vy\n",
              "XxgfkdF9xJ26VeA7PF/mj2xGuJuNKdKxsb60DQcggDG9jvnN9py7DK8/uSP1o7AOJWXW2DdIt4SK\n",
              "1eRB/Q+g/KUv5oJGyqz8OM2DgOXTVVGfRaC0Nhw5dLPmYkxkDwZTSN25H74IYKIXW/f3BLSCtGlG\n",
              "J8MsORHVyFwc4USCOUsbFT2c7L4CD/tFRR9lJCZT6caAfq2qBiLYRPMqMhnmrF11cL86jQS3iqop\n",
              "MHL9KUy1NcJe5tHDkl2poC857ntsGSpju6PUywRRQ23x4gagiRGF070eY8Q/Vyj0qgDBpYkuQEYm\n",
              "x+/7IyNC4/Qqsld1+mdrXDW7jgs/JMbocgMd/A1iHChQgaHBX+751FdZADicwgIlpXc/2fPPgxas\n",
              "G1MqaVHPXOBuI/bDsxa0HL5Hb2ZYANJBXUGaEp93MChJTVkeW5K8WH7SytV8gD/lTRTo5p1pKt4J\n",
              "VIJiWVfp3PPXMsNZ25hsHco4Mm9VT0xrQsIfo5FiaayNx9uDtuRQMJkUXttOxu4Fvl03U+zgvdlh\n",
              "dGXR7EnGF8NlpyXPK6DgGx8F2OOI4ctgEQEyG1dddFh8W4JcgPFD+kd/aM02W/4GXI7Amryh48Q7\n",
              "k0ZE9xNplVJlBOktLAYgKJCG+OpSdKGOgkJqxA6L02EiZiGiqeVu7bcy4sn/MAg3ET4MMzuWoP1m\n",
              "66O+PiRx9B/U/eyzRFFvUySIlREp9P3bSienjYzo07HabFe58mrPKR1AvSMAXB22HP8r+ExwluIM\n",
              "6HA/urPWRycaCEAJpuiheAnHs42upHgWInsod714x8WJQHYtK7f/uBffmdFa3No8dcp/tgth6mc7\n",
              "DoaewoGgYWi+GdE1sjngB0yQkp1Ydci6wO8mJfZT4UTq8UiIOUkB798KKFfTDNLwDUX0Jxb9YbEk\n",
              "0ntlH/PfkNOO5+99fpNzhhA5reEusv8VBtV7br1wuXTzNc/ggK1nqUtrz7i1OGBxweB8cME/S5gx\n",
              "zah3rmK/Fb9dt8TR23FDzFMgAEdG/vrAAwgxyu43/pYZ2kwR6Evo/O5cDx7Rw77ZfjOlR2B7WFO2\n",
              "PLVpjvVyiV7NeALTac4R85zuQ3HpZqQf7b4L3F87da2mZLNdxVtP/qunkwJerKe7EJ7cVYsL+IoG\n",
              "bcVu7dANdwqHjINohF8VCnXiblyic0bzyej0XzZdj5b7QwJyk+maS3D9oMlYxNEvBiDQSWfgQCgK\n",
              "IueMdRpJ/obT9Fmj78pVWToU62Wk9pawLoZF6b9/jMdMg3SFFImMSsnLQFNw0L4a7xj09y0MQlZH\n",
              "/Oq/i100i+ssNeQeJSffo1LDA7DxraSlh+Ly7E8CDneSaz4iF+vZ/mGwX3JvMTuA/LESCUBUFhL5\n",
              "G1euolPpkr11S9/2NGenKajaJktwbvisN8b+QEe72iqIEwSveeRSnCrMZ34pk63BucIe27sp1Hj9\n",
              "82vL7dFMrzHD13fBvr41raZM8sBX6kKAh0ft2+SW11XRfzKLPXY8ozSdpKIyhc3ZP81TLLmXpRD1\n",
              "C4ZmRjtCwJouL3F1YPpFRYwVzbd/OXVPoVycaKY/r/AXMuP7vQ40KSfXw0A60xUg/y+9B6v9bdyx\n",
              "k4PLaW/avkGrepL5xNQHHBK1KlYzuL/AJrh9IrrHQj8PojIGlPpzGl8LZz2m8axVtupWYklwxjC0\n",
              "MjgstxKGU9W8DJ3ZWe8JrU0MGKkCgv12Bvx1Q22hgj9KwwbqLfUeIKluYmRT8WsV61YnM7nFKkGD\n",
              "Xa4zv+QXAVFU+vluIzRX4hJe0Qi2XwUXpTgj8UJvKW9LtBa6ZpsvwoHX1NBCAknBOCnaMdEM4CyC\n",
              "WRMLIL0jsJ97TTwAtjP8PIb7N24mleT2V4OT4OuSPlHtVs5hVPOnYwgScXzICFQAClf+eV71tIUu\n",
              "SkpHruH5pDsTSSPSiRvG0LMwVZC3hXOeLPsi6jzyPOaofEUKLqi986QO4884GYpco84zEXNAE6Ol\n",
              "tAccD0wdeIGD9CwBPPYibgcYD7fuFid/CwXup0ojION8dlB1FIiyuPDkAAAJekIsAAADAa8AAABK\n",
              "QZokbEO//qmWAAMt7aD1+kKXR1ZYMXHsncwJ/N/5IwA8ogAAs2OADSzAKZz46UWHoyFtz71xYkv2\n",
              "gj4tAR4IEAL985M35sE9ExYAAABBQZ5CeIX/AAO36BJoi/aPNFO3bxz9yZbmCpRpRzUaHRUT/p33\n",
              "993wLvYK70YJb9rHfY3v0Tiu8L6Ci9sxTJNyAQ8AAAA8AZ5hdEK/AAUg4tJMoujIuhdD7e1yReo5\n",
              "IKgm9qIcLeHnZ5H7pnCwAEGO1WrOT/SiJAJvSxvM4l6fgDKgAAAAEwGeY2pCvwAAAwBknSzo3REA\n",
              "AfMAAAAZQZpoSahBaJlMCHf//qmWAAADAAADAAAs4QAAABhBnoZFESwv/wAAAwIL5y0Qmb4VJVIA\n",
              "CTkAAAATAZ6ldEK/AAADAGR/qyleagADZwAAABMBnqdqQr8AAAMAZJ0s6N0RAAHzAAAAGUGarEmo\n",
              "QWyZTAh3//6plgAAAwAAAwAALOAAAAAYQZ7KRRUsL/8AAAMCC+ctEJm+FSVSAAk5AAAAEwGe6XRC\n",
              "vwAAAwBkf6spXmoAA2YAAAATAZ7rakK/AAADAGSdLOjdEQAB8wAAABlBmvBJqEFsmUwId//+qZYA\n",
              "AAMAAAMAACzhAAAAGEGfDkUVLC//AAADAgvnLRCZvhUlUgAJOQAAABMBny10Qr8AAAMAZH+rKV5q\n",
              "AANnAAAAEwGfL2pCvwAAAwBknSzo3REAAfMAAAAZQZs0SahBbJlMCHf//qmWAAADAAADAAAs4AAA\n",
              "ABhBn1JFFSwv/wAAAwIL5y0Qmb4VJVIACTkAAAATAZ9xdEK/AAADAGR/qyleagADZgAAABMBn3Nq\n",
              "Qr8AAAMAZJ0s6N0RAAHzAAAAGUGbeEmoQWyZTAhv//6nhAAAAwAAAwAAWUEAAAAYQZ+WRRUsL/8A\n",
              "AAMCC+ctEJm+FSVSAAk4AAAAEwGftXRCvwAAAwBkf6spXmoAA2cAAAATAZ+3akK/AAADAGSdLOjd\n",
              "EQAB8wAABGlBm7lJqEFsmUwId//+qZYAAz0ehAol/1I5aiNml25+Czks2iP38OQQt+rinKKrnF81\n",
              "6YCiGE6FvMBmSn3OYY1gXaazcyRiueswOgj6YFE2wwv547OI7ECEhG/Bwu7SYlxQfAQPh6Tg1Z/c\n",
              "3qewoRrJikT8TZENN4igzL5nmOWive/UGnbnlQI3+nF82P6Xje2t34PbIRtS+fB5H6+EPJk9jXTp\n",
              "bVWpAkA6rt6YuWYMfxjw6F2H0w8/5ysVq8ZiV8CHRNpHfxw/u+oIU9IjYK/wMcL2tmZj+aVicBUn\n",
              "Ap1sVUicWuVcX9/lpvi9Kh6pqBV4OcfIyAv2BNomWHYGSDXdvemtW/spX1yocXNiqDVGastD0bGj\n",
              "mxy9T4ryipQln2vTAxA8zHIS54D/919P74Y1M36VH+kXCQ0Xa94Ez7aoTPPRynBkYqTs5fiRA8xZ\n",
              "TWtBLjpDYNJWUBnGiLcBgaFAdU2ymT6LJvt/7VEx/CF8vipTND0Yz2Avg85+QeVnmar1oabo9kQz\n",
              "vojHQeTp/MMcViwGvnrMUYucD9nZZumNO4IfZnGIbucSwRY/N+4dbyAMqnc6qf3CYBgkLEmWMPwr\n",
              "mVWSBdlUAVvvHts6dkXJe/m+pkXql+e2iRe1NEG/En3nk2DGhIzuhhu/JpzcaJSHnQ/bOWTLD2nT\n",
              "w1dWGFx4Rxwn8EmefJjpyOwfK5BQjxQCIvyn8i3KaXd5vm1NOJ12Cd9Ub26KA7AMUGwkWSCsYUz2\n",
              "txlHP2yoRwthczthjwIYmvQsUnNfTOxG2Oxbfya/Z5Iv9+ow0CZvWJnBpebr5MFg2gJof1byoX/V\n",
              "S6pRA0dEvrvAp4ddmljwIuqSUucuQArJbLbKkLAbrpaX78WhWDFJ2FMI9yaDfzonus93JsFKLbul\n",
              "ayGSr569tV0BqmSrOOF9q3UnxdMnR3bQPIFCU7bhi+Y0EBC6Vtj0vnEY41h3wAAKP6RCCfMjCQjN\n",
              "stP1T5DeVmsa6weypZHqlrCYjvSIXJ4gfNEiiMmMRcItYbix1/VNY/YEECN0NdVjmtrmlUy51G7U\n",
              "aJZHXqwQc2vVkLe4oZ6bBocLQkBnJ2dfZ6QbjtquntusENirB+qgOqWBIrIc3Zl/QZkdVcbWXPA8\n",
              "iEMwbMKaXvpvWjAYq3Y/gNYAB10Nv+nOIYIYQ+COZUMWjK/UEZw2vrQ1573DDqEQcIISRUT/EfK2\n",
              "KBw821MV4DLupLbvMz5X55aPFoqOwTYw4OL5Qd562Z8BzrqHoi7LXp7Y0lz7bQJYsjjPDEIncpXT\n",
              "oaWeQ5dO/8zWuUhbmPdRSzNvkNZ6rXV5BNI5jEHxu64MCXlPupaUSKtVHGFJ3vky5+VbKG4/aZVq\n",
              "A+aQsjkM6daNg/h4lV5GN0RG9NLgA1BNkEVZhd0gSJc/sa4Po6qtiA6cxdWuyqduDqsQSdGtf0d0\n",
              "DUnb3HMyG6JZKHMIstcMrYPEadGJNj6vwibR4JUZeCCh5ObK/3n4BAvzhcbIvt5BRdTgAGLAAAAA\n",
              "S0Gb3UnhClJlMCHf/qmWAANB7aD1+u9C32tc29p/bRBghC+/X7lghCThkAOEVqmWPoFE/KQAReU6\n",
              "kalIXYu9da1P5KefI8grjdAvIQAAAFZBn/tFNEwv/wADy/HO/LBcQIWwwmXkzEl5l/C4epBFVxzD\n",
              "kWkpcGN2bMLRvurl5pjKg2zGoPfaEsdTsEESKTHAzjmE0o9cfloRSxs9y+OFWTN6kQBIwAAAAFUB\n",
              "nhp0Qr8ABUEw0VbGJMeQZh9am1/hBgv45kXbE3gQIKQkQdqPe4l81815wDlbFPlfC9qaBkpDziL4\n",
              "cR5zkYOz1dGVvkegJ6kuZqmM31j9P8ph4AYtAAAAEQGeHGpCvwAAAwAAOgyj1Ad1AAAAG0GaAUmo\n",
              "QWiZTAh3//6plgAAKF8A4T4AAAMBCwAAABhBnj9FESwv/wAAAwIL5ytYszZEWkqkCTgAAAARAZ5e\n",
              "dEK/AAADAAA5/APUB3UAAAARAZ5AakK/AAADAAA6DKPUB3QAAAAZQZpFSahBbJlMCHf//qmWAAAD\n",
              "AAADAAAs4QAAABhBnmNFFSwv/wAAAwIL5ytYszZEWkqkCTgAAAARAZ6CdEK/AAADAAA5/APUB3UA\n",
              "AAARAZ6EakK/AAADAAA6DKPUB3UAAAAZQZqJSahBbJlMCHf//qmWAAADAAADAAAs4QAAABhBnqdF\n",
              "FSwv/wAAAwIL5ytYszZEWkqkCTkAAAARAZ7GdEK/AAADAAA5/APUB3QAAAARAZ7IakK/AAADAAA6\n",
              "DKPUB3QAAAAZQZrNSahBbJlMCHf//qmWAAADAAADAAAs4QAAABhBnutFFSwv/wAAAwIL5ytYszZE\n",
              "WkqkCTgAAAARAZ8KdEK/AAADAAA5/APUB3QAAAARAZ8MakK/AAADAAA6DKPUB3UAAAAZQZsQSahB\n",
              "bJlMCG///qeEAAADAAADAABZQQAAABhBny5FFSwr/wAAAwLXyY+yLoFRhVaQJOEAAAARAZ9PakK/\n",
              "AAADAAA6DKPUB3QAAAVcQZtRSahBbJlMCHf//qmWAANRHoQD/264WvGYZu7qx3RxbWQBe62LevYE\n",
              "nf8a/rGTIT+DAaeY5wFAhhdsRG1Kcxjqn0sb/F/QC4xU07g71pihQZR7YK+IK/j/kJ8IJFnUltXn\n",
              "SRWt4OwS2isWZFX644l94LZVodfnHxztnPBQQPnU2yyjspq3CbIog5nKhEzq/u6UtgZiomTUeg12\n",
              "mRIr8bJuKIxQuT52m4rNItmaqx/kuTxJff/1ESFMTagHPIFikujOvwbNHsQ6ShGR9u6UC4a0yJ3f\n",
              "6lkL2ZYjlfN+sBbZRnNCwiokttMiaa2Wzmz24oiJdJoKm7NQuioteoPjRWPkJBgztphJSitYSCeO\n",
              "SvfI2wFzuPvQlVKnpKj71mlrZdslEaSiLf8c93J8/kYF+TlH6R6FO7v1+98gEwXNCKokPmmK47lh\n",
              "Eiie73rtaTj3cb82d3hRas7SmjqDQqiNwUAJ5+Qo+sFc+P75s2v9tJLWzMHhH649QCCYcrMuKsmu\n",
              "lw+7ByaTbV59UkLHzW0o+m7MDceG5IG8SboczFj8tpsRDy7G9NJRoQwvVdESFqU/WVicz9ki0uHS\n",
              "HreRYBd5ANUyg0e/pl490U1H67yJPNmX3r7QAGtCbXTs6++zlkDIhbooky0D6FtWPhKdpea0TNUj\n",
              "8Dg0BDr6VgjH8JcWk+P+CP6yTHjnBrOd893f0+KlBxOWOHWSsmNq3LP8tW6lgFjDcNBldhRIvapX\n",
              "2jYtfraYEcfbAb5kCO+44hkc6KND7/KkHYemp2I3V7EGO8P29QgA9MeHKPdyMVXtveF6+N/KsbGX\n",
              "zLI24uDzACqfKbgrVPl0dyz+5cxf7hBdsTXnBWw/YHfe7a569Y8daIRLyPtmexfL2H0LOwFSL1wN\n",
              "4s6yNVliuCEiiJmBhYTXAz2pljg1w1zXBbUwZUfbxBSkOOiK9nmlJy6SjeZnilo4dI8UqLDJ00g9\n",
              "idO4l4Mmb/DR1Qp1i0kq9Na58QpeILyr4PceUXuDG2KkLde4nLfuVOQDeIH+uUDE8Ku8r7ebH7Da\n",
              "XR7ZfjNuwBFODfPYGd58brK3n25emygQF/kEPJv5NP8SFbm1+xUcb7T7Ig96H2kkfj9Vv6wbv4TA\n",
              "ldqD6ueSsLUhqkn7XHhu5Q8ykRs6LrEPzvPMHpOADndTjuZs8dlZWQKgbvbsNSKoqoAFs+FR7tEI\n",
              "b6NFI0a4/BLhqHWoYiYxEUMl7dj0tE12MFAG6dfHtY9GIZaVMZ1NcC61cfsLltbIpM49GrScgklj\n",
              "VColsuTLkQl4VrmR5k7mIMwUP0a1BE9X4ZAgo44R4dAaQ5wtx2BUsmDYhXjHhqWWGZ5flmG94hku\n",
              "swlotYDl/vU30qi5wbRxsRv7bLDEcvIN+tAskW9WKJUXHF7Ear1SsvxD+9r2fMcwcG43pwOVpU4L\n",
              "YTA8qM9E/H7DXyVpW9VbtxIRlZrRFg1B1XILe9DEyVUnBcIelHTuj7O/nNJGdjBM7s6i1JPZuYQA\n",
              "A+IqHriOvlDAIlE+nOvFwK8lA0/668TQ0D+iTuWv9fXGoGFkl2ktCLTV8um1lKOwgF2un7Z6Alw7\n",
              "jWCIf/qHwCizyXx7NTiox3KFXM0p7asp/cmvcIa1odq9/+Nk0Q9UkNoSr7qYli1J9JgCp29xyW2B\n",
              "GTQ+MhNjn2OIs1y6IM5Yw+5Hc96rrBWmx/NIYOfATmQFpVyALOmfgiBqVY/61B1L6pga+VjRnfKG\n",
              "7OairkgjJ1oVkeiyeC7wIjvr48AzRinM9qEoloJO8rpD9NHIAFFiun3y9ErFJp/4Dmp/SvNVeeSL\n",
              "RY4zKoahOPTewxq/tl5WvcCPgAAAAE9Bm3VJ4QpSZTAh3/6plgADVe2g2Ky5tW9d2HvaYnXVb9RC\n",
              "g472A46WYJFpFyl0GtsT/KADgnVKYztLwBamXBYG48FNla5YBfO31+dYYAZlAAAAT0Gfk0U0TC//\n",
              "AAPh8EHZQQXJ1UQakNwizTr+zaUDfjt+QdL36AhP0vngA2+InlrS/stfP2k3UYtL5qfUZ3HKuxzR\n",
              "XZqwA+djW2jNlYAAbMAAAABfAZ+ydEK/AAVlLY02L6XgGB5yOMEplZuFJ518Hya0VodNh2TSh7Po\n",
              "DvRFpyggPKyEqSqn0X8mrfLcE2pzIEj1PRF5riWSkKVbdWjDpfmsndWXT0O1WTCn1svedbQA6YAA\n",
              "AAAUAZ+0akK/AAVCv52BnG6KUFBrAZ8AAAAZQZu5SahBaJlMCHf//qmWAAADAAADAAAs4AAAABlB\n",
              "n9dFESwv/wADzRF5M6pBBVN4GmXNGAOPAAAAFAGf9nRCvwAFQTCNgZvP2CNwVgM/AAAAFAGf+GpC\n",
              "vwAFQr+dgZxuilBQawGfAAAAGUGb/UmoQWyZTAh3//6plgAAAwAAAwAALOEAAAAZQZ4bRRUsL/8A\n",
              "A80ReTOqQQVTeBplzRgDjgAAABQBnjp0Qr8ABUEwjYGbz9gjcFYDPwAAABQBnjxqQr8ABUK/nYGc\n",
              "bopQUGsBnwAAABlBmiFJqEFsmUwId//+qZYAAAMAAAMAACzgAAAAGUGeX0UVLC//AAPNEXkzqkEF\n",
              "U3gaZc0YA44AAAAUAZ5+dEK/AAVBMI2Bm8/YI3BWAz8AAAAUAZ5gakK/AAVCv52BnG6KUFBrAZ8A\n",
              "AAAZQZplSahBbJlMCHf//qmWAAADAAADAAAs4QAAABlBnoNFFSwv/wADzRF5M6pBBVN4GmXNGAOO\n",
              "AAAAFAGeonRCvwAFQTCNgZvP2CNwVgM/AAAAFAGepGpCvwAFQr+dgZxuilBQawGfAAAAGUGaqUmo\n",
              "QWyZTAh3//6plgAAAwAAAwAALOEAAAAZQZ7HRRUsL/8AA80ReTOqQQVTeBplzRgDjwAAABQBnuZ0\n",
              "Qr8ABUEwjYGbz9gjcFYDPgAAABQBnuhqQr8ABUK/nYGcbopQUGsBnwAAABlBmu1JqEFsmUwId//+\n",
              "qZYAAAMAAAMAACzhAAAAGUGfC0UVLC//AAPNEXkzqkEFU3gaZc0YA44AAATaAZ8qdEK/AAVBMMby\n",
              "Fpg3V8QAg/VHYaV2GfjBcnv6MY2w66cEYgjrvBpmLe4zt7Dj6s9b8rTng1gY0mDak/8AbSDDSEOZ\n",
              "ip+7UeJL8R13GDOYrL95JPJ5BUG0tqqDk9pB4j503FqzpDM/xONRLO11UKGz0X7pRBSpEyVpJzZm\n",
              "B9ecaSnOyiPu+7ykNCOPehX/KSWE3O0AuUj7B2ZXe7SHY36Vn//+NtX5IxrNtHhoxAvzZ0tvrkf/\n",
              "eSLwxD/NqKohFNGr+17ab1Me3vPDQKYbEbcdxsfCEEMi85FMf2CLytE+bb5aMyq3S0dtfDY3IU2G\n",
              "yhwl601LEDUi4VfmcxqAAodi5dpYGoO1uRGV3iWcdyuM7nupSdzoNRsKtYIBGoHGLOMSGuz/2K3k\n",
              "QToRqSv6QQYGWwE77bGG7w8xDKL0OOeCN3rhUaFSSQrsYQ/mFnwmDpZ5tIHqpATA6EHSxHzDRnZK\n",
              "bTsLO2Vwr4i3WV139qJ+BzzSUIAOUEAEVPzpGTuI8q1mOdJV1ZlZ26PWKcQsTSBvAXNwSlCnDA/e\n",
              "3yGJbtsC3aEg4iYWkFTbRE+p55c+OgMyC0earGZnOtm8c1GaYrFtc0x4ni4lqsUYQJLAKIrWW3H3\n",
              "ABa6tLc+mYj6puqYrx5QDtfw5dNe5iB8HAmVU2VgTwn/aafogQyE/nY2+UOGUcJs+kwxWzMy+nD7\n",
              "YAWNls6gXO7h8o2Bh4pbQa6+pGzyvYCbo0k4ch/LtbN9ZmJW+6owRnlvIf8sdar2lqPkz+pHHrwR\n",
              "2lNEA++v9nmTHfOfdlzFnDACUWaCALxII2jJ2NfgkcNXFlhjGISrSCbO6psef/7pIZn137tR3EVW\n",
              "KVF+WqpEw/HaOXAj0EVfbM/RdlzYVS3jLcw3g7AFr6hpcaUvD23mNFG/GgLxzy1sQJiU5ppR8QQr\n",
              "SpmiDOprVZd/vYGe1yEVOzgdFn16OMZd9JhrVfzroO8h990RA6PIk47COTsrsSJSf8pDFLNqRpVe\n",
              "HVMiMrbn2XGJWTgZwW+lFlkRnu6IJ3H8trsX+5rr9D0pl1UuIPqzRCCEcgu5j3Hi9ZdfK+Km3nFj\n",
              "1oCJoRBT90mj9XWZskYesmkZeH+U+UThv/GnWMAsQ7CbjncEO3hwsyI8yodmYKgSua1oopambvJD\n",
              "LAw3NNMT+cmzihPTn6lFiuG1zPEcEz0iA41IN9P8zobQIaiEdQcEA9RbAIAwiIMF18XDcB09PULz\n",
              "SThIYN4h5XCeMCgnnDJYVsqGm2HBdOJ9cKhFhdKqgdq1XCjIpAw6EDNTRxBnxtV+DjrWzdrNcik2\n",
              "TJ75yzmWRox3WcTfzjljXXrrvP3Y6ctS9rFFL8xxlVXX7ifBzfSNGroqGeHenOftqt2N3m0DRbaa\n",
              "qRT3y9J3YnmaYszV3de1VyYQCERrezchjbHMXo4Vn6eg3R+t5mBIOUSkd2AJ7vlO9R0Dkyg99pUU\n",
              "3cgVTea4yenZFj2P4W4D5wcCYKO0zTzh+OPYaeGdPmh+ppUswFwiTBMTO6Rq8sGrhffpLyrFjADo\n",
              "Na3bZO0pBOOqt7dunZJ+brkT/8ZknJkoNUIk6k3v/gCnTl7M37a686mm+THOi1WXp8/J/lY3/bFa\n",
              "CUaNrDWsiNEr2aP8Vk9RqVik6NP02mPOgPHmcfzp8BWwAAAAFAGfLGpCvwAFQr+dgZxuilBQawGf\n",
              "AAAAGUGbMUmoQWyZTAh3//6plgAAAwAAAwAALOEAAAAZQZ9PRRUsL/8AA80ReTOqQQVTeBplzRgD\n",
              "jwAAABQBn250Qr8ABUEwjYGbz9gjcFYDPgAAABQBn3BqQr8ABUK/nYGcbopQUGsBnwAAABlBm3VJ\n",
              "qEFsmUwId//+qZYAAAMAAAMAACzhAAAAGUGfk0UVLC//AAPNEXkzqkEFU3gaZc0YA44AAAAUAZ+y\n",
              "dEK/AAVBMI2Bm8/YI3BWAz4AAAAUAZ+0akK/AAVCv52BnG6KUFBrAZ8AAAAZQZu5SahBbJlMCG//\n",
              "/qeEAAADAAADAABZQAAAABlBn9dFFSwv/wADzRF5M6pBBVN4GmXNGAOPAAAAFAGf9nRCvwAFQTCN\n",
              "gZvP2CNwVgM/AAAAFAGf+GpCvwAFQr+dgZxuilBQawGfAAAAGUGb/UmoQWyZTAhv//6nhAAAAwAA\n",
              "AwAAWUEAAAAZQZ4bRRUsL/8AA80ReTOqQQVTeBplzRgDjgAAABQBnjp0Qr8ABUEwjYGbz9gjcFYD\n",
              "PwAAABQBnjxqQr8ABUK/nYGcbopQUGsBnwAAABhBmiFJqEFsmUwIZ//+nhAAAAMAAAMAAVsAAAAZ\n",
              "QZ5fRRUsL/8AA80ReTOqQQVTeBplzRgDjgAAABQBnn50Qr8ABUEwjYGbz9gjcFYDPwAAABQBnmBq\n",
              "Qr8ABUK/nYGcbopQUGsBnwAAABlBmmNJqEFsmUwUTCv//jhAAAADAAADAAVNAAAAFwGegmpCvwAF\n",
              "Q5Mk4ugRDzYO6Zh7YA44AAAH2m1vb3YAAABsbXZoZAAAAAAAAAAAAAAAAAAAA+gAAA+gAAEAAAEA\n",
              "AAAAAAAAAAAAAAABAAAAAAAAAAAAAAAAAAAAAQAAAAAAAAAAAAAAAAAAQAAAAAAAAAAAAAAAAAAA\n",
              "AAAAAAAAAAAAAAAAAAAAAAIAAAcEdHJhawAAAFx0a2hkAAAAAwAAAAAAAAAAAAAAAQAAAAAAAA+g\n",
              "AAAAAAAAAAAAAAAAAAAAAAABAAAAAAAAAAAAAAAAAAAAAQAAAAAAAAAAAAAAAAAAQAAAAAKAAAAB\n",
              "4AAAAAAAJGVkdHMAAAAcZWxzdAAAAAAAAAABAAAPoAAABAAAAQAAAAAGfG1kaWEAAAAgbWRoZAAA\n",
              "AAAAAAAAAAAAAAAAMgAAAMgAVcQAAAAAAC1oZGxyAAAAAAAAAAB2aWRlAAAAAAAAAAAAAAAAVmlk\n",
              "ZW9IYW5kbGVyAAAABidtaW5mAAAAFHZtaGQAAAABAAAAAAAAAAAAAAAkZGluZgAAABxkcmVmAAAA\n",
              "AAAAAAEAAAAMdXJsIAAAAAEAAAXnc3RibAAAALdzdHNkAAAAAAAAAAEAAACnYXZjMQAAAAAAAAAB\n",
              "AAAAAAAAAAAAAAAAAAAAAAKAAeAASAAAAEgAAAAAAAAAAQAAAAAAAAAAAAAAAAAAAAAAAAAAAAAA\n",
              "AAAAAAAAAAAAABj//wAAADVhdmNDAWQAHv/hABhnZAAerNlAoD2hAAADAAEAAAMAMg8WLZYBAAZo\n",
              "6+PLIsD9+PgAAAAAHHV1aWRraEDyXyRPxbo5pRvPAyPzAAAAAAAAABhzdHRzAAAAAAAAAAEAAABk\n",
              "AAACAAAAABRzdHNzAAAAAAAAAAEAAAABAAADKGN0dHMAAAAAAAAAYwAAAAEAAAQAAAAAAQAACgAA\n",
              "AAABAAAEAAAAAAEAAAAAAAAAAQAAAgAAAAABAAAKAAAAAAEAAAQAAAAAAQAAAAAAAAABAAACAAAA\n",
              "AAEAAAoAAAAAAQAABAAAAAABAAAAAAAAAAEAAAIAAAAAAQAACgAAAAABAAAEAAAAAAEAAAAAAAAA\n",
              "AQAAAgAAAAABAAAKAAAAAAEAAAQAAAAAAQAAAAAAAAABAAACAAAAAAEAAAoAAAAAAQAABAAAAAAB\n",
              "AAAAAAAAAAEAAAIAAAAAAQAABAAAAAABAAAKAAAAAAEAAAQAAAAAAQAAAAAAAAABAAACAAAAAAEA\n",
              "AAoAAAAAAQAABAAAAAABAAAAAAAAAAEAAAIAAAAAAQAACgAAAAABAAAEAAAAAAEAAAAAAAAAAQAA\n",
              "AgAAAAABAAAKAAAAAAEAAAQAAAAAAQAAAAAAAAABAAACAAAAAAEAAAoAAAAAAQAABAAAAAABAAAA\n",
              "AAAAAAEAAAIAAAAAAQAACAAAAAACAAACAAAAAAEAAAQAAAAAAQAACgAAAAABAAAEAAAAAAEAAAAA\n",
              "AAAAAQAAAgAAAAABAAAKAAAAAAEAAAQAAAAAAQAAAAAAAAABAAACAAAAAAEAAAoAAAAAAQAABAAA\n",
              "AAABAAAAAAAAAAEAAAIAAAAAAQAACgAAAAABAAAEAAAAAAEAAAAAAAAAAQAAAgAAAAABAAAKAAAA\n",
              "AAEAAAQAAAAAAQAAAAAAAAABAAACAAAAAAEAAAoAAAAAAQAABAAAAAABAAAAAAAAAAEAAAIAAAAA\n",
              "AQAACgAAAAABAAAEAAAAAAEAAAAAAAAAAQAAAgAAAAABAAAKAAAAAAEAAAQAAAAAAQAAAAAAAAAB\n",
              "AAACAAAAAAEAAAoAAAAAAQAABAAAAAABAAAAAAAAAAEAAAIAAAAAAQAACgAAAAABAAAEAAAAAAEA\n",
              "AAAAAAAAAQAAAgAAAAABAAAKAAAAAAEAAAQAAAAAAQAAAAAAAAABAAACAAAAAAEAAAoAAAAAAQAA\n",
              "BAAAAAABAAAAAAAAAAEAAAIAAAAAAQAABgAAAAABAAACAAAAABxzdHNjAAAAAAAAAAEAAAABAAAA\n",
              "ZAAAAAEAAAGkc3RzegAAAAAAAAAAAAAAZAAACycAAABOAAAARQAAAEAAAAAXAAAAHQAAABwAAAAX\n",
              "AAAAFwAAAB0AAAAcAAAAFwAAABcAAAAdAAAAHAAAABcAAAAXAAAAHQAAABwAAAAXAAAAFwAAAB0A\n",
              "AAAcAAAAFwAAABcAAARtAAAATwAAAFoAAABZAAAAFQAAAB8AAAAcAAAAFQAAABUAAAAdAAAAHAAA\n",
              "ABUAAAAVAAAAHQAAABwAAAAVAAAAFQAAAB0AAAAcAAAAFQAAABUAAAAdAAAAHAAAABUAAAVgAAAA\n",
              "UwAAAFMAAABjAAAAGAAAAB0AAAAdAAAAGAAAABgAAAAdAAAAHQAAABgAAAAYAAAAHQAAAB0AAAAY\n",
              "AAAAGAAAAB0AAAAdAAAAGAAAABgAAAAdAAAAHQAAABgAAAAYAAAAHQAAAB0AAATeAAAAGAAAAB0A\n",
              "AAAdAAAAGAAAABgAAAAdAAAAHQAAABgAAAAYAAAAHQAAAB0AAAAYAAAAGAAAAB0AAAAdAAAAGAAA\n",
              "ABgAAAAcAAAAHQAAABgAAAAYAAAAHQAAABsAAAAUc3RjbwAAAAAAAAABAAAAMAAAAGJ1ZHRhAAAA\n",
              "Wm1ldGEAAAAAAAAAIWhkbHIAAAAAAAAAAG1kaXJhcHBsAAAAAAAAAAAAAAAALWlsc3QAAAAlqXRv\n",
              "bwAAAB1kYXRhAAAAAQAAAABMYXZmNTguNzYuMTAw\n",
              "\">\n",
              "  Your browser does not support the video tag.\n",
              "</video>"
            ]
          },
          "metadata": {},
          "execution_count": 65
        },
        {
          "output_type": "display_data",
          "data": {
            "text/plain": [
              "<Figure size 640x480 with 1 Axes>"
            ],
            "image/png": "[encoded data removed]"
          },
          "metadata": {}
        }
      ],
      "source": [
        "fig, ax = plt.subplots()\n",
        "anim = splt.animator(spike_data_sample, fig, ax)\n",
        "\n",
        "HTML(anim.to_html5_video())"
      ]
    },
    {
      "cell_type": "markdown",
      "metadata": {
        "id": "FONW5DIkobZE",
        "pycharm": {
          "name": "#%% md\n"
        }
      },
      "source": [
        "This animation is obviously much tougher to make out in video form, but a keen eye will be able to catch a glimpse of the initial frame where most of the spikes occur.\n",
        "Index into the corresponding target value to check its value."
      ]
    },
    {
      "cell_type": "code",
      "execution_count": null,
      "metadata": {
        "id": "VgNLaB90obZD",
        "pycharm": {
          "name": "#%%\n"
        }
      },
      "outputs": [],
      "source": [
        "# Save output: .gif, .mp4 etc.\n",
        "# anim.save(\"mnist_latency.gif\")"
      ]
    },
    {
      "cell_type": "code",
      "execution_count": 66,
      "metadata": {
        "id": "wrqfPu43obZE",
        "pycharm": {
          "name": "#%%\n"
        },
        "colab": {
          "base_uri": "https://localhost:8080/"
        },
        "outputId": "c349dc4b-b760-46e6-86f8-566e5cacdd0e"
      },
      "outputs": [
        {
          "output_type": "stream",
          "name": "stdout",
          "text": [
            "tensor(6)\n"
          ]
        }
      ],
      "source": [
        "print(targets_it[0])"
      ]
    },
    {
      "cell_type": "markdown",
      "metadata": {
        "id": "sl93G7LwnG67"
      },
      "source": [
        "That's it for the `spikegen.latency` function. Further information [can be found in the documentation here](https://snntorch.readthedocs.io/en/latest/snntorch.spikegen.html)."
      ]
    },
    {
      "cell_type": "markdown",
      "metadata": {
        "id": "Uxe0msNpmpcN"
      },
      "source": [
        "### 2.4 Delta Modulation\n",
        "There are theories that the retina is adaptive: it will only process information when there is something new to process. If there is no change in your field of view, then your photoreceptor cells are  less prone to firing.\n",
        "\n",
        "That is to say: **biology is event-driven**. Neurons thrive on change.\n",
        "\n",
        "As a nifty example, a few researchers have dedicated their lives to designing retina-inspired image sensors, for example, the [Dynamic Vision Sensor](https://ieeexplore.ieee.org/abstract/document/7128412/). Although [the attached link is from over a decade ago, the work in this video](https://www.youtube.com/watch?v=6eOM15U_t1M&ab_channel=TobiDelbruck) was ahead of its time.\n",
        "\n",
        "Delta modulation is based on event-driven spiking. The `snntorch.delta` function accepts a time-series tensor as input. It takes the difference between each subsequent feature across all time steps. By default, if the difference is both *positive* and *greater than the threshold $V_{thr}$*, a spike is generated:\n",
        "\n",
        "<center>\n",
        "<img src='https://github.com/jeshraghian/snntorch/blob/master/docs/_static/img/examples/tutorial1/1_2_7_delta.png?raw=true' width=\"600\">\n",
        "</center>\n",
        "\n",
        "To illustrate, let's first come up with a contrived example where we create our own input tensor."
      ]
    },
    {
      "cell_type": "code",
      "execution_count": 67,
      "metadata": {
        "id": "0AOr1kN-r4n-",
        "colab": {
          "base_uri": "https://localhost:8080/",
          "height": 472
        },
        "outputId": "91612d73-4335-4c5b-e9a2-8d875dbba8d1"
      },
      "outputs": [
        {
          "output_type": "display_data",
          "data": {
            "text/plain": [
              "<Figure size 640x480 with 1 Axes>"
            ],
            "image/png": "[encoded data removed]"
          },
          "metadata": {}
        }
      ],
      "source": [
        "# Create a tensor with some fake time-series data\n",
        "data = torch.Tensor([0, 1, 0, 2, 8, -20, 20, -5, 0, 1, 0])\n",
        "\n",
        "# Plot the tensor\n",
        "plt.plot(data)\n",
        "\n",
        "plt.title(\"Some fake time-series data\")\n",
        "plt.xlabel(\"Time step\")\n",
        "plt.ylabel(\"Voltage (mV)\")\n",
        "plt.show()"
      ]
    },
    {
      "cell_type": "markdown",
      "metadata": {
        "id": "Ih_UJ526tJPo"
      },
      "source": [
        "Pass the above tensor into the `spikegen.delta` function, with an arbitrarily selected `threshold=4`:"
      ]
    },
    {
      "cell_type": "code",
      "execution_count": 68,
      "metadata": {
        "id": "WSNI1zGdtHac",
        "colab": {
          "base_uri": "https://localhost:8080/",
          "height": 175
        },
        "outputId": "3574c99f-a40a-472f-e76f-018c41d366c8"
      },
      "outputs": [
        {
          "output_type": "display_data",
          "data": {
            "text/plain": [
              "<Figure size 800x100 with 1 Axes>"
            ],
            "image/png": "[encoded data removed]"
          },
          "metadata": {}
        }
      ],
      "source": [
        "# Convert data\n",
        "spike_data = spikegen.delta(data, threshold=4)\n",
        "\n",
        "# Create fig, ax\n",
        "fig = plt.figure(facecolor=\"w\", figsize=(8, 1))\n",
        "ax = fig.add_subplot(111)\n",
        "\n",
        "# Raster plot of delta converted data\n",
        "splt.raster(spike_data, ax, c=\"black\")\n",
        "\n",
        "plt.title(\"Input Neuron\")\n",
        "plt.xlabel(\"Time step\")\n",
        "plt.yticks([])\n",
        "plt.xlim(0, len(data))\n",
        "plt.show()"
      ]
    },
    {
      "cell_type": "markdown",
      "metadata": {
        "id": "dlmCwN40uPLq"
      },
      "source": [
        "There are three time steps where the difference between $data[T]$ and $data[T+1]$ is greater than or equal to $V_{thr}=4$. This means there are three *on-spikes*.\n",
        "\n",
        "The large dip to $-20$ has not been captured above. If negative swings have importance in your data, you can enable the optional argument `off_spike=True`."
      ]
    },
    {
      "cell_type": "code",
      "execution_count": 69,
      "metadata": {
        "id": "WMrUGhRnuN8e",
        "colab": {
          "base_uri": "https://localhost:8080/",
          "height": 175
        },
        "outputId": "943c91ad-08ad-4d12-bd51-e4f895da7f95"
      },
      "outputs": [
        {
          "output_type": "display_data",
          "data": {
            "text/plain": [
              "<Figure size 800x100 with 1 Axes>"
            ],
            "image/png": "[encoded data removed]"
          },
          "metadata": {}
        }
      ],
      "source": [
        "# Convert data\n",
        "spike_data = spikegen.delta(data, threshold=4, off_spike=True)\n",
        "\n",
        "# Create fig, ax\n",
        "fig = plt.figure(facecolor=\"w\", figsize=(8, 1))\n",
        "ax = fig.add_subplot(111)\n",
        "\n",
        "# Raster plot of delta converted data\n",
        "splt.raster(spike_data, ax, c=\"black\")\n",
        "\n",
        "plt.title(\"Input Neuron\")\n",
        "plt.xlabel(\"Time step\")\n",
        "plt.yticks([])\n",
        "plt.xlim(0, len(data))\n",
        "plt.show()"
      ]
    },
    {
      "cell_type": "markdown",
      "metadata": {
        "id": "S_5FajsDvnEw"
      },
      "source": [
        "We've generated additional spikes, but this isn't actually the full picture!\n",
        "\n",
        "Printing out the tensor will show the presence of \"off-spikes\" which take on a value of `-1`."
      ]
    },
    {
      "cell_type": "code",
      "execution_count": 70,
      "metadata": {
        "id": "9deHKE2zxGA5",
        "colab": {
          "base_uri": "https://localhost:8080/"
        },
        "outputId": "5bbdf247-09a5-4313-e359-657fec00adcd"
      },
      "outputs": [
        {
          "output_type": "stream",
          "name": "stdout",
          "text": [
            "tensor([ 0.,  0.,  0.,  0.,  1., -1.,  1., -1.,  1.,  0.,  0.])\n"
          ]
        }
      ],
      "source": [
        "print(spike_data)"
      ]
    },
    {
      "cell_type": "markdown",
      "metadata": {
        "id": "-Nz32V0fxm2d"
      },
      "source": [
        "While `spikegen.delta` has only been demonstrated on a fake sample of data, its true use is to compress time-series data by only generating spikes for sufficiently large changes/events.\n",
        "\n",
        "That wraps up the three main spike conversion functions! There are still additional features to each of the three conversion techniques that have not been detailed in this tutorial. In particular, we have only looked at encoding input data; we have not considered how we might encode targets, and when that is necessary. We recommend [referring to the documentation for a deeper dive](https://snntorch.readthedocs.io/en/latest/snntorch.spikegen.html)."
      ]
    },
    {
      "cell_type": "markdown",
      "metadata": {
        "id": "mxrGoLIjobZE",
        "pycharm": {
          "name": "#%% md\n"
        }
      },
      "source": [
        "## 3. Spike Generation (Optional)\n",
        "Now what if we don't actually have any data to start with?\n",
        "Say we just want a randomly generated spike train from scratch. Inside of\n",
        "`spikegen.rate` is a nested function, `rate_conv`, which actually performs the  spike conversion step.\n",
        "\n",
        "All we have to do is initialize a randomly generated `torchTensor` to pass in."
      ]
    },
    {
      "cell_type": "code",
      "execution_count": null,
      "metadata": {
        "id": "-Q_7uj0vobZE",
        "pycharm": {
          "name": "#%%\n"
        }
      },
      "outputs": [],
      "source": [
        "# Create a random spike train\n",
        "spike_prob = torch.rand((num_steps, 28, 28), dtype=dtype) * 0.5\n",
        "spike_rand = spikegen.rate_conv(spike_prob)"
      ]
    },
    {
      "cell_type": "markdown",
      "metadata": {
        "id": "KOy-NZ5YobZF",
        "pycharm": {
          "name": "#%% md\n"
        }
      },
      "source": [
        "### 3.1 Animation"
      ]
    },
    {
      "cell_type": "code",
      "execution_count": null,
      "metadata": {
        "id": "yCIwKN0WobZF",
        "pycharm": {
          "name": "#%%\n"
        }
      },
      "outputs": [],
      "source": [
        "fig, ax = plt.subplots()\n",
        "anim = splt.animator(spike_rand, fig, ax)\n",
        "\n",
        "HTML(anim.to_html5_video())"
      ]
    },
    {
      "cell_type": "code",
      "execution_count": null,
      "metadata": {
        "id": "kx-VKWxFobZF",
        "pycharm": {
          "name": "#%%\n"
        }
      },
      "outputs": [],
      "source": [
        "# Save output: .gif, .mp4 etc.\n",
        "# anim.save(\"random_spikes.gif\")"
      ]
    },
    {
      "cell_type": "markdown",
      "metadata": {
        "id": "C_IH912xobZF",
        "pycharm": {
          "name": "#%% md\n"
        }
      },
      "source": [
        "### 3.2 Raster"
      ]
    },
    {
      "cell_type": "code",
      "execution_count": null,
      "metadata": {
        "id": "F6QgcKCrobZF",
        "pycharm": {
          "name": "#%%\n"
        }
      },
      "outputs": [],
      "source": [
        "fig = plt.figure(facecolor=\"w\", figsize=(10, 5))\n",
        "ax = fig.add_subplot(111)\n",
        "splt.raster(spike_rand[:, 0].view(num_steps, -1), ax, s=25, c=\"black\")\n",
        "\n",
        "plt.title(\"Input Layer\")\n",
        "plt.xlabel(\"Time step\")\n",
        "plt.ylabel(\"Neuron Number\")\n",
        "plt.show()"
      ]
    },
    {
      "cell_type": "markdown",
      "metadata": {
        "id": "QwEXpWkRy8_N"
      },
      "source": [
        "# Conclusion"
      ]
    },
    {
      "cell_type": "markdown",
      "metadata": {
        "id": "N-SsITWKobZF",
        "pycharm": {
          "name": "#%% md\n"
        }
      },
      "source": [
        "That's it for spike conversion and generation.\n",
        "This approach generalizes beyond images, to single-dimensional and multi-dimensional tensors.\n",
        "\n",
        "For reference, the documentation for [`spikegen` can be found here](https://snntorch.readthedocs.io/en/latest/snntorch.spikegen.html) and for [`spikeplot`, here](https://snntorch.readthedocs.io/en/latest/snntorch.spikeplot.html)\n",
        "\n",
        "[In the next tutorial](https://snntorch.readthedocs.io/en/latest/tutorials/index.html), you will learn the basics of spiking neurons and how to use them.\n",
        "\n",
        "If you like this project, please consider starring ⭐ the repo on GitHub as it is the easiest and best way to support it."
      ]
    },
    {
      "cell_type": "markdown",
      "metadata": {
        "id": "RbAL1AZ047Dw"
      },
      "source": [
        "# Additional Resources\n",
        "\n",
        "* [Check out the snnTorch GitHub project here.](https://github.com/jeshraghian/snntorch)"
      ]
    }
  ],
  "metadata": {
    "accelerator": "GPU",
    "colab": {
      "collapsed_sections": [
        "9QXsrr6Mp5e_",
        "1EWDw3bip8Ie",
        "vFM8UV9CreIX",
        "xXkTAJ9ws1Y6",
        "OgkWg605tE1y",
        "OBt0WDzyujnk",
        "xC96eesMqYo-",
        "mszPTrYOluym",
        "VTHK-wAWV57B"
      ],
      "name": "snntorch_tutorial_1.ipynb",
      "provenance": []
    },
    "interpreter": {
      "hash": "579503e60735c0b0ad61cf404d04af89041cf694c55fa4cc17d05f5d9b483dbc"
    },
    "kernelspec": {
      "display_name": "Python 3 (ipykernel)",
      "language": "python",
      "name": "python3"
    },
    "language_info": {
      "codemirror_mode": {
        "name": "ipython",
        "version": 3
      },
      "file_extension": ".py",
      "mimetype": "text/x-python",
      "name": "python",
      "nbconvert_exporter": "python",
      "pygments_lexer": "ipython3",
      "version": "3.9.5"
    }
  },
  "nbformat": 4,
  "nbformat_minor": 0
}